{
 "cells": [
  {
   "cell_type": "markdown",
   "metadata": {},
   "source": [
    "Breakdown clincal trial db into:\n",
    "Glioblastoma, High grade glioma\n",
    "low grade glioma, glioblastoma multiforme\n",
    "anaplastic astrocytoma\n",
    "\n",
    "break down oncology db by drug names:\n",
    "Doxorubicin (brand names adriamycin, rubex)\n",
    "Temozolomide\n",
    "Drug class\n",
    "Sponsor\n",
    "Survival index/response rate\n",
    "\n",
    "Find clinical trials sponsored by NCI (national cancer society)\n",
    "and further break them down by phase\n",
    "open label vs placebo\n",
    "cancer type\n",
    "\n",
    "NCT_Number, Study_Title, Study_URL, Acronym, Study_Status, Brief_Summary, Study_Results, Conditions, Interventions, Primary_Outcome_Measures, Secondary_Outcome_Measures, Other_Outcome_Measures, Sponsor, Collaborators, Sex, Age, Phases, Enrollment, Funder_Type, Study_Type, Study_Design, Other_IDs, Start_Date, Primary_Completion_Date, Completion_Date, First_Posted, Results_First_Posted, Last_Update_Posted, Locations, Study_Documents\n",
    "\n",
    "NCT Number, Study Title, Study URL, conditions, interventions, sponsor, collaborators\n",
    "\n",
    "1. count how many studies contain each condition?\n",
    "2. count how many studies contain each drug name?\n",
    "3. break down nci and condition type\n",
    "\n",
    "who are the sponsors for glioblastoma? "
   ]
  },
  {
   "cell_type": "code",
   "execution_count": 27,
   "metadata": {},
   "outputs": [],
   "source": [
    "#visualizations for mysql\n",
    "import plotly.graph_objs as go\n",
    "import mysql.connector\n",
    "import pandas as pd\n",
    "import arcturis as a\n",
    "\n",
    "\n",
    "DATABASE_URL = {\n",
    "    'user': a.localu,\n",
    "    'password': a.localp,\n",
    "    'host': a.locale,\n",
    "    'database': a.dbe\n",
    "}\n",
    "conn = mysql.connector.connect(**DATABASE_URL)\n",
    "path = r'C:\\Users\\Andre\\OneDrive\\azj\\selendis\\charts'"
   ]
  },
  {
   "cell_type": "code",
   "execution_count": 28,
   "metadata": {},
   "outputs": [
    {
     "data": {
      "application/vnd.plotly.v1+json": {
       "config": {
        "plotlyServerURL": "https://plot.ly"
       },
       "data": [
        {
         "labels": [
          "NA",
          "PHASE2",
          "PHASE3",
          "PHASE4",
          "PHASE1",
          "PHASE1|PHASE2",
          "",
          "PHASE2|PHASE3",
          "EARLY_PHASE1"
         ],
         "type": "pie",
         "values": [
          51,
          575,
          305,
          19,
          176,
          104,
          27,
          19,
          13
         ]
        }
       ],
       "layout": {
        "template": {
         "data": {
          "bar": [
           {
            "error_x": {
             "color": "#2a3f5f"
            },
            "error_y": {
             "color": "#2a3f5f"
            },
            "marker": {
             "line": {
              "color": "#E5ECF6",
              "width": 0.5
             },
             "pattern": {
              "fillmode": "overlay",
              "size": 10,
              "solidity": 0.2
             }
            },
            "type": "bar"
           }
          ],
          "barpolar": [
           {
            "marker": {
             "line": {
              "color": "#E5ECF6",
              "width": 0.5
             },
             "pattern": {
              "fillmode": "overlay",
              "size": 10,
              "solidity": 0.2
             }
            },
            "type": "barpolar"
           }
          ],
          "carpet": [
           {
            "aaxis": {
             "endlinecolor": "#2a3f5f",
             "gridcolor": "white",
             "linecolor": "white",
             "minorgridcolor": "white",
             "startlinecolor": "#2a3f5f"
            },
            "baxis": {
             "endlinecolor": "#2a3f5f",
             "gridcolor": "white",
             "linecolor": "white",
             "minorgridcolor": "white",
             "startlinecolor": "#2a3f5f"
            },
            "type": "carpet"
           }
          ],
          "choropleth": [
           {
            "colorbar": {
             "outlinewidth": 0,
             "ticks": ""
            },
            "type": "choropleth"
           }
          ],
          "contour": [
           {
            "colorbar": {
             "outlinewidth": 0,
             "ticks": ""
            },
            "colorscale": [
             [
              0,
              "#0d0887"
             ],
             [
              0.1111111111111111,
              "#46039f"
             ],
             [
              0.2222222222222222,
              "#7201a8"
             ],
             [
              0.3333333333333333,
              "#9c179e"
             ],
             [
              0.4444444444444444,
              "#bd3786"
             ],
             [
              0.5555555555555556,
              "#d8576b"
             ],
             [
              0.6666666666666666,
              "#ed7953"
             ],
             [
              0.7777777777777778,
              "#fb9f3a"
             ],
             [
              0.8888888888888888,
              "#fdca26"
             ],
             [
              1,
              "#f0f921"
             ]
            ],
            "type": "contour"
           }
          ],
          "contourcarpet": [
           {
            "colorbar": {
             "outlinewidth": 0,
             "ticks": ""
            },
            "type": "contourcarpet"
           }
          ],
          "heatmap": [
           {
            "colorbar": {
             "outlinewidth": 0,
             "ticks": ""
            },
            "colorscale": [
             [
              0,
              "#0d0887"
             ],
             [
              0.1111111111111111,
              "#46039f"
             ],
             [
              0.2222222222222222,
              "#7201a8"
             ],
             [
              0.3333333333333333,
              "#9c179e"
             ],
             [
              0.4444444444444444,
              "#bd3786"
             ],
             [
              0.5555555555555556,
              "#d8576b"
             ],
             [
              0.6666666666666666,
              "#ed7953"
             ],
             [
              0.7777777777777778,
              "#fb9f3a"
             ],
             [
              0.8888888888888888,
              "#fdca26"
             ],
             [
              1,
              "#f0f921"
             ]
            ],
            "type": "heatmap"
           }
          ],
          "heatmapgl": [
           {
            "colorbar": {
             "outlinewidth": 0,
             "ticks": ""
            },
            "colorscale": [
             [
              0,
              "#0d0887"
             ],
             [
              0.1111111111111111,
              "#46039f"
             ],
             [
              0.2222222222222222,
              "#7201a8"
             ],
             [
              0.3333333333333333,
              "#9c179e"
             ],
             [
              0.4444444444444444,
              "#bd3786"
             ],
             [
              0.5555555555555556,
              "#d8576b"
             ],
             [
              0.6666666666666666,
              "#ed7953"
             ],
             [
              0.7777777777777778,
              "#fb9f3a"
             ],
             [
              0.8888888888888888,
              "#fdca26"
             ],
             [
              1,
              "#f0f921"
             ]
            ],
            "type": "heatmapgl"
           }
          ],
          "histogram": [
           {
            "marker": {
             "pattern": {
              "fillmode": "overlay",
              "size": 10,
              "solidity": 0.2
             }
            },
            "type": "histogram"
           }
          ],
          "histogram2d": [
           {
            "colorbar": {
             "outlinewidth": 0,
             "ticks": ""
            },
            "colorscale": [
             [
              0,
              "#0d0887"
             ],
             [
              0.1111111111111111,
              "#46039f"
             ],
             [
              0.2222222222222222,
              "#7201a8"
             ],
             [
              0.3333333333333333,
              "#9c179e"
             ],
             [
              0.4444444444444444,
              "#bd3786"
             ],
             [
              0.5555555555555556,
              "#d8576b"
             ],
             [
              0.6666666666666666,
              "#ed7953"
             ],
             [
              0.7777777777777778,
              "#fb9f3a"
             ],
             [
              0.8888888888888888,
              "#fdca26"
             ],
             [
              1,
              "#f0f921"
             ]
            ],
            "type": "histogram2d"
           }
          ],
          "histogram2dcontour": [
           {
            "colorbar": {
             "outlinewidth": 0,
             "ticks": ""
            },
            "colorscale": [
             [
              0,
              "#0d0887"
             ],
             [
              0.1111111111111111,
              "#46039f"
             ],
             [
              0.2222222222222222,
              "#7201a8"
             ],
             [
              0.3333333333333333,
              "#9c179e"
             ],
             [
              0.4444444444444444,
              "#bd3786"
             ],
             [
              0.5555555555555556,
              "#d8576b"
             ],
             [
              0.6666666666666666,
              "#ed7953"
             ],
             [
              0.7777777777777778,
              "#fb9f3a"
             ],
             [
              0.8888888888888888,
              "#fdca26"
             ],
             [
              1,
              "#f0f921"
             ]
            ],
            "type": "histogram2dcontour"
           }
          ],
          "mesh3d": [
           {
            "colorbar": {
             "outlinewidth": 0,
             "ticks": ""
            },
            "type": "mesh3d"
           }
          ],
          "parcoords": [
           {
            "line": {
             "colorbar": {
              "outlinewidth": 0,
              "ticks": ""
             }
            },
            "type": "parcoords"
           }
          ],
          "pie": [
           {
            "automargin": true,
            "type": "pie"
           }
          ],
          "scatter": [
           {
            "fillpattern": {
             "fillmode": "overlay",
             "size": 10,
             "solidity": 0.2
            },
            "type": "scatter"
           }
          ],
          "scatter3d": [
           {
            "line": {
             "colorbar": {
              "outlinewidth": 0,
              "ticks": ""
             }
            },
            "marker": {
             "colorbar": {
              "outlinewidth": 0,
              "ticks": ""
             }
            },
            "type": "scatter3d"
           }
          ],
          "scattercarpet": [
           {
            "marker": {
             "colorbar": {
              "outlinewidth": 0,
              "ticks": ""
             }
            },
            "type": "scattercarpet"
           }
          ],
          "scattergeo": [
           {
            "marker": {
             "colorbar": {
              "outlinewidth": 0,
              "ticks": ""
             }
            },
            "type": "scattergeo"
           }
          ],
          "scattergl": [
           {
            "marker": {
             "colorbar": {
              "outlinewidth": 0,
              "ticks": ""
             }
            },
            "type": "scattergl"
           }
          ],
          "scattermapbox": [
           {
            "marker": {
             "colorbar": {
              "outlinewidth": 0,
              "ticks": ""
             }
            },
            "type": "scattermapbox"
           }
          ],
          "scatterpolar": [
           {
            "marker": {
             "colorbar": {
              "outlinewidth": 0,
              "ticks": ""
             }
            },
            "type": "scatterpolar"
           }
          ],
          "scatterpolargl": [
           {
            "marker": {
             "colorbar": {
              "outlinewidth": 0,
              "ticks": ""
             }
            },
            "type": "scatterpolargl"
           }
          ],
          "scatterternary": [
           {
            "marker": {
             "colorbar": {
              "outlinewidth": 0,
              "ticks": ""
             }
            },
            "type": "scatterternary"
           }
          ],
          "surface": [
           {
            "colorbar": {
             "outlinewidth": 0,
             "ticks": ""
            },
            "colorscale": [
             [
              0,
              "#0d0887"
             ],
             [
              0.1111111111111111,
              "#46039f"
             ],
             [
              0.2222222222222222,
              "#7201a8"
             ],
             [
              0.3333333333333333,
              "#9c179e"
             ],
             [
              0.4444444444444444,
              "#bd3786"
             ],
             [
              0.5555555555555556,
              "#d8576b"
             ],
             [
              0.6666666666666666,
              "#ed7953"
             ],
             [
              0.7777777777777778,
              "#fb9f3a"
             ],
             [
              0.8888888888888888,
              "#fdca26"
             ],
             [
              1,
              "#f0f921"
             ]
            ],
            "type": "surface"
           }
          ],
          "table": [
           {
            "cells": {
             "fill": {
              "color": "#EBF0F8"
             },
             "line": {
              "color": "white"
             }
            },
            "header": {
             "fill": {
              "color": "#C8D4E3"
             },
             "line": {
              "color": "white"
             }
            },
            "type": "table"
           }
          ]
         },
         "layout": {
          "annotationdefaults": {
           "arrowcolor": "#2a3f5f",
           "arrowhead": 0,
           "arrowwidth": 1
          },
          "autotypenumbers": "strict",
          "coloraxis": {
           "colorbar": {
            "outlinewidth": 0,
            "ticks": ""
           }
          },
          "colorscale": {
           "diverging": [
            [
             0,
             "#8e0152"
            ],
            [
             0.1,
             "#c51b7d"
            ],
            [
             0.2,
             "#de77ae"
            ],
            [
             0.3,
             "#f1b6da"
            ],
            [
             0.4,
             "#fde0ef"
            ],
            [
             0.5,
             "#f7f7f7"
            ],
            [
             0.6,
             "#e6f5d0"
            ],
            [
             0.7,
             "#b8e186"
            ],
            [
             0.8,
             "#7fbc41"
            ],
            [
             0.9,
             "#4d9221"
            ],
            [
             1,
             "#276419"
            ]
           ],
           "sequential": [
            [
             0,
             "#0d0887"
            ],
            [
             0.1111111111111111,
             "#46039f"
            ],
            [
             0.2222222222222222,
             "#7201a8"
            ],
            [
             0.3333333333333333,
             "#9c179e"
            ],
            [
             0.4444444444444444,
             "#bd3786"
            ],
            [
             0.5555555555555556,
             "#d8576b"
            ],
            [
             0.6666666666666666,
             "#ed7953"
            ],
            [
             0.7777777777777778,
             "#fb9f3a"
            ],
            [
             0.8888888888888888,
             "#fdca26"
            ],
            [
             1,
             "#f0f921"
            ]
           ],
           "sequentialminus": [
            [
             0,
             "#0d0887"
            ],
            [
             0.1111111111111111,
             "#46039f"
            ],
            [
             0.2222222222222222,
             "#7201a8"
            ],
            [
             0.3333333333333333,
             "#9c179e"
            ],
            [
             0.4444444444444444,
             "#bd3786"
            ],
            [
             0.5555555555555556,
             "#d8576b"
            ],
            [
             0.6666666666666666,
             "#ed7953"
            ],
            [
             0.7777777777777778,
             "#fb9f3a"
            ],
            [
             0.8888888888888888,
             "#fdca26"
            ],
            [
             1,
             "#f0f921"
            ]
           ]
          },
          "colorway": [
           "#636efa",
           "#EF553B",
           "#00cc96",
           "#ab63fa",
           "#FFA15A",
           "#19d3f3",
           "#FF6692",
           "#B6E880",
           "#FF97FF",
           "#FECB52"
          ],
          "font": {
           "color": "#2a3f5f"
          },
          "geo": {
           "bgcolor": "white",
           "lakecolor": "white",
           "landcolor": "#E5ECF6",
           "showlakes": true,
           "showland": true,
           "subunitcolor": "white"
          },
          "hoverlabel": {
           "align": "left"
          },
          "hovermode": "closest",
          "mapbox": {
           "style": "light"
          },
          "paper_bgcolor": "white",
          "plot_bgcolor": "#E5ECF6",
          "polar": {
           "angularaxis": {
            "gridcolor": "white",
            "linecolor": "white",
            "ticks": ""
           },
           "bgcolor": "#E5ECF6",
           "radialaxis": {
            "gridcolor": "white",
            "linecolor": "white",
            "ticks": ""
           }
          },
          "scene": {
           "xaxis": {
            "backgroundcolor": "#E5ECF6",
            "gridcolor": "white",
            "gridwidth": 2,
            "linecolor": "white",
            "showbackground": true,
            "ticks": "",
            "zerolinecolor": "white"
           },
           "yaxis": {
            "backgroundcolor": "#E5ECF6",
            "gridcolor": "white",
            "gridwidth": 2,
            "linecolor": "white",
            "showbackground": true,
            "ticks": "",
            "zerolinecolor": "white"
           },
           "zaxis": {
            "backgroundcolor": "#E5ECF6",
            "gridcolor": "white",
            "gridwidth": 2,
            "linecolor": "white",
            "showbackground": true,
            "ticks": "",
            "zerolinecolor": "white"
           }
          },
          "shapedefaults": {
           "line": {
            "color": "#2a3f5f"
           }
          },
          "ternary": {
           "aaxis": {
            "gridcolor": "white",
            "linecolor": "white",
            "ticks": ""
           },
           "baxis": {
            "gridcolor": "white",
            "linecolor": "white",
            "ticks": ""
           },
           "bgcolor": "#E5ECF6",
           "caxis": {
            "gridcolor": "white",
            "linecolor": "white",
            "ticks": ""
           }
          },
          "title": {
           "x": 0.05
          },
          "xaxis": {
           "automargin": true,
           "gridcolor": "white",
           "linecolor": "white",
           "ticks": "",
           "title": {
            "standoff": 15
           },
           "zerolinecolor": "white",
           "zerolinewidth": 2
          },
          "yaxis": {
           "automargin": true,
           "gridcolor": "white",
           "linecolor": "white",
           "ticks": "",
           "title": {
            "standoff": 15
           },
           "zerolinecolor": "white",
           "zerolinewidth": 2
          }
         }
        },
        "title": {
         "text": "Clinical Trials Phase Distribution for Doxorubicin Studies"
        }
       }
      }
     },
     "metadata": {},
     "output_type": "display_data"
    }
   ],
   "source": [
    "#pie chart maker\n",
    "\n",
    "drug = ''\n",
    "title = 'Clinical Trials Phase Distribution for Doxorubicin Studies'\n",
    "path = r'C:\\Users\\Andre\\OneDrive\\azj\\selendis\\charts'\n",
    "\n",
    "\n",
    "cursor = conn.cursor()\n",
    "\n",
    "# SQL query to fetch data\n",
    "query = \"\"\"\n",
    "        SELECT Phases as Phase, COUNT(*) as totals \n",
    "        FROM clinical_trials_test\n",
    "        WHERE Interventions LIKE '%doxorubicin%' \n",
    "        GROUP BY Phases;\n",
    "        \"\"\"\n",
    "cursor.execute(query)\n",
    "rows = cursor.fetchall()\n",
    "\n",
    "cursor.close()\n",
    "conn.close()\n",
    "\n",
    "# Data processing for visualization\n",
    "phases = [row[0] for row in rows]\n",
    "counts = [row[1] for row in rows]\n",
    "\n",
    "# Creating a pie chart using Plotly\n",
    "fig = go.Figure(data=[go.Pie(labels=phases, values=counts)])\n",
    "fig.update_layout(title=title)\n",
    "fig.show()"
   ]
  },
  {
   "cell_type": "code",
   "execution_count": 8,
   "metadata": {},
   "outputs": [
    {
     "data": {
      "application/vnd.plotly.v1+json": {
       "config": {
        "plotlyServerURL": "https://plot.ly"
       },
       "data": [
        {
         "cells": {
          "align": "left",
          "fill": {
           "color": "lavender"
          },
          "values": [
           [
            "NA",
            "PHASE2",
            "PHASE3",
            "PHASE4",
            "PHASE1",
            "PHASE1|PHASE2",
            "",
            "PHASE2|PHASE3",
            "EARLY_PHASE1"
           ],
           [
            51,
            575,
            305,
            19,
            176,
            104,
            27,
            19,
            13
           ]
          ]
         },
         "header": {
          "align": "left",
          "fill": {
           "color": "paleturquoise"
          },
          "values": [
           "Phase",
           "Total"
          ]
         },
         "type": "table"
        }
       ],
       "layout": {
        "template": {
         "data": {
          "bar": [
           {
            "error_x": {
             "color": "#2a3f5f"
            },
            "error_y": {
             "color": "#2a3f5f"
            },
            "marker": {
             "line": {
              "color": "#E5ECF6",
              "width": 0.5
             },
             "pattern": {
              "fillmode": "overlay",
              "size": 10,
              "solidity": 0.2
             }
            },
            "type": "bar"
           }
          ],
          "barpolar": [
           {
            "marker": {
             "line": {
              "color": "#E5ECF6",
              "width": 0.5
             },
             "pattern": {
              "fillmode": "overlay",
              "size": 10,
              "solidity": 0.2
             }
            },
            "type": "barpolar"
           }
          ],
          "carpet": [
           {
            "aaxis": {
             "endlinecolor": "#2a3f5f",
             "gridcolor": "white",
             "linecolor": "white",
             "minorgridcolor": "white",
             "startlinecolor": "#2a3f5f"
            },
            "baxis": {
             "endlinecolor": "#2a3f5f",
             "gridcolor": "white",
             "linecolor": "white",
             "minorgridcolor": "white",
             "startlinecolor": "#2a3f5f"
            },
            "type": "carpet"
           }
          ],
          "choropleth": [
           {
            "colorbar": {
             "outlinewidth": 0,
             "ticks": ""
            },
            "type": "choropleth"
           }
          ],
          "contour": [
           {
            "colorbar": {
             "outlinewidth": 0,
             "ticks": ""
            },
            "colorscale": [
             [
              0,
              "#0d0887"
             ],
             [
              0.1111111111111111,
              "#46039f"
             ],
             [
              0.2222222222222222,
              "#7201a8"
             ],
             [
              0.3333333333333333,
              "#9c179e"
             ],
             [
              0.4444444444444444,
              "#bd3786"
             ],
             [
              0.5555555555555556,
              "#d8576b"
             ],
             [
              0.6666666666666666,
              "#ed7953"
             ],
             [
              0.7777777777777778,
              "#fb9f3a"
             ],
             [
              0.8888888888888888,
              "#fdca26"
             ],
             [
              1,
              "#f0f921"
             ]
            ],
            "type": "contour"
           }
          ],
          "contourcarpet": [
           {
            "colorbar": {
             "outlinewidth": 0,
             "ticks": ""
            },
            "type": "contourcarpet"
           }
          ],
          "heatmap": [
           {
            "colorbar": {
             "outlinewidth": 0,
             "ticks": ""
            },
            "colorscale": [
             [
              0,
              "#0d0887"
             ],
             [
              0.1111111111111111,
              "#46039f"
             ],
             [
              0.2222222222222222,
              "#7201a8"
             ],
             [
              0.3333333333333333,
              "#9c179e"
             ],
             [
              0.4444444444444444,
              "#bd3786"
             ],
             [
              0.5555555555555556,
              "#d8576b"
             ],
             [
              0.6666666666666666,
              "#ed7953"
             ],
             [
              0.7777777777777778,
              "#fb9f3a"
             ],
             [
              0.8888888888888888,
              "#fdca26"
             ],
             [
              1,
              "#f0f921"
             ]
            ],
            "type": "heatmap"
           }
          ],
          "heatmapgl": [
           {
            "colorbar": {
             "outlinewidth": 0,
             "ticks": ""
            },
            "colorscale": [
             [
              0,
              "#0d0887"
             ],
             [
              0.1111111111111111,
              "#46039f"
             ],
             [
              0.2222222222222222,
              "#7201a8"
             ],
             [
              0.3333333333333333,
              "#9c179e"
             ],
             [
              0.4444444444444444,
              "#bd3786"
             ],
             [
              0.5555555555555556,
              "#d8576b"
             ],
             [
              0.6666666666666666,
              "#ed7953"
             ],
             [
              0.7777777777777778,
              "#fb9f3a"
             ],
             [
              0.8888888888888888,
              "#fdca26"
             ],
             [
              1,
              "#f0f921"
             ]
            ],
            "type": "heatmapgl"
           }
          ],
          "histogram": [
           {
            "marker": {
             "pattern": {
              "fillmode": "overlay",
              "size": 10,
              "solidity": 0.2
             }
            },
            "type": "histogram"
           }
          ],
          "histogram2d": [
           {
            "colorbar": {
             "outlinewidth": 0,
             "ticks": ""
            },
            "colorscale": [
             [
              0,
              "#0d0887"
             ],
             [
              0.1111111111111111,
              "#46039f"
             ],
             [
              0.2222222222222222,
              "#7201a8"
             ],
             [
              0.3333333333333333,
              "#9c179e"
             ],
             [
              0.4444444444444444,
              "#bd3786"
             ],
             [
              0.5555555555555556,
              "#d8576b"
             ],
             [
              0.6666666666666666,
              "#ed7953"
             ],
             [
              0.7777777777777778,
              "#fb9f3a"
             ],
             [
              0.8888888888888888,
              "#fdca26"
             ],
             [
              1,
              "#f0f921"
             ]
            ],
            "type": "histogram2d"
           }
          ],
          "histogram2dcontour": [
           {
            "colorbar": {
             "outlinewidth": 0,
             "ticks": ""
            },
            "colorscale": [
             [
              0,
              "#0d0887"
             ],
             [
              0.1111111111111111,
              "#46039f"
             ],
             [
              0.2222222222222222,
              "#7201a8"
             ],
             [
              0.3333333333333333,
              "#9c179e"
             ],
             [
              0.4444444444444444,
              "#bd3786"
             ],
             [
              0.5555555555555556,
              "#d8576b"
             ],
             [
              0.6666666666666666,
              "#ed7953"
             ],
             [
              0.7777777777777778,
              "#fb9f3a"
             ],
             [
              0.8888888888888888,
              "#fdca26"
             ],
             [
              1,
              "#f0f921"
             ]
            ],
            "type": "histogram2dcontour"
           }
          ],
          "mesh3d": [
           {
            "colorbar": {
             "outlinewidth": 0,
             "ticks": ""
            },
            "type": "mesh3d"
           }
          ],
          "parcoords": [
           {
            "line": {
             "colorbar": {
              "outlinewidth": 0,
              "ticks": ""
             }
            },
            "type": "parcoords"
           }
          ],
          "pie": [
           {
            "automargin": true,
            "type": "pie"
           }
          ],
          "scatter": [
           {
            "fillpattern": {
             "fillmode": "overlay",
             "size": 10,
             "solidity": 0.2
            },
            "type": "scatter"
           }
          ],
          "scatter3d": [
           {
            "line": {
             "colorbar": {
              "outlinewidth": 0,
              "ticks": ""
             }
            },
            "marker": {
             "colorbar": {
              "outlinewidth": 0,
              "ticks": ""
             }
            },
            "type": "scatter3d"
           }
          ],
          "scattercarpet": [
           {
            "marker": {
             "colorbar": {
              "outlinewidth": 0,
              "ticks": ""
             }
            },
            "type": "scattercarpet"
           }
          ],
          "scattergeo": [
           {
            "marker": {
             "colorbar": {
              "outlinewidth": 0,
              "ticks": ""
             }
            },
            "type": "scattergeo"
           }
          ],
          "scattergl": [
           {
            "marker": {
             "colorbar": {
              "outlinewidth": 0,
              "ticks": ""
             }
            },
            "type": "scattergl"
           }
          ],
          "scattermapbox": [
           {
            "marker": {
             "colorbar": {
              "outlinewidth": 0,
              "ticks": ""
             }
            },
            "type": "scattermapbox"
           }
          ],
          "scatterpolar": [
           {
            "marker": {
             "colorbar": {
              "outlinewidth": 0,
              "ticks": ""
             }
            },
            "type": "scatterpolar"
           }
          ],
          "scatterpolargl": [
           {
            "marker": {
             "colorbar": {
              "outlinewidth": 0,
              "ticks": ""
             }
            },
            "type": "scatterpolargl"
           }
          ],
          "scatterternary": [
           {
            "marker": {
             "colorbar": {
              "outlinewidth": 0,
              "ticks": ""
             }
            },
            "type": "scatterternary"
           }
          ],
          "surface": [
           {
            "colorbar": {
             "outlinewidth": 0,
             "ticks": ""
            },
            "colorscale": [
             [
              0,
              "#0d0887"
             ],
             [
              0.1111111111111111,
              "#46039f"
             ],
             [
              0.2222222222222222,
              "#7201a8"
             ],
             [
              0.3333333333333333,
              "#9c179e"
             ],
             [
              0.4444444444444444,
              "#bd3786"
             ],
             [
              0.5555555555555556,
              "#d8576b"
             ],
             [
              0.6666666666666666,
              "#ed7953"
             ],
             [
              0.7777777777777778,
              "#fb9f3a"
             ],
             [
              0.8888888888888888,
              "#fdca26"
             ],
             [
              1,
              "#f0f921"
             ]
            ],
            "type": "surface"
           }
          ],
          "table": [
           {
            "cells": {
             "fill": {
              "color": "#EBF0F8"
             },
             "line": {
              "color": "white"
             }
            },
            "header": {
             "fill": {
              "color": "#C8D4E3"
             },
             "line": {
              "color": "white"
             }
            },
            "type": "table"
           }
          ]
         },
         "layout": {
          "annotationdefaults": {
           "arrowcolor": "#2a3f5f",
           "arrowhead": 0,
           "arrowwidth": 1
          },
          "autotypenumbers": "strict",
          "coloraxis": {
           "colorbar": {
            "outlinewidth": 0,
            "ticks": ""
           }
          },
          "colorscale": {
           "diverging": [
            [
             0,
             "#8e0152"
            ],
            [
             0.1,
             "#c51b7d"
            ],
            [
             0.2,
             "#de77ae"
            ],
            [
             0.3,
             "#f1b6da"
            ],
            [
             0.4,
             "#fde0ef"
            ],
            [
             0.5,
             "#f7f7f7"
            ],
            [
             0.6,
             "#e6f5d0"
            ],
            [
             0.7,
             "#b8e186"
            ],
            [
             0.8,
             "#7fbc41"
            ],
            [
             0.9,
             "#4d9221"
            ],
            [
             1,
             "#276419"
            ]
           ],
           "sequential": [
            [
             0,
             "#0d0887"
            ],
            [
             0.1111111111111111,
             "#46039f"
            ],
            [
             0.2222222222222222,
             "#7201a8"
            ],
            [
             0.3333333333333333,
             "#9c179e"
            ],
            [
             0.4444444444444444,
             "#bd3786"
            ],
            [
             0.5555555555555556,
             "#d8576b"
            ],
            [
             0.6666666666666666,
             "#ed7953"
            ],
            [
             0.7777777777777778,
             "#fb9f3a"
            ],
            [
             0.8888888888888888,
             "#fdca26"
            ],
            [
             1,
             "#f0f921"
            ]
           ],
           "sequentialminus": [
            [
             0,
             "#0d0887"
            ],
            [
             0.1111111111111111,
             "#46039f"
            ],
            [
             0.2222222222222222,
             "#7201a8"
            ],
            [
             0.3333333333333333,
             "#9c179e"
            ],
            [
             0.4444444444444444,
             "#bd3786"
            ],
            [
             0.5555555555555556,
             "#d8576b"
            ],
            [
             0.6666666666666666,
             "#ed7953"
            ],
            [
             0.7777777777777778,
             "#fb9f3a"
            ],
            [
             0.8888888888888888,
             "#fdca26"
            ],
            [
             1,
             "#f0f921"
            ]
           ]
          },
          "colorway": [
           "#636efa",
           "#EF553B",
           "#00cc96",
           "#ab63fa",
           "#FFA15A",
           "#19d3f3",
           "#FF6692",
           "#B6E880",
           "#FF97FF",
           "#FECB52"
          ],
          "font": {
           "color": "#2a3f5f"
          },
          "geo": {
           "bgcolor": "white",
           "lakecolor": "white",
           "landcolor": "#E5ECF6",
           "showlakes": true,
           "showland": true,
           "subunitcolor": "white"
          },
          "hoverlabel": {
           "align": "left"
          },
          "hovermode": "closest",
          "mapbox": {
           "style": "light"
          },
          "paper_bgcolor": "white",
          "plot_bgcolor": "#E5ECF6",
          "polar": {
           "angularaxis": {
            "gridcolor": "white",
            "linecolor": "white",
            "ticks": ""
           },
           "bgcolor": "#E5ECF6",
           "radialaxis": {
            "gridcolor": "white",
            "linecolor": "white",
            "ticks": ""
           }
          },
          "scene": {
           "xaxis": {
            "backgroundcolor": "#E5ECF6",
            "gridcolor": "white",
            "gridwidth": 2,
            "linecolor": "white",
            "showbackground": true,
            "ticks": "",
            "zerolinecolor": "white"
           },
           "yaxis": {
            "backgroundcolor": "#E5ECF6",
            "gridcolor": "white",
            "gridwidth": 2,
            "linecolor": "white",
            "showbackground": true,
            "ticks": "",
            "zerolinecolor": "white"
           },
           "zaxis": {
            "backgroundcolor": "#E5ECF6",
            "gridcolor": "white",
            "gridwidth": 2,
            "linecolor": "white",
            "showbackground": true,
            "ticks": "",
            "zerolinecolor": "white"
           }
          },
          "shapedefaults": {
           "line": {
            "color": "#2a3f5f"
           }
          },
          "ternary": {
           "aaxis": {
            "gridcolor": "white",
            "linecolor": "white",
            "ticks": ""
           },
           "baxis": {
            "gridcolor": "white",
            "linecolor": "white",
            "ticks": ""
           },
           "bgcolor": "#E5ECF6",
           "caxis": {
            "gridcolor": "white",
            "linecolor": "white",
            "ticks": ""
           }
          },
          "title": {
           "x": 0.05
          },
          "xaxis": {
           "automargin": true,
           "gridcolor": "white",
           "linecolor": "white",
           "ticks": "",
           "title": {
            "standoff": 15
           },
           "zerolinecolor": "white",
           "zerolinewidth": 2
          },
          "yaxis": {
           "automargin": true,
           "gridcolor": "white",
           "linecolor": "white",
           "ticks": "",
           "title": {
            "standoff": 15
           },
           "zerolinecolor": "white",
           "zerolinewidth": 2
          }
         }
        },
        "title": {
         "text": "Clinical Trials Phases Distribution for Doxorubicin Studies"
        }
       }
      }
     },
     "metadata": {},
     "output_type": "display_data"
    }
   ],
   "source": [
    "\n",
    "cursor = conn.cursor()\n",
    "\n",
    "# SQL query to fetch data\n",
    "query = \"\"\"\n",
    "        SELECT Phases as Phase, COUNT(*) as totals \n",
    "        FROM clinical_trials_test\n",
    "        WHERE Interventions LIKE '%doxorubicin%' \n",
    "        GROUP BY Phases;\n",
    "        \"\"\"\n",
    "cursor.execute(query)\n",
    "rows = cursor.fetchall()\n",
    "\n",
    "cursor.close()\n",
    "conn.close()\n",
    "\n",
    "# Convert the result into a pandas DataFrame\n",
    "df = pd.DataFrame(rows, columns=['Phase', 'Total'])\n",
    "\n",
    "# Display the DataFrame as a table using Plotly\n",
    "fig = go.Figure(data=[go.Table(\n",
    "    header=dict(values=list(df.columns),\n",
    "                fill_color='paleturquoise',\n",
    "                align='left'),\n",
    "    cells=dict(values=[df['Phase'], df['Total']],\n",
    "                fill_color='lavender',\n",
    "                align='left'))\n",
    "])\n",
    "fig.update_layout(title='Clinical Trials Phases Distribution for Doxorubicin Studies')\n",
    "fig.show()\n",
    "\n"
   ]
  },
  {
   "cell_type": "code",
   "execution_count": 6,
   "metadata": {},
   "outputs": [],
   "source": [
    "#functions\n",
    "def piechart(column,var,group):\n",
    "        conn = mysql.connector.connect(**DATABASE_URL)\n",
    "        var = ''\n",
    "        title = f'Clinical Trials {group} Distribution for {var}'\n",
    "        path = r'C:\\Users\\Andre\\OneDrive\\azj\\selendis\\charts'\n",
    "        cursor = conn.cursor()\n",
    "        # SQL query to fetch data\n",
    "        query =f\"\"\"\n",
    "                SELECT {group} as {group}, COUNT(*) as totals \n",
    "                FROM clinical_trials_test\n",
    "                WHERE {column} LIKE '%{var}%' \n",
    "                GROUP BY Phases;\n",
    "                \"\"\"\n",
    "        cursor.execute(query)\n",
    "        rows = cursor.fetchall()\n",
    "        cursor.close()\n",
    "        conn.close()\n",
    "        # Data processing for visualization\n",
    "        phases = [row[0] for row in rows]\n",
    "        counts = [row[1] for row in rows]\n",
    "        # Creating a pie chart using Plotly\n",
    "        fig = go.Figure(data=[go.Pie(labels=phases, values=counts)])\n",
    "        fig.update_layout(title=title)\n",
    "        fig.write_image(f\"{path}/clinicaltrials_{column}_{var}.png\")\n",
    "        fig.show()\n",
    "\n",
    "def table(column,var,group):     \n",
    "\n",
    "        conn = mysql.connector.connect(**DATABASE_URL)\n",
    "        cursor = conn.cursor()\n",
    "\n",
    "        # SQL query to fetch data\n",
    "        query = f\"\"\"\n",
    "                SELECT {group} as {group}, COUNT(*) as totals \n",
    "                FROM clinical_trials_test\n",
    "                WHERE {column} LIKE '%{var}' \n",
    "                GROUP BY {group};\n",
    "                \"\"\"\n",
    "        cursor.execute(query)\n",
    "        rows = cursor.fetchall()\n",
    "\n",
    "        cursor.close()\n",
    "        conn.close()\n",
    "\n",
    "        # Convert the result into a pandas DataFrame\n",
    "        df = pd.DataFrame(rows, columns=['Phase', 'Total'])\n",
    "\n",
    "        # Display the DataFrame as a table using Plotly\n",
    "        fig = go.Figure(data=[go.Table(\n",
    "        header=dict(values=list(df.columns),\n",
    "                        fill_color='paleturquoise',\n",
    "                        align='left'),\n",
    "        cells=dict(values=[df['Phase'], df['Total']],\n",
    "                        fill_color='lavender',\n",
    "                        align='left'))\n",
    "        ])\n",
    "        fig.update_layout(title=f'Clinical Trials Table for {var} {column} Studies')\n",
    "        fig.write_image(f\"{path}/clinicaltrials_{column}_{var}.png\")\n",
    "        fig.show()\n"
   ]
  },
  {
   "cell_type": "code",
   "execution_count": 4,
   "metadata": {},
   "outputs": [
    {
     "data": {
      "application/vnd.plotly.v1+json": {
       "config": {
        "plotlyServerURL": "https://plot.ly"
       },
       "data": [
        {
         "labels": [
          "",
          "PHASE2",
          "PHASE1",
          "NA",
          "PHASE3",
          "PHASE4",
          "PHASE1|PHASE2",
          "EARLY_PHASE1",
          "PHASE2|PHASE3"
         ],
         "type": "pie",
         "values": [
          19483,
          22444,
          12421,
          20278,
          7862,
          2621,
          6291,
          1344,
          1163
         ]
        }
       ],
       "layout": {
        "template": {
         "data": {
          "bar": [
           {
            "error_x": {
             "color": "#2a3f5f"
            },
            "error_y": {
             "color": "#2a3f5f"
            },
            "marker": {
             "line": {
              "color": "#E5ECF6",
              "width": 0.5
             },
             "pattern": {
              "fillmode": "overlay",
              "size": 10,
              "solidity": 0.2
             }
            },
            "type": "bar"
           }
          ],
          "barpolar": [
           {
            "marker": {
             "line": {
              "color": "#E5ECF6",
              "width": 0.5
             },
             "pattern": {
              "fillmode": "overlay",
              "size": 10,
              "solidity": 0.2
             }
            },
            "type": "barpolar"
           }
          ],
          "carpet": [
           {
            "aaxis": {
             "endlinecolor": "#2a3f5f",
             "gridcolor": "white",
             "linecolor": "white",
             "minorgridcolor": "white",
             "startlinecolor": "#2a3f5f"
            },
            "baxis": {
             "endlinecolor": "#2a3f5f",
             "gridcolor": "white",
             "linecolor": "white",
             "minorgridcolor": "white",
             "startlinecolor": "#2a3f5f"
            },
            "type": "carpet"
           }
          ],
          "choropleth": [
           {
            "colorbar": {
             "outlinewidth": 0,
             "ticks": ""
            },
            "type": "choropleth"
           }
          ],
          "contour": [
           {
            "colorbar": {
             "outlinewidth": 0,
             "ticks": ""
            },
            "colorscale": [
             [
              0,
              "#0d0887"
             ],
             [
              0.1111111111111111,
              "#46039f"
             ],
             [
              0.2222222222222222,
              "#7201a8"
             ],
             [
              0.3333333333333333,
              "#9c179e"
             ],
             [
              0.4444444444444444,
              "#bd3786"
             ],
             [
              0.5555555555555556,
              "#d8576b"
             ],
             [
              0.6666666666666666,
              "#ed7953"
             ],
             [
              0.7777777777777778,
              "#fb9f3a"
             ],
             [
              0.8888888888888888,
              "#fdca26"
             ],
             [
              1,
              "#f0f921"
             ]
            ],
            "type": "contour"
           }
          ],
          "contourcarpet": [
           {
            "colorbar": {
             "outlinewidth": 0,
             "ticks": ""
            },
            "type": "contourcarpet"
           }
          ],
          "heatmap": [
           {
            "colorbar": {
             "outlinewidth": 0,
             "ticks": ""
            },
            "colorscale": [
             [
              0,
              "#0d0887"
             ],
             [
              0.1111111111111111,
              "#46039f"
             ],
             [
              0.2222222222222222,
              "#7201a8"
             ],
             [
              0.3333333333333333,
              "#9c179e"
             ],
             [
              0.4444444444444444,
              "#bd3786"
             ],
             [
              0.5555555555555556,
              "#d8576b"
             ],
             [
              0.6666666666666666,
              "#ed7953"
             ],
             [
              0.7777777777777778,
              "#fb9f3a"
             ],
             [
              0.8888888888888888,
              "#fdca26"
             ],
             [
              1,
              "#f0f921"
             ]
            ],
            "type": "heatmap"
           }
          ],
          "heatmapgl": [
           {
            "colorbar": {
             "outlinewidth": 0,
             "ticks": ""
            },
            "colorscale": [
             [
              0,
              "#0d0887"
             ],
             [
              0.1111111111111111,
              "#46039f"
             ],
             [
              0.2222222222222222,
              "#7201a8"
             ],
             [
              0.3333333333333333,
              "#9c179e"
             ],
             [
              0.4444444444444444,
              "#bd3786"
             ],
             [
              0.5555555555555556,
              "#d8576b"
             ],
             [
              0.6666666666666666,
              "#ed7953"
             ],
             [
              0.7777777777777778,
              "#fb9f3a"
             ],
             [
              0.8888888888888888,
              "#fdca26"
             ],
             [
              1,
              "#f0f921"
             ]
            ],
            "type": "heatmapgl"
           }
          ],
          "histogram": [
           {
            "marker": {
             "pattern": {
              "fillmode": "overlay",
              "size": 10,
              "solidity": 0.2
             }
            },
            "type": "histogram"
           }
          ],
          "histogram2d": [
           {
            "colorbar": {
             "outlinewidth": 0,
             "ticks": ""
            },
            "colorscale": [
             [
              0,
              "#0d0887"
             ],
             [
              0.1111111111111111,
              "#46039f"
             ],
             [
              0.2222222222222222,
              "#7201a8"
             ],
             [
              0.3333333333333333,
              "#9c179e"
             ],
             [
              0.4444444444444444,
              "#bd3786"
             ],
             [
              0.5555555555555556,
              "#d8576b"
             ],
             [
              0.6666666666666666,
              "#ed7953"
             ],
             [
              0.7777777777777778,
              "#fb9f3a"
             ],
             [
              0.8888888888888888,
              "#fdca26"
             ],
             [
              1,
              "#f0f921"
             ]
            ],
            "type": "histogram2d"
           }
          ],
          "histogram2dcontour": [
           {
            "colorbar": {
             "outlinewidth": 0,
             "ticks": ""
            },
            "colorscale": [
             [
              0,
              "#0d0887"
             ],
             [
              0.1111111111111111,
              "#46039f"
             ],
             [
              0.2222222222222222,
              "#7201a8"
             ],
             [
              0.3333333333333333,
              "#9c179e"
             ],
             [
              0.4444444444444444,
              "#bd3786"
             ],
             [
              0.5555555555555556,
              "#d8576b"
             ],
             [
              0.6666666666666666,
              "#ed7953"
             ],
             [
              0.7777777777777778,
              "#fb9f3a"
             ],
             [
              0.8888888888888888,
              "#fdca26"
             ],
             [
              1,
              "#f0f921"
             ]
            ],
            "type": "histogram2dcontour"
           }
          ],
          "mesh3d": [
           {
            "colorbar": {
             "outlinewidth": 0,
             "ticks": ""
            },
            "type": "mesh3d"
           }
          ],
          "parcoords": [
           {
            "line": {
             "colorbar": {
              "outlinewidth": 0,
              "ticks": ""
             }
            },
            "type": "parcoords"
           }
          ],
          "pie": [
           {
            "automargin": true,
            "type": "pie"
           }
          ],
          "scatter": [
           {
            "fillpattern": {
             "fillmode": "overlay",
             "size": 10,
             "solidity": 0.2
            },
            "type": "scatter"
           }
          ],
          "scatter3d": [
           {
            "line": {
             "colorbar": {
              "outlinewidth": 0,
              "ticks": ""
             }
            },
            "marker": {
             "colorbar": {
              "outlinewidth": 0,
              "ticks": ""
             }
            },
            "type": "scatter3d"
           }
          ],
          "scattercarpet": [
           {
            "marker": {
             "colorbar": {
              "outlinewidth": 0,
              "ticks": ""
             }
            },
            "type": "scattercarpet"
           }
          ],
          "scattergeo": [
           {
            "marker": {
             "colorbar": {
              "outlinewidth": 0,
              "ticks": ""
             }
            },
            "type": "scattergeo"
           }
          ],
          "scattergl": [
           {
            "marker": {
             "colorbar": {
              "outlinewidth": 0,
              "ticks": ""
             }
            },
            "type": "scattergl"
           }
          ],
          "scattermapbox": [
           {
            "marker": {
             "colorbar": {
              "outlinewidth": 0,
              "ticks": ""
             }
            },
            "type": "scattermapbox"
           }
          ],
          "scatterpolar": [
           {
            "marker": {
             "colorbar": {
              "outlinewidth": 0,
              "ticks": ""
             }
            },
            "type": "scatterpolar"
           }
          ],
          "scatterpolargl": [
           {
            "marker": {
             "colorbar": {
              "outlinewidth": 0,
              "ticks": ""
             }
            },
            "type": "scatterpolargl"
           }
          ],
          "scatterternary": [
           {
            "marker": {
             "colorbar": {
              "outlinewidth": 0,
              "ticks": ""
             }
            },
            "type": "scatterternary"
           }
          ],
          "surface": [
           {
            "colorbar": {
             "outlinewidth": 0,
             "ticks": ""
            },
            "colorscale": [
             [
              0,
              "#0d0887"
             ],
             [
              0.1111111111111111,
              "#46039f"
             ],
             [
              0.2222222222222222,
              "#7201a8"
             ],
             [
              0.3333333333333333,
              "#9c179e"
             ],
             [
              0.4444444444444444,
              "#bd3786"
             ],
             [
              0.5555555555555556,
              "#d8576b"
             ],
             [
              0.6666666666666666,
              "#ed7953"
             ],
             [
              0.7777777777777778,
              "#fb9f3a"
             ],
             [
              0.8888888888888888,
              "#fdca26"
             ],
             [
              1,
              "#f0f921"
             ]
            ],
            "type": "surface"
           }
          ],
          "table": [
           {
            "cells": {
             "fill": {
              "color": "#EBF0F8"
             },
             "line": {
              "color": "white"
             }
            },
            "header": {
             "fill": {
              "color": "#C8D4E3"
             },
             "line": {
              "color": "white"
             }
            },
            "type": "table"
           }
          ]
         },
         "layout": {
          "annotationdefaults": {
           "arrowcolor": "#2a3f5f",
           "arrowhead": 0,
           "arrowwidth": 1
          },
          "autotypenumbers": "strict",
          "coloraxis": {
           "colorbar": {
            "outlinewidth": 0,
            "ticks": ""
           }
          },
          "colorscale": {
           "diverging": [
            [
             0,
             "#8e0152"
            ],
            [
             0.1,
             "#c51b7d"
            ],
            [
             0.2,
             "#de77ae"
            ],
            [
             0.3,
             "#f1b6da"
            ],
            [
             0.4,
             "#fde0ef"
            ],
            [
             0.5,
             "#f7f7f7"
            ],
            [
             0.6,
             "#e6f5d0"
            ],
            [
             0.7,
             "#b8e186"
            ],
            [
             0.8,
             "#7fbc41"
            ],
            [
             0.9,
             "#4d9221"
            ],
            [
             1,
             "#276419"
            ]
           ],
           "sequential": [
            [
             0,
             "#0d0887"
            ],
            [
             0.1111111111111111,
             "#46039f"
            ],
            [
             0.2222222222222222,
             "#7201a8"
            ],
            [
             0.3333333333333333,
             "#9c179e"
            ],
            [
             0.4444444444444444,
             "#bd3786"
            ],
            [
             0.5555555555555556,
             "#d8576b"
            ],
            [
             0.6666666666666666,
             "#ed7953"
            ],
            [
             0.7777777777777778,
             "#fb9f3a"
            ],
            [
             0.8888888888888888,
             "#fdca26"
            ],
            [
             1,
             "#f0f921"
            ]
           ],
           "sequentialminus": [
            [
             0,
             "#0d0887"
            ],
            [
             0.1111111111111111,
             "#46039f"
            ],
            [
             0.2222222222222222,
             "#7201a8"
            ],
            [
             0.3333333333333333,
             "#9c179e"
            ],
            [
             0.4444444444444444,
             "#bd3786"
            ],
            [
             0.5555555555555556,
             "#d8576b"
            ],
            [
             0.6666666666666666,
             "#ed7953"
            ],
            [
             0.7777777777777778,
             "#fb9f3a"
            ],
            [
             0.8888888888888888,
             "#fdca26"
            ],
            [
             1,
             "#f0f921"
            ]
           ]
          },
          "colorway": [
           "#636efa",
           "#EF553B",
           "#00cc96",
           "#ab63fa",
           "#FFA15A",
           "#19d3f3",
           "#FF6692",
           "#B6E880",
           "#FF97FF",
           "#FECB52"
          ],
          "font": {
           "color": "#2a3f5f"
          },
          "geo": {
           "bgcolor": "white",
           "lakecolor": "white",
           "landcolor": "#E5ECF6",
           "showlakes": true,
           "showland": true,
           "subunitcolor": "white"
          },
          "hoverlabel": {
           "align": "left"
          },
          "hovermode": "closest",
          "mapbox": {
           "style": "light"
          },
          "paper_bgcolor": "white",
          "plot_bgcolor": "#E5ECF6",
          "polar": {
           "angularaxis": {
            "gridcolor": "white",
            "linecolor": "white",
            "ticks": ""
           },
           "bgcolor": "#E5ECF6",
           "radialaxis": {
            "gridcolor": "white",
            "linecolor": "white",
            "ticks": ""
           }
          },
          "scene": {
           "xaxis": {
            "backgroundcolor": "#E5ECF6",
            "gridcolor": "white",
            "gridwidth": 2,
            "linecolor": "white",
            "showbackground": true,
            "ticks": "",
            "zerolinecolor": "white"
           },
           "yaxis": {
            "backgroundcolor": "#E5ECF6",
            "gridcolor": "white",
            "gridwidth": 2,
            "linecolor": "white",
            "showbackground": true,
            "ticks": "",
            "zerolinecolor": "white"
           },
           "zaxis": {
            "backgroundcolor": "#E5ECF6",
            "gridcolor": "white",
            "gridwidth": 2,
            "linecolor": "white",
            "showbackground": true,
            "ticks": "",
            "zerolinecolor": "white"
           }
          },
          "shapedefaults": {
           "line": {
            "color": "#2a3f5f"
           }
          },
          "ternary": {
           "aaxis": {
            "gridcolor": "white",
            "linecolor": "white",
            "ticks": ""
           },
           "baxis": {
            "gridcolor": "white",
            "linecolor": "white",
            "ticks": ""
           },
           "bgcolor": "#E5ECF6",
           "caxis": {
            "gridcolor": "white",
            "linecolor": "white",
            "ticks": ""
           }
          },
          "title": {
           "x": 0.05
          },
          "xaxis": {
           "automargin": true,
           "gridcolor": "white",
           "linecolor": "white",
           "ticks": "",
           "title": {
            "standoff": 15
           },
           "zerolinecolor": "white",
           "zerolinewidth": 2
          },
          "yaxis": {
           "automargin": true,
           "gridcolor": "white",
           "linecolor": "white",
           "ticks": "",
           "title": {
            "standoff": 15
           },
           "zerolinecolor": "white",
           "zerolinewidth": 2
          }
         }
        },
        "title": {
         "text": "Clinical Trials Phases Distribution for Studies with "
        }
       }
      }
     },
     "metadata": {},
     "output_type": "display_data"
    }
   ],
   "source": [
    "piechart('Interventions','Doxorubicin','Phases')"
   ]
  },
  {
   "cell_type": "code",
   "execution_count": 10,
   "metadata": {},
   "outputs": [
    {
     "data": {
      "application/vnd.plotly.v1+json": {
       "config": {
        "plotlyServerURL": "https://plot.ly"
       },
       "data": [
        {
         "cells": {
          "align": "left",
          "fill": {
           "color": "lavender"
          },
          "values": [
           [
            "PHASE2",
            "PHASE1",
            "PHASE4",
            "PHASE3",
            "",
            "NA",
            "PHASE1|PHASE2",
            "EARLY_PHASE1",
            "PHASE2|PHASE3"
           ],
           [
            65,
            36,
            2,
            17,
            8,
            5,
            15,
            2,
            2
           ]
          ]
         },
         "header": {
          "align": "left",
          "fill": {
           "color": "paleturquoise"
          },
          "values": [
           "Phase",
           "Total"
          ]
         },
         "type": "table"
        }
       ],
       "layout": {
        "template": {
         "data": {
          "bar": [
           {
            "error_x": {
             "color": "#2a3f5f"
            },
            "error_y": {
             "color": "#2a3f5f"
            },
            "marker": {
             "line": {
              "color": "#E5ECF6",
              "width": 0.5
             },
             "pattern": {
              "fillmode": "overlay",
              "size": 10,
              "solidity": 0.2
             }
            },
            "type": "bar"
           }
          ],
          "barpolar": [
           {
            "marker": {
             "line": {
              "color": "#E5ECF6",
              "width": 0.5
             },
             "pattern": {
              "fillmode": "overlay",
              "size": 10,
              "solidity": 0.2
             }
            },
            "type": "barpolar"
           }
          ],
          "carpet": [
           {
            "aaxis": {
             "endlinecolor": "#2a3f5f",
             "gridcolor": "white",
             "linecolor": "white",
             "minorgridcolor": "white",
             "startlinecolor": "#2a3f5f"
            },
            "baxis": {
             "endlinecolor": "#2a3f5f",
             "gridcolor": "white",
             "linecolor": "white",
             "minorgridcolor": "white",
             "startlinecolor": "#2a3f5f"
            },
            "type": "carpet"
           }
          ],
          "choropleth": [
           {
            "colorbar": {
             "outlinewidth": 0,
             "ticks": ""
            },
            "type": "choropleth"
           }
          ],
          "contour": [
           {
            "colorbar": {
             "outlinewidth": 0,
             "ticks": ""
            },
            "colorscale": [
             [
              0,
              "#0d0887"
             ],
             [
              0.1111111111111111,
              "#46039f"
             ],
             [
              0.2222222222222222,
              "#7201a8"
             ],
             [
              0.3333333333333333,
              "#9c179e"
             ],
             [
              0.4444444444444444,
              "#bd3786"
             ],
             [
              0.5555555555555556,
              "#d8576b"
             ],
             [
              0.6666666666666666,
              "#ed7953"
             ],
             [
              0.7777777777777778,
              "#fb9f3a"
             ],
             [
              0.8888888888888888,
              "#fdca26"
             ],
             [
              1,
              "#f0f921"
             ]
            ],
            "type": "contour"
           }
          ],
          "contourcarpet": [
           {
            "colorbar": {
             "outlinewidth": 0,
             "ticks": ""
            },
            "type": "contourcarpet"
           }
          ],
          "heatmap": [
           {
            "colorbar": {
             "outlinewidth": 0,
             "ticks": ""
            },
            "colorscale": [
             [
              0,
              "#0d0887"
             ],
             [
              0.1111111111111111,
              "#46039f"
             ],
             [
              0.2222222222222222,
              "#7201a8"
             ],
             [
              0.3333333333333333,
              "#9c179e"
             ],
             [
              0.4444444444444444,
              "#bd3786"
             ],
             [
              0.5555555555555556,
              "#d8576b"
             ],
             [
              0.6666666666666666,
              "#ed7953"
             ],
             [
              0.7777777777777778,
              "#fb9f3a"
             ],
             [
              0.8888888888888888,
              "#fdca26"
             ],
             [
              1,
              "#f0f921"
             ]
            ],
            "type": "heatmap"
           }
          ],
          "heatmapgl": [
           {
            "colorbar": {
             "outlinewidth": 0,
             "ticks": ""
            },
            "colorscale": [
             [
              0,
              "#0d0887"
             ],
             [
              0.1111111111111111,
              "#46039f"
             ],
             [
              0.2222222222222222,
              "#7201a8"
             ],
             [
              0.3333333333333333,
              "#9c179e"
             ],
             [
              0.4444444444444444,
              "#bd3786"
             ],
             [
              0.5555555555555556,
              "#d8576b"
             ],
             [
              0.6666666666666666,
              "#ed7953"
             ],
             [
              0.7777777777777778,
              "#fb9f3a"
             ],
             [
              0.8888888888888888,
              "#fdca26"
             ],
             [
              1,
              "#f0f921"
             ]
            ],
            "type": "heatmapgl"
           }
          ],
          "histogram": [
           {
            "marker": {
             "pattern": {
              "fillmode": "overlay",
              "size": 10,
              "solidity": 0.2
             }
            },
            "type": "histogram"
           }
          ],
          "histogram2d": [
           {
            "colorbar": {
             "outlinewidth": 0,
             "ticks": ""
            },
            "colorscale": [
             [
              0,
              "#0d0887"
             ],
             [
              0.1111111111111111,
              "#46039f"
             ],
             [
              0.2222222222222222,
              "#7201a8"
             ],
             [
              0.3333333333333333,
              "#9c179e"
             ],
             [
              0.4444444444444444,
              "#bd3786"
             ],
             [
              0.5555555555555556,
              "#d8576b"
             ],
             [
              0.6666666666666666,
              "#ed7953"
             ],
             [
              0.7777777777777778,
              "#fb9f3a"
             ],
             [
              0.8888888888888888,
              "#fdca26"
             ],
             [
              1,
              "#f0f921"
             ]
            ],
            "type": "histogram2d"
           }
          ],
          "histogram2dcontour": [
           {
            "colorbar": {
             "outlinewidth": 0,
             "ticks": ""
            },
            "colorscale": [
             [
              0,
              "#0d0887"
             ],
             [
              0.1111111111111111,
              "#46039f"
             ],
             [
              0.2222222222222222,
              "#7201a8"
             ],
             [
              0.3333333333333333,
              "#9c179e"
             ],
             [
              0.4444444444444444,
              "#bd3786"
             ],
             [
              0.5555555555555556,
              "#d8576b"
             ],
             [
              0.6666666666666666,
              "#ed7953"
             ],
             [
              0.7777777777777778,
              "#fb9f3a"
             ],
             [
              0.8888888888888888,
              "#fdca26"
             ],
             [
              1,
              "#f0f921"
             ]
            ],
            "type": "histogram2dcontour"
           }
          ],
          "mesh3d": [
           {
            "colorbar": {
             "outlinewidth": 0,
             "ticks": ""
            },
            "type": "mesh3d"
           }
          ],
          "parcoords": [
           {
            "line": {
             "colorbar": {
              "outlinewidth": 0,
              "ticks": ""
             }
            },
            "type": "parcoords"
           }
          ],
          "pie": [
           {
            "automargin": true,
            "type": "pie"
           }
          ],
          "scatter": [
           {
            "fillpattern": {
             "fillmode": "overlay",
             "size": 10,
             "solidity": 0.2
            },
            "type": "scatter"
           }
          ],
          "scatter3d": [
           {
            "line": {
             "colorbar": {
              "outlinewidth": 0,
              "ticks": ""
             }
            },
            "marker": {
             "colorbar": {
              "outlinewidth": 0,
              "ticks": ""
             }
            },
            "type": "scatter3d"
           }
          ],
          "scattercarpet": [
           {
            "marker": {
             "colorbar": {
              "outlinewidth": 0,
              "ticks": ""
             }
            },
            "type": "scattercarpet"
           }
          ],
          "scattergeo": [
           {
            "marker": {
             "colorbar": {
              "outlinewidth": 0,
              "ticks": ""
             }
            },
            "type": "scattergeo"
           }
          ],
          "scattergl": [
           {
            "marker": {
             "colorbar": {
              "outlinewidth": 0,
              "ticks": ""
             }
            },
            "type": "scattergl"
           }
          ],
          "scattermapbox": [
           {
            "marker": {
             "colorbar": {
              "outlinewidth": 0,
              "ticks": ""
             }
            },
            "type": "scattermapbox"
           }
          ],
          "scatterpolar": [
           {
            "marker": {
             "colorbar": {
              "outlinewidth": 0,
              "ticks": ""
             }
            },
            "type": "scatterpolar"
           }
          ],
          "scatterpolargl": [
           {
            "marker": {
             "colorbar": {
              "outlinewidth": 0,
              "ticks": ""
             }
            },
            "type": "scatterpolargl"
           }
          ],
          "scatterternary": [
           {
            "marker": {
             "colorbar": {
              "outlinewidth": 0,
              "ticks": ""
             }
            },
            "type": "scatterternary"
           }
          ],
          "surface": [
           {
            "colorbar": {
             "outlinewidth": 0,
             "ticks": ""
            },
            "colorscale": [
             [
              0,
              "#0d0887"
             ],
             [
              0.1111111111111111,
              "#46039f"
             ],
             [
              0.2222222222222222,
              "#7201a8"
             ],
             [
              0.3333333333333333,
              "#9c179e"
             ],
             [
              0.4444444444444444,
              "#bd3786"
             ],
             [
              0.5555555555555556,
              "#d8576b"
             ],
             [
              0.6666666666666666,
              "#ed7953"
             ],
             [
              0.7777777777777778,
              "#fb9f3a"
             ],
             [
              0.8888888888888888,
              "#fdca26"
             ],
             [
              1,
              "#f0f921"
             ]
            ],
            "type": "surface"
           }
          ],
          "table": [
           {
            "cells": {
             "fill": {
              "color": "#EBF0F8"
             },
             "line": {
              "color": "white"
             }
            },
            "header": {
             "fill": {
              "color": "#C8D4E3"
             },
             "line": {
              "color": "white"
             }
            },
            "type": "table"
           }
          ]
         },
         "layout": {
          "annotationdefaults": {
           "arrowcolor": "#2a3f5f",
           "arrowhead": 0,
           "arrowwidth": 1
          },
          "autotypenumbers": "strict",
          "coloraxis": {
           "colorbar": {
            "outlinewidth": 0,
            "ticks": ""
           }
          },
          "colorscale": {
           "diverging": [
            [
             0,
             "#8e0152"
            ],
            [
             0.1,
             "#c51b7d"
            ],
            [
             0.2,
             "#de77ae"
            ],
            [
             0.3,
             "#f1b6da"
            ],
            [
             0.4,
             "#fde0ef"
            ],
            [
             0.5,
             "#f7f7f7"
            ],
            [
             0.6,
             "#e6f5d0"
            ],
            [
             0.7,
             "#b8e186"
            ],
            [
             0.8,
             "#7fbc41"
            ],
            [
             0.9,
             "#4d9221"
            ],
            [
             1,
             "#276419"
            ]
           ],
           "sequential": [
            [
             0,
             "#0d0887"
            ],
            [
             0.1111111111111111,
             "#46039f"
            ],
            [
             0.2222222222222222,
             "#7201a8"
            ],
            [
             0.3333333333333333,
             "#9c179e"
            ],
            [
             0.4444444444444444,
             "#bd3786"
            ],
            [
             0.5555555555555556,
             "#d8576b"
            ],
            [
             0.6666666666666666,
             "#ed7953"
            ],
            [
             0.7777777777777778,
             "#fb9f3a"
            ],
            [
             0.8888888888888888,
             "#fdca26"
            ],
            [
             1,
             "#f0f921"
            ]
           ],
           "sequentialminus": [
            [
             0,
             "#0d0887"
            ],
            [
             0.1111111111111111,
             "#46039f"
            ],
            [
             0.2222222222222222,
             "#7201a8"
            ],
            [
             0.3333333333333333,
             "#9c179e"
            ],
            [
             0.4444444444444444,
             "#bd3786"
            ],
            [
             0.5555555555555556,
             "#d8576b"
            ],
            [
             0.6666666666666666,
             "#ed7953"
            ],
            [
             0.7777777777777778,
             "#fb9f3a"
            ],
            [
             0.8888888888888888,
             "#fdca26"
            ],
            [
             1,
             "#f0f921"
            ]
           ]
          },
          "colorway": [
           "#636efa",
           "#EF553B",
           "#00cc96",
           "#ab63fa",
           "#FFA15A",
           "#19d3f3",
           "#FF6692",
           "#B6E880",
           "#FF97FF",
           "#FECB52"
          ],
          "font": {
           "color": "#2a3f5f"
          },
          "geo": {
           "bgcolor": "white",
           "lakecolor": "white",
           "landcolor": "#E5ECF6",
           "showlakes": true,
           "showland": true,
           "subunitcolor": "white"
          },
          "hoverlabel": {
           "align": "left"
          },
          "hovermode": "closest",
          "mapbox": {
           "style": "light"
          },
          "paper_bgcolor": "white",
          "plot_bgcolor": "#E5ECF6",
          "polar": {
           "angularaxis": {
            "gridcolor": "white",
            "linecolor": "white",
            "ticks": ""
           },
           "bgcolor": "#E5ECF6",
           "radialaxis": {
            "gridcolor": "white",
            "linecolor": "white",
            "ticks": ""
           }
          },
          "scene": {
           "xaxis": {
            "backgroundcolor": "#E5ECF6",
            "gridcolor": "white",
            "gridwidth": 2,
            "linecolor": "white",
            "showbackground": true,
            "ticks": "",
            "zerolinecolor": "white"
           },
           "yaxis": {
            "backgroundcolor": "#E5ECF6",
            "gridcolor": "white",
            "gridwidth": 2,
            "linecolor": "white",
            "showbackground": true,
            "ticks": "",
            "zerolinecolor": "white"
           },
           "zaxis": {
            "backgroundcolor": "#E5ECF6",
            "gridcolor": "white",
            "gridwidth": 2,
            "linecolor": "white",
            "showbackground": true,
            "ticks": "",
            "zerolinecolor": "white"
           }
          },
          "shapedefaults": {
           "line": {
            "color": "#2a3f5f"
           }
          },
          "ternary": {
           "aaxis": {
            "gridcolor": "white",
            "linecolor": "white",
            "ticks": ""
           },
           "baxis": {
            "gridcolor": "white",
            "linecolor": "white",
            "ticks": ""
           },
           "bgcolor": "#E5ECF6",
           "caxis": {
            "gridcolor": "white",
            "linecolor": "white",
            "ticks": ""
           }
          },
          "title": {
           "x": 0.05
          },
          "xaxis": {
           "automargin": true,
           "gridcolor": "white",
           "linecolor": "white",
           "ticks": "",
           "title": {
            "standoff": 15
           },
           "zerolinecolor": "white",
           "zerolinewidth": 2
          },
          "yaxis": {
           "automargin": true,
           "gridcolor": "white",
           "linecolor": "white",
           "ticks": "",
           "title": {
            "standoff": 15
           },
           "zerolinecolor": "white",
           "zerolinewidth": 2
          }
         }
        },
        "title": {
         "text": "Clinical Trials Table for Doxorubicin Interventions Studies"
        }
       }
      }
     },
     "metadata": {},
     "output_type": "display_data"
    }
   ],
   "source": [
    "table('Interventions','Doxorubicin','Phases')"
   ]
  },
  {
   "cell_type": "code",
   "execution_count": 18,
   "metadata": {},
   "outputs": [
    {
     "data": {
      "application/vnd.plotly.v1+json": {
       "config": {
        "plotlyServerURL": "https://plot.ly"
       },
       "data": [
        {
         "cells": {
          "align": "left",
          "fill": {
           "color": "lavender"
          },
          "values": [
           [
            305,
            10,
            9,
            9,
            9,
            8,
            8,
            7,
            7,
            7,
            7,
            7,
            6,
            6,
            5,
            5,
            5,
            5,
            5,
            5,
            5,
            5,
            5,
            4,
            4,
            4,
            4,
            4,
            4,
            4,
            4,
            4,
            4,
            3,
            3,
            3,
            3,
            3,
            3,
            3,
            3,
            3,
            3,
            3,
            3,
            3,
            3,
            3,
            3,
            3,
            3,
            3,
            3,
            3,
            3,
            3,
            3,
            3,
            3,
            3,
            2,
            2,
            2,
            2,
            2,
            2,
            2,
            2,
            2,
            2,
            2,
            2,
            2,
            2,
            2,
            2,
            2,
            2,
            2,
            2,
            2,
            2,
            2,
            2,
            2,
            2,
            2,
            2,
            2,
            2,
            2,
            2,
            2,
            2,
            2,
            2,
            2,
            2,
            2,
            2,
            2,
            2,
            2,
            2,
            2,
            2,
            2,
            2,
            2,
            2,
            2,
            2,
            2,
            2,
            2,
            2,
            2,
            2,
            2,
            2,
            2,
            2,
            2,
            2,
            2,
            2,
            2,
            2,
            2,
            2,
            2,
            2,
            1,
            1,
            1,
            1,
            1,
            1,
            1,
            1,
            1,
            1,
            1,
            1,
            1,
            1,
            1,
            1,
            1,
            1,
            1,
            1,
            1,
            1,
            1,
            1,
            1,
            1,
            1,
            1,
            1,
            1,
            1,
            1,
            1,
            1,
            1,
            1,
            1,
            1,
            1,
            1,
            1,
            1,
            1,
            1,
            1,
            1,
            1,
            1,
            1,
            1,
            1,
            1,
            1,
            1,
            1,
            1,
            1,
            1,
            1,
            1,
            1,
            1,
            1,
            1,
            1,
            1,
            1,
            1,
            1,
            1,
            1,
            1,
            1,
            1,
            1,
            1,
            1,
            1,
            1,
            1,
            1,
            1,
            1,
            1,
            1,
            1,
            1,
            1,
            1,
            1,
            1,
            1,
            1,
            1,
            1,
            1,
            1,
            1,
            1,
            1,
            1,
            1,
            1,
            1,
            1,
            1,
            1,
            1,
            1,
            1,
            1,
            1,
            1,
            1,
            1,
            1,
            1,
            1,
            1,
            1,
            1,
            1,
            1,
            1,
            1,
            1,
            1,
            1,
            1,
            1,
            1,
            1,
            1,
            1,
            1,
            1,
            1,
            1,
            1,
            1,
            1,
            1,
            1,
            1,
            1,
            1,
            1,
            1,
            1,
            1,
            1,
            1,
            1,
            1,
            1,
            1,
            1,
            1,
            1,
            1,
            1,
            1,
            1,
            1,
            1,
            1,
            1,
            1,
            1,
            1,
            1,
            1,
            1,
            1,
            1,
            1,
            1,
            1,
            1,
            1,
            1,
            1,
            1,
            1,
            1,
            1,
            1,
            1,
            1,
            1,
            1,
            1,
            1,
            1,
            1,
            1,
            1,
            1,
            1,
            1,
            1,
            1,
            1,
            1,
            1,
            1,
            1,
            1,
            1,
            1,
            1,
            1,
            1,
            1,
            1,
            1,
            1,
            1,
            1,
            1,
            1,
            1,
            1,
            1,
            1,
            1,
            1,
            1,
            1,
            1,
            1,
            1,
            1,
            1,
            1,
            1,
            1,
            1,
            1,
            1,
            1,
            1,
            1,
            1,
            1,
            1,
            1,
            1,
            1,
            1,
            1,
            1,
            1,
            1,
            1,
            1,
            1,
            1,
            1,
            1,
            1,
            1,
            1,
            1,
            1,
            1,
            1,
            1,
            1,
            1,
            1,
            1,
            1,
            1,
            1,
            1,
            1,
            1,
            1,
            1,
            1,
            1,
            1,
            1,
            1,
            1,
            1,
            1,
            1,
            1,
            1,
            1,
            1,
            1,
            1,
            1,
            1,
            1,
            1,
            1,
            1,
            1,
            1,
            1,
            1,
            1,
            1,
            1,
            1,
            1,
            1,
            1,
            1,
            1,
            1,
            1,
            1,
            1,
            1,
            1,
            1,
            1,
            1,
            1,
            1,
            1,
            1,
            1,
            1,
            1,
            1,
            1,
            1,
            1,
            1,
            1,
            1,
            1,
            1,
            1,
            1,
            1,
            1,
            1,
            1,
            1,
            1,
            1,
            1,
            1,
            1,
            1,
            1,
            1,
            1,
            1,
            1,
            1,
            1,
            1,
            1,
            1,
            1,
            1,
            1,
            1,
            1,
            1,
            1,
            1,
            1,
            1,
            1,
            1,
            1,
            1,
            1,
            1,
            1,
            1,
            1,
            1,
            1,
            1,
            1,
            1,
            1,
            1,
            1,
            1,
            1,
            1,
            1,
            1,
            1,
            1,
            1,
            1,
            1,
            1,
            1,
            1,
            1,
            1,
            1,
            1,
            1,
            1,
            1,
            1,
            1,
            1,
            1,
            1,
            1,
            1,
            1,
            1,
            1,
            1,
            1,
            1,
            1,
            1,
            1,
            1,
            1,
            1,
            1,
            1,
            1,
            1,
            1,
            1,
            1,
            1,
            1,
            1,
            1,
            1,
            1,
            1,
            1,
            1,
            1,
            1,
            1,
            1,
            1,
            1,
            1,
            1,
            1,
            1,
            1,
            1,
            1,
            1,
            1,
            1,
            1,
            1,
            1,
            1,
            1,
            1,
            1,
            1,
            1,
            1,
            1,
            1,
            1,
            1,
            1,
            1,
            1,
            1,
            1,
            1,
            1,
            1,
            1,
            1,
            1,
            1,
            1,
            1,
            1,
            1,
            1,
            1,
            1,
            1,
            1,
            1,
            1,
            1,
            1,
            1,
            1,
            1,
            1,
            1,
            1,
            1,
            1,
            1,
            1,
            1,
            1,
            1,
            1,
            1,
            1,
            1,
            1,
            1,
            1,
            1,
            1,
            1,
            1,
            1,
            1,
            1,
            1,
            1,
            1,
            1,
            1,
            1,
            1,
            1,
            1,
            1,
            1,
            1,
            1,
            1,
            1,
            1,
            1,
            1,
            1,
            1,
            1,
            1,
            1,
            1,
            1,
            1,
            1,
            1,
            1,
            1,
            1,
            1,
            1,
            1,
            1,
            1,
            1,
            1,
            1,
            1,
            1,
            1,
            1,
            1,
            1,
            1,
            1,
            1,
            1,
            1,
            1,
            1,
            1,
            1,
            1,
            1,
            1,
            1,
            1,
            1,
            1,
            1,
            1,
            1,
            1,
            1,
            1,
            1,
            1,
            1,
            1,
            1,
            1,
            1,
            1,
            1,
            1,
            1,
            1,
            1,
            1,
            1,
            1,
            1,
            1,
            1,
            1,
            1,
            1,
            1,
            1,
            1,
            1,
            1,
            1,
            1,
            1,
            1,
            1,
            1,
            1,
            1,
            1,
            1,
            1,
            1,
            1,
            1,
            1,
            1,
            1,
            1,
            1,
            1,
            1,
            1,
            1,
            1,
            1,
            1,
            1,
            1,
            1,
            1,
            1,
            1,
            1,
            1,
            1,
            1,
            1,
            1,
            1,
            1,
            1,
            1,
            1,
            1,
            1,
            1,
            1,
            1,
            1,
            1,
            1,
            1,
            1,
            1,
            1,
            1,
            1,
            1,
            1,
            1,
            1,
            1,
            1,
            1,
            1,
            1,
            1,
            1,
            1,
            1,
            1,
            1,
            1,
            1,
            1,
            1,
            1,
            1,
            1,
            1,
            1,
            1,
            1,
            1,
            1,
            1,
            1,
            1,
            1,
            1,
            1,
            1,
            1,
            1,
            1,
            1,
            1,
            1,
            1,
            1,
            1,
            1,
            1,
            1,
            1,
            1,
            1,
            1,
            1,
            1,
            1,
            1,
            1,
            1,
            1,
            1,
            1,
            1,
            1,
            1,
            1,
            1,
            1,
            1,
            1,
            1,
            1,
            1,
            1,
            1,
            1,
            1,
            1,
            1,
            1,
            1,
            1,
            1,
            1,
            1,
            1,
            1,
            1,
            1,
            1,
            1,
            1,
            1,
            1,
            1,
            1,
            1,
            1,
            1,
            1,
            1,
            1,
            1,
            1,
            1,
            1,
            1,
            1,
            1,
            1,
            1,
            1,
            1,
            1,
            1,
            1,
            1,
            1,
            1,
            1,
            1,
            1,
            1,
            1,
            1,
            1,
            1,
            1,
            1,
            1,
            1,
            1,
            1,
            1,
            1,
            1,
            1,
            1,
            1,
            1,
            1,
            1,
            1,
            1,
            1,
            1,
            1,
            1,
            1,
            1,
            1,
            1,
            1,
            1,
            1,
            1,
            1,
            1,
            1,
            1,
            1,
            1,
            1,
            1,
            1,
            1,
            1,
            1,
            1,
            1,
            1,
            1,
            1,
            1,
            1,
            1,
            1,
            1,
            1,
            1,
            1,
            1,
            1,
            1,
            1,
            1,
            1,
            1,
            1,
            1,
            1,
            1,
            1,
            1,
            1,
            1,
            1,
            1,
            1,
            1,
            1,
            1,
            1,
            1,
            1,
            1,
            1,
            1,
            1,
            1,
            1,
            1,
            1,
            1,
            1,
            1,
            1,
            1,
            1,
            1,
            1,
            1,
            1,
            1,
            1,
            1,
            1,
            1,
            1,
            1,
            1,
            1,
            1,
            1,
            1,
            1,
            1,
            1,
            1,
            1,
            1,
            1,
            1,
            1,
            1,
            1,
            1,
            1,
            1,
            1,
            1,
            1,
            1,
            1,
            1,
            1,
            1,
            1,
            1,
            1,
            1,
            1,
            1,
            1,
            1,
            1,
            1,
            1,
            1,
            1,
            1,
            1,
            1,
            1,
            1,
            1,
            1,
            1,
            1,
            1,
            1,
            1,
            1,
            1,
            1,
            1,
            1,
            1,
            1,
            1,
            1,
            1,
            1,
            1,
            1,
            1,
            1,
            1,
            1,
            1,
            1,
            1,
            1,
            1,
            1,
            1,
            1,
            1,
            1,
            1,
            1,
            1,
            1,
            1,
            1,
            1,
            1,
            1,
            1,
            1,
            1,
            1,
            1,
            1,
            1,
            1,
            1,
            1,
            1,
            1,
            1,
            1,
            1,
            1,
            1,
            1,
            1,
            1,
            1,
            1,
            1,
            1,
            1,
            1,
            1,
            1,
            1,
            1,
            1,
            1,
            1,
            1,
            1,
            1,
            1,
            1,
            1,
            1,
            1,
            1,
            1,
            1,
            1,
            1,
            1,
            1,
            1,
            1,
            1,
            1,
            1,
            1,
            1,
            1,
            1,
            1,
            1,
            1,
            1,
            1,
            1,
            1,
            1,
            1,
            1,
            1,
            1,
            1,
            1,
            1,
            1,
            1,
            1,
            1,
            1,
            1,
            1,
            1,
            1,
            1,
            1,
            1,
            1,
            1,
            1,
            1,
            1,
            1,
            1,
            1,
            1,
            1,
            1,
            1,
            1,
            1,
            1,
            1,
            1,
            1,
            1,
            1,
            1,
            1,
            1,
            1,
            1,
            1,
            1,
            1,
            1,
            1,
            1,
            1,
            1,
            1,
            1,
            1,
            1,
            1,
            1,
            1,
            1,
            1,
            1,
            1,
            1,
            1,
            1,
            1,
            1,
            1,
            1,
            1,
            1,
            1,
            1,
            1,
            1,
            1,
            1,
            1,
            1,
            1,
            1,
            1,
            1,
            1,
            1,
            1,
            1,
            1,
            1,
            1,
            1,
            1,
            1,
            1,
            1,
            1,
            1,
            1,
            1,
            1,
            1,
            1,
            1,
            1,
            1,
            1,
            1,
            1,
            1,
            1,
            1,
            1,
            1,
            1,
            1,
            1,
            1,
            1,
            1,
            1,
            1,
            1,
            1,
            1,
            1,
            1,
            1,
            1,
            1,
            1,
            1,
            1,
            1,
            1,
            1,
            1,
            1,
            1,
            1,
            1,
            1,
            1,
            1,
            1,
            1,
            1,
            1,
            1,
            1,
            1,
            1,
            1,
            1,
            1,
            1,
            1,
            1,
            1,
            1,
            1,
            1,
            1,
            1,
            1,
            1,
            1,
            1,
            1,
            1,
            1,
            1,
            1,
            1,
            1,
            1,
            1,
            1,
            1,
            1,
            1,
            1,
            1,
            1,
            1,
            1,
            1,
            1,
            1,
            1,
            1,
            1,
            1,
            1,
            1,
            1,
            1,
            1,
            1,
            1,
            1,
            1,
            1,
            1,
            1,
            1,
            1,
            1,
            1,
            1,
            1,
            1,
            1,
            1,
            1,
            1,
            1,
            1,
            1,
            1,
            1,
            1,
            1,
            1,
            1,
            1,
            1,
            1,
            1,
            1,
            1,
            1,
            1,
            1,
            1,
            1,
            1,
            1,
            1,
            1,
            1,
            1,
            1,
            1,
            1,
            1,
            1,
            1,
            1,
            1,
            1,
            1,
            1,
            1,
            1,
            1,
            1,
            1,
            1,
            1,
            1,
            1,
            1,
            1,
            1,
            1,
            1,
            1,
            1,
            1,
            1,
            1,
            1,
            1,
            1,
            1,
            1,
            1,
            1,
            1,
            1,
            1,
            1,
            1,
            1,
            1,
            1,
            1,
            1,
            1,
            1,
            1,
            1,
            1,
            1,
            1,
            1,
            1,
            1,
            1,
            1,
            1,
            1,
            1,
            1,
            1,
            1,
            1,
            1,
            1,
            1,
            1,
            1,
            1,
            1,
            1,
            1,
            1,
            1,
            1,
            1,
            1,
            1,
            1,
            1,
            1,
            1,
            1,
            1,
            1,
            1,
            1,
            1,
            1,
            1,
            1,
            1,
            1,
            1,
            1,
            1,
            1,
            1,
            1,
            1,
            1,
            1,
            1,
            1,
            1,
            1,
            1,
            1,
            1,
            1,
            1,
            1,
            1,
            1,
            1,
            1,
            1,
            1,
            1,
            1,
            1,
            1,
            1,
            1,
            1,
            1,
            1,
            1,
            1,
            1,
            1,
            1,
            1,
            1,
            1,
            1,
            1,
            1,
            1,
            1,
            1,
            1,
            1,
            1,
            1,
            1,
            1,
            1,
            1,
            1,
            1,
            1,
            1,
            1,
            1,
            1,
            1,
            1,
            1,
            1,
            1,
            1,
            1,
            1,
            1,
            1,
            1,
            1,
            1,
            1,
            1,
            1,
            1,
            1,
            1,
            1,
            1,
            1,
            1,
            1,
            1,
            1,
            1,
            1,
            1,
            1,
            1,
            1,
            1,
            1,
            1,
            1,
            1,
            1,
            1,
            1,
            1,
            1,
            1,
            1,
            1,
            1,
            1,
            1,
            1,
            1,
            1,
            1,
            1,
            1,
            1,
            1,
            1,
            1,
            1,
            1,
            1,
            1,
            1,
            1,
            1,
            1,
            1,
            1,
            1,
            1,
            1,
            1,
            1,
            1,
            1,
            1,
            1,
            1,
            1,
            1,
            1,
            1,
            1,
            1,
            1,
            1,
            1,
            1,
            1,
            1,
            1,
            1,
            1,
            1,
            1,
            1,
            1,
            1,
            1,
            1,
            1,
            1,
            1,
            1,
            1,
            1,
            1,
            1,
            1,
            1,
            1,
            1,
            1,
            1,
            1,
            1,
            1,
            1,
            1,
            1,
            1,
            1,
            1,
            1,
            1,
            1,
            1,
            1,
            1,
            1,
            1,
            1,
            1,
            1,
            1,
            1,
            1,
            1,
            1,
            1,
            1,
            1,
            1,
            1,
            1,
            1,
            1,
            1,
            1,
            1,
            1,
            1,
            1,
            1,
            1,
            1,
            1,
            1,
            1,
            1,
            1,
            1,
            1,
            1,
            1,
            1,
            1,
            1,
            1,
            1,
            1,
            1,
            1,
            1,
            1,
            1,
            1,
            1,
            1,
            1,
            1,
            1,
            1,
            1,
            1,
            1,
            1,
            1,
            1,
            1,
            1,
            1,
            1,
            1,
            1,
            1,
            1,
            1,
            1,
            1,
            1,
            1,
            1,
            1,
            1,
            1,
            1,
            1,
            1,
            1,
            1,
            1,
            1,
            1,
            1,
            1,
            1,
            1,
            1,
            1,
            1,
            1,
            1,
            1,
            1,
            1,
            1,
            1,
            1,
            1,
            1,
            1,
            1,
            1,
            1,
            1,
            1,
            1,
            1,
            1,
            1,
            1,
            1,
            1,
            1,
            1,
            1,
            1,
            1,
            1,
            1,
            1,
            1,
            1,
            1,
            1,
            1,
            1,
            1,
            1,
            1,
            1,
            1,
            1,
            1,
            1,
            1,
            1,
            1,
            1,
            1,
            1,
            1,
            1,
            1,
            1,
            1,
            1,
            1,
            1,
            1,
            1,
            1,
            1,
            1,
            1,
            1,
            1,
            1,
            1,
            1,
            1,
            1,
            1,
            1,
            1,
            1,
            1,
            1,
            1,
            1,
            1,
            1,
            1,
            1,
            1,
            1,
            1,
            1,
            1,
            1,
            1,
            1,
            1,
            1,
            1,
            1,
            1,
            1,
            1,
            1,
            1,
            1,
            1,
            1,
            1,
            1,
            1,
            1,
            1,
            1,
            1,
            1,
            1,
            1,
            1,
            1,
            1,
            1,
            1,
            1,
            1,
            1,
            1,
            1,
            1,
            1,
            1,
            1,
            1,
            1,
            1,
            1,
            1,
            1,
            1,
            1,
            1,
            1,
            1,
            1,
            1,
            1,
            1,
            1,
            1,
            1,
            1,
            1,
            1,
            1,
            1,
            1,
            1,
            1,
            1,
            1,
            1,
            1,
            1,
            1,
            1,
            1,
            1,
            1,
            1,
            1,
            1,
            1,
            1,
            1,
            1,
            1,
            1,
            1,
            1,
            1,
            1,
            1,
            1,
            1,
            1,
            1,
            1,
            1,
            1,
            1,
            1,
            1,
            1,
            1,
            1,
            1,
            1,
            1,
            1,
            1,
            1,
            1,
            1,
            1,
            1,
            1,
            1,
            1,
            1,
            1,
            1,
            1,
            1,
            1,
            1,
            1,
            1,
            1,
            1,
            1,
            1,
            1,
            1,
            1,
            1,
            1,
            1,
            1,
            1,
            1,
            1,
            1,
            1,
            1,
            1,
            1,
            1,
            1,
            1,
            1,
            1,
            1,
            1,
            1,
            1,
            1,
            1,
            1,
            1,
            1,
            1,
            1,
            1,
            1,
            1,
            1,
            1,
            1,
            1,
            1,
            1,
            1,
            1,
            1,
            1,
            1,
            1,
            1,
            1,
            1,
            1
           ],
           [
            "",
            "DRUG: sorafenib tosylate",
            "DRUG: lapatinib ditosylate|OTHER: laboratory biomarker analysis",
            "DRUG: sunitinib malate",
            "DRUG: ixabepilone",
            "DRUG: cediranib maleate|OTHER: laboratory biomarker analysis",
            "DRUG: imatinib mesylate|OTHER: laboratory biomarker analysis",
            "DRUG: sorafenib tosylate|OTHER: laboratory biomarker analysis",
            "DRUG: romidepsin",
            "DRUG: erlotinib hydrochloride|OTHER: laboratory biomarker analysis",
            "DRUG: temsirolimus|OTHER: laboratory biomarker analysis",
            "DRUG: bortezomib",
            "DRUG: alvocidib",
            "DRUG: thalidomide|OTHER: laboratory biomarker analysis",
            "OTHER: Laboratory Biomarker Analysis",
            "DRUG: tipifarnib|OTHER: laboratory biomarker analysis",
            "BIOLOGICAL: bevacizumab|OTHER: laboratory biomarker analysis",
            "DRUG: lenalidomide",
            "DRUG: cediranib maleate",
            "DRUG: tipifarnib",
            "DRUG: romidepsin|OTHER: laboratory biomarker analysis",
            "DRUG: irofulven",
            "DRUG: vorinostat|OTHER: laboratory biomarker analysis",
            "DRUG: ispinesib|OTHER: laboratory biomarker analysis|OTHER: pharmacological study",
            "DRUG: imatinib mesylate|OTHER: laboratory biomarker analysis|OTHER: pharmacological study",
            "DRUG: saracatinib",
            "DRUG: gefitinib|OTHER: laboratory biomarker analysis",
            "DRUG: Akt Inhibitor MK2206|OTHER: Laboratory Biomarker Analysis",
            "DRUG: TRC105",
            "DRUG: oxaliplatin",
            "DRUG: semaxanib",
            "DRUG: vorinostat",
            "DRUG: Vandetanib",
            "DRUG: O6-benzylguanine|DRUG: temozolomide",
            "DRUG: tanespimycin|OTHER: laboratory biomarker analysis",
            "BIOLOGICAL: recombinant interleukin-12",
            "BIOLOGICAL: ipilimumab|OTHER: laboratory biomarker analysis",
            "DRUG: Cabozantinib S-malate|OTHER: Laboratory Biomarker Analysis",
            "DRUG: belinostat",
            "OTHER: Laboratory Biomarker Analysis|DRUG: Pazopanib Hydrochloride",
            "DRUG: eribulin mesylate",
            "PROCEDURE: radiotherapy",
            "BIOLOGICAL: bevacizumab",
            "DRUG: ixabepilone|OTHER: laboratory biomarker analysis",
            "DRUG: nelarabine",
            "DRUG: Akt Inhibitor MK2206|OTHER: Laboratory Biomarker Analysis|OTHER: Pharmacological Study",
            "OTHER: Laboratory Biomarker Analysis|DRUG: Vorinostat",
            "DRUG: thalidomide",
            "DRUG: Carboplatin|OTHER: Laboratory Biomarker Analysis|DRUG: Paclitaxel|OTHER: Pharmacological Study|DRUG: Veliparib",
            "DRUG: temsirolimus",
            "DRUG: tanespimycin",
            "DRUG: Erlotinib Hydrochloride|OTHER: Laboratory Biomarker Analysis|OTHER: Pharmacological Study",
            "RADIATION: Radiation",
            "BIOLOGICAL: ziv-aflibercept",
            "DRUG: cilengitide",
            "DRUG: Trametinib Dimethyl Sulfoxide",
            "DRUG: Cabozantinib S-malate|OTHER: Laboratory Biomarker Analysis|OTHER: Pharmacological Study",
            "DRUG: dasatinib",
            "DRUG: bortezomib|OTHER: laboratory biomarker analysis|OTHER: pharmacological study",
            "DRUG: 18F-DCFPyL",
            "BIOLOGICAL: Ipilimumab|OTHER: Laboratory Biomarker Analysis|BIOLOGICAL: Nivolumab",
            "DRUG: bortezomib|DRUG: lenalidomide|DRUG: dexamethasone",
            "BIOLOGICAL: Ipilimumab|BIOLOGICAL: Nivolumab",
            "DRUG: becatecarin|OTHER: laboratory biomarker analysis",
            "DRUG: Akt Inhibitor MK2206",
            "PROCEDURE: Biospecimen Collection|DRUG: Cabozantinib S-malate|PROCEDURE: Computed Tomography|BIOLOGICAL: Ipilimumab|PROCEDURE: Magnetic Resonance Imaging|BIOLOGICAL: Nivolumab",
            "BIOLOGICAL: MART-1 antigen|BIOLOGICAL: aldesleukin|BIOLOGICAL: gp100 antigen|BIOLOGICAL: incomplete Freund's adjuvant",
            "DRUG: Sorafenib Tosylate|BIOLOGICAL: Recombinant Interferon Alfa-2b|OTHER: Laboratory Biomarker Analysis",
            "DRUG: Binimetinib",
            "DRUG: gemcitabine hydrochloride|DRUG: tanespimycin",
            "DRUG: gefitinib",
            "PROCEDURE: Biospecimen Collection|PROCEDURE: Computed Tomography|DRUG: Lutetium Lu 177 Dotatate|PROCEDURE: Magnetic Resonance Imaging|DRUG: Triapine",
            "DRUG: decitabine|OTHER: pharmacological study|OTHER: laboratory biomarker analysis",
            "DRUG: Gamma-Secretase Inhibitor RO4929097|OTHER: Laboratory Biomarker Analysis",
            "PROCEDURE: Biospecimen Collection|PROCEDURE: Computed Tomography|BIOLOGICAL: Ipilimumab|PROCEDURE: Magnetic Resonance Imaging|BIOLOGICAL: Nivolumab",
            "DRUG: SJG-136",
            "BIOLOGICAL: cixutumumab|OTHER: laboratory biomarker analysis",
            "BIOLOGICAL: E7 TCR",
            "DRUG: Ibrutinib|OTHER: Laboratory Biomarker Analysis",
            "DRUG: Carboplatin|DRUG: Paclitaxel|DRUG: Pevonedistat",
            "DRUG: sorafenib tosylate|OTHER: pharmacological study|OTHER: laboratory biomarker analysis",
            "BIOLOGICAL: trastuzumab|OTHER: laboratory biomarker analysis",
            "BIOLOGICAL: Nivolumab",
            "DRUG: alvocidib|OTHER: pharmacological study|OTHER: laboratory biomarker analysis",
            "DRUG: Nivolumab",
            "DRUG: Olaparib",
            "OTHER: Laboratory Biomarker Analysis|OTHER: Pharmacological Study|DRUG: Sapanisertib",
            "DRUG: erlotinib hydrochloride|DRUG: celecoxib|OTHER: laboratory biomarker analysis",
            "DRUG: vorinostat|DRUG: isotretinoin",
            "DRUG: Atezolizumab|PROCEDURE: Biopsy|PROCEDURE: Biospecimen Collection|DRUG: Cobimetinib|PROCEDURE: Computed Tomography|PROCEDURE: Magnetic Resonance Imaging",
            "PROCEDURE: Biopsy|PROCEDURE: Biospecimen Collection|PROCEDURE: Computed Tomography|PROCEDURE: Magnetic Resonance Imaging|DRUG: Sapanisertib",
            "DRUG: Suramin",
            "DRUG: Azacitidine|DRUG: Entinostat|OTHER: Laboratory Biomarker Analysis",
            "DRUG: Ipilimumab",
            "DRUG: arsenic trioxide",
            "OTHER: Laboratory Biomarker Analysis|DRUG: Selumetinib Sulfate",
            "DRUG: Adavosertib",
            "DRUG: pirfenidone",
            "DRUG: Sapanisertib",
            "DRUG: Dasatinib|OTHER: Laboratory Biomarker Analysis",
            "BEHAVIORAL: Physical Activity",
            "DRUG: gemcitabine",
            "OTHER: Laboratory Biomarker Analysis|DRUG: Tivantinib",
            "DRUG: Pomalidomide",
            "BIOLOGICAL: Bevacizumab|DRUG: Temsirolimus",
            "OTHER: Laboratory Biomarker Analysis|DRUG: Pazopanib Hydrochloride|OTHER: Pharmacological Study",
            "BIOLOGICAL: bevacizumab|DRUG: erlotinib hydrochloride|OTHER: laboratory biomarker analysis",
            "DRUG: Pacritinib",
            "OTHER: Pharmacological Study|DRUG: Vismodegib",
            "DRUG: becatecarin",
            "DRUG: bortezomib|OTHER: laboratory biomarker analysis",
            "DRUG: Ibrutinib",
            "DRUG: Glembatumumab Vedotin|OTHER: Laboratory Biomarker Analysis|OTHER: Pharmacological Study",
            "DRUG: Akt Inhibitor MK2206|OTHER: Diagnostic Laboratory Biomarker Analysis|OTHER: Pharmacological Study",
            "OTHER: Laboratory Biomarker Analysis|BIOLOGICAL: Pembrolizumab",
            "OTHER: Laboratory Biomarker Analysis|DRUG: Selumetinib",
            "DRUG: erlotinib hydrochloride|OTHER: pharmacological study|OTHER: laboratory biomarker analysis",
            "DRUG: decitabine|DRUG: valproic acid|OTHER: pharmacological study|OTHER: laboratory biomarker analysis",
            "DRUG: sorafenib tosylate|DRUG: temsirolimus",
            "BIOLOGICAL: oblimersen sodium|BIOLOGICAL: rituximab|OTHER: laboratory biomarker analysis",
            "OTHER: Laboratory Biomarker Analysis|OTHER: Pharmacological Study|DRUG: Trametinib|DRUG: Uprosertib",
            "DRUG: Atezolizumab",
            "DRUG: Phenylbutyrate",
            "BIOLOGICAL: LMB-2 immunotoxin",
            "DRUG: Voriconazole",
            "DRUG: sorafenib tosylate|OTHER: pharmacological study",
            "DRUG: gamma-secretase/Notch signalling pathway inhibitor RO4929097|OTHER: laboratory biomarker analysis",
            "DRUG: Selumetinib",
            "DRUG: Dasatinib|OTHER: Pharmacological Study",
            "OTHER: Laboratory Biomarker Analysis|BIOLOGICAL: Nivolumab",
            "DRUG: carboplatin|DRUG: paclitaxel|DRUG: sorafenib tosylate",
            "DRUG: Alisertib|OTHER: Laboratory Biomarker Analysis",
            "BIOLOGICAL: E7 T-Cell Receptor (TCR)",
            "PROCEDURE: Akt levels",
            "DRUG: cilengitide|OTHER: pharmacological study|OTHER: laboratory biomarker analysis",
            "DRUG: (C-11 Acetate)",
            "DRUG: pazopanib hydrochloride",
            "DRUG: obatoclax mesylate|DRUG: topotecan hydrochloride|OTHER: laboratory biomarker analysis",
            "BIOLOGICAL: oblimersen sodium|DRUG: imatinib mesylate|OTHER: laboratory biomarker analysis",
            "DRUG: erlotinib hydrochloride|DRUG: selumetinib|OTHER: laboratory biomarker analysis",
            "DRUG: 3'-deoxy-3'-18F fluorothymidine (FLT)|OTHER: PET/CT scan",
            "BIOLOGICAL: rituximab|BIOLOGICAL: aldesleukin|OTHER: laboratory biomarker analysis|OTHER: pharmacological study",
            "BIOLOGICAL: ALVAC-MART-1 vaccine|BIOLOGICAL: MART-1:26-35(27L) peptide vaccine|BIOLOGICAL: Aldesleukin|BIOLOGICAL: autologous anti-MART-1 F5 T-cell receptor gene-engineered peripheral blood lymphocytes|BIOLOGICAL: incomplete Freund's adjuvant",
            "PROCEDURE: Computed Tomography|DRUG: Copanlisib Hydrochloride|PROCEDURE: Magnetic Resonance Imaging|DRUG: Olaparib|DRUG: Paclitaxel|DRUG: Pegylated Liposomal Doxorubicin Hydrochloride|DRUG: Topotecan Hydrochloride",
            "BIOLOGICAL: cixutumumab|DRUG: erlotinib hydrochloride|OTHER: laboratory biomarker analysis",
            "BIOLOGICAL: recombinant interferon alfa|BIOLOGICAL: recombinant interleukin-12",
            "RADIATION: Radiotherapy|DRUG: Fluorouracil|DRUG: Leucovorin Calcium|DRUG: Oxaliplatin|DRUG: Irinotecan",
            "BIOLOGICAL: filgrastim|BIOLOGICAL: pegfilgrastim|DRUG: cediranib maleate|DRUG: cyclophosphamide|DRUG: docetaxel|DRUG: doxorubicin hydrochloride|OTHER: laboratory biomarker analysis|PROCEDURE: conventional surgery|PROCEDURE: neoadjuvant therapy",
            "DRUG: bortezomib|DRUG: gemcitabine hydrochloride",
            "DRUG: ABT-888|DRUG: Topotecan",
            "DRUG: Cyclophosphamide|DRUG: Epirubicin Hydrochloride|OTHER: Laboratory Biomarker Analysis|DRUG: Paclitaxel|PROCEDURE: Therapeutic Conventional Surgery|BIOLOGICAL: Trastuzumab",
            "PROCEDURE: Biospecimen Collection|DRUG: Carboplatin|PROCEDURE: Computed Tomography|PROCEDURE: Magnetic Resonance Imaging|DRUG: Nab-paclitaxel|DRUG: Paclitaxel|BIOLOGICAL: Pembrolizumab|DRUG: Pemetrexed|PROCEDURE: Positron Emission Tomography|OTHER: Quality-of-Life Assessment|OTHER: Questionnaire Administration",
            "DRUG: Carboplatin|DRUG: Bevacizumab",
            "DRUG: Cabozantinib|DRUG: Cabozantinib S-malate|OTHER: Pharmacological Study",
            "RADIATION: Radiation Therapy|DRUG: Temozolomide|DRUG: Veliparib",
            "DRUG: BMS-247550|DRUG: Ranitidine|DRUG: Diphenhydramine",
            "DRUG: Dabrafenib Mesylate|DRUG: Trametinib Dimethyl Sulfoxide",
            "BIOLOGICAL: aldesleukin|BIOLOGICAL: muromonab-CD3|BIOLOGICAL: therapeutic autologous lymphocytes|PROCEDURE: adjuvant therapy",
            "BIOLOGICAL: monoclonal antibody SGN-30|OTHER: placebo|DRUG: vinorelbine tartrate|DRUG: pegylated liposomal doxorubicin hydrochloride|DRUG: gemcitabine hydrochloride|OTHER: laboratory biomarker analysis|OTHER: pharmacological study",
            "OTHER: Laboratory Biomarker Analysis|OTHER: Pharmacological Study|OTHER: Placebo|DRUG: Retinoid 9cUAB30",
            "BIOLOGICAL: VEGF Trap",
            "DRUG: Axitinib (AG-013736)",
            "BEHAVIORAL: smoking cessation intervention|OTHER: internet-based intervention",
            "OTHER: Laboratory Biomarker Analysis|DRUG: Linsitinib|OTHER: Pharmacological Study",
            "DRUG: BMN 673 (talazoparib)",
            "DRUG: erlotinib hydrochloride|RADIATION: 3-dimensional conformal radiation therapy|DRUG: temozolomide",
            "BIOLOGICAL: aldesleukin",
            "BIOLOGICAL: Cixutumumab|DRUG: Everolimus|OTHER: Laboratory Biomarker Analysis|DRUG: Octreotide Acetate|OTHER: Pharmacological Study",
            "DRUG: dexrazoxane hydrochloride|DRUG: doxorubicin hydrochloride|DRUG: cyclophosphamide|DRUG: paclitaxel|BIOLOGICAL: trastuzumab|PROCEDURE: therapeutic conventional surgery|RADIATION: radiation therapy|DRUG: tamoxifen citrate|OTHER: laboratory biomarker analysis",
            "BIOLOGICAL: Bevacizumab|DRUG: Carboplatin|OTHER: Laboratory Biomarker Analysis|DRUG: Pegylated Liposomal Doxorubicin Hydrochloride|DRUG: Veliparib",
            "DRUG: lovastatin|OTHER: placebo|PROCEDURE: biopsy|PROCEDURE: laboratory biomarker analysis",
            "PROCEDURE: Biopsy|PROCEDURE: Biospecimen Collection|PROCEDURE: Diagnostic Imaging|BIOLOGICAL: Durvalumab|DRUG: Olaparib|RADIATION: Radiation Therapy",
            "BIOLOGICAL: Bevacizumab|DRUG: Irinotecan hydrochloride",
            "RADIATION: 3-Dimensional Conformal Radiation Therapy|BIOLOGICAL: Bevacizumab|DRUG: Cisplatin|DRUG: Fluorouracil|RADIATION: Intensity-Modulated Radiation Therapy",
            "DRUG: BET Bromodomain Inhibitor ZEN-3694|PROCEDURE: Biopsy|PROCEDURE: Biospecimen Collection|PROCEDURE: Computed Tomography|PROCEDURE: Magnetic Resonance Imaging|DRUG: Nab-paclitaxel|BIOLOGICAL: Pembrolizumab",
            "DRUG: carboplatin|DRUG: pyrazoloacridine",
            "DRUG: Carboplatin|OTHER: Laboratory Biomarker Analysis|DRUG: Topotecan Hydrochloride|DRUG: Veliparib",
            "PROCEDURE: Biopsy|PROCEDURE: Biospecimen Collection|PROCEDURE: Computed Tomography|PROCEDURE: Magnetic Resonance Imaging|DRUG: Talazoparib",
            "DRUG: Carboplatin|OTHER: Laboratory Biomarker Analysis|DRUG: Paclitaxel|OTHER: Pharmacological Study|DRUG: Vorinostat",
            "BIOLOGICAL: recombinant interleukin-12|BIOLOGICAL: aldesleukin|OTHER: laboratory biomarker analysis",
            "DRUG: pelitinib|DRUG: temsirolimus",
            "BIOLOGICAL: Atezolizumab|PROCEDURE: Biospecimen Collection|PROCEDURE: Computed Tomography|OTHER: Fludeoxyglucose F-18|PROCEDURE: Magnetic Resonance Imaging|PROCEDURE: Positron Emission Tomography|BIOLOGICAL: Tiragolumab|PROCEDURE: X-Ray Imaging",
            "DRUG: Dexamethasone|DRUG: Ixazomib|DRUG: Ixazomib Citrate|DRUG: Venetoclax",
            "DRUG: Cyclophosphamide|DRUG: Fludarabine|BIOLOGICAL: Anti-B Cell Maturation Antigen (BCMA) chimeric antigen receptors (CARs) T cells",
            "DRUG: rebimastat|DRUG: zoledronic acid|OTHER: laboratory biomarker analysis",
            "BIOLOGICAL: Natural Killer (NK) Cell Infusion|BIOLOGICAL: Stem Cell Infusion",
            "DRUG: oligofructose-enriched inulin|DRUG: sulindac|DRUG: placebo|DRUG: atorvastatin calcium|OTHER: laboratory biomarker analysis",
            "PROCEDURE: Biospecimen Collection|DRUG: Selumetinib",
            "PROCEDURE: Radiation Therapy|DRUG: Capecitabine|DRUG: AZD6244",
            "DRUG: cediranib maleate|DRUG: pemetrexed disodium",
            "RADIATION: 3-Dimensional Conformal Radiation Therapy|RADIATION: Intensity-Modulated Radiation Therapy|OTHER: Laboratory Biomarker Analysis|OTHER: Pharmacological Study|DRUG: Temozolomide|DRUG: Veliparib",
            "BIOLOGICAL: filgrastim|DRUG: asparaginase|DRUG: cyclophosphamide|DRUG: daunorubicin hydrochloride|DRUG: dexamethasone|DRUG: etoposide|DRUG: leucovorin calcium|DRUG: liposomal cytarabine|DRUG: mercaptopurine|DRUG: mesna|DRUG: methotrexate|DRUG: therapeutic hydrocortisone|DRUG: thiotepa|DRUG: vincristine sulfate|RADIATION: low-LET electron therapy|RADIATION: low-LET photon therapy",
            "DRUG: decitabine|OTHER: laboratory biomarker analysis|OTHER: pharmacological study|OTHER: high performance liquid chromatography|GENETIC: microarray analysis|GENETIC: RNA analysis|OTHER: mass spectrometry|GENETIC: DNA methylation analysis|OTHER: matrix-assisted laser desorption/ionization time of flight mass spectrometry",
            "DRUG: entinostat|DRUG: sorafenib tosylate|OTHER: pharmacological study|OTHER: laboratory biomarker analysis",
            "BIOLOGICAL: apolizumab",
            "DRUG: LMP400",
            "BIOLOGICAL: Bevacizumab|PROCEDURE: Biopsy|PROCEDURE: Biospecimen Collection|PROCEDURE: Computed Tomography|PROCEDURE: Magnetic Resonance Imaging|DRUG: Osimertinib",
            "BIOLOGICAL: aldesleukin|BIOLOGICAL: therapeutic autologous lymphocytes|DRUG: Cyclophosphamide|DRUG: Fludarabine phosphate|RADIATION: Total body irradiation",
            "PROCEDURE: Biospecimen Collection|PROCEDURE: Bone Marrow Aspiration and Biopsy|PROCEDURE: Bone Scan|PROCEDURE: Computed Tomography|DRUG: Larotrectinib Sulfate|PROCEDURE: Magnetic Resonance Imaging|PROCEDURE: Radionuclide Imaging|PROCEDURE: X-Ray Imaging",
            "DRUG: docetaxel|BIOLOGICAL: ziv-aflibercept|OTHER: laboratory biomarker analysis|OTHER: pharmacological study",
            "DRUG: gamma-secretase/Notch signalling pathway inhibitor RO4929097",
            "DRUG: Berberine Chloride|OTHER: Laboratory Biomarker Analysis|OTHER: Placebo Administration",
            "DRUG: Goserelin|DRUG: Enzalutamide|DEVICE: mpMRI",
            "DRUG: Imiquimod|DRUG: Topical Fluorouracil",
            "BIOLOGICAL: aldesleukin|BIOLOGICAL: autologous tumor cell vaccine",
            "GENETIC: DNA methylation analysis|GENETIC: RNA analysis|GENETIC: gene expression analysis|GENETIC: microarray analysis|GENETIC: mutation analysis|GENETIC: nucleic acid sequencing|OTHER: laboratory biomarker analysis",
            "DRUG: HeFi-1 Monoclonal Antibody",
            "DRUG: EP0057|DRUG: olaparib",
            "PROCEDURE: Biospecimen Collection|PROCEDURE: Computed Tomography|DRUG: Lenalidomide|BIOLOGICAL: Mosunetuzumab|DRUG: Polatuzumab Vedotin|PROCEDURE: Positron Emission Tomography",
            "BIOLOGICAL: bevacizumab|DRUG: erlotinib hydrochloride",
            "DRUG: Anastrozole|DRUG: Exemestane|OTHER: Laboratory Biomarker Analysis|DRUG: Letrozole|OTHER: Quality-of-Life Assessment|RADIATION: Radiation Therapy|DRUG: Tamoxifen Citrate",
            "DRUG: lenalidomide|DRUG: prednisone|OTHER: laboratory biomarker analysis",
            "DRUG: carboplatin|DRUG: paclitaxel|BIOLOGICAL: bevacizumab|OTHER: laboratory biomarker analysis",
            "DRUG: liposomal T4N5 lotion|OTHER: placebo|OTHER: laboratory biomarker analysis",
            "DRUG: doxorubicin hydrochloride|DRUG: cyclophosphamide|BIOLOGICAL: bevacizumab|DRUG: paclitaxel|BIOLOGICAL: filgrastim|BIOLOGICAL: pegfilgrastim|RADIATION: radiation therapy|DRUG: tamoxifen citrate|DRUG: aromatase inhibition therapy",
            "BIOLOGICAL: GTI-2040|DRUG: gemcitabine hydrochloride|OTHER: laboratory biomarker analysis|OTHER: pharmacological study",
            "DRUG: Cediranib|DRUG: Sunitinib",
            "BIOLOGICAL: aldesleukin|BIOLOGICAL: ras peptide cancer vaccine|PROCEDURE: adjuvant therapy",
            "BIOLOGICAL: Aldesleukin|BIOLOGICAL: CD8 enriched Young TIL",
            "DRUG: Bowman-Birk inhibitor concentrate|OTHER: placebo|OTHER: pharmacological study|OTHER: laboratory biomarker analysis",
            "OTHER: Diagnostic Laboratory Biomarker Analysis|BIOLOGICAL: Wild-type Reovirus",
            "DRUG: Alectinib|DRUG: Brigatinib|DRUG: Carboplatin|DRUG: Ceritinib|DRUG: Cisplatin|DRUG: Crizotinib|DRUG: Ensartinib|DRUG: Lorlatinib|DRUG: Pemetrexed",
            "BIOLOGICAL: Bevacizumab|PROCEDURE: Biospecimen Collection|PROCEDURE: Computed Tomography|PROCEDURE: Echocardiography|PROCEDURE: Magnetic Resonance Imaging|PROCEDURE: Multigated Acquisition Scan|DRUG: Osimertinib",
            "DRUG: omacetaxine mepesuccinate|DRUG: cytarabine|OTHER: laboratory biomarker analysis",
            "PROCEDURE: Allogeneic stem cell transplant|BIOLOGICAL: Anti-CD19-chimeric-antigen-receptor-transduced T cells|PROCEDURE: Leukapheresis",
            "PROCEDURE: Biospecimen Collection|PROCEDURE: Bone Marrow Biopsy|DRUG: Decitabine and Cedazuridine|DRUG: Venetoclax",
            "DRUG: Pembrolizumab",
            "DRUG: gemcitabine hydrochloride|BIOLOGICAL: bevacizumab|OTHER: placebo|OTHER: laboratory biomarker analysis|OTHER: pharmacogenomic studies|OTHER: pharmacological study",
            "OTHER: questionnaire administration|PROCEDURE: quality-of-life assessment",
            "DRUG: RIC|DRUG: GVHD prophylaxis|PROCEDURE: allo HCT|DRUG: Plerixafor|DRUG: Maraviroc",
            "DRUG: decitabine (DAC)|DRUG: Tetrahydrouridine (THU)|DRUG: Celecoxib",
            "BIOLOGICAL: Bevacizumab|DRUG: MLN-518 (Tandutinib)|PROCEDURE: Quality-of-life assessment",
            "BIOLOGICAL: Bevacizumab|DRUG: Temozolomide|DRUG: Vorinostat",
            "DRUG: L-alanosine",
            "PROCEDURE: Biospecimen Collection|PROCEDURE: Computed Tomography|DRUG: Duvelisib|BIOLOGICAL: Nivolumab|PROCEDURE: Positron Emission Tomography|PROCEDURE: Punch Biopsy",
            "DRUG: Lu-177-DOTATATE|DRUG: Ga-68-DOTATATE|DRUG: F-18-FDG|DRUG: Amino Acid solution",
            "OTHER: Laboratory Biomarker Analysis|DRUG: Selumetinib|DRUG: Selumetinib Sulfate",
            "DRUG: paclitaxel|DRUG: carboplatin|BIOLOGICAL: bevacizumab|OTHER: laboratory biomarker analysis",
            "DRUG: docetaxel|DRUG: tariquidar|OTHER: 99mTc-sestamibi imaging",
            "PROCEDURE: psychosocial assessment and care|PROCEDURE: quality-of-life assessment",
            "DRUG: Carfilzomib|DRUG: Revlimid|DRUG: Dexamethasone",
            "BIOLOGICAL: Bevacizumab|DRUG: Capecitabine|DRUG: Carboplatin|OTHER: Laboratory Biomarker Analysis|DRUG: Oxaliplatin|DRUG: Paclitaxel|OTHER: Quality-of-Life Assessment",
            "DRUG: Atezolizumab|PROCEDURE: Biospecimen Collection|DRUG: Carboplatin|PROCEDURE: Lumpectomy|PROCEDURE: Mastectomy|DRUG: Paclitaxel",
            "OTHER: Chemoradiotherapy|PROCEDURE: Esophagectomy",
            "OTHER: Laboratory Biomarker Analysis|DRUG: Lapatinib Ditosylate|RADIATION: Stereotactic Radiosurgery|RADIATION: Whole-Brain Radiotherapy",
            "PROCEDURE: Biopsy|DIAGNOSTIC_TEST: fluorodeoxyglucose F 18 Positron Emission Tomography and computed tomography|OTHER: [3'-deoxy-3'-[F-18] fluorothymidine|PROCEDURE: computed tomography|PROCEDURE: fine-needle aspiration",
            "DRUG: Vinorelbine|DRUG: XR9576",
            "DRUG: mitoxantrone hydrochloride|DRUG: ixabepilone|DRUG: prednisone",
            "DRUG: Erlotinib|DRUG: Erlotinib Hydrochloride|OTHER: Laboratory Biomarker Analysis|OTHER: Quality-of-Life Assessment",
            "PROCEDURE: Cytoreductive surgery|PROCEDURE: Continuous hyperthermic peritoneal perfusion (HIPEC/CHPP)",
            "DRUG: AZD1775|DRUG: Gemcitabine|DRUG: Nab-paclitaxel",
            "BIOLOGICAL: Hu-MiK-Beta-1",
            "DRUG: oxaliplatin|DRUG: capecitabine|BIOLOGICAL: Keytruda|BIOLOGICAL: CDX-1140",
            "PROCEDURE: conventional surgery|RADIATION: 3-dimensional conformal radiation therapy|RADIATION: stereotactic radiosurgery|DRUG: motexafin gadolinium|PROCEDURE: magnetic resonance imaging|PROCEDURE: spectroscopy",
            "DRUG: Aspirin|DRUG: Eflornithine|OTHER: Laboratory Biomarker Analysis|OTHER: Placebo|OTHER: Telephone-Based Intervention",
            "DRUG: alvespimycin hydrochloride|OTHER: laboratory biomarker analysis|OTHER: pharmacological study",
            "DRUG: O6-benzylguanine|DRUG: temozolomide|BIOLOGICAL: filgrastim|OTHER: pharmacological study|OTHER: laboratory biomarker analysis",
            "DRUG: alvocidib|DRUG: vorinostat|OTHER: pharmacological study",
            "DRUG: perillyl alcohol",
            "BIOLOGICAL: Atezolizumab|BIOLOGICAL: Bevacizumab|PROCEDURE: Biospecimen Collection|DRUG: Carboplatin|PROCEDURE: Computed Tomography|PROCEDURE: Cytoreductive Surgery|DRUG: Hyperthermic Intraperitoneal Chemotherapy|DRUG: Pemetrexed|PROCEDURE: Positron Emission Tomography",
            "DRUG: rhIL-15|BIOLOGICAL: Avelumab",
            "BIOLOGICAL: Cixutumumab|OTHER: Laboratory Biomarker Analysis|OTHER: Pharmacological Study|DRUG: Temsirolimus",
            "BIOLOGICAL: bevacizumab|DRUG: vinorelbine tartrate|OTHER: laboratory biomarker analysis",
            "DRUG: diindolylmethane|OTHER: placebo|OTHER: pharmacological study|OTHER: laboratory biomarker analysis|OTHER: quality-of-life assessment",
            "DRUG: paclitaxel|DRUG: bryostatin 1",
            "BIOLOGICAL: AdHER2DC vaccine|BIOLOGICAL: Pembrolizumab|BIOLOGICAL: N-803|DRUG: Lenvatinib|DEVICE: PATHWAY HER2 (4B5) assay",
            "BIOLOGICAL: Trastuzumab Deruxtecan",
            "DRUG: oxaliplatin|DRUG: fluorouracil|RADIATION: external beam radiation therapy",
            "DRUG: lapatinib ditosylate",
            "PROCEDURE: Biopsy|PROCEDURE: Biospecimen Collection|PROCEDURE: Colonoscopy|DRUG: Dordaviprone|OTHER: Questionnaire Administration|PROCEDURE: Sigmoidoscopy",
            "DRUG: 7-hydroxystaurosporine|DRUG: cisplatin|OTHER: laboratory biomarker analysis",
            "OTHER: Cytology Specimen Collection Procedure",
            "DRUG: Cabozantinib|DRUG: Docetaxel|DRUG: Prednisone",
            "OTHER: Laboratory Biomarker Analysis|OTHER: Screening Questionnaire Administration|PROCEDURE: Ultrasound Imaging",
            "OTHER: Pharmacokinetic Study|DRUG: Ulixertinib",
            "DRUG: Cediranib Maleate|DRUG: Cilengitide|OTHER: Laboratory Biomarker Analysis",
            "PROCEDURE: measuring estradiol and progesterone levels in saliva",
            "DRUG: Bintrafusp alfa (M7824)",
            "DRUG: Avelumab|PROCEDURE: Biopsy|PROCEDURE: Biospecimen Collection|PROCEDURE: Computed Tomography|RADIATION: Hypofractionated Radiation Therapy|DRUG: Peposertib",
            "DRUG: Brentuximab Vedotin|DRUG: Gemcitabine Hydrochloride",
            "DRUG: Atezolizumab|PROCEDURE: Biospecimen Collection|PROCEDURE: Computed Tomography|OTHER: Fludeoxyglucose F-18|PROCEDURE: Positron Emission Tomography|OTHER: Quality-of-Life Assessment|OTHER: Questionnaire Administration|RADIATION: Stereotactic Body Radiation Therapy",
            "DRUG: celecoxib|OTHER: placebo",
            "DRUG: erlotinib hydrochloride|OTHER: placebo|OTHER: laboratory biomarker analysis",
            "DRUG: carboplatin|DRUG: fluorouracil|DRUG: hydroxyurea|DRUG: paclitaxel|PROCEDURE: conventional surgery|RADIATION: radiation therapy",
            "DRUG: Gemcitabine|DRUG: Carboplatin|DRUG: Lenalidomide",
            "BIOLOGICAL: Dinutuximab|DRUG: Irinotecan Hydrochloride|OTHER: Laboratory Biomarker Analysis|BIOLOGICAL: Sargramostim|DRUG: Temozolomide|DRUG: Temsirolimus",
            "DRUG: Asparaginase Erwinia chrysanthemi|PROCEDURE: Biospecimen Collection|BIOLOGICAL: Blinatumomab|PROCEDURE: Bone Marrow Aspiration|DRUG: Calaspargase Pegol|PROCEDURE: Computed Tomography|DRUG: Cyclophosphamide|DRUG: Cytarabine|DRUG: Daunorubicin|DRUG: Dexamethasone|DRUG: Doxorubicin|PROCEDURE: Echocardiography|PROCEDURE: FDG-Positron Emission Tomography|DRUG: Leucovorin|PROCEDURE: Lumbar Puncture|PROCEDURE: Magnetic Resonance Imaging|DRUG: Mercaptopurine|DRUG: Methotrexate|PROCEDURE: Multigated Acquisition Scan|DRUG: Pegaspargase|DRUG: Prednisolone|DRUG: Prednisone|DRUG: Therapeutic Hydrocortisone|DRUG: Thioguanine|DRUG: Venetoclax|DRUG: Vincristine",
            "BIOLOGICAL: Anti-ICOS Monoclonal Antibody MEDI-570|OTHER: Laboratory Biomarker Analysis|OTHER: Pharmacological Study",
            "PROCEDURE: Biospecimen Collection|PROCEDURE: Bone Scan|PROCEDURE: Computed Tomography|PROCEDURE: Magnetic Resonance Imaging|PROCEDURE: Multigated Acquisition Scan|DRUG: Olaparib|DRUG: Pazopanib|DRUG: Temozolomide|DRUG: Trabectedin|PROCEDURE: Transthoracic Echocardiography",
            "DRUG: Adavosertib|DRUG: Afatinib|DRUG: Afatinib Dimaleate|DRUG: Binimetinib|PROCEDURE: Biopsy|PROCEDURE: Biospecimen Collection|DRUG: Capivasertib|PROCEDURE: Computed Tomography|DRUG: Copanlisib|DRUG: Copanlisib Hydrochloride|DRUG: Crizotinib|OTHER: Cytology Specimen Collection Procedure|DRUG: Dabrafenib|DRUG: Dabrafenib Mesylate|DRUG: Dasatinib|DRUG: Defactinib|DRUG: Defactinib Hydrochloride|PROCEDURE: Echocardiography|DRUG: Erdafitinib|DRUG: Fexagratinib|DRUG: Ipatasertib|OTHER: Laboratory Biomarker Analysis|DRUG: Larotrectinib|DRUG: Larotrectinib Sulfate|PROCEDURE: Magnetic Resonance Imaging|PROCEDURE: Multigated Acquisition Scan|BIOLOGICAL: Nivolumab|DRUG: Osimertinib|DRUG: Palbociclib|BIOLOGICAL: Pertuzumab|DRUG: PI3K-beta Inhibitor GSK2636771|PROCEDURE: Radiologic Examination|PROCEDURE: Radionuclide Imaging|BIOLOGICAL: Relatlimab|DRUG: Sapanisertib|DRUG: Sunitinib Malate|DRUG: Taselisib|DRUG: Trametinib|BIOLOGICAL: Trastuzumab|BIOLOGICAL: Trastuzumab Emtansine|DRUG: Ulixertinib|DRUG: Vismodegib",
            "DRUG: Brentuximab Vedotin|OTHER: Laboratory Biomarker Analysis|DRUG: Temsirolimus",
            "DRUG: Cediranib Maleate|PROCEDURE: Dynamic Contrast-Enhanced Magnetic Resonance Imaging|OTHER: Laboratory Biomarker Analysis|OTHER: Pharmacological Study",
            "BIOLOGICAL: trastuzumab|DRUG: ixabepilone|DRUG: carboplatin|OTHER: laboratory biomarker analysis",
            "DRUG: bryostatin 1|BIOLOGICAL: sargramostim|OTHER: laboratory biomarker analysis|OTHER: pharmacological study",
            "DRUG: Ixazomib Citrate|DRUG: Pevonedistat",
            "DRUG: Adavosertib|OTHER: Laboratory Biomarker Analysis|OTHER: Pharmacological Study|RADIATION: Radiation Therapy",
            "DRUG: sunitinib malate|OTHER: pharmacological study|RADIATION: 3-dimensional conformal radiation therapy|BIOLOGICAL: cetuximab",
            "PROCEDURE: Biospecimen Collection|PROCEDURE: Bone Marrow Aspirate|PROCEDURE: Bone Marrow Biopsy|PROCEDURE: Computed Tomography|DRUG: Ixazomib Citrate|DRUG: Lenalidomide|OTHER: Placebo Administration|PROCEDURE: Positron Emission Tomography|OTHER: Quality-of-Life Assessment|OTHER: Questionnaire Administration",
            "DRUG: triapine|DRUG: cisplatin|OTHER: laboratory biomarker analysis",
            "OTHER: Laboratory Biomarker Analysis|OTHER: Pharmacological Study|BIOLOGICAL: Recombinant Human Interleukin-15",
            "PROCEDURE: Biospecimen Collection|PROCEDURE: Bone Marrow Biopsy|PROCEDURE: Computed Tomography|DRUG: Cyclophosphamide|DRUG: Doxorubicin Hydrochloride|DRUG: Etoposide|DRUG: Lenalidomide|PROCEDURE: Positron Emission Tomography|DRUG: Prednisone|DRUG: Vincristine Sulfate",
            "BIOLOGICAL: filgrastim|BIOLOGICAL: therapeutic allogeneic lymphocytes|DRUG: cyclophosphamide|DRUG: cyclosporine|DRUG: fludarabine phosphate|PROCEDURE: peripheral blood stem cell transplantation",
            "PROCEDURE: Biopsy|PROCEDURE: Biospecimen Collection|PROCEDURE: Computed Tomography|PROCEDURE: Echocardiography|PROCEDURE: Magnetic Resonance Imaging|PROCEDURE: Multigated Acquisition Scan|DRUG: Neratinib Maleate|DRUG: Palbociclib",
            "DRUG: Azacitidine|OTHER: Laboratory Biomarker Analysis|DRUG: Lenalidomide|DRUG: Vorinostat",
            "DRUG: Dinaciclib|OTHER: Laboratory Biomarker Analysis|BIOLOGICAL: Ofatumumab|OTHER: Pharmacological Study",
            "DRUG: bevacizumab|DRUG: placebo|PROCEDURE: magnetic resonance imaging|PROCEDURE: quality-of-life assessment",
            "BIOLOGICAL: Anti-Endoglin Chimeric Monoclonal Antibody TRC105|BIOLOGICAL: Bevacizumab|OTHER: Laboratory Biomarker Analysis|OTHER: Pharmacological Study",
            "DRUG: resveratrol|OTHER: laboratory biomarker analysis",
            "OTHER: Laboratory Biomarker Analysis|DRUG: Sunitinib Malate",
            "DRUG: O6-benzylguanine|DRUG: polifeprosan 20 with carmustine implant|PROCEDURE: conventional surgery",
            "DRUG: Gleevec, STI571(Imatinib Mesylate)",
            "OTHER: Laboratory Biomarker Analysis|BIOLOGICAL: Trastuzumab",
            "BIOLOGICAL: Ipilimumab|OTHER: Laboratory Biomarker Analysis|OTHER: Pharmacological Study|BIOLOGICAL: Sargramostim",
            "DRUG: BET Bromodomain Inhibitor ZEN-3694|PROCEDURE: Biopsy|PROCEDURE: Biospecimen Collection|PROCEDURE: Computed Tomography|BIOLOGICAL: Ipilimumab|PROCEDURE: Magnetic Resonance Imaging|BIOLOGICAL: Nivolumab|PROCEDURE: Positron Emission Tomography|PROCEDURE: X-Ray Imaging",
            "PROCEDURE: Biospecimen Collection|PROCEDURE: Bone Marrow Aspiration|PROCEDURE: Bone Marrow Biopsy|DRUG: Chemotherapy|PROCEDURE: Computed Tomography|DRUG: Cytarabine|OTHER: Fluorothymidine F-18|OTHER: Laboratory Biomarker Analysis|PROCEDURE: Positron Emission Tomography",
            "BIOLOGICAL: Bevacizumab|DRUG: Carboplatin|DRUG: Cisplatin|RADIATION: Intensity-Modulated Radiation Therapy|DRUG: Paclitaxel",
            "BIOLOGICAL: mutant p53 peptide pulsed dendritic cell vaccine|PROCEDURE: adjuvant therapy",
            "BIOLOGICAL: filgrastim|DRUG: becatecarin|DRUG: cisplatin",
            "DRUG: diindolylmethane|DRUG: placebo|PROCEDURE: therapeutic conventional surgery|OTHER: laboratory biomarker analysis|OTHER: pharmacological study",
            "BIOLOGICAL: recombinant human endostatin",
            "DRUG: Sapanisertib|BIOLOGICAL: Ziv-Aflibercept",
            "DRUG: Decitabine|BIOLOGICAL: Ipilimumab",
            "DRUG: Cisplatin|DRUG: Paclitaxel|DRUG: 5-FU",
            "DRUG: bortezomib|DRUG: paclitaxel|OTHER: laboratory biomarker analysis",
            "DRUG: 2-Fluoro-2-deoxyglucose",
            "DRUG: Bendamustine Hydrochloride|PROCEDURE: Biopsy|PROCEDURE: Biospecimen Collection|PROCEDURE: Computed Tomography|DRUG: Cyclophosphamide|DRUG: Doxorubicin Hydrochloride|PROCEDURE: Echocardiography|DRUG: Lenalidomide|PROCEDURE: Multigated Acquisition Scan|BIOLOGICAL: Obinutuzumab|PROCEDURE: Positron Emission Tomography|DRUG: Prednisone|DRUG: Umbralisib|DRUG: Vincristine Sulfate",
            "DRUG: bryostatin 1",
            "DRUG: erlotinib hydrochloride|PROCEDURE: therapeutic endoscopic surgery|OTHER: laboratory biomarker analysis",
            "DRUG: irinotecan hydrochloride|DRUG: leucovorin calcium|DRUG: fluorouracil|BIOLOGICAL: cetuximab|BIOLOGICAL: bevacizumab",
            "DRUG: Cisplatin|OTHER: Laboratory Biomarker Analysis|OTHER: Pharmacological Study|OTHER: Placebo|DRUG: WEE1 Inhibitor AZD1775",
            "DRUG: Cixutumumab|OTHER: Laboratory Biomarker Analysis|OTHER: Pharmacological Study|DRUG: Temsirolimus",
            "PROCEDURE: Biospecimen Collection|PROCEDURE: Bone Marrow Aspiration|PROCEDURE: Bone Marrow Biopsy|PROCEDURE: Computed Tomography|PROCEDURE: Echocardiography|PROCEDURE: FDG-Positron Emission Tomography and Computed Tomography Scan|PROCEDURE: Lumbar Puncture|PROCEDURE: Multigated Acquisition Scan|DRUG: Tovorafenib",
            "PROCEDURE: Adoptive Immunotherapy|BIOLOGICAL: Rapamycin-Generated Autologous Th1/Tc1 Cells (modified primary human T cells)|BIOLOGICAL: Th1/Tc1 Rapa Cell Therapy",
            "DRUG: Celebrex|BIOLOGICAL: Tumor cell vaccine",
            "DRUG: resveratrol",
            "DIETARY_SUPPLEMENT: LIFE",
            "DRUG: Aldesleukin|DRUG: Cyclophosphamide|DRUG: Fludarabine|BIOLOGICAL: Young Tumor Infiltrating Lymphocytes (TIL)",
            "DRUG: alvocidib|DRUG: mitoxantrone hydrochloride|DRUG: carboplatin|DRUG: cytarabine|DRUG: sirolimus|DRUG: etoposide|DRUG: topotecan hydrochloride",
            "PROCEDURE: Biospecimen Collection|PROCEDURE: Magnetic Resonance Imaging|DRUG: Savolitinib|PROCEDURE: X-Ray Imaging",
            "DRUG: Cyclophosphamide|DRUG: Doxorubicin Hydrochloride|OTHER: Laboratory Biomarker Analysis|DRUG: Lenalidomide|DRUG: Prednisone|BIOLOGICAL: Rituximab|DRUG: Vincristine Sulfate",
            "BIOLOGICAL: Multicycle SS1P|DRUG: Pemetrexed|DRUG: Cisplatin|BIOLOGICAL: Single cycle SS1P",
            "OTHER: Treatment|DRUG: Methoxyamine|DRUG: Temozolomide",
            "DRUG: erlotinib hydrochloride|BIOLOGICAL: bevacizumab",
            "DRUG: Bortezomib|DRUG: Dexamethasone|OTHER: Laboratory Biomarker Analysis|OTHER: Quality-of-Life Assessment|BIOLOGICAL: Rituximab|DRUG: Temsirolimus",
            "BIOLOGICAL: trastuzumab|DRUG: cyclophosphamide|DRUG: doxorubicin hydrochloride|DRUG: paclitaxel|DRUG: tamoxifen citrate",
            "RADIATION: fludeoxyglucose F 18|DRUG: sirolimus|OTHER: Clinical Videography",
            "DRUG: Enasidenib",
            "DRUG: Everolimus",
            "BIOLOGICAL: filgrastim|DRUG: fluorouracil|DRUG: hydroxyurea|DRUG: paclitaxel|PROCEDURE: conventional surgery|RADIATION: radiation therapy",
            "DRUG: sorafenib tosylate|DRUG: gemcitabine hydrochloride|OTHER: laboratory biomarker analysis",
            "DRUG: Inositol|OTHER: Placebo",
            "DRUG: sunitinib malate|PROCEDURE: laboratory biomarker analysis|PROCEDURE: pharmacological study",
            "DRUG: isolated limb perfusion|DRUG: melphalan|BIOLOGICAL: recombinant tumor necrosis factor family protein|OTHER: pharmacological study|OTHER: laboratory biomarker analysis",
            "PROCEDURE: Biospecimen Collection|PROCEDURE: Computed Tomography|PROCEDURE: Echocardiography|BIOLOGICAL: Nivolumab|OTHER: Observation|PROCEDURE: Positron Emission Tomography",
            "DRUG: Vincristine",
            "DRUG: IL-3",
            "DRUG: carboxyamidotriazole|OTHER: placebo|PROCEDURE: quality-of-life assessment|OTHER: laboratory biomarker analysis",
            "OTHER: Laboratory Biomarker Analysis|BIOLOGICAL: Trebananib",
            "DRUG: sorafenib tosylate|DRUG: cetuximab|DRUG: irinotecan hydrochloride",
            "DRUG: linsitinib|OTHER: laboratory biomarker analysis",
            "BIOLOGICAL: Cetuximab|DRUG: Encorafenib|BIOLOGICAL: Nivolumab",
            "DRUG: Atezolizumab|BIOLOGICAL: Bevacizumab|OTHER: Laboratory Biomarker Analysis",
            "DRUG: Anti-Transforming Growth Factor-beta (GC 1008)",
            "DRUG: imatinib|DEVICE: TruSight Oncology",
            "DRUG: NHS-IL-12",
            "DRUG: Tamoxifen citrate|DRUG: Bortezomib",
            "DRUG: cytarabine|DRUG: methotrexate|DRUG: vincristine sulfate|DRUG: prednisone|DRUG: pegaspargase|DRUG: doxorubicin hydrochloride|DRUG: imatinib mesylate|DRUG: cyclophosphamide|DRUG: etoposide|BIOLOGICAL: filgrastim|DRUG: leucovorin calcium|DRUG: asparaginase|DRUG: therapeutic hydrocortisone",
            "DRUG: cisplatin|DRUG: ifosfamide|DRUG: mitomycin C|DRUG: vinblastine sulfate|DRUG: vindesine|DRUG: vinorelbine tartrate|PROCEDURE: conventional surgery|RADIATION: radiation therapy",
            "DRUG: dasatinib|PROCEDURE: pharmacological study|PROCEDURE: laboratory biomarker analysis",
            "DRUG: Romidepsin (FR901228)",
            "DRUG: CCI-779|DRUG: Bevacizumab",
            "DRUG: BL22 (CAT-3888)",
            "OTHER: Laboratory Biomarker Analysis|PROCEDURE: Medical Examination|OTHER: Screening Questionnaire Administration",
            "DRUG: oxaliplatin|DRUG: leucovorin calcium|DRUG: fluorouracil|OTHER: placebo|DRUG: vismodegib|OTHER: laboratory biomarker analysis",
            "BIOLOGICAL: GI-6207 [Recombinant Saccharomyces Cerevisia|DRUG: (Yeast CEA Vaccine)(GI-6207[Recombinant Sarrcharomyces Cerevusua-CEA (610D)])",
            "DRUG: PXD101with cisplatin+doxorubicin+cyclophosphamide",
            "OTHER: Laboratory Biomarker Analysis|OTHER: Placebo|OTHER: Quality-of-Life Assessment|DRUG: Sunitinib Malate",
            "PROCEDURE: Biopsy|PROCEDURE: Biospecimen Collection|PROCEDURE: Computed Tomography|OTHER: Laboratory Biomarker Analysis|PROCEDURE: Magnetic Resonance Imaging|DRUG: Olaparib|OTHER: Quality-of-Life Assessment|RADIATION: Radium Ra 223 Dichloride",
            "DRUG: temsirolimus|DRUG: temozolomide|DRUG: irinotecan hydrochloride|OTHER: laboratory biomarker analysis",
            "DRUG: Carfilzomib|DRUG: Dexamethasone|OTHER: Laboratory Biomarker Analysis|BIOLOGICAL: Pelareorep",
            "BIOLOGICAL: cetuximab|DRUG: paclitaxel|BIOLOGICAL: bevacizumab",
            "DRUG: Berzosertib|DRUG: Gemcitabine|DRUG: Gemcitabine Hydrochloride",
            "DRUG: gamma-secretase/Notch signalling pathway inhibitor RO4929097|OTHER: laboratory biomarker analysis|OTHER: pharmacological study",
            "DRUG: Z-Endoxifen",
            "PROCEDURE: Autologous Hematopoietic Stem Cell Transplantation|DRUG: Gamma-Secretase Inhibitor RO4929097|PROCEDURE: Hematopoietic Stem Cell Mobilization|PROCEDURE: In Vitro-Treated Peripheral Blood Stem Cell Transplantation|OTHER: Laboratory Biomarker Analysis|DRUG: Melphalan",
            "OTHER: Screening Questionnaire Administration|PROCEDURE: X-Ray Imaging",
            "DRUG: tanespimycin|DRUG: bortezomib",
            "BIOLOGICAL: Nivolumab|DRUG: Varlilumab",
            "DRUG: Se-methyl-seleno-L-cysteine|OTHER: placebo|OTHER: pharmacological study|OTHER: laboratory biomarker analysis",
            "DRUG: Bicalutamide|DRUG: Goserelin Acetate|OTHER: Laboratory Biomarker Analysis|DRUG: Leuprolide Acetate|PROCEDURE: Therapeutic Conventional Surgery|DRUG: Vorinostat",
            "DRUG: Id-KLH Vaccine|DRUG: QS-21 (Stimulation-QS-21) Drug",
            "DRUG: Bendamustine Hydrochloride|DRUG: Ibrutinib|OTHER: Laboratory Biomarker Analysis|OTHER: Quality-of-Life Assessment|BIOLOGICAL: Rituximab",
            "DRUG: TRC102",
            "BIOLOGICAL: edrecolomab|OTHER: laboratory biomarker analysis",
            "DRUG: Amoxicillin/omeprazole",
            "BIOLOGICAL: aldesleukin|BIOLOGICAL: fowlpox virus vaccine vector|BIOLOGICAL: gp100 antigen",
            "DRUG: irinotecan hydrochloride",
            "DRUG: Birinapant (TL32711)",
            "DRUG: Docetaxel|DRUG: Cisplatin|DRUG: PRGN-2009",
            "DRUG: Sunitinib|DRUG: Sunitinib",
            "DRUG: leuprolide acetate|DRUG: goserelin acetate|DRUG: bicalutamide|DRUG: nilutamide|DRUG: flutamide|DRUG: temsirolimus|OTHER: laboratory biomarker analysis",
            "BIOLOGICAL: PDS0101|BIOLOGICAL: M7824|BIOLOGICAL: NHS-IL12",
            "PROCEDURE: MRI, FDG-PET/CT scans|DRUG: [18F]-FLT-PET/CT scans",
            "DRUG: suramin|DRUG: carboplatin|DRUG: paclitaxel|OTHER: pharmacological study|OTHER: laboratory biomarker analysis",
            "DRUG: Ixabepilone|OTHER: Pharmacological Study|DRUG: Temsirolimus",
            "OTHER: Laboratory Biomarker Analysis|OTHER: Pharmacological Study|DRUG: Sorafenib Tosylate",
            "PROCEDURE: Biopsy|PROCEDURE: Biospecimen Collection|PROCEDURE: Computed Tomography|DRUG: Ipatasertib|PROCEDURE: Magnetic Resonance Imaging|DRUG: Paclitaxel",
            "GENETIC: mutation analysis",
            "DRUG: imatinib mesylate|RADIATION: local irradiation therapy",
            "PROCEDURE: conventional surgery|DRUG: tandutinib|OTHER: pharmacological study|OTHER: Tissue samples",
            "DRUG: EPOCH-R|BIOLOGICAL: GM-CSF|BIOLOGICAL: Idiotype vaccine",
            "DRUG: Carboplatin|DRUG: Docetaxel|OTHER: Laboratory Biomarker Analysis|DRUG: Paclitaxel|DRUG: Temsirolimus",
            "OTHER: Laboratory Biomarker Analysis|DRUG: Metformide Hydrochloride/Pioglitazone Hydrochloride Extended-Release Tablet|OTHER: Pharmacological Study|OTHER: Placebo",
            "DRUG: Atezolizumab|PROCEDURE: Biopsy|PROCEDURE: Biospecimen Collection|PROCEDURE: Computed Tomography with Contrast|DRUG: Eribulin Mesylate",
            "DRUG: tamoxifen citrate|DRUG: thalidomide|OTHER: laboratory biomarker analysis",
            "BIOLOGICAL: recombinant adenovirus-p53 SCH-58500|PROCEDURE: conventional surgery",
            "DRUG: lenalidomide|PROCEDURE: perfusion-weighted magnetic resonance imaging|PROCEDURE: diffusion-weighted magnetic resonance imaging|OTHER: laboratory biomarker analysis",
            "PROCEDURE: Biospecimen Collection|PROCEDURE: Magnetic Resonance Imaging|DRUG: Navtemadlin|RADIATION: Radiation Therapy",
            "OTHER: Laboratory Biomarker Analysis|OTHER: Placebo|DRUG: Temozolomide|DRUG: Veliparib",
            "DRUG: BMN 673",
            "DRUG: penclomedine",
            "PROCEDURE: adjuvant therapy|BIOLOGICAL: pegylated interferon alfa",
            "DRUG: Berzosertib|DRUG: Carboplatin|DRUG: Docetaxel|OTHER: Laboratory Biomarker Analysis",
            "OTHER: Laboratory Biomarker Analysis|OTHER: Pharmacological Study|OTHER: Quality-of-Life Assessment|DRUG: Ropidoxuridine|RADIATION: Whole-Brain Radiotherapy",
            "DRUG: LMB-100|DRUG: pembrolizumab|DIAGNOSTIC_TEST: Mesothelin Expression|DIAGNOSTIC_TEST: TrueSight Oncology 500",
            "DRUG: Mycophenolate Mofetil|DRUG: Tacrolimus|DRUG: Post-Transplant Cyclophosphamide|RADIATION: Total Body Irradiation|PROCEDURE: Hematopoietic Cell Transplant|DRUG: JSP191|DRUG: Cyclophosphamide|DRUG: Fludarabine",
            "OTHER: Laboratory Biomarker Analysis|DRUG: Sorafenib Tosylate|DRUG: Tipifarnib",
            "DRUG: taxol",
            "DRUG: Akt inhibitor MK2206|BIOLOGICAL: trastuzumab|DRUG: lapatinib ditosylate|OTHER: laboratory biomarker analysis",
            "DRUG: Dacarbazine|DRUG: Doxorubicin Hydrochloride|BIOLOGICAL: Filgrastim|DRUG: Ifosfamide|OTHER: Laboratory Biomarker Analysis|RADIATION: Radiation Therapy|DRUG: Thalidomide|PROCEDURE: Therapeutic Conventional Surgery",
            "DRUG: Olaparib|DEVICE: ClinOmics",
            "DRUG: suramin|DRUG: docetaxel|DRUG: gemcitabine hydrochloride|OTHER: laboratory biomarker analysis|OTHER: pharmacological study",
            "DRUG: Fludarabine|DRUG: Cyclophosphamide|DRUG: Aldesleukin|DRUG: MART-1 Reactive CD8+ PBL",
            "DRUG: alvocidib|DRUG: daunorubicin hydrochloride|DRUG: mitoxantrone hydrochloride|DRUG: cytarabine",
            "DRUG: ipilimumab|DRUG: therapeutic allogeneic lymphocytes",
            "BIOLOGICAL: apolizumab|OTHER: laboratory biomarker analysis|OTHER: pharmacological study",
            "DRUG: Bendamustine Hydrochloride|DRUG: Bortezomib|RADIATION: Fludeoxyglucose F-18|OTHER: Laboratory Biomarker Analysis|BIOLOGICAL: Ofatumumab|PROCEDURE: Positron Emission Tomography with Radiolabeled Targeting Agent",
            "DRUG: Lexatumumab alone|DRUG: Lexatumumab in combination|DRUG: Interferon gamma 1b in combination|DRUG: Gamma 1b potential expansion",
            "OTHER: Laboratory Biomarker Analysis|OTHER: Placebo|OTHER: Placebo|BIOLOGICAL: Sargramostim|BIOLOGICAL: Tyrosinase Peptide",
            "DRUG: vorinostat|DRUG: decitabine",
            "DRUG: BMS-214662|BIOLOGICAL: trastuzumab|OTHER: pharmacological study",
            "DRUG: Selinexor|DRUG: Temozolomide|RADIATION: Generic Radiation therapy (RT)",
            "BIOLOGICAL: recombinant viral vaccine therapy|BIOLOGICAL: sargramostim",
            "BIOLOGICAL: trastuzumab|DRUG: irinotecan hydrochloride",
            "DRUG: MART-1: 26-35(27L) Peptide|DRUG: Montanide ISA 51 VG|DRUG: gp100:154-162 Peptide|PROCEDURE: Radiation|DRUG: Aldesleukin|DRUG: Fludarabine|DRUG: Cyclophosphamide|GENETIC: Anti-gp 100:154 TCR PBL|GENETIC: Anti-MART-1 F5 TCR PBL",
            "DRUG: Cyclophosphamide|BIOLOGICAL: CAR-T cell|DRUG: Fludarabine",
            "PROCEDURE: Biospecimen Collection|PROCEDURE: Computed Tomography|DRUG: Dabrafenib Mesylate|PROCEDURE: Echocardiography|BIOLOGICAL: Ipilimumab|PROCEDURE: Multigated Acquisition Scan|BIOLOGICAL: Nivolumab|OTHER: Quality-of-Life Assessment|DRUG: Trametinib Dimethyl Sulfoxide",
            "PROCEDURE: Dynamic Contrast-Enhanced Magnetic Resonance Imaging|OTHER: Laboratory Biomarker Analysis|OTHER: Pharmacological Study|BIOLOGICAL: Trebananib",
            "BEHAVIORAL: diet, fat-restricted",
            "BIOLOGICAL: MART-1 antigen|BIOLOGICAL: aldesleukin|BIOLOGICAL: gp100 antigen",
            "OTHER: Laboratory Biomarker Analysis|OTHER: Placebo|DRUG: Tivantinib",
            "DRUG: paclitaxel|DRUG: pegylated liposomal doxorubicin hydrochloride|OTHER: laboratory biomarker analysis|PROCEDURE: quality-of-life assessment",
            "BIOLOGICAL: filgrastim|BIOLOGICAL: oblimersen sodium|DRUG: cytarabine|DRUG: fludarabine phosphate",
            "BIOLOGICAL: ipilimumab",
            "PROCEDURE: Biopsy|PROCEDURE: Biospecimen Collection|PROCEDURE: Computed Tomography|PROCEDURE: Magnetic Resonance Imaging|DRUG: Temozolomide|DRUG: Tuvusertib",
            "DRUG: fenretinide|PROCEDURE: therapeutic conventional surgery|OTHER: pharmacological study|OTHER: laboratory biomarker analysis",
            "DRUG: entinostat|DRUG: isotretinoin",
            "DIETARY_SUPPLEMENT: Defined Green Tea Catechin Extract|OTHER: Laboratory Biomarker Analysis|OTHER: Pharmacological Study|DRUG: Placebo|PROCEDURE: Therapeutic Conventional Surgery",
            "BIOLOGICAL: Bevacizumab|DRUG: Cisplatin|OTHER: Laboratory Biomarker Analysis|DRUG: Paclitaxel|OTHER: Quality-of-Life Assessment|OTHER: Questionnaire Administration|DRUG: Topotecan Hydrochloride",
            "DRUG: bryostatin 1|DRUG: cisplatin|OTHER: laboratory biomarker analysis",
            "DRUG: 7-hydroxystaurosporine|OTHER: laboratory biomarker analysis|OTHER: pharmacological study",
            "DRUG: acetylsalicylic acid|DRUG: alvocidib|DRUG: clopidogrel bisulfate",
            "DEVICE: Pico G2 4K Headset with Applied VR software",
            "DRUG: Belinostat|DRUG: Isotretinoin|OTHER: Pharmacological Study",
            "DRUG: Cyclophosphamide|BIOLOGICAL: Allogenic tumor Cell Vaccine (K562)|DRUG: Celecoxib",
            "BIOLOGICAL: Atezolizumab|DRUG: Carboplatin|DRUG: Entinostat|DRUG: Etoposide",
            "BIOLOGICAL: NY-ESO-1 peptide vaccine|BIOLOGICAL: aldesleukin|BIOLOGICAL: filgrastim|BIOLOGICAL: incomplete Freund's adjuvant|BIOLOGICAL: therapeutic autologous lymphocytes|DRUG: cyclophosphamide|DRUG: fludarabine phosphate",
            "DRUG: paclitaxel|BIOLOGICAL: trastuzumab|PROCEDURE: quality-of-life assessment|OTHER: laboratory biomarker analysis",
            "DRUG: Bortezomib|OTHER: Laboratory Biomarker Analysis|DRUG: Lenalidomide",
            "DRUG: oxaliplatin|DRUG: fluorouracil|DRUG: leucovorin calcium|OTHER: pharmacological study|PROCEDURE: positron emission tomography|PROCEDURE: computed tomography",
            "BIOLOGICAL: oblimersen sodium|BIOLOGICAL: rituximab|DRUG: ifosfamide|DRUG: carboplatin|DRUG: etoposide|BIOLOGICAL: filgrastim|BIOLOGICAL: pegfilgrastim|OTHER: laboratory biomarker analysis",
            "DRUG: 7-hydroxystaurosporine (UCN-01)",
            "DRUG: fenretinide",
            "PROCEDURE: Biospecimen Collection|DRUG: Carboplatin|PROCEDURE: Computed Tomography|BIOLOGICAL: Ipilimumab|BIOLOGICAL: Nivolumab|DRUG: Paclitaxel|PROCEDURE: Positron Emission Tomography|RADIATION: Radiation Therapy",
            "DRUG: gefitinib|RADIATION: radiation therapy|OTHER: pharmacological study|OTHER: laboratory biomarker analysis",
            "PROCEDURE: Biospecimen Collection|PROCEDURE: Computed Tomography|DRUG: Elimusertib|BIOLOGICAL: Pembrolizumab|PROCEDURE: Positron Emission Tomography|OTHER: Quality-of-Life Assessment|RADIATION: Stereotactic Body Radiation Therapy",
            "DRUG: Capecitabine|DRUG: Fluorouracil|DRUG: Leucovorin|DRUG: Oxaliplatin|RADIATION: Radiation Therapy|BIOLOGICAL: Talimogene Laherparepvec",
            "DRUG: 18F-DCFPyL|RADIATION: Tumor Irradiation|RADIATION: Prostate + tumor irradiation|RADIATION: Tumor Irradiation",
            "DRUG: Selumetinib (AZD6244 hyd sulfate) 50mg/dose|DRUG: Selumetinib (AZD6244 hyd sulfate) 25mg/m2",
            "DRUG: ixabepilone|DRUG: pegylated liposomal doxorubicin hydrochloride",
            "BIOLOGICAL: Anti-VEGFR2 CAR CD8 plus PBL|DRUG: Cyclophosphamide|BIOLOGICAL: Aldesleukin|DRUG: Fludarabine",
            "BIOLOGICAL: oblimersen sodium",
            "DRUG: Abiraterone Acetate|OTHER: Laboratory Biomarker Analysis|DRUG: Prednisone|DRUG: Veliparib",
            "PROCEDURE: Biopsy|PROCEDURE: Biospecimen Collection|DRUG: Cobimetinib|PROCEDURE: Computed Tomography|PROCEDURE: Echocardiography|PROCEDURE: Magnetic Resonance Imaging|PROCEDURE: Multigated Acquisition Scan|DRUG: Pelcitoclax",
            "PROCEDURE: Autologous Hematopoietic Stem Cell Transplantation|OTHER: Laboratory Biomarker Analysis|DRUG: Lenalidomide|DRUG: Melphalan|PROCEDURE: Peripheral Blood Stem Cell Transplantation|OTHER: Placebo Administration",
            "PROCEDURE: Biopsy|PROCEDURE: Biospecimen Collection|PROCEDURE: Diagnostic Imaging|DRUG: Elimusertib|DRUG: Fluorouracil|DRUG: Irinotecan Hydrochloride|DRUG: Leucovorin Calcium",
            "DRUG: Palbociclib",
            "OTHER: Laboratory Biomarker Analysis|BIOLOGICAL: Navitoclax|OTHER: Pharmacological Study|DRUG: Sorafenib|DRUG: Sorafenib Tosylate",
            "DRUG: Entinostat|OTHER: Laboratory Biomarker Analysis|OTHER: Pharmacological Study",
            "PROCEDURE: management of therapy complications|PROCEDURE: quality-of-life assessment",
            "DRUG: metformin hydrochloride",
            "PROCEDURE: Biospecimen Collection|DRUG: Retinoid 9cUAB30|PROCEDURE: Therapeutic Conventional Surgery",
            "DRUG: Genistein|OTHER: Laboratory Biomarker Analysis|OTHER: Pharmacological Study|OTHER: Placebo Administration|PROCEDURE: Therapeutic Conventional Surgery",
            "OTHER: Laboratory Biomarker Analysis|DRUG: Mitomycin|DRUG: Veliparib",
            "DRUG: FGFR Inhibitor AZD4547",
            "DRUG: EPOCH-F/R|DRUG: FLAG|DRUG: Transplant Preparative Regimen (Flu/Cy/Mes)|DRUG: GVHD Prophylaxis (tacrolimus and sirolimus)|PROCEDURE: Double Cord Blood Transplantation",
            "DRUG: tipifarnib|DRUG: paclitaxel|DRUG: doxorubicin|DRUG: cyclophosphamide",
            "DRUG: Tipifarnib|RADIATION: External Beam Radiation Therapy|DRUG: Temozolomide|OTHER: Laboratory Biomarker Analysis",
            "DRUG: Copanlisib|DRUG: Fulvestrant|OTHER: Laboratory Biomarker Analysis|DRUG: Palbociclib",
            "PROCEDURE: Biopsy|PROCEDURE: Biospecimen Collection|PROCEDURE: Computed Tomography|PROCEDURE: Magnetic Resonance Imaging|BIOLOGICAL: Navitoclax|PROCEDURE: Positron Emission Tomography|DRUG: Trametinib",
            "DRUG: ifosfamide|DRUG: bortezomib|DRUG: vinorelbine tartrate|BIOLOGICAL: filgrastim",
            "DRUG: cyclophosphamide|DRUG: fludarabine phosphate|DRUG: vincristine sulfate|DRUG: prednisone|BIOLOGICAL: rituximab|OTHER: laboratory biomarker analysis",
            "DRUG: Binimetinib|PROCEDURE: Biopsy|PROCEDURE: Biospecimen Collection|PROCEDURE: Bone Scan|PROCEDURE: Computed Tomography|PROCEDURE: Magnetic Resonance Imaging|DRUG: Palbociclib",
            "DRUG: glucarpidase",
            "PROCEDURE: Biopsy|PROCEDURE: Biospecimen Collection|DRUG: Cisplatin|PROCEDURE: Computed Tomography|DRUG: Doxorubicin Hydrochloride|BIOLOGICAL: Durvalumab|DRUG: Gemcitabine Hydrochloride|PROCEDURE: Magnetic Resonance Imaging|DRUG: Methotrexate|BIOLOGICAL: Pegfilgrastim|PROCEDURE: Therapeutic Conventional Surgery|DRUG: Vinblastine Sulfate",
            "BIOLOGICAL: Rituximab|DRUG: Copanlisib",
            "DRUG: depsipeptide",
            "DRUG: Ursodiol|OTHER: Laboratory Biomarker Analysis",
            "PROCEDURE: Biopsy|DRUG: Extended Release Metformin Hydrochloride|DRUG: Megestrol Acetate|OTHER: Questionnaire Administration",
            "DRUG: triapine|DRUG: gemcitabine",
            "PROCEDURE: Biospecimen Collection|RADIATION: Brachytherapy|PROCEDURE: Computed Tomography|RADIATION: External Beam Radiation Therapy|PROCEDURE: Magnetic Resonance Imaging|BIOLOGICAL: Pembrolizumab|OTHER: Quality-of-Life Assessment|OTHER: Questionnaire Administration|PROCEDURE: X-Ray Imaging",
            "DRUG: fenretinide|DRUG: rituximab",
            "BIOLOGICAL: recombinant CD40-ligand|BIOLOGICAL: recombinant flt3 ligand",
            "DRUG: pre-operative abemaciclib|DEVICE: Device for Cerebral Fluid Dialysate Collection|DEVICE: Ashion Analytics GEM ExTra|DRUG: abemaciclib + temozolomide",
            "DRUG: irinotecan hydrochloride|BIOLOGICAL: bevacizumab|DRUG: cisplatin|PROCEDURE: computed tomography|OTHER: laboratory biomarker analysis",
            "OTHER: cytology specimen collection procedure|OTHER: immunohistochemistry staining method|OTHER: sputum cytology|PROCEDURE: bronchoscopic and lung imaging studies|PROCEDURE: bronchoscopy|PROCEDURE: comparison of screening methods|PROCEDURE: endoscopic biopsy",
            "DRUG: Dasatinib|DRUG: Dasatinib|DRUG: Ganitumab",
            "DRUG: Bortezomib|DRUG: Fulvestrant|OTHER: Laboratory Biomarker Analysis",
            "DRUG: gamma-secretase/Notch signalling pathway inhibitor RO4929097|PROCEDURE: therapeutic conventional surgery|OTHER: pharmacological study|OTHER: laboratory biomarker analysis",
            "DRUG: vancomycin",
            "DRUG: bortezomib|OTHER: pharmacological study|OTHER: laboratory biomarker analysis",
            "BIOLOGICAL: Ad5CMV-p53 gene",
            "DRUG: Cyclophosphamide|DRUG: Fludarabine|BIOLOGICAL: Anti-B-cell maturation antigen (BCMA) chimeric antigen receptor (CAR) T cells",
            "DRUG: 9-cis-Retinoic Acid",
            "BIOLOGICAL: Recombinant human interleukin-15 (rhIL-15)|BIOLOGICAL: NK Cell Infusion",
            "DRUG: 75 approved agents|OTHER: COXEN",
            "DRUG: motexafin lutetium|DRUG: photodynamic therapy",
            "DRUG: R-(-)-gossypol acetic acid|DRUG: paclitaxel|DRUG: carboplatin|OTHER: pharmacological study",
            "DRUG: SNX-5422",
            "DRUG: Enzalutamide Liquid|DRUG: Enzalutamide Capsule",
            "DRUG: Olaparib|DRUG: Cediranib|DRUG: Durvalumab",
            "RADIATION: brachytherapy|RADIATION: radiation therapy",
            "DRUG: Carfilzomib|DRUG: Melphalan|DRUG: Filgrastim",
            "DRUG: gemcitabine hydrochloride|DRUG: paclitaxel|DRUG: tipifarnib|RADIATION: radiation therapy",
            "PROCEDURE: Biospecimen Collection|PROCEDURE: Magnetic Resonance Imaging|DRUG: Selinexor|DRUG: Temozolomide",
            "DRUG: Erlotinib Hydrochloride|DRUG: Irinotecan Hydrochloride",
            "DRUG: obatoclax mesylate|DRUG: bortezomib|OTHER: laboratory biomarker analysis",
            "DRUG: 18F-DCFPyL|DRUG: 18F-FDG|DRUG: PSMA-11",
            "PROCEDURE: Biopsy|PROCEDURE: Biospecimen Collection|DRUG: Carboplatin|PROCEDURE: Computed Tomography|BIOLOGICAL: Durvalumab|DRUG: Gemcitabine Hydrochloride|PROCEDURE: Magnetic Resonance Imaging|DRUG: Nab-paclitaxel|BIOLOGICAL: Personalized Synthetic Long Peptide Vaccine|DRUG: Poly ICLC|BIOLOGICAL: Tremelimumab",
            "DRUG: Belinostat|DRUG: Cisplatin|DRUG: Etoposide",
            "BIOLOGICAL: H1299 cell lysates|DRUG: Cyclophosphamide|DRUG: Celecoxib|BIOLOGICAL: Iscomatrix adjuvant",
            "BIOLOGICAL: BCG intravesical live (TICE Bacillus Calmette-Guerin (BCG))|BIOLOGICAL: PANVAC",
            "DRUG: sulindac|OTHER: placebo|OTHER: laboratory biomarker analysis",
            "DRUG: DMF5 Melanoma Reactive TIL|DRUG: Cyclophosphamide|DRUG: Fludarabine|DRUG: Aldesleukin",
            "BIOLOGICAL: rituximab|DRUG: temsirolimus",
            "DRUG: Carboplatin|DRUG: Cisplatin|PROCEDURE: Computed Tomography|RADIATION: Intensity-Modulated Radiation Therapy|PROCEDURE: Magnetic Resonance Imaging|BIOLOGICAL: Pembrolizumab|RADIATION: Proton Beam Radiation Therapy",
            "DRUG: Capecitabine|DRUG: Vorinostat",
            "DRUG: CDDO",
            "OTHER: Laboratory Biomarker Analysis|DRUG: Selumetinib|DRUG: Temsirolimus",
            "DRUG: Doxorubicin|DRUG: Doxorubicin Hydrochloride|DRUG: Ifosfamide|DRUG: Pazopanib|DRUG: Pazopanib Hydrochloride|RADIATION: Radiation Therapy|PROCEDURE: Therapeutic Conventional Surgery",
            "DRUG: cisplatin|DRUG: etoposide|BIOLOGICAL: bevacizumab|OTHER: laboratory biomarker analysis",
            "DRUG: Abemaciclib|DRUG: BET Bromodomain Inhibitor ZEN-3694|PROCEDURE: Biopsy|PROCEDURE: Biospecimen Collection|PROCEDURE: Diagnostic Imaging",
            "DRUG: cidofovir",
            "DRUG: T-DM1|DRUG: TMZ",
            "DRUG: Carboplatin|DRUG: Olaparib",
            "DRUG: Roferon-A",
            "DRUG: lapatinib ditosylate|PROCEDURE: therapeutic conventional surgery|OTHER: laboratory biomarker analysis|OTHER: pharmacological study|PROCEDURE: positron emission tomography|PROCEDURE: magnetic resonance imaging",
            "DRUG: interleukin-2|DRUG: MAGE-12 peptide vaccine|DRUG: Montanide ISA-51",
            "PROCEDURE: Biopsy|PROCEDURE: Biospecimen Collection|PROCEDURE: Echocardiography|PROCEDURE: Multigated Acquisition Scan|DRUG: Osimertinib|PROCEDURE: Radiologic Examination",
            "BIOLOGICAL: therapeutic autologous dendritic cells|DRUG: indinavir sulfate|PROCEDURE: peripheral blood stem cell transplantation",
            "RADIATION: 3-Dimensional Conformal Radiation Therapy|RADIATION: Intensity-Modulated Radiation Therapy|OTHER: Laboratory Biomarker Analysis|DRUG: Vorinostat",
            "DRUG: sorafenib tosylate|DRUG: gemcitabine hydrochloride",
            "PROCEDURE: Biospecimen Collection|DRUG: Cabozantinib S-malate|PROCEDURE: Computed Tomography|PROCEDURE: Echocardiography|PROCEDURE: Magnetic Resonance Imaging|BIOLOGICAL: Nivolumab|DRUG: Placebo Administration|PROCEDURE: Positron Emission Tomography",
            "BIOLOGICAL: bevacizumab|DRUG: paclitaxel|DRUG: carboplatin|RADIATION: radiation therapy",
            "OTHER: medical chart review|OTHER: laboratory biomarker analysis",
            "DRUG: AT-101|DRUG: Bicalutamide|OTHER: LHRH agent",
            "DRUG: fenretinide|OTHER: pharmacological study",
            "PROCEDURE: Biospecimen Collection|DRUG: Cabozantinib|PROCEDURE: Computed Tomography|BIOLOGICAL: Ipilimumab|PROCEDURE: Magnetic Resonance Imaging|BIOLOGICAL: Nivolumab|OTHER: Quality-of-Life Assessment|OTHER: Questionnaire Administration",
            "BIOLOGICAL: Bevacizumab|DRUG: Carboplatin|DRUG: Ixabepilone|OTHER: Laboratory Biomarker Analysis|DRUG: Paclitaxel|DRUG: Temsirolimus",
            "BIOLOGICAL: recombinant interferon alfa|DRUG: omacetaxine mepesuccinate",
            "DRUG: Cetuximab|DRUG: Bevacizumab",
            "DRUG: Tazemetostat",
            "DRUG: O6-benzylguanine|DRUG: carmustine",
            "BIOLOGICAL: dendritic cell-MART-1 peptide vaccine|BIOLOGICAL: gp100 antigen|BIOLOGICAL: therapeutic tumor infiltrating lymphocytes|BIOLOGICAL: tyrosinase peptide",
            "BIOLOGICAL: E7 T Cell Receptor (TCR)",
            "DRUG: EF5|DRUG: motexafin lutetium|OTHER: pharmacological study",
            "BIOLOGICAL: Bevacizumab|DRUG: Ixabepilone|OTHER: Laboratory Biomarker Analysis|DRUG: Nab-paclitaxel|DRUG: Paclitaxel|OTHER: Questionnaire Administration",
            "DIAGNOSTIC_TEST: NGS testing",
            "DRUG: fenretinide|OTHER: laboratory biomarker analysis|OTHER: pharmacological study",
            "BIOLOGICAL: anti-protein 53 or tumor protein 53 (p53) T-cell receptor transduced peripheral blood lymphocytes|BIOLOGICAL: aldesleukin|BIOLOGICAL: filgrastim|DRUG: cyclophosphamide|DRUG: fludarabine phosphate",
            "PROCEDURE: Autologous T cells|DRUG: Interleukin-2",
            "DRUG: gamma-secretase/Notch signalling pathway inhibitor RO4929097|BIOLOGICAL: bevacizumab|OTHER: laboratory biomarker analysis|OTHER: pharmacological study",
            "DRUG: BET Bromodomain Inhibitor ZEN-3694|PROCEDURE: Biopsy|PROCEDURE: Biospecimen Collection|DRUG: Capecitabine|PROCEDURE: Computed Tomography|PROCEDURE: Magnetic Resonance Imaging|PROCEDURE: Positron Emission Tomography",
            "DRUG: Access to unlicensed cord blood units",
            "DRUG: Baricitinib",
            "PROCEDURE: Biopsy|PROCEDURE: Biospecimen Collection|PROCEDURE: Computed Tomography|PROCEDURE: Magnetic Resonance Imaging|PROCEDURE: Positron Emission Tomography|DRUG: Tuvusertib|PROCEDURE: Ultrasound Imaging",
            "DRUG: decitabine|OTHER: laboratory biomarker analysis|OTHER: pharmacological study",
            "DEVICE: TULSA-PRO",
            "DRUG: ONC201",
            "DRUG: paclitaxel|DRUG: carboplatin|DRUG: gefitinib|RADIATION: radiation therapy|OTHER: laboratory biomarker analysis",
            "DRUG: M7824",
            "DRUG: alvocidib|DRUG: fludarabine phosphate|BIOLOGICAL: rituximab|OTHER: pharmacological study",
            "DRUG: cilengitide|OTHER: laboratory biomarker analysis",
            "DRUG: Akt Inhibitor MK2206|DRUG: Anastrozole|DRUG: Fulvestrant|OTHER: Laboratory Biomarker Analysis",
            "RADIATION: HDR Brachytherapy",
            "BIOLOGICAL: aldesleukin|BIOLOGICAL: incomplete Freund's adjuvant|BIOLOGICAL: p53 peptide vaccine|BIOLOGICAL: sargramostim|BIOLOGICAL: therapeutic autologous dendritic cells|PROCEDURE: in vitro-treated peripheral blood stem cell transplantation",
            "DRUG: Romidepsin|DRUG: Lenalidomide|DRUG: CC-486 (5-azacitidine)|DRUG: Dexamethasone",
            "BIOLOGICAL: trastuzumab|DRUG: paclitaxel|DRUG: carboplatin|DRUG: gemcitabine hydrochloride|OTHER: laboratory biomarker analysis",
            "GENETIC: proteomic profiling",
            "DRUG: FDG-PET|DRUG: Pemetrexed|DRUG: Sirolimus|DIETARY_SUPPLEMENT: Vitamin B12|DIETARY_SUPPLEMENT: Folic acid tablets|DRUG: Dexamethasone tablets",
            "DRUG: 9-aminocamptothecin",
            "OTHER: Laboratory Biomarker Analysis|DRUG: Trametinib|DRUG: Uprosertib",
            "BIOLOGICAL: recombinant fowlpox-TRICOM vaccine|OTHER: laboratory biomarker analysis",
            "DIETARY_SUPPLEMENT: Selenium|OTHER: Placebo|OTHER: Laboratory Biomarker Analysis|OTHER: Pharmacological Study|DRUG: Methylselenocysteine",
            "PROCEDURE: Biopsy|OTHER: Blood Sample|PROCEDURE: Bone Scan|PROCEDURE: Computed Tomography|DRUG: Entinostat|BIOLOGICAL: Ipilimumab|BIOLOGICAL: Nivolumab|OTHER: Pharmacogenomic Study|OTHER: Pharmacological Study|PROCEDURE: Positron Emission Tomography",
            "DRUG: Erlotinib|DRUG: Erlotinib Hydrochloride",
            "DRUG: Bortezomib|OTHER: Laboratory Biomarker Analysis|DRUG: Tipifarnib",
            "PROCEDURE: Biospecimen Collection|BIOLOGICAL: Blinatumomab|PROCEDURE: Bone Marrow Aspiration and Biopsy|DRUG: Cyclophosphamide|DRUG: Cytarabine|DRUG: Dasatinib|DRUG: Dexamethasone|DRUG: Doxorubicin Hydrochloride|PROCEDURE: Echocardiography|PROCEDURE: Electrocardiography|PROCEDURE: Lumbar Puncture|DRUG: Mesna|DRUG: Methotrexate|PROCEDURE: Multigated Acquisition Scan|DRUG: Ponatinib Hydrochloride|DRUG: Prednisone|DRUG: Vincristine Sulfate",
            "PROCEDURE: Biospecimen Collection|OTHER: Laboratory Biomarker Analysis|OTHER: Patient Observation|BIOLOGICAL: Pembrolizumab|OTHER: Quality-of-Life Assessment|OTHER: Questionnaire Administration|RADIATION: Radiation Therapy",
            "BIOLOGICAL: Cixutumumab|DRUG: Doxorubicin Hydrochloride|OTHER: Laboratory Biomarker Analysis",
            "DRUG: 17 allylamino-17-demethoxygeldanamycin|DRUG: 18 FDG (Fludeoxyglucose 18F)|DRUG: [15-O] H2O|DRUG: EPL diluent",
            "PROCEDURE: Biospecimen Collection|PROCEDURE: Bone Marrow Aspiration and Biopsy|PROCEDURE: Computed Tomography|PROCEDURE: Magnetic Resonance Imaging|PROCEDURE: Positron Emission Tomography|PROCEDURE: Radionuclide Imaging|DRUG: Tipifarnib",
            "BIOLOGICAL: recombinant interleukin-12|BIOLOGICAL: ABI-007/carboplatin/trastuzumab",
            "PROCEDURE: Biospecimen Collection|PROCEDURE: Computed Tomography|DRUG: Entinostat|DRUG: Exemestane|DRUG: Goserelin|DRUG: Goserelin Acetate|PROCEDURE: Magnetic Resonance Imaging|OTHER: Placebo Administration|OTHER: Quality-of-Life Assessment",
            "DRUG: sunitinib malate|OTHER: pharmacological study|PROCEDURE: dynamic contrast-enhanced magnetic resonance imaging|OTHER: laboratory biomarker analysis",
            "DRUG: Abemaciclib",
            "DRUG: Birinapant|RADIATION: Intensity-Modulated Radiation Therapy",
            "BIOLOGICAL: Gardasil|BEHAVIORAL: Survey",
            "BIOLOGICAL: cixutumumab|DRUG: temsirolimus|OTHER: pharmacological study|OTHER: laboratory biomarker analysis",
            "DRUG: Cisplatin|PROCEDURE: Computed Tomography|RADIATION: Fludeoxyglucose F-18|OTHER: Fluorothymidine F-18|DRUG: Irinotecan Hydrochloride|PROCEDURE: Positron Emission Tomography|PROCEDURE: Therapeutic Conventional Surgery",
            "DRUG: Gemcitabine Hydrochloride|BIOLOGICAL: Pembrolizumab",
            "BIOLOGICAL: Botulinum toxin type A|OTHER: Placebo",
            "DRUG: M7824|DRUG: N803|BIOLOGICAL: TriAd vaccine",
            "PROCEDURE: Biospecimen Collection|PROCEDURE: Bone Marrow Biopsy|PROCEDURE: Computed Tomography|DRUG: Ibrutinib|BIOLOGICAL: Obinutuzumab|OTHER: Quality-of-Life Assessment|DRUG: Venetoclax",
            "DRUG: DMS 612",
            "DRUG: Fludarabine|DRUG: Cyclophosphamide|OTHER: IL-12 &amp; Anti-NY ESO1 TCR PBL",
            "PROCEDURE: Biopsy|DRUG: Carboplatin|DRUG: Ipatasertib|DRUG: Paclitaxel",
            "PROCEDURE: Biospecimen Collection|PROCEDURE: Bone Marrow Aspiration|PROCEDURE: Bone Marrow Biopsy|PROCEDURE: Computed Tomography|PROCEDURE: Magnetic Resonance Imaging|DRUG: Venetoclax",
            "DRUG: Defactinib Hydrochloride",
            "PROCEDURE: Biospecimen Collection|PROCEDURE: Computed Tomography|PROCEDURE: Magnetic Resonance Imaging|OTHER: Pharmacodynamic Study|PROCEDURE: Positron Emission Tomography|DRUG: Telaglenastat Hydrochloride",
            "DRUG: SU101",
            "DRUG: iseganan HCl oral solution|PROCEDURE: management of therapy complications",
            "DRUG: Vismodegib|OTHER: Pharmacological Study|OTHER: Laboratory Biomarker Analysis",
            "BIOLOGICAL: Bevacizumab|DRUG: Cisplatin|DRUG: Gemcitabine Hydrochloride|OTHER: Laboratory Biomarker Analysis|OTHER: Placebo Administration",
            "DRUG: 1-methyl-d-tryptophan|OTHER: pharmacological study|OTHER: laboratory biomarker analysis",
            "DRUG: vorinostat|DRUG: vorinostat",
            "DRUG: entinostat|DRUG: clofarabine|OTHER: pharmacological study|OTHER: laboratory biomarker analysis",
            "RADIATION: 3-Dimensional Conformal Radiation Therapy|PROCEDURE: Cognitive Assessment|OTHER: Laboratory Biomarker Analysis|DRUG: Temozolomide|DRUG: Vorinostat",
            "BIOLOGICAL: Bevacizumab|OTHER: Laboratory Biomarker Analysis|DRUG: Octreotide Acetate|BIOLOGICAL: Recombinant Interferon Alfa-2b",
            "BIOLOGICAL: aldesleukin|BIOLOGICAL: ras peptide cancer vaccine|BIOLOGICAL: sargramostim|DRUG: DetoxPC",
            "DRUG: Berzosertib|PROCEDURE: Biopsy Specimen|PROCEDURE: Biospecimen Collection|PROCEDURE: Computed Tomography|DRUG: Irinotecan Hydrochloride",
            "PROCEDURE: Biospecimen Collection|PROCEDURE: Computed Tomography|PROCEDURE: Magnetic Resonance Imaging|DRUG: Olaparib|BIOLOGICAL: Tremelimumab",
            "BIOLOGICAL: cetuximab|OTHER: placebo|DRUG: sorafenib tosylate|OTHER: laboratory biomarker analysis|PROCEDURE: quality-of-life assessment",
            "DRUG: BMS-214662|OTHER: laboratory biomarker analysis",
            "DRUG: isolated perfusion|DRUG: melphalan",
            "DRUG: Bowman-Birk inhibitor concentrate|OTHER: placebo|OTHER: laboratory biomarker analysis",
            "PROCEDURE: Biopsy|PROCEDURE: Biospecimen Collection|PROCEDURE: Computed Tomography|PROCEDURE: Magnetic Resonance Imaging|DRUG: Olaparib",
            "PROCEDURE: bronchoscopic and lung imaging studies|PROCEDURE: comparison of screening methods|PROCEDURE: computed tomography|PROCEDURE: radiography|PROCEDURE: study of high risk factors",
            "BIOLOGICAL: bevacizumab|DRUG: idarubicin|DRUG: cytarabine",
            "PROCEDURE: Biospecimen Collection|PROCEDURE: Computed Tomography|DRUG: Everolimus|DRUG: Lutetium Lu 177 Dotatate|OTHER: Quality-of-Life Assessment|OTHER: Questionnaire Administration",
            "DRUG: alvocidib|DRUG: irinotecan hydrochloride|DRUG: fluorouracil|DRUG: leucovorin calcium|OTHER: laboratory biomarker analysis",
            "DRUG: Carboplatin|OTHER: Fluorothymidine F-18|OTHER: Laboratory Biomarker Analysis|OTHER: Pharmacological Study|PROCEDURE: Positron Emission Tomography|DRUG: Veliparib",
            "DRUG: Cabozantinib S-malate|PROCEDURE: Computed Tomography|PROCEDURE: Magnetic Resonance Imaging|OTHER: Placebo Administration|OTHER: Quality-of-Life Assessment|PROCEDURE: X-Ray Imaging",
            "DRUG: alvocidib|OTHER: laboratory biomarker analysis",
            "DRUG: Gamma-Secretase Inhibitor RO4929097|DRUG: Ketoconazole|DRUG: Rifampin|DRUG: Midazolam Hydrochloride|DRUG: Omeprazole|DRUG: Tolbutamide|DRUG: Dextromethorphan Hydrobromide|OTHER: Pharmacological Study|OTHER: Laboratory Biomarker Analysis",
            "DRUG: Carmustine|OTHER: Laboratory Biomarker Analysis|DRUG: O6-Benzylguanine",
            "DRUG: Cyclophosphamide|DRUG: Doxorubicin hydrochloride|DRUG: vincristine sulfate|DRUG: prednisone|DRUG: SGN-30",
            "OTHER: Laboratory Biomarker Analysis|OTHER: Placebo Administration|OTHER: Quality-of-Life Assessment|DRUG: Temozolomide|DRUG: Veliparib",
            "PROCEDURE: Bone Scan|DRUG: Cabozantinib S-malate|PROCEDURE: Computed Tomography|BIOLOGICAL: Ipilimumab|PROCEDURE: Magnetic Resonance Imaging|BIOLOGICAL: Nivolumab|PROCEDURE: Positron Emission Tomography",
            "DRUG: Paclitaxel|RADIATION: Radiation Therapy|BIOLOGICAL: Trastuzumab",
            "PROCEDURE: Biopsy|PROCEDURE: Biospecimen Collection|PROCEDURE: Bone Marrow Aspiration and Biopsy|PROCEDURE: Bone Scan|PROCEDURE: Computed Tomography|DRUG: Ensartinib|DRUG: Erdafitinib|OTHER: Laboratory Biomarker Analysis|DRUG: Larotrectinib Sulfate|PROCEDURE: Magnetic Resonance Imaging|PROCEDURE: Mutation Carrier Screening|DRUG: Olaparib|DRUG: Palbociclib|OTHER: Pharmacological Study|PROCEDURE: Positron Emission Tomography|PROCEDURE: Radionuclide Imaging|DRUG: Samotolisib|DRUG: Selpercatinib|DRUG: Selumetinib Sulfate|DRUG: Tazemetostat|DRUG: Tipifarnib|DRUG: Ulixertinib|DRUG: Vemurafenib|PROCEDURE: X-Ray Imaging",
            "PROCEDURE: adjuvant therapy|RADIATION: iodine I 125",
            "DRUG: etanidazole|PROCEDURE: therapeutic conventional surgery|OTHER: laboratory biomarker analysis",
            "BIOLOGICAL: Bevacizumab|OTHER: Laboratory Biomarker Analysis|DRUG: Temsirolimus|PROCEDURE: Therapeutic Conventional Surgery",
            "BIOLOGICAL: PROSTVAC",
            "DRUG: Acolbifene Hydrochloride|PROCEDURE: Biospecimen Collection|PROCEDURE: Mammography|PROCEDURE: Random Periareolar Fine-Needle Aspiration|DRUG: Tamoxifen",
            "DRUG: Azacitidine|DRUG: Cytarabine|DRUG: Decitabine|OTHER: Laboratory Biomarker Analysis|DRUG: Midostaurin|BIOLOGICAL: Nivolumab",
            "DRUG: sulindac|OTHER: placebo",
            "BIOLOGICAL: recombinant fowlpox-prostate specific antigen vaccine|BIOLOGICAL: recombinant vaccinia prostate-specific antigen vaccine|BIOLOGICAL: recombinant vaccinia-B7.1 vaccine|BIOLOGICAL: sargramostim|DRUG: docetaxel",
            "DRUG: Akt inhibitor MK2206|DRUG: selumetinib|OTHER: laboratory biomarker analysis",
            "DRUG: Decitabine/cedazuridine",
            "DRUG: pentetic acid calcium|RADIATION: yttrium Y 90 daclizumab",
            "BIOLOGICAL: Recombinant Fowlpox-CEA(6D)/TRICOM Vaccine|BIOLOGICAL: Recombinant Interferon Alfa-2b|BIOLOGICAL: Recombinant Vaccinia-CEA(6D)-TRICOM Vaccine|BIOLOGICAL: Sargramostim",
            "PROCEDURE: Computed Tomography|DRUG: F-18 16 Alpha-Fluoroestradiol|OTHER: Laboratory Biomarker Analysis|PROCEDURE: Positron Emission Tomography",
            "DRUG: M7824|DRUG: Gemcitabine",
            "DRUG: M7824|DRUG: Topotecan|DRUG: Temozolomide",
            "DRUG: Erlotinib Hydrochloride|OTHER: Laboratory Biomarker Analysis|DRUG: Tivantinib",
            "DRUG: cediranib maleate|OTHER: laboratory biomarker analysis|PROCEDURE: computed tomography|PROCEDURE: dynamic contrast-enhanced magnetic resonance imaging|OTHER: pharmacological study",
            "DRUG: sunitinib malate|OTHER: pharmacological study",
            "DRUG: Azacitidine|DRUG: Entinostat|OTHER: Laboratory Biomarker Analysis|OTHER: Pharmacological Study|PROCEDURE: Therapeutic Conventional Surgery",
            "DRUG: enzalutamide|DRUG: CRLX101",
            "OTHER: Laboratory Biomarker Analysis|OTHER: Pharmacological Study|DRUG: Tivantinib",
            "DRUG: irinotecan hydrochloride|DRUG: thalidomide|OTHER: pharmacological study",
            "DRUG: metformin hydrochloride|OTHER: placebo",
            "OTHER: Laboratory Biomarker Analysis|DRUG: Onalespib|DRUG: Paclitaxel|OTHER: Pharmacological Study",
            "DRUG: Tivozanib",
            "PROCEDURE: Contrast-enhanced Magnetic Resonance Imaging|BIOLOGICAL: Ipilimumab|BIOLOGICAL: Nivolumab|DEVICE: NovoTTF-100A Device|OTHER: Quality-of-Life Assessment|OTHER: Questionnaire Administration|RADIATION: Radiation Therapy|DRUG: Temozolomide",
            "DRUG: Melphalan|DRUG: Floxuridine|DRUG: Leucovorin",
            "DRUG: bryostatin 1|DRUG: temsirolimus",
            "DRUG: Micellar Paclitaxel",
            "DRUG: irinotecan hydrochloride|DRUG: oxaliplatin|DRUG: leucovorin calcium|DRUG: fluorouracil|BIOLOGICAL: cetuximab|DRUG: Locally Directed Therapy",
            "DRUG: gamma-secretase/Notch signalling pathway inhibitor RO4929097|DRUG: capecitabine|OTHER: laboratory biomarker analysis",
            "DRUG: Amifostine trihydrate|RADIATION: Radiation therapy",
            "DRUG: MLN4924|DRUG: Etoposide|DRUG: Prednisone|DRUG: Vincristine|DRUG: Cyclophosphamide|DRUG: Doxorubicin|DRUG: Rituximab|DRUG: Filgrastim",
            "PROCEDURE: Biospecimen Collection|PROCEDURE: Computed Tomography|PROCEDURE: Magnetic Resonance Imaging|BIOLOGICAL: Pembrolizumab|DRUG: Tazemetostat",
            "DRUG: Atezolizumab|PROCEDURE: Biospecimen Collection|PROCEDURE: Computed Tomography|RADIATION: Hypofractionated Radiation Therapy|PROCEDURE: Magnetic Resonance Imaging",
            "BIOLOGICAL: Denosumab|PROCEDURE: Salpingo-Oophorectomy",
            "PROCEDURE: Single fraction radiation|BIOLOGICAL: Donor Lymphocyte Infusion (DLI)|PROCEDURE: Apheresis",
            "DRUG: Carboplatin|DRUG: Paclitaxel|DRUG: Talazoparib",
            "DRUG: rosiglitazone maleate|OTHER: laboratory biomarker analysis",
            "DRUG: oxaliplatin|DRUG: capecitabine|PROCEDURE: therapeutic conventional surgery|OTHER: laboratory biomarker analysis",
            "DRUG: Aldesleukin|DRUG: Fludarabine|DRUG: Cyclophosphamide|BIOLOGICAL: KRAS TCR-Transduced PBL|BIOLOGICAL: GRT-C903/GRT-R904",
            "PROCEDURE: Biospecimen Collection",
            "DRUG: paclitaxel|DRUG: carboplatin|DRUG: motexafin gadolinium|PROCEDURE: conventional surgery|RADIATION: radiation therapy",
            "OTHER: Laboratory Biomarker Analysis|DRUG: Veliparib",
            "PROCEDURE: Biopsy|PROCEDURE: Biospecimen Collection|PROCEDURE: Computed Tomography|DRUG: Dabrafenib Mesylate|PROCEDURE: Magnetic Resonance Imaging|DRUG: Trametinib Dimethyl Sulfoxide|DRUG: Uprosertib",
            "DRUG: capecitabine|DRUG: oxaliplatin",
            "DRUG: alvocidib|DRUG: leucovorin calcium|DRUG: fluorouracil|DRUG: irinotecan hydrochloride",
            "DRUG: Minnelide",
            "DRUG: caspofungin acetate",
            "DRUG: fluorouracil|DRUG: eniluracil",
            "DRUG: Cisplatin|DRUG: Dexrazoxane|DRUG: Doxorubicin Hydrochloride|DRUG: Fluorouracil|DRUG: Irinotecan Hydrochloride|OTHER: Laboratory Biomarker Analysis|PROCEDURE: Liver Transplantation|DRUG: Temsirolimus|PROCEDURE: Therapeutic Conventional Surgery|DRUG: Vincristine Sulfate",
            "DRUG: sorafenib",
            "DRUG: Recombinant human Interleukin-15 (rhIL-15)|BIOLOGICAL: Mogamulizumab",
            "BIOLOGICAL: rituximab|BIOLOGICAL: recombinant interleukin-12|OTHER: laboratory biomarker analysis|OTHER: questionnaire administration|PROCEDURE: quality-of-life assessment",
            "BIOLOGICAL: Ipilimumab|OTHER: Laboratory Biomarker Analysis|BIOLOGICAL: Nivolumab|DRUG: Temozolomide",
            "BIOLOGICAL: Bevacizumab|DRUG: Pazopanib Hydrochloride|DRUG: Sorafenib Tosylate|DRUG: Sunitinib Malate|BIOLOGICAL: Trebananib",
            "DRUG: alvocidib|DRUG: docetaxel",
            "DRUG: cediranib maleate|RADIATION: whole-brain radiation therapy",
            "DRUG: imatinib mesylate|DRUG: decitabine|OTHER: laboratory biomarker analysis",
            "DRUG: YM155|DRUG: Carboplatin|DRUG: Paclitaxel",
            "DRUG: Durvalumab|DRUG: Tremelimumab|BIOLOGICAL: Pexa-Vec|BIOLOGICAL: Pexa-Vec",
            "DRUG: Lurbinectedin|DRUG: Berzosertib",
            "OTHER: Laboratory Biomarker Analysis|OTHER: Pharmacological Study|DRUG: Temsirolimus|BIOLOGICAL: Trebananib",
            "PROCEDURE: Bone Marrow Biopsy|BIOLOGICAL: Epoetin Alfa|OTHER: Laboratory Biomarker Analysis|DRUG: Lenalidomide",
            "OTHER: placebo|DRUG: eflornithine|DRUG: sulindac|OTHER: laboratory biomarker analysis",
            "PROCEDURE: Biospecimen Collection|PROCEDURE: Bone Scan|DRUG: Cabozantinib S-malate|PROCEDURE: Computed Tomography|DRUG: Crizotinib|DRUG: Savolitinib|DRUG: Sunitinib Malate",
            "BIOLOGICAL: Anetumab Ravtansine|OTHER: Laboratory Biomarker Analysis|BIOLOGICAL: Pembrolizumab|OTHER: Pharmacological Study",
            "DRUG: alvocidib|DRUG: vorinostat",
            "PROCEDURE: Biospecimen Collection|BIOLOGICAL: Ipilimumab|BIOLOGICAL: Nivolumab",
            "DRUG: Th2 cells in allo HSCTT|DRUG: Th2 Cells",
            "DRUG: CHOP regimen|DRUG: doxorubicin hydrochloride|DRUG: etoposide|DRUG: leucovorin calcium|DRUG: methotrexate",
            "DRUG: vorinostat|DRUG: temozolomide|PROCEDURE: magnetic resonance spectroscopic imaging|OTHER: survey administration",
            "DRUG: Eribulin Mesylate|OTHER: Laboratory Biomarker Analysis|OTHER: Pharmacological Study",
            "DRUG: idarubicin|DRUG: cytarabine|BIOLOGICAL: bevacizumab|OTHER: laboratory biomarker analysis",
            "BIOLOGICAL: oblimersen sodium|DRUG: paclitaxel|OTHER: laboratory biomarker analysis|OTHER: pharmacological study",
            "DRUG: Hsp90 Inhibitor AT13387|OTHER: Laboratory Biomarker Analysis|OTHER: Pharmacological Study|DRUG: Talazoparib",
            "DRUG: PS-341|DRUG: Etoposide|DRUG: Doxorubicin|DRUG: Vincristine|DRUG: Cyclophosphamide|DRUG: Prednisone|DRUG: Filgrastim",
            "OTHER: Laboratory Biomarker Analysis|DRUG: Nelipepimut-S Plus GM-CSF Vaccine|BIOLOGICAL: Sargramostim|PROCEDURE: Surgical Procedure",
            "PROCEDURE: Biopsy|PROCEDURE: Biospecimen Collection|DRUG: Cediranib Maleate|PROCEDURE: Computed Tomography|PROCEDURE: Echocardiography|PROCEDURE: Magnetic Resonance Imaging|PROCEDURE: Multigated Acquisition Scan|DRUG: Olaparib|OTHER: Questionnaire Administration",
            "DRUG: arsenic trioxide|RADIATION: radiation therapy",
            "PROCEDURE: Computed Tomography|PROCEDURE: Magnetic Resonance Imaging|DRUG: Pazopanib Hydrochloride|OTHER: Placebo Administration|OTHER: Questionnaire Administration",
            "BIOLOGICAL: Anti-NY ESO-1 T-cell receptor PBL|DRUG: aldesleukin|DRUG: Cyclophosphamide|DRUG: fludarabine phosphate|BIOLOGICAL: ALVAC NY ESO-1 vaccine",
            "DRUG: EPOCH-R|DRUG: EPOCH-RR",
            "DRUG: selumetinib|DRUG: Akt inhibitor MK2206|OTHER: laboratory biomarker analysis|OTHER: pharmacogenomic studies|PROCEDURE: quality-of-life assessment",
            "DRUG: EF5|PROCEDURE: therapeutic conventional surgery|PROCEDURE: biopsy|OTHER: pharmacological study",
            "DRUG: docetaxel|DRUG: bortezomib|OTHER: laboratory biomarker analysis|OTHER: immunoenzyme technique|OTHER: immunohistochemistry staining method|OTHER: pharmacological study",
            "DRUG: Sunitinib|DEVICE: wGT3x-BT",
            "BIOLOGICAL: Alemtuzumab",
            "BIOLOGICAL: recombinant vaccinia-B7.1 vaccine",
            "DRUG: decitabine|DRUG: romidepsin",
            "DRUG: gp100 antigen|DRUG: interleukin-2",
            "DRUG: temsirolimus|DRUG: selumetinib|OTHER: laboratory biomarker analysis",
            "DRUG: EZN-2208|DRUG: Bevacizumab",
            "DRUG: Docetaxel|OTHER: Laboratory Biomarker Analysis|OTHER: Pharmacological Study|DRUG: PI3Kbeta Inhibitor AZD8186",
            "DRUG: Isavuconazole|DRUG: TEDDI|BIOLOGICAL: Rituximab|DRUG: Cytarabine|DRUG: TEDD|DRUG: Ibrutinib (Arms 2, 3 and 4)|DRUG: Methotrexate|DRUG: Ibrutinib (Arm 1 - Closed with Amendment G)|DRUG: Ibrutinib (Arm 4)",
            "BIOLOGICAL: cetuximab|DRUG: bortezomib|DRUG: cisplatin|RADIATION: intensity-modulated radiation therapy",
            "DRUG: vorinostat|DRUG: bevacizumab",
            "DRUG: nelarabine|OTHER: pharmacological study",
            "OTHER: Clinical Observation|DRUG: Erlotinib Hydrochloride|OTHER: Laboratory Biomarker Analysis|OTHER: Placebo Administration",
            "BIOLOGICAL: oblimersen sodium|OTHER: pharmacological study|OTHER: laboratory biomarker analysis",
            "BIOLOGICAL: monoclonal antibody Ch14.18|DRUG: isotretinoin|BIOLOGICAL: aldesleukin|BIOLOGICAL: sargramostim",
            "DRUG: resveratrol|OTHER: pharmacological study|OTHER: laboratory biomarker analysis",
            "PROCEDURE: Computed Tomography|PROCEDURE: Magnetic Resonance Imaging|DRUG: Tazemetostat",
            "DRUG: leucovorin calcium|DRUG: fluorouracil|DRUG: oxaliplatin|OTHER: laboratory biomarker analysis",
            "BIOLOGICAL: bevacizumab|DRUG: cediranib maleate",
            "OTHER: Specimen collection",
            "DRUG: Adavosertib|DRUG: Belinostat|OTHER: Laboratory Biomarker Analysis|OTHER: Pharmacological Study",
            "PROCEDURE: adjuvant therapy|DRUG: paclitaxel|DRUG: carboplatin|BIOLOGICAL: bevacizumab",
            "PROCEDURE: Biopsy|PROCEDURE: Biospecimen Collection|PROCEDURE: Computed Tomography|DRUG: Defined Green Tea Catechin Extract|OTHER: Laboratory Biomarker Analysis|PROCEDURE: Magnetic Resonance Imaging|OTHER: Pharmacological Study|OTHER: Questionnaire Administration|PROCEDURE: Ultrasound",
            "DRUG: daunorubicin hydrochloride|DRUG: cytarabine|DRUG: bortezomib",
            "DRUG: Carboplatin|PROCEDURE: Echocardiography|DRUG: Hyaluronidase-zzxf/Pertuzumab/Trastuzumab|PROCEDURE: Multigated Acquisition Scan|DRUG: Paclitaxel|OTHER: Quality-of-Life Assessment|DRUG: Trastuzumab/Hyaluronidase-oysk",
            "DRUG: Berzosertib|OTHER: Quality-of-Life Assessment|PROCEDURE: Therapeutic Conventional Surgery|RADIATION: Whole-Brain Radiotherapy",
            "DRUG: Alvocidib Hydrochloride|DRUG: Lenalidomide|OTHER: Pharmacological Study|OTHER: Laboratory Biomarker Analysis",
            "DRUG: Epacadostat|OTHER: Laboratory Biomarker Analysis|PROCEDURE: Therapeutic Conventional Surgery",
            "BIOLOGICAL: HspE7|OTHER: placebo|OTHER: laboratory biomarker analysis",
            "DRUG: decitabine",
            "OTHER: Laboratory Biomarker Analysis|BIOLOGICAL: MUC1 Peptide-Poly-ICLC Vaccine|OTHER: Quality-of-Life Assessment|OTHER: Saline",
            "DRUG: Belinostat|DRUG: Pevonedistat",
            "DRUG: Bortezomib|OTHER: Laboratory Biomarker Analysis|OTHER: Questionnaire Administration",
            "PROCEDURE: PBSC|DRUG: IL-2|DRUG: EPOCH II",
            "OTHER: low fat, high fiber, high fruit and vegetable eating plan",
            "DRUG: Aldesleukin|BIOLOGICAL: E6 T Cell Receptor (TCR)",
            "DRUG: cisplatin|DRUG: alvocidib|DRUG: cisplatin/flavopiridol",
            "DRUG: erlotinib hydrochloride|BIOLOGICAL: cetuximab|BIOLOGICAL: bevacizumab|OTHER: laboratory biomarker analysis",
            "DRUG: Cetuximab|DRUG: AZD6244",
            "PROCEDURE: Biopsy|PROCEDURE: Biospecimen Collection|PROCEDURE: Computed Tomography|OTHER: Laboratory Biomarker Analysis|BIOLOGICAL: Nivolumab|PROCEDURE: Positron Emission Mammography|BIOLOGICAL: Talimogene Laherparepvec",
            "DRUG: doxorubicin HCl liposome",
            "DRUG: rV-CEA(6D)/TRICOM-rF-CEA(6D)/TRICOM|DRUG: rF-CEA(6D)/TRICOM|DRUG: Recombinant Fowlpox-GM-CSF|DRUG: Celecoxib",
            "PROCEDURE: Biospecimen Collection|PROCEDURE: HPV Self-Collection|OTHER: Questionnaire Administration|BIOLOGICAL: Recombinant Human Papillomavirus Nonavalent Vaccine",
            "DRUG: Cyclophosphamide|DRUG: Doxorubicin Hydrochloride|DRUG: Etoposide|BIOLOGICAL: Filgrastim|DRUG: Ibrutinib|OTHER: Laboratory Biomarker Analysis|BIOLOGICAL: Pegfilgrastim|OTHER: Pharmacological Study|DRUG: Prednisone|BIOLOGICAL: Rituximab|DRUG: Vincristine Sulfate",
            "DRUG: [F-18]-5-FLUORO-2'-DEOXYCYTIDINE|DRUG: Tetrahydrouridine intravenous (IV)|DRUG: Tetrahydrouridine (oral)|DIAGNOSTIC_TEST: Positron emission tomography (PET)/Computed tomography (CT)",
            "BIOLOGICAL: Rituximab|DRUG: Cyclosporine|DRUG: Allogenic stem cell transplant (ASCT)|DRUG: Conditioning Chemotherapy|DRUG: TMS|DRUG: FLAG|DRUG: EPOCH-F|BIOLOGICAL: Alemtuzumab",
            "DRUG: durvalumab|DRUG: Doxorubicin-Eluting Beads|PROCEDURE: TACE|DRUG: bevacizumab|DRUG: Tremelimumab",
            "DRUG: liposomal doxorubicin|DRUG: pomalidomide",
            "PROCEDURE: Biopsy|PROCEDURE: Biospecimen Collection|PROCEDURE: Computed Tomography|PROCEDURE: Magnetic Resonance Imaging|BIOLOGICAL: Magrolimab|DRUG: Olaparib",
            "OTHER: Laboratory Biomarker Analysis|DRUG: Sorafenib Tosylate",
            "PROCEDURE: Biospecimen Collection|DRUG: Olaparib|RADIATION: Radiation Therapy|OTHER: Survey Administration",
            "PROCEDURE: Allogeneic Hematopoietic Stem Cell Transplantation|DRUG: Cyclophosphamide|DRUG: Cytarabine|DRUG: Dasatinib|DRUG: Dexamethasone|DRUG: Doxorubicin Hydrochloride|DRUG: Etoposide|BIOLOGICAL: Filgrastim|OTHER: Laboratory Biomarker Analysis|DRUG: Leucovorin Calcium|DRUG: Methotrexate|DRUG: Methylprednisolone|PROCEDURE: Peripheral Blood Stem Cell Transplantation|DRUG: Prednisone|DRUG: Sirolimus|DRUG: Tacrolimus|RADIATION: Total-Body Irradiation|DRUG: Vincristine Sulfate",
            "DRUG: Carboplatin|DRUG: Cisplatin|PROCEDURE: Computed Tomography|BIOLOGICAL: Durvalumab|PROCEDURE: Magnetic Resonance Imaging|DRUG: Methoxyamine|DRUG: Pemetrexed|PROCEDURE: Positron Emission Tomography|RADIATION: Radiation Therapy",
            "DRUG: Bevacizumab|DRUG: Ixabepilone",
            "BIOLOGICAL: aldesleukin|BIOLOGICAL: therapeutic tumor infiltrating lymphocytes|BIOLOGICAL: trastuzumab|DRUG: paclitaxel|PROCEDURE: conventional surgery",
            "OTHER: Laboratory Biomarker Analysis|DRUG: Pegylated Liposomal Doxorubicin Hydrochloride|OTHER: Pharmacological Study|DRUG: Veliparib",
            "PROCEDURE: Biospecimen Collection|PROCEDURE: Bone Marrow Aspiration and Biopsy|DRUG: Carfilzomib|DRUG: Dexamethasone|DRUG: Dexamethasone Sodium Phosphate|PROCEDURE: Echocardiography|DRUG: Lenalidomide|DRUG: Navtemadlin",
            "DRUG: vorinostat|DRUG: temozolomide|OTHER: diagnostic laboratory biomarker analysis|OTHER: pharmacological study",
            "RADIATION: Radiation Therapy",
            "RADIATION: 3-Dimensional Conformal Radiation Therapy|DRUG: Carboplatin|RADIATION: Image Guided Radiation Therapy|RADIATION: Intensity-Modulated Radiation Therapy|OTHER: Laboratory Biomarker Analysis|DRUG: Paclitaxel|OTHER: Pharmacological Study|DRUG: Trametinib",
            "RADIATION: 3-Dimensional Conformal Radiation Therapy|DRUG: Cediranib Maleate|RADIATION: Intensity-Modulated Radiation Therapy|OTHER: Laboratory Biomarker Analysis|OTHER: Placebo Administration|DRUG: Temozolomide",
            "PROCEDURE: Biopsy|PROCEDURE: Biospecimen Collection|DRUG: Cyclophosphamide|PROCEDURE: Echocardiography|DRUG: Fludarabine Phosphate|BIOLOGICAL: GD2-CAR-expressing Autologous T-lymphocytes|PROCEDURE: Imaging Technique|PROCEDURE: Magnetic Resonance Imaging of the Heart|PROCEDURE: Multigated Acquisition Scan",
            "PROCEDURE: Biospecimen Collection|PROCEDURE: Bone Marrow Aspirate|PROCEDURE: Bone Marrow Biopsy|DRUG: Capivasertib|DRUG: Cediranib|DRUG: Cediranib Maleate|PROCEDURE: Computed Tomography|BIOLOGICAL: Durvalumab|PROCEDURE: Echocardiography|PROCEDURE: Multigated Acquisition Scan|DRUG: Olaparib",
            "DRUG: Rifaximin|OTHER: Placebo",
            "DRUG: sorafenib tosylate|DRUG: tipifarnib|DRUG: temsirolimus",
            "BIOLOGICAL: Anti-Endoglin Chimeric Monoclonal Antibody TRC105|BIOLOGICAL: Bevacizumab|OTHER: Laboratory Biomarker Analysis|OTHER: Pharmacological Study|OTHER: Quality-of-Life Assessment",
            "BIOLOGICAL: Epigenetically Modified Autologous Tumor|DRUG: Cyclophosphamide|DRUG: Celecoxib",
            "DRUG: fludarabine phosphate|DRUG: cyclophosphamide|BIOLOGICAL: aldesleukin|BIOLOGICAL: autologous anti-gp 100:154-162 T-cell receptor gene-engineered tumor infiltrating lymphocytes|BIOLOGICAL: autologous anti-gp 100:154-162 T-cell receptor gene-engineered peripheral blood lymphocytes",
            "OTHER: Laboratory Biomarker Analysis|OTHER: Pharmacological Study|DRUG: Talazoparib",
            "DRUG: melphalan|DRUG: tumor necrosis factor|DRUG: interferon-gamma|PROCEDURE: hyperthermic isolated limb perfusion",
            "BIOLOGICAL: Cetuximab|BIOLOGICAL: Edodekin alfa|OTHER: Laboratory Biomarker Analysis",
            "BIOLOGICAL: Anti-Cluster of Differentiation (CD)19-Chimeric antigen receptor (CAR)",
            "PROCEDURE: Biopsy|PROCEDURE: Biospecimen Collection|DRUG: Cabozantinib S-malate|PROCEDURE: Computed Tomography|PROCEDURE: Magnetic Resonance Imaging|BIOLOGICAL: Nivolumab",
            "DRUG: vismodegib|OTHER: laboratory biomarker analysis|OTHER: pharmacological study",
            "BIOLOGICAL: Epidermal growth factor receptor(EGFRv)III Chimeric antigen receptor (CAR) transduced PBL|DRUG: Aldesleukin|DRUG: Fludarabine|DRUG: Cyclophosphamide",
            "DRUG: Cytarabine|DRUG: CHK1 Inhibitor SCH 900776|OTHER: Laboratory Biomarker Analysis",
            "DRUG: medroxyprogesterone|DRUG: ethinyl estradiol|DRUG: norgestrel|OTHER: laboratory biomarker analysis",
            "DRUG: etaracizumab|BIOLOGICAL: bevacizumab",
            "DRUG: bevacizumab|DRUG: thalidomide",
            "DRUG: R(+)XK469",
            "DRUG: fluorouracil|DRUG: sodium phenylbutyrate|DRUG: indomethacin|BIOLOGICAL: recombinant interferon gamma",
            "DRUG: Aldesleukin|DRUG: Fludarabine|DRUG: Cyclophosphamide|BIOLOGICAL: Young TIL",
            "DRUG: tipifarnib|OTHER: pharmacological study|OTHER: laboratory biomarker analysis",
            "DRUG: FPAC",
            "DRUG: carboplatin|DRUG: paclitaxel|DRUG: docetaxel|BIOLOGICAL: bevacizumab",
            "DRUG: flt3 ligand|DRUG: gp100 antigen|DRUG: MART-1 antigen|DRUG: Montanide ISA-51|DRUG: tyrosinase peptide",
            "BIOLOGICAL: aldesleukin|BIOLOGICAL: therapeutic autologous lymphocytes|BIOLOGICAL: therapeutic tumor infiltrating lymphocytes",
            "OTHER: Laboratory Biomarker Analysis|DRUG: Perifosine|DRUG: Temsirolimus|PROCEDURE: Therapeutic Conventional Surgery",
            "DRUG: ABT-888|DRUG: Carboplatin|DRUG: Paclitaxel",
            "DRUG: Ibrutinib|OTHER: Laboratory Biomarker Analysis|OTHER: Pharmacogenomic Study|OTHER: Pharmacological Study",
            "DRUG: Broccoli Sprout/Broccoli Seed Extract Supplement|OTHER: Laboratory Biomarker Analysis|OTHER: Questionnaire Administration",
            "DRUG: Metformin",
            "PROCEDURE: Biospecimen Collection|PROCEDURE: Bone Marrow Biopsy|PROCEDURE: Computed Tomography|DRUG: Cyclophosphamide|DRUG: Doxorubicin Hydrochloride|DRUG: Etoposide|PROCEDURE: Lumbar Puncture|PROCEDURE: Positron Emission Tomography|DRUG: Prednisone|BIOLOGICAL: Rituximab|DRUG: Venetoclax|DRUG: Vincristine Sulfate",
            "DRUG: Azacitidine|DRUG: Cytarabine|DRUG: Etoposide Phosphate|OTHER: Laboratory Biomarker Analysis|DRUG: Mitoxantrone Hydrochloride|OTHER: Pharmacological Study",
            "DRUG: Dabrafenib|OTHER: Laboratory Biomarker Analysis|DRUG: Onalespib|OTHER: Pharmacological Study|DRUG: Trametinib",
            "DRUG: Ketaconazole|DRUG: Docetaxel",
            "PROCEDURE: Biospecimen Collection|PROCEDURE: Bone Scan|PROCEDURE: Computed Tomography|PROCEDURE: Magnetic Resonance Imaging|BIOLOGICAL: Pembrolizumab|PROCEDURE: Positron Emission Tomography|OTHER: Questionnaire Administration|RADIATION: Stereotactic Body Radiation Therapy",
            "DRUG: Asparaginase Erwinia chrysanthemi|BIOLOGICAL: Blinatumomab|DRUG: Cyclophosphamide|DRUG: Cytarabine|DRUG: Dexamethasone|DRUG: Doxorubicin Hydrochloride|DRUG: Leucovorin Calcium|DRUG: Mercaptopurine|DRUG: Mercaptopurine Oral Suspension|DRUG: Methotrexate|DRUG: Pegaspargase|DRUG: Prednisolone|DRUG: Prednisone|RADIATION: Radiation Therapy|RADIATION: Radiation Therapy|DRUG: Thioguanine|DRUG: Vincristine Sulfate",
            "DRUG: Pazopanib|DRUG: ARQ 197",
            "DRUG: vismodegib|DRUG: gemcitabine hydrochloride|OTHER: hydrocortisone/placebo",
            "PROCEDURE: Biopsy|PROCEDURE: Biospecimen Collection|DRUG: Placebo Administration|DIETARY_SUPPLEMENT: Urolithin A Supplement",
            "OTHER: Laboratory Biomarker Analysis|BIOLOGICAL: Pegfilgrastim|OTHER: Pharmacological Study|DRUG: Tivantinib|DRUG: Topotecan Hydrochloride",
            "DRUG: Cyclophosphamide|DRUG: Fludarabine|DRUG: Aldesleukin|DRUG: Pembrolizumab (KEYTRUDA(R))|BIOLOGICAL: Individual Patient TCR-Transduced PBL",
            "DRUG: Ferumoxytol",
            "DRUG: ABT-888|DRUG: Cyclophosphamide",
            "OTHER: placebo|DRUG: defined green tea catechin extract",
            "BIOLOGICAL: Bevacizumab|DRUG: Everolimus|OTHER: Laboratory Biomarker Analysis|OTHER: Pharmacological Study",
            "DRUG: Azacitidine|DRUG: Cyclophosphamide|DRUG: Cytarabine|DRUG: Daunorubicin|DRUG: Daunorubicin Hydrochloride|DRUG: Dexamethasone|DRUG: Hydrocortisone Sodium Succinate|OTHER: Laboratory Biomarker Analysis|DRUG: Leucovorin|DRUG: Leucovorin Calcium|DRUG: Mercaptopurine|DRUG: Methotrexate|DRUG: Pegaspargase|OTHER: Pharmacological Study|DRUG: Prednisolone|DRUG: Thioguanine|DRUG: Vincristine|DRUG: Vincristine Sulfate",
            "DRUG: bryostatin 1|DRUG: chemotherapy",
            "BIOLOGICAL: alemtuzumab|DRUG: asparaginase|DRUG: methotrexate|DRUG: dexamethasone|DRUG: leucovorin calcium|DRUG: mercaptopurine|DRUG: vincristine",
            "RADIATION: 3-Dimensional Conformal Radiation Therapy|DRUG: Cisplatin|RADIATION: Intensity-Modulated Radiation Therapy|DRUG: Methoxyamine|DRUG: Methoxyamine Hydrochloride|DRUG: Pemetrexed|DRUG: Pemetrexed Disodium",
            "DRUG: Ixempra (Ixabepilone (BMS-247550) )",
            "DRUG: Bortezomib|DRUG: Decitabine|OTHER: Laboratory Biomarker Analysis|OTHER: Pharmacological Study|OTHER: Quality-of-Life Assessment|OTHER: Questionnaire Administration",
            "DRUG: Exemestane|OTHER: Laboratory Biomarker Analysis|OTHER: Pharmacokinetic Study|OTHER: Questionnaire Administration",
            "OTHER: Laboratory Biomarker Analysis|DRUG: Lapatinib Ditosylate|DRUG: Tamoxifen Citrate",
            "DRUG: saracatinib|OTHER: hydrocortisone/placebo",
            "DRUG: bevacizumab|DRUG: gemcitabine hydrochloride|PROCEDURE: adjuvant therapy|PROCEDURE: anti-cytokine therapy|PROCEDURE: antiangiogenesis therapy|PROCEDURE: antibody therapy|PROCEDURE: biological therapy|PROCEDURE: chemotherapy|PROCEDURE: conventional surgery|PROCEDURE: growth factor antagonist therapy|PROCEDURE: monoclonal antibody therapy|PROCEDURE: surgery",
            "DRUG: Gemcitabine|DRUG: Herceptin|PROCEDURE: Radiation therapy",
            "PROCEDURE: Biopsy|PROCEDURE: Biospecimen Collection|DRUG: Cediranib Maleate|PROCEDURE: Computed Tomography|PROCEDURE: Echocardiography|PROCEDURE: Magnetic Resonance Imaging|PROCEDURE: Multigated Acquisition Scan|DRUG: Olaparib",
            "BIOLOGICAL: AKTi-treated TIL|DRUG: Cyclophosphamide|DRUG: Fludarabine|DRUG: Aldesleukin",
            "DRUG: Fludarabine|DRUG: Cyclophosphamide|BIOLOGICAL: Anti-cluster of differentiation 19 (CD19)-CAR PBL|DRUG: Aldesleukin|DRUG: Fludarabine|DRUG: Cyclophosphamide",
            "DRUG: Cyclophosphamide|DRUG: Paclitaxel|DRUG: Cisplatin|DRUG: G-CSF",
            "BIOLOGICAL: Autologous Monocytes + ACTIMMUNE + SYLATRON",
            "DRUG: Capecitabine|RADIATION: Radiation Therapy|DRUG: Ropidoxuridine",
            "DRUG: [68Ga]Ga-PentixaFor",
            "DRUG: Cyclophosphamide|DRUG: Fludarabine|DRUG: Aldesleukin|BIOLOGICAL: anti-KRAS G12D mTCR PBL",
            "DEVICE: AeroEclipse II Breath Actuated Nebulizer|DRUG: Bintrafusp alfa|DRUG: Azacytidine",
            "DRUG: Cediranib Maleate|DRUG: Cisplatin|OTHER: Laboratory Biomarker Analysis|DRUG: Pemetrexed Disodium|OTHER: Placebo Administration",
            "PROCEDURE: Biospecimen Collection|DRUG: Carboplatin|DRUG: Cisplatin|PROCEDURE: Computed Tomography|PROCEDURE: Echocardiography|DRUG: Gemcitabine Hydrochloride|PROCEDURE: Magnetic Resonance Imaging|OTHER: Observation|DRUG: Paclitaxel|BIOLOGICAL: Pembrolizumab|DRUG: Pemetrexed Disodium|OTHER: Quality-of-Life Assessment|OTHER: Questionnaire Administration",
            "BIOLOGICAL: filgrastim|DRUG: docetaxel",
            "DRUG: Sunitinib|DRUG: Everolimus",
            "DRUG: LMB-2",
            "DRUG: R-(-)-gossypol acetic acid|OTHER: laboratory biomarker analysis",
            "DRUG: 17-N-allylamino-17-demethoxygeldanamycin/bortezomib",
            "DEVICE: OncoE6|DEVICE: EVA System",
            "DRUG: Carboplatin|PROCEDURE: Magnetic Resonance Imaging|OTHER: Quality-of-Life Assessment|OTHER: Questionnaire Administration|DRUG: Selumetinib Sulfate|DRUG: Vincristine Sulfate",
            "DRUG: MK-1775 (AZD1775)",
            "DRUG: ara-C|DRUG: Daunorubicin|DRUG: Etoposide|DRUG: PSC-833|BIOLOGICAL: Aldesleukin",
            "PROCEDURE: Cytoreductive surgery|DRUG: LMB-100|DIAGNOSTIC_TEST: Immunohistochemical Assay for Mesothelin",
            "DRUG: Th2/Tc2 Cells",
            "PROCEDURE: Biopsy|PROCEDURE: Biospecimen Collection|PROCEDURE: Computed Tomography|PROCEDURE: Echocardiography|PROCEDURE: Magnetic Resonance Imaging|PROCEDURE: Radionuclide Imaging|DRUG: Sunitinib",
            "DRUG: celecoxib|PROCEDURE: therapeutic conventional surgery|OTHER: pharmacological study|OTHER: laboratory biomarker analysis",
            "DIETARY_SUPPLEMENT: lycopene|OTHER: pharmacological study",
            "DRUG: erlotinib hydrochloride|DRUG: cisplatin|RADIATION: intensity-modulated radiation therapy|OTHER: laboratory biomarker analysis",
            "BIOLOGICAL: trastuzumab|DRUG: ixabepilone|OTHER: laboratory biomarker analysis",
            "PROCEDURE: Biospecimen Collection|BIOLOGICAL: Blinatumomab|PROCEDURE: Bone Marrow Biopsy|DRUG: Calaspargase Pegol|DRUG: Cyclophosphamide|DRUG: Cytarabine|DRUG: Dasatinib|DRUG: Daunorubicin|DRUG: Doxorubicin|PROCEDURE: Echocardiography|DRUG: Leucovorin|DRUG: Mercaptopurine|DRUG: Methotrexate|PROCEDURE: Multigated Acquisition Scan|DRUG: Pegaspargase|DRUG: Prednisolone|DRUG: Prednisone|RADIATION: Radiation Therapy|DRUG: Thioguanine|DRUG: Vincristine",
            "DRUG: tipifarnib|DRUG: cisplatin|DRUG: gemcitabine hydrochloride|OTHER: laboratory biomarker analysis",
            "DRUG: Cyclophosphamide|DRUG: Fludarabine|BIOLOGICAL: Young Tumor Infiltrating Lymphocytes (TIL)",
            "DRUG: vorinostat|DRUG: idarubicin|OTHER: laboratory biomarker analysis|OTHER: pharmacological study",
            "DRUG: Carboplatin|OTHER: Laboratory Biomarker Analysis|DRUG: Paclitaxel|OTHER: Pharmacological Study|OTHER: Placebo|DRUG: Sorafenib Tosylate",
            "DRUG: paclitaxel|DRUG: cisplatin|DRUG: topotecan hydrochloride|BIOLOGICAL: filgrastim",
            "PROCEDURE: Computed Tomography|PROCEDURE: Core Biopsy|PROCEDURE: Magnetic Resonance Imaging|DRUG: Olaparib|DRUG: Temozolomide",
            "PROCEDURE: Biospecimen Collection|PROCEDURE: Computed Tomography|BIOLOGICAL: Mosunetuzumab|PROCEDURE: Positron Emission Tomography|BIOLOGICAL: Rituximab|BIOLOGICAL: Rituximab and Hyaluronidase Human",
            "DRUG: Cyclophosphamide|DRUG: Fludarabine Phosphate|DRUG: Ibrutinib|OTHER: Laboratory Biomarker Analysis|OTHER: Pharmacogenomic Study|OTHER: Quality-of-Life Assessment|BIOLOGICAL: Rituximab",
            "DRUG: Cytarabine|BIOLOGICAL: Filgrastim|DRUG: Fludarabine Phosphate|OTHER: Laboratory Biomarker Analysis|OTHER: Pharmacological Study|DRUG: WEE1 Inhibitor AZD1775",
            "DRUG: PLX038",
            "RADIATION: Dose to prostate bed with integrated boost|RADIATION: Dose to prostate bed irradiation only",
            "BIOLOGICAL: PROSTVAC-V/TRICOM|BIOLOGICAL: PROSTVAC-F/TRICOM",
            "PROCEDURE: Surgery|DRUG: Cisplatin|DRUG: Mitomycin C|DRUG: Sodium Thiosulfate",
            "PROCEDURE: Biopsy|PROCEDURE: Biospecimen Collection|PROCEDURE: Computed Tomography|DRUG: Copanlisib Hydrochloride|DRUG: Eribulin Mesylate|PROCEDURE: Magnetic Resonance Imaging",
            "PROCEDURE: Biospecimen Collection|PROCEDURE: Computed Tomography|PROCEDURE: Magnetic Resonance Imaging|BIOLOGICAL: Pembrolizumab|PROCEDURE: Therapeutic Conventional Surgery",
            "PROCEDURE: Biopsy|PROCEDURE: Biospecimen Collection|PROCEDURE: Computed Tomography|BIOLOGICAL: Pembrolizumab|PROCEDURE: Positron Emission Tomography|PROCEDURE: Surgical Procedure|DRUG: VLP-encapsulated TLR9 Agonist CMP-001",
            "BIOLOGICAL: Pembrolizumab",
            "BIOLOGICAL: Bevacizumab|DRUG: Fosbretabulin Tromethamine|OTHER: Laboratory Biomarker Analysis",
            "BIOLOGICAL: obinutuzumab|DRUG: prednisone|DRUG: Revlimid|BIOLOGICAL: Polatuzumab|DRUG: ibrutinib|DRUG: venetoclax",
            "OTHER: Laboratory Biomarker Analysis|OTHER: Pharmacological Study|DRUG: Riluzole|DRUG: Sorafenib Tosylate",
            "DRUG: anastrozole|DRUG: gefitinib|DRUG: fulvestrant|OTHER: laboratory biomarker analysis",
            "DRUG: Cytarabine|DRUG: Daunorubicin Hydrochloride|DRUG: Decitabine|OTHER: Laboratory Biomarker Analysis|OTHER: Pharmacological Study",
            "DRUG: Clobetasol Oral Rinse|DRUG: Placebo oral rinse",
            "DRUG: p97 Inhibitor CB-5339 Tosylate",
            "DRUG: irinotecan hydrochloride|DRUG: semaxanib|OTHER: laboratory biomarker analysis",
            "PROCEDURE: Metastasectomy|PROCEDURE: Nephrectomy|BIOLOGICAL: Nivolumab",
            "DRUG: sorafenib tosylate|BIOLOGICAL: recombinant interferon alfa|OTHER: laboratory biomarker analysis",
            "PROCEDURE: Biopsy|PROCEDURE: Biospecimen Collection|PROCEDURE: Bronchoscopy|DRUG: Extended Release Metformin Hydrochloride|OTHER: Questionnaire Administration",
            "PROCEDURE: Biospecimen Collection|PROCEDURE: Magnetic Resonance Imaging|OTHER: Quality-of-Life Assessment|OTHER: Questionnaire Administration|DRUG: Selumetinib Sulfate|DRUG: Vinblastine Sulfate",
            "PROCEDURE: Biopsy|PROCEDURE: Biospecimen Collection|PROCEDURE: Computed Tomography|DRUG: pH Low Insertion Peptide-exatecan Conjugate CBX-12",
            "DRUG: alvocidib|DRUG: irinotecan hydrochloride|DRUG: cisplatin",
            "OTHER: Laboratory Biomarker Analysis|OTHER: Pharmacogenomic Study|OTHER: Pharmacological Study|DRUG: Topotecan Hydrochloride|DRUG: Veliparib",
            "PROCEDURE: Biopsy|PROCEDURE: Biospecimen Collection|PROCEDURE: Computed Tomography|PROCEDURE: Magnetic Resonance Imaging|DRUG: Nilotinib Hydrochloride Monohydrate|DRUG: Paclitaxel",
            "DRUG: Carboplatin|DRUG: Cisplatin|DRUG: Fluorouracil|DRUG: Hydroxyurea|OTHER: Laboratory Biomarker Analysis|DRUG: Paclitaxel|OTHER: Placebo Administration|RADIATION: Radiation Therapy|DRUG: Veliparib",
            "DRUG: Flavopiridol",
            "OTHER: Laboratory Biomarker Analysis|DRUG: Lenalidomide|DRUG: Melphalan|DRUG: Prednisone|OTHER: Quality-of-Life Assessment|DRUG: Thalidomide",
            "DRUG: Tremelimumab|PROCEDURE: RFA|PROCEDURE: TACE|PROCEDURE: Cryoablation",
            "BIOLOGICAL: NA17.A2 Peptide Vaccine|BIOLOGICAL: Recombinant MAGE-3.1 Antigen|BIOLOGICAL: Recombinant Interleukin-12|BIOLOGICAL: MART-1 Antigen|OTHER: Laboratory Biomarker Analysis",
            "DRUG: Alisertib|DRUG: Fluorouracil|OTHER: Laboratory Biomarker Analysis|DRUG: Leucovorin Calcium|DRUG: Oxaliplatin",
            "PROCEDURE: Biopsy|PROCEDURE: Biospecimen Collection|PROCEDURE: Esophagogastroduodenoscopy|DRUG: Linaclotide|DRUG: Plecanatide",
            "DRUG: Tempol|DRUG: 5-Fluorouracil|DRUG: Mitomycin-C|PROCEDURE: Radiation Therapy",
            "PROCEDURE: Biospecimen Collection|DRUG: Erdafitinib|PROCEDURE: Magnetic Resonance Imaging|PROCEDURE: Optical Coherence Tomography",
            "BIOLOGICAL: aldesleukin|BIOLOGICAL: fowlpox virus vaccine vector|BIOLOGICAL: vaccinia-tyrosinase vaccine",
            "DRUG: Decitabine|BIOLOGICAL: Depsipeptide|DRUG: Celecoxib",
            "PROCEDURE: Biopsy|PROCEDURE: Biospecimen Collection|PROCEDURE: Diagnostic Imaging|DRUG: Elimusertib|DRUG: Gemcitabine",
            "BIOLOGICAL: oblimersen sodium|DRUG: doxorubicin hydrochloride|DRUG: docetaxel|BIOLOGICAL: filgrastim|BIOLOGICAL: pegfilgrastim|PROCEDURE: therapeutic conventional surgery|OTHER: pharmacological study|OTHER: laboratory biomarker analysis",
            "DRUG: vorinostat|OTHER: conventional surgery",
            "DRUG: ziv-aflibercept",
            "DRUG: Cisplatin|DRUG: Gamma-Secretase Inhibitor RO4929097|OTHER: Laboratory Biomarker Analysis|OTHER: Pharmacological Study|DRUG: Temozolomide|DRUG: Vinblastine Sulfate",
            "DRUG: Atezolizumab|PROCEDURE: Biospecimen Collection|BIOLOGICAL: Cetuximab|DRUG: Cisplatin|PROCEDURE: Computed Tomography|DRUG: Docetaxel|RADIATION: Intensity-Modulated Radiation Therapy|OTHER: Laboratory Biomarker Analysis|PROCEDURE: Magnetic Resonance Imaging|OTHER: Quality-of-Life Assessment",
            "DRUG: metformin hydrochloride|OTHER: placebo|OTHER: laboratory biomarker analysis",
            "DRUG: Metarrestin",
            "DRUG: bortezomib|DRUG: vorinostat",
            "DRUG: LY2606368",
            "DRUG: BMS-214662|OTHER: pharmacological study|OTHER: laboratory biomarker analysis",
            "BIOLOGICAL: MOv-gamma chimeric receptor gene|BIOLOGICAL: aldesleukin|BIOLOGICAL: therapeutic allogeneic lymphocytes",
            "RADIATION: Computed Tomography Perfusion Imaging|OTHER: Laboratory Biomarker Analysis|BIOLOGICAL: Ziv-Aflibercept",
            "PROCEDURE: Nephrectomy|BIOLOGICAL: Nivolumab|OTHER: Patient Observation",
            "PROCEDURE: Biospecimen Collection|PROCEDURE: Computed Tomography|PROCEDURE: Echocardiography|BIOLOGICAL: Ipilimumab|PROCEDURE: Magnetic Resonance Imaging|BIOLOGICAL: Nivolumab",
            "DRUG: OncoLAR® (Registered Trademark)|DRUG: tamoxifen",
            "BIOLOGICAL: recombinant interferon alfa|BIOLOGICAL: oblimersen sodium|OTHER: pharmacological study",
            "DRUG: O6-benzylguanine|DRUG: carmustine|OTHER: laboratory biomarker analysis",
            "PROCEDURE: Biopsy|PROCEDURE: Biospecimen Collection|PROCEDURE: Bone Marrow Biopsy|PROCEDURE: Computed Tomography|OTHER: Fludeoxyglucose F-18|BIOLOGICAL: Mosunetuzumab|PROCEDURE: Positron Emission Tomography|BIOLOGICAL: Rituximab|BIOLOGICAL: Rituximab and Hyaluronidase Human",
            "DRUG: LMB-100|DRUG: nab-paclitaxel",
            "PROCEDURE: Biopsy|PROCEDURE: Biospecimen Collection|PROCEDURE: Computed Tomography|PROCEDURE: Magnetic Resonance Imaging|DRUG: Peposertib|PROCEDURE: Positron Emission Tomography|DRUG: Tuvusertib",
            "DRUG: Fludarabine|DRUG: Cyclophosphamide|DRUG: Aldesleukin|BIOLOGICAL: Sleeping Beauty Transposed PBL",
            "BIOLOGICAL: rituximab|DRUG: etoposide|DRUG: doxorubicin hydrochloride|DRUG: vincristine sulfate|DRUG: prednisone|DRUG: cyclophosphamide|OTHER: laboratory biomarker analysis",
            "PROCEDURE: Biopsy|PROCEDURE: Biospecimen Collection|PROCEDURE: Gastrointestinal Endoscopy|BIOLOGICAL: Obeticholic Acid|DRUG: Placebo Administration|OTHER: Questionnaire Administration",
            "DRUG: Azacitidine|DRUG: Entinostat",
            "DRUG: Adavosertib|DRUG: Cisplatin|RADIATION: External Beam Radiation Therapy",
            "DRUG: cabozantinib-s-malate|DRUG: vemurafenib|OTHER: laboratory biomarker analysis|OTHER: pharmacological study",
            "DRUG: ixabepilone|DRUG: mitoxantrone hydrochloride|DRUG: prednisone",
            "DRUG: karenitecin",
            "DRUG: Bendamustine Hydrochloride|OTHER: Pharmacological Study|BIOLOGICAL: Rituximab|DRUG: Veliparib",
            "BIOLOGICAL: PEG-interferon alfa-2b|DRUG: Thalidomide",
            "DRUG: F18-FDG|DEVICE: MRI|DEVICE: CT|DRUG: F18-DCFPyL",
            "DRUG: Pazopanib Hydrochloride|PROCEDURE: Dynamic Contrast-Enhanced Magnetic Resonance Imaging|OTHER: Pharmacological Study|OTHER: Laboratory Biomarker Analysis",
            "DRUG: nicotine",
            "PROCEDURE: Conventional Surgery|DRUG: Imatinib Mesylate",
            "PROCEDURE: Biospecimen Collection|PROCEDURE: Bone Marrow Aspiration|PROCEDURE: Computed Tomography|BIOLOGICAL: Obinutuzumab|OTHER: Quality-of-Life Assessment|OTHER: Questionnaire Administration|DRUG: Venetoclax",
            "DRUG: Bortezomib|DRUG: Alvocidib Hydrochloride|OTHER: Pharmacological Study",
            "DRUG: FR901228",
            "DRUG: Atezolizumab|BIOLOGICAL: Bevacizumab|PROCEDURE: Biospecimen Collection|PROCEDURE: Computed Tomography",
            "DRUG: Adavosertib|DRUG: Carboplatin|DRUG: Everolimus|DRUG: Temozolomide|DRUG: Trametinib|DRUG: Veliparib",
            "RADIATION: 3-Dimensional Conformal Radiation Therapy|DRUG: Motexafin Gadolinium|DRUG: Temozolomide",
            "DRUG: Crolibulin|DRUG: Cisplatin",
            "BIOLOGICAL: Cetuximab|RADIATION: Intensity-Modulated Radiation Therapy|BIOLOGICAL: Ipilimumab|OTHER: Laboratory Biomarker Analysis",
            "DRUG: BET Bromodomain Inhibitor ZEN-3694|PROCEDURE: Biopsy|PROCEDURE: Biospecimen Collection|BIOLOGICAL: Cetuximab|PROCEDURE: Computed Tomography|DRUG: Encorafenib|PROCEDURE: Magnetic Resonance Imaging",
            "DRUG: 2-methoxyestradiol|OTHER: pharmacological study|OTHER: laboratory biomarker analysis",
            "BEHAVIORAL: Web-Based Decision Support",
            "OTHER: Laboratory Biomarker Analysis|OTHER: Placebo Administration|OTHER: Quality-of-Life Assessment|OTHER: Questionnaire Administration|DRUG: Simvastatin",
            "DRUG: motexafin gadolinium|RADIATION: 3-dimensional conformal radiation therapy",
            "DRUG: Mithramycin",
            "DRUG: sorafenib tosylate|DRUG: tanespimycin|OTHER: laboratory biomarker analysis|OTHER: pharmacological study|PROCEDURE: magnetic resonance imaging",
            "RADIATION: 3-Dimensional Conformal Radiation Therapy|DRUG: Atezolizumab|PROCEDURE: Biospecimen Collection|DRUG: Carboplatin|DRUG: Cisplatin|DRUG: Etoposide|RADIATION: Intensity-Modulated Radiation Therapy|OTHER: Quality-of-Life Assessment|OTHER: Questionnaire Administration",
            "BIOLOGICAL: p53: 264-272 peptide|DRUG: CT-011",
            "DRUG: alvocidib|DRUG: mitoxantrone hydrochloride|DRUG: cytarabine|OTHER: pharmacological study|OTHER: laboratory biomarker analysis",
            "DRUG: pembrolizumab|DRUG: valemetostat",
            "BIOLOGICAL: pertuzumab|BIOLOGICAL: cetuximab|DRUG: irinotecan hydrochloride|OTHER: immunohistochemistry staining method|OTHER: fluorescence in situ hybridization|OTHER: gene expression analysis|OTHER: mutation analysis|OTHER: polymerase chain reaction|OTHER: laboratory biomarker analysis",
            "BIOLOGICAL: filgrastim|DRUG: cisplatin|DRUG: dexrazoxane hydrochloride|DRUG: doxorubicin hydrochloride|DRUG: leucovorin calcium|DRUG: methotrexate|PROCEDURE: adjuvant therapy|PROCEDURE: conventional surgery|PROCEDURE: neoadjuvant therapy",
            "DRUG: SGI-110 (guadecitabine)",
            "DRUG: pioglitazone hydrochloride",
            "DRUG: cisplatin|DRUG: tirapazamine",
            "DRUG: tandutinib|OTHER: laboratory biomarker analysis",
            "DRUG: RMP-7 and carboplatin",
            "DRUG: Decitabine|OTHER: Laboratory Biomarker Analysis",
            "PROCEDURE: Biospecimen Collection|PROCEDURE: Computed Tomography|DRUG: Decitabine and Cedazuridine|BIOLOGICAL: Nivolumab|PROCEDURE: Positron Emission Tomography",
            "DRUG: cetuximab|DRUG: erlotinib hydrochloride|OTHER: laboratory biomarker analysis",
            "PROCEDURE: Biospecimen Collection|DRUG: Cabozantinib S-malate|PROCEDURE: Computed Tomography|PROCEDURE: Magnetic Resonance Imaging|BIOLOGICAL: Nivolumab",
            "DRUG: AT13387",
            "DRUG: Carfilzomib|DRUG: Lenalidomide|DRUG: Dexamethasone|DRUG: Lenalidomide|DRUG: Lenalidomide",
            "DRUG: Cyclophosphamide|DRUG: Fludarabine|DRUG: Aldesleukin|DRUG: Pembrolizumab|BIOLOGICAL: young TIL",
            "BIOLOGICAL: Young TIL|DRUG: Aldesleukin|DRUG: Cyclophosphamide|DRUG: Fludarabine|DRUG: Pembrolizumab (Keytruda)",
            "DRUG: everolimus|DRUG: sorafenib",
            "DRUG: Myeloma Immunoglobulin Idiotype Vaccine|DRUG: Bortezomib|DRUG: Cyclophosphamide|DRUG: Cyclosporine|DRUG: Doxorubicin hydrochloride|DRUG: Etoposide|DRUG: Fludarabine phosphate|DRUG: Prednisone|DRUG: Vincristine Sulfate|DRUG: Methotrexate|BIOLOGICAL: GMCSF (granulocyte macrophage colony stimulating factor)|BIOLOGICAL: GCSF (granulocyte colony stimulating factor)",
            "DRUG: Atorvastatin Calcium|PROCEDURE: Biopsy of Colon|PROCEDURE: Biospecimen Collection|DRUG: Placebo Administration|OTHER: Questionnaire Administration",
            "DRUG: alvespimycin hydrochloride|OTHER: diagnostic laboratory biomarker analysis|OTHER: pharmacogenomic studies|OTHER: pharmacological study",
            "DRUG: prednisone|DRUG: vincristine sulfate|DRUG: daunorubicin hydrochloride|DRUG: asparaginase|DRUG: methotrexate|DRUG: cyclophosphamide|DRUG: cytarabine|DRUG: mercaptopurine|DRUG: leucovorin calcium|DRUG: dexamethasone|DRUG: doxorubicin hydrochloride|DRUG: thioguanine|RADIATION: radiation therapy|DRUG: nelarabine|DRUG: pegaspargase|RADIATION: radiation therapy|OTHER: pharmacological study|OTHER: laboratory biomarker analysis",
            "DRUG: selumetinib|OTHER: pharmacological study",
            "BIOLOGICAL: Bevacizumab|DRUG: Cediranib|DRUG: Cediranib Maleate|DRUG: Olaparib",
            "DRUG: Cyclophosphamide (CTX, Cytoxan)|DRUG: Fludarabine(Fludara,Berlex Laboratories)|PROCEDURE: Total Body Irradiation (TBI)|PROCEDURE: Allogeneic Hematopoietic Stem Cell (HSC)|DRUG: Equine Anti-Thymocyte Globulin",
            "PROCEDURE: Biospecimen Collection|PROCEDURE: Bone Marrow Aspiration|PROCEDURE: Bone Marrow Biopsy|PROCEDURE: Computed Tomography|DRUG: Ibrutinib|PROCEDURE: Positron Emission Tomography|BIOLOGICAL: Rituximab|DRUG: Venetoclax",
            "DRUG: Batracylin",
            "DRUG: oxaliplatin|DRUG: leucovorin calcium|DRUG: fluorouracil|DRUG: capecitabine|OTHER: pharmacological study",
            "DRUG: PSC 833",
            "BEHAVIORAL: CALM Therapy",
            "DRUG: 2-Fluorodeoxyglucose",
            "BIOLOGICAL: Multi-epitope (ME) T-cell Receptor Alternate Reading Frame Protein (TARP) vaccine",
            "DRUG: oxaliplatin|OTHER: laboratory biomarker analysis",
            "DRUG: tanespimycin|OTHER: pharmacological study|OTHER: laboratory biomarker analysis",
            "DRUG: Gamma-Secretase Inhibitor RO4929097|OTHER: Laboratory Biomarker Analysis|OTHER: Pharmacogenomic Study|OTHER: Pharmacological Study|DRUG: Vismodegib",
            "DRUG: sorafenib tosylate|PROCEDURE: therapeutic conventional surgery|OTHER: laboratory biomarker analysis|OTHER: pharmacological study|PROCEDURE: computed tomography|PROCEDURE: dynamic contrast-enhanced magnetic resonance imaging",
            "DRUG: sorafenib tosylate|DRUG: erlotinib hydrochloride|DRUG: tipifarnib|DRUG: temsirolimus",
            "DRUG: Finasteride|OTHER: Placebo|PROCEDURE: Prostatectomy|OTHER: Laboratory biomarker analysis",
            "RADIATION: Accelerated Hypofractionated Radiation Therapy|PROCEDURE: Biospecimen Collection|PROCEDURE: Computed Tomography|BIOLOGICAL: Durvalumab|PROCEDURE: Magnetic Resonance Imaging of the Brain with and without Contrast|BIOLOGICAL: Monalizumab|BIOLOGICAL: Oleclumab|RADIATION: Radiation Therapy",
            "DRUG: Bortezomib|BIOLOGICAL: Daratumumab|DRUG: Dexamethasone|DRUG: Venetoclax",
            "DRUG: irinotecan hydrochloride|DRUG: oxaliplatin|DRUG: capecitabine|OTHER: laboratory biomarker analysis|OTHER: pharmacological study",
            "BIOLOGICAL: Recombinant Interferon Alfa|BIOLOGICAL: Bevacizumab",
            "DRUG: Bortezomib|OTHER: Laboratory Biomarker Analysis|DRUG: Vorinostat",
            "DRUG: Dabrafenib|OTHER: Laboratory Biomarker Analysis|OTHER: Pharmacogenomic Study|OTHER: Pharmacological Study",
            "DRUG: Dacarbazine|OTHER: Laboratory Biomarker Analysis|OTHER: Quality-of-Life Assessment|DRUG: Selumetinib|DRUG: Temozolomide",
            "PROCEDURE: acupuncture therapy|PROCEDURE: management of therapy complications|PROCEDURE: pain therapy",
            "DRUG: 2-Flourodeoxyglucose",
            "DRUG: Cyclosporine|OTHER: Laboratory Biomarker Analysis|OTHER: Pharmacological Study|DRUG: Selumetinib",
            "DRUG: SJG-136|OTHER: laboratory biomarker analysis|OTHER: pharmacological study",
            "DRUG: 7-hydroxystaurosporine|DRUG: gemcitabine hydrochloride|OTHER: pharmacological study|OTHER: laboratory biomarker analysis",
            "DRUG: Aspirin|PROCEDURE: Biospecimen Collection|OTHER: Placebo Administration|OTHER: Questionnaire Administration|PROCEDURE: Rectal Biopsy",
            "DRUG: Zotiraciclib (TG02)|DRUG: Temozolomide (TMZ)",
            "PROCEDURE: Biopsy of Bladder|PROCEDURE: Biospecimen Collection|DRUG: Cisplatin|PROCEDURE: Computed Tomography|PROCEDURE: Cystoscopy|BIOLOGICAL: Durvalumab|DRUG: Fluorouracil|DRUG: Gemcitabine Hydrochloride|PROCEDURE: Magnetic Resonance Imaging|DRUG: Mitomycin|OTHER: Patient Observation|RADIATION: Radiation Therapy",
            "DRUG: Carboplatin|OTHER: Laboratory Biomarker Analysis|DRUG: Paclitaxel|OTHER: Quality-of-Life Assessment|RADIATION: Radiation Therapy|PROCEDURE: Therapeutic Conventional Surgery|BIOLOGICAL: Trastuzumab",
            "DRUG: Azacitidine|PROCEDURE: Biospecimen Collection|PROCEDURE: Bone Marrow Aspiration|PROCEDURE: Bone Marrow Aspiration and Biopsy|DRUG: Cytarabine|DRUG: Daunorubicin Hydrochloride|PROCEDURE: Echocardiography|DRUG: Gilteritinib|DRUG: Liposome-encapsulated Daunorubicin-Cytarabine|PROCEDURE: Multigated Acquisition Scan|PROCEDURE: Mutation Carrier Screening|DRUG: Venetoclax",
            "DRUG: Carboplatin|BIOLOGICAL: Nivolumab|DRUG: Paclitaxel",
            "DRUG: Veliparib + VX-970 + Cisplatin",
            "DRUG: atrasentan hydrochloride",
            "OTHER: coagulation study|OTHER: immunoenzyme technique|OTHER: laboratory biomarker analysis|OTHER: physiologic testing|PROCEDURE: study of high risk factors",
            "DRUG: cytarabine|DRUG: daunorubicin hydrochloride|DRUG: etoposide|DRUG: valspodar",
            "DRUG: SarCNU|OTHER: pharmacological study|OTHER: laboratory biomarker analysis",
            "DRUG: fludarabine phosphate|DRUG: thalidomide",
            "PROCEDURE: Biopsy|PROCEDURE: Biospecimen Collection|PROCEDURE: Computed Tomography|BIOLOGICAL: Emavusertib|DRUG: Gemcitabine Hydrochloride|PROCEDURE: Magnetic Resonance Imaging|DRUG: Nab-paclitaxel|PROCEDURE: Positron Emission Tomography|PROCEDURE: X-Ray Imaging",
            "DRUG: rhIL-15|DRUG: rhIL-15|BIOLOGICAL: Obinutuzumab",
            "DRUG: 5-Fluorouracil|DRUG: Ethynyluracil|DRUG: Leucovorin",
            "DRUG: F-18 Fluorodeoxyglucose|BIOLOGICAL: therapeutic allogeneic lymphocytes|DRUG: cyclophosphamide|DRUG: cyclosporine|DRUG: doxorubicin hydrochloride|DRUG: etoposide|DRUG: fludarabine phosphate|DRUG: melphalan|DRUG: prednisone|DRUG: sirolimus|DRUG: tacrolimus|DRUG: vincristine sulfate|PROCEDURE: peripheral blood stem cell transplantation|DRUG: Filgrastim|PROCEDURE: Peripheral Blood Stem Cell donation",
            "BIOLOGICAL: aldesleukin|BIOLOGICAL: mutant p53 peptide pulsed dendritic cell vaccine|BIOLOGICAL: ras peptide cancer vaccine|BIOLOGICAL: sargramostim|BIOLOGICAL: therapeutic autologous lymphocytes|BIOLOGICAL: therapeutic tumor infiltrating lymphocytes",
            "PROCEDURE: Biospecimen Collection|OTHER: Clinical Observation|PROCEDURE: Computed Tomography|PROCEDURE: CT Urography|PROCEDURE: Cystoscopy|PROCEDURE: Magnetic Resonance Imaging|BIOLOGICAL: Pembrolizumab|OTHER: Pharmacological Study|OTHER: Quality-of-Life Assessment|OTHER: Questionnaire Administration",
            "DRUG: sorafenib tosylate|OTHER: pharmacological study|PROCEDURE: assessment of therapy complications|OTHER: laboratory biomarker analysis",
            "DRUG: etanidazole|PROCEDURE: conventional surgery|OTHER: pharmacological study|OTHER: laboratory biomarker analysis",
            "BIOLOGICAL: Interferon|DRUG: Rituxan and EPOCH",
            "DRUG: macrogol 3350-based oral osmotic laxative|OTHER: Placebo|OTHER: Laboratory Biomarker Analysis",
            "DRUG: tanespimycin|DRUG: cytarabine",
            "BIOLOGICAL: cixutumumab|DRUG: erlotinib hydrochloride|DRUG: gemcitabine hydrochloride",
            "DRUG: Cabozantinib S-malate|OTHER: Quality-of-Life Assessment|OTHER: Questionnaire Administration|RADIATION: Radium Ra 223 Dichloride",
            "DRUG: suramin|DRUG: suramin|DRUG: Suramin",
            "BIOLOGICAL: PROSTVAC-F (Fowlpox)/TRICOM|BIOLOGICAL: PROSTVAC-V (Vaccinia)/TRICOM|DRUG: Enzalutamide (Xtandi)",
            "DRUG: CUDC-907",
            "PROCEDURE: donor lymphocyte infusion|DRUG: Cyclophosphamide|DRUG: Busulfan|DRUG: Mycophenolate mofetil|DRUG: Fludarabine|DRUG: Sirolimus",
            "BIOLOGICAL: PRGN-2009|DRUG: Pembrolizumab",
            "PROCEDURE: Laparotomy+ HIPEC +/- CRS",
            "DRUG: Pazopanib (GW786034)",
            "DRUG: 5-Fluoro-2'-Deoxycytidine (FdCyd) + Tetrahydrouridine (THU)",
            "DRUG: motexafin lutetium|DRUG: photodynamic therapy|PROCEDURE: loop electrosurgical excision procedure|OTHER: laboratory biomarker analysis",
            "BIOLOGICAL: Cixutumumab|OTHER: Diagnostic Laboratory Biomarker Analysis|DRUG: Temsirolimus",
            "BIOLOGICAL: MART-1 antigen|BIOLOGICAL: gp100 antigen|BIOLOGICAL: incomplete Freund's adjuvant|BIOLOGICAL: recombinant interleukin-7",
            "DRUG: 7-hydroxystaurosporine|DRUG: perifosine|OTHER: pharmacological study",
            "PROCEDURE: Biopsy|PROCEDURE: Biospecimen Collection|PROCEDURE: Computed Tomography|DRUG: Dabrafenib|DRUG: Dabrafenib Mesylate|PROCEDURE: Echocardiography|DRUG: Lapatinib|DRUG: Lapatinib Ditosylate|PROCEDURE: Magnetic Resonance Imaging|PROCEDURE: Multigated Acquisition Scan|PROCEDURE: Positron Emission Tomography",
            "DRUG: Vincristine|DRUG: Prednisone|DRUG: Doxorubicin|DRUG: Etoposide|DRUG: Pomalidomide|DRUG: Cyclophosphamide|DRUG: Rituximab",
            "DRUG: LMB-100|BIOLOGICAL: Pembrolizumab",
            "BIOLOGICAL: Atezolizumab|BIOLOGICAL: Bevacizumab|PROCEDURE: Biospecimen Collection|DRUG: Cisplatin|PROCEDURE: Computed Tomography|PROCEDURE: Conventional Magnetic Resonance Imaging|DRUG: Gemcitabine Hydrochloride",
            "DRUG: Hydroxychloroquine|OTHER: Laboratory Biomarker Analysis|OTHER: Pharmacological Study|DRUG: Sunitinib Malate",
            "DRUG: Akt Inhibitor MK2206|DRUG: Anastrozole|DRUG: Goserelin Acetate|OTHER: Laboratory Biomarker Analysis|PROCEDURE: Neoadjuvant Therapy|OTHER: Pharmacological Study|PROCEDURE: Therapeutic Conventional Surgery",
            "BIOLOGICAL: Anti-NY ESO-1 mTCR PBL|DRUG: Cyclophosphamide|DRUG: Fludarabine|DRUG: Aldesleukin",
            "DRUG: Capivasertib",
            "PROCEDURE: Biospecimen Collection|DRUG: Carboplatin|PROCEDURE: Computed Tomography|PROCEDURE: Magnetic Resonance Imaging|BIOLOGICAL: Pembrolizumab|DRUG: Pemetrexed|PROCEDURE: Positron Emission Tomography",
            "PROCEDURE: Biospecimen Collection|RADIATION: Brachytherapy|DRUG: Cisplatin|PROCEDURE: Computed Tomography|RADIATION: External Beam Radiation Therapy|OTHER: Fludeoxyglucose F-18|RADIATION: High-Dose Rate Brachytherapy|RADIATION: Intensity-Modulated Radiation Therapy|PROCEDURE: Magnetic Resonance Imaging|OTHER: Pharmacological Study|PROCEDURE: Positron Emission Tomography|DRUG: Triapine",
            "DRUG: Cytarabine|DRUG: Daunorubicin|DRUG: Daunorubicin Hydrochloride|DRUG: Pinometostat",
            "BIOLOGICAL: aldesleukin|BIOLOGICAL: ipilimumab",
            "DRUG: Erlotinib Hydrochloride|OTHER: Laboratory Biomarker Analysis|OTHER: Pharmacological Study|OTHER: Placebo|OTHER: Quality-of-Life Assessment|PROCEDURE: Therapeutic Conventional Surgery",
            "BIOLOGICAL: PROSTVAC-V/TRICOM|BIOLOGICAL: PROSTVAC-F/TRICOM|DRUG: MDX-010|DRUG: Sargramostim",
            "BIOLOGICAL: Atezolizumab|PROCEDURE: Biospecimen Collection|DRUG: Capecitabine|PROCEDURE: Computed Tomography|DRUG: Docetaxel|PROCEDURE: Echocardiography|DRUG: Fluorouracil|DRUG: Leucovorin Calcium|PROCEDURE: Lymphadenectomy|PROCEDURE: Magnetic Resonance Imaging|DRUG: Oxaliplatin|PROCEDURE: Positron Emission Tomography|PROCEDURE: Surgical Procedure",
            "DRUG: Goserelin Acetate|OTHER: Laboratory Biomarker Analysis|DRUG: Leuprolide Acetate|DRUG: Vismodegib",
            "BIOLOGICAL: Bevacizumab|OTHER: Laboratory Biomarker Analysis|OTHER: Pharmacological Study|DRUG: Tivantinib",
            "DRUG: Cyclosporine|GENETIC: Gene expression analysis|GENETIC: Microarray analysis|OTHER: Laboratory biomarker analysis",
            "DRUG: temsirolimus|DRUG: gamma-secretase/Notch signalling pathway inhibitor RO4929097|OTHER: laboratory biomarker analysis|OTHER: pharmacological study",
            "DRUG: Adriamycin|DRUG: cyclophosphamide|DRUG: G-CSF|DRUG: paclitaxel",
            "DRUG: topotecan hydrochloride|DRUG: bortezomib|OTHER: pharmacological study|OTHER: laboratory biomarker analysis",
            "DRUG: 18F DCFBC|DRUG: Sodium (Na)18F positron emission tomography (PET)/computed tomography (CT)",
            "DRUG: alvocidib|DRUG: doxorubicin hydrochloride",
            "DRUG: capecitabine|RADIATION: radiation therapy|BIOLOGICAL: bevacizumab|PROCEDURE: therapeutic conventional surgery|DRUG: gemcitabine hydrochloride",
            "DRUG: Pioglitazone hydrochloride|OTHER: placebo|OTHER: laboratory biomarker analysis",
            "OTHER: Laboratory Biomarker Analysis|BIOLOGICAL: Trastuzumab|RADIATION: Whole Breast Irradiation",
            "DEVICE: Endoscope+Cellvizio(R) 100 microscope",
            "BIOLOGICAL: cetuximab|DRUG: dasatinib|PROCEDURE: therapeutic conventional surgery|OTHER: laboratory biomarker analysis",
            "DRUG: Satraplatin",
            "BIOLOGICAL: aldesleukin|BIOLOGICAL: incomplete Freund's adjuvant|BIOLOGICAL: telomerase: 540-548 peptide vaccine",
            "DRUG: omacetaxine mepesuccinate|OTHER: pharmacological study|OTHER: laboratory biomarker analysis",
            "DRUG: Pentostatin|DRUG: Cyclophosphamide|BIOLOGICAL: SS1(dsFv)PE38 - lot 073I0809|BIOLOGICAL: SS1(dsFv)PE38 - lot FIL129J01",
            "DRUG: TEDD-R|DRUG: TEDDI-R|DRUG: Ibrutinib|DRUG: Cytarabine|DRUG: Isavuconazole|DRUG: Methotrexate",
            "DRUG: fluorouracil|DRUG: gefitinib|DRUG: irinotecan hydrochloride|DRUG: leucovorin calcium",
            "DRUG: BET Bromodomain Inhibitor ZEN-3694|PROCEDURE: Biopsy|PROCEDURE: Biospecimen Collection|PROCEDURE: Computed Tomography|PROCEDURE: Electrocardiography|PROCEDURE: Magnetic Resonance Imaging|DRUG: Tuvusertib|PROCEDURE: X-Ray Imaging",
            "DRUG: ixabepilone|OTHER: pharmacogenomic studies|OTHER: laboratory biomarker analysis",
            "DRUG: alvocidib|DRUG: fluorouracil|DRUG: oxaliplatin|DRUG: leucovorin calcium",
            "OTHER: Cytology Specimen Collection Procedure|OTHER: Laboratory Biomarker Analysis|OTHER: Long-term Follow-up|OTHER: Questionnaire Administration",
            "DEVICE: modified resectoscope|PROCEDURE: TURBT",
            "DRUG: Ferumoxytol|DIAGNOSTIC_TEST: Magnetic Resonance Imaging (MRI)",
            "DRUG: Rituximab|DRUG: Fludarabine|DRUG: Etoposide|DRUG: Doxorubicin|DRUG: Vincristine|DRUG: Cyclophosphamide|PROCEDURE: Peripheral blood stem cell (PBSC) transplantation|GENETIC: T cell donor lymphocyte infusion (DLI) with unmanipulated donor T cells|DRUG: Prednisone|PROCEDURE: Allogeneic hematopoietic stem cell transplant (HSCT)|DRUG: Filgrastim|GENETIC: T-Rapa cell Donor Lymphocyte Infusion (DLI)",
            "PROCEDURE: Extracorporeal Photopheresis (ECP)|DRUG: Methoxsalen",
            "PROCEDURE: Biopsy|PROCEDURE: Biospecimen Collection|PROCEDURE: Computed Tomography|DRUG: Darolutamide|DRUG: Leuprolide Acetate|PROCEDURE: Magnetic Resonance Imaging",
            "BIOLOGICAL: rituximab|RADIATION: indium In 111 ibritumomab tiuxetan|RADIATION: yttrium Y 90 ibritumomab tiuxetan|PROCEDURE: peripheral blood stem cell transplantation|BIOLOGICAL: filgrastim|OTHER: laboratory biomarker analysis",
            "BIOLOGICAL: PROSTVAC-V/F|DRUG: Nivolumab",
            "DRUG: doxorubicin hydrochloride|DRUG: vorinostat|OTHER: pharmacological study|OTHER: laboratory biomarker analysis",
            "BIOLOGICAL: rh IL-12|BIOLOGICAL: rh IL-2",
            "DRUG: Bortezomib|OTHER: Laboratory Biomarker Analysis|DRUG: Pegylated Liposomal Doxorubicin Hydrochloride",
            "DRUG: homoharringtonine|PROCEDURE: chemotherapy",
            "DRUG: rebimastat|OTHER: laboratory biomarker analysis",
            "DRUG: eflornithine",
            "PROCEDURE: Biopsy|PROCEDURE: Biospecimen Collection|PROCEDURE: Computed Tomography|DRUG: Pomalidomide|PROCEDURE: X-Ray Imaging",
            "DRUG: bryostatin 1|DRUG: vincristine sulfate",
            "BIOLOGICAL: Aldesleukin|OTHER: Laboratory Biomarker Analysis|BIOLOGICAL: Ziv-Aflibercept",
            "DRUG: Tariquidar",
            "DRUG: IMC-12",
            "DRUG: Ivosidenib",
            "BIOLOGICAL: filgrastim|BIOLOGICAL: rituximab|DRUG: CHOP regimen|DRUG: cyclophosphamide|DRUG: doxorubicin hydrochloride|DRUG: prednisone|DRUG: vincristine sulfate",
            "DRUG: Tivantinib|OTHER: Diagnostic laboratory biomarker analysis|OTHER: Questionnaire administration|PROCEDURE: Quality-of-life assessment",
            "DRUG: Avelumab|BIOLOGICAL: Ad-CEA vaccine|DRUG: Bevacizumab|DRUG: 5-Fluorouracil (FU)|DRUG: Leucovorin|DRUG: Oxaliplatin|DRUG: Capecitabine|DRUG: 5-Fluorouracil (FU)",
            "DRUG: 18F-DCFPyL|RADIATION: Stereotactic Body Radiation Therapy",
            "PROCEDURE: Computed Tomography|OTHER: Fludeoxyglucose F-18|RADIATION: Intensity-Modulated Radiation Therapy|PROCEDURE: Magnetic Resonance Imaging|DRUG: Peposertib|PROCEDURE: Positron Emission Tomography",
            "DRUG: Oxaliplatin|DRUG: Irinotecan|DRUG: 5-Fluorouracil|DRUG: Leucovorin|PROCEDURE: Gastrectomy and/or metastasectomy",
            "DRUG: (Anti-KIR)",
            "BIOLOGICAL: Ipilimumab|BIOLOGICAL: Sargramostim",
            "DRUG: pyrazoloacridine|BIOLOGICAL: filgrastim|PROCEDURE: autologous bone marrow transplantation|PROCEDURE: peripheral blood stem cell transplantation|OTHER: laboratory biomarker analysis|OTHER: pharmacological study",
            "OTHER: Laboratory Biomarker Analysis|OTHER: Pharmacogenomic Study|DRUG: Vismodegib",
            "BEHAVIORAL: Medication Event Monitoring System (MEMS^TM)|OTHER: Questionnaires",
            "DRUG: Anti-Tac(Fv)-PE38 (LMB-2) Immunotoxin",
            "BIOLOGICAL: Cetuximab|OTHER: Laboratory Biomarker Analysis|DRUG: Tivantinib",
            "DRUG: BAY 43-9006",
            "DRUG: doxorubicin hydrochloride|DRUG: cyclophosphamide|DRUG: tipifarnib|BIOLOGICAL: filgrastim|PROCEDURE: therapeutic conventional surgery|OTHER: laboratory biomarker analysis",
            "DRUG: Floxuridine|DRUG: 5-Fluorouracil|DRUG: Irinotecan|DEVICE: Intera 3000 Hepatic Artery Infusion Pump (HAIP)|DRUG: Oxaliplatin|DRUG: Leucovorin|DRUG: M9241|DRUG: Gemcitabine|DRUG: Dexamethasone",
            "DRUG: Bortezomib|DRUG: Decitabine|OTHER: Laboratory Biomarker Analysis|OTHER: Pharmacological Study|DRUG: Sorafenib Tosylate",
            "DRUG: PLX038|DRUG: Rucaparib|DRUG: Ondansetron",
            "BIOLOGICAL: denileukin diftitox",
            "DRUG: cholecalciferol",
            "PROCEDURE: Biopsy|PROCEDURE: Biospecimen Collection|PROCEDURE: Computed Tomography|PROCEDURE: Echocardiography|PROCEDURE: Multigated Acquisition Scan|DRUG: Neratinib Maleate|BIOLOGICAL: Trastuzumab Deruxtecan",
            "DRUG: Fulvestrant|OTHER: Laboratory Biomarker Analysis|DRUG: Lapatinib Ditosylate|OTHER: Placebo Administration",
            "PROCEDURE: Biospecimen Collection|PROCEDURE: Computed Tomography|PROCEDURE: Magnetic Resonance Imaging|OTHER: Placebo Administration|OTHER: Questionnaire Administration|DRUG: Simvastatin",
            "DRUG: Cabozantinib S-malate|DRUG: Erlotinib Hydrochloride|OTHER: Laboratory Biomarker Analysis",
            "DRUG: Erlotinib Hydrochloride|DRUG: Gamma-Secretase Inhibitor RO4929097|OTHER: Laboratory Biomarker Analysis|OTHER: Pharmacological Study",
            "DRUG: Venetoclax|DRUG: Ibrutinib|DRUG: Prednisone|BIOLOGICAL: Obinutuzumab|DRUG: Revlimid (lenalidomide)",
            "DRUG: gp100:209-217 (210M)|DRUG: Montanide ISA-51|DRUG: Imiquimod",
            "DRUG: Retifanlimab|BIOLOGICAL: Therapeutic CEA, Brachyury and MUC1 TriAdeno Vaccine Platform|DRUG: N-803|DRUG: SX-682",
            "DRUG: Azenosertib|PROCEDURE: Biopsy|PROCEDURE: Biospecimen Collection|PROCEDURE: Computed Tomography|PROCEDURE: Echocardiography|PROCEDURE: Magnetic Resonance Imaging|PROCEDURE: Multigated Acquisition Scan|BIOLOGICAL: Trastuzumab Deruxtecan",
            "BIOLOGICAL: PG13-MAGE-A3 TCR9W11 (anti-MAGE-A3/12 TCR) Transduced Autologous Peripheral Blood Lymphocytes|DRUG: Aldesleukin|DRUG: Cyclophosphamide|DRUG: Fludarabine",
            "DRUG: pazopanib hydrochloride|OTHER: laboratory biomarker analysis",
            "DRUG: 4'-iodo-4'-deoxydoxorubicin|OTHER: pharmacological study",
            "DRUG: Anetumab Ravtansine|DEVICE: Blood test",
            "BIOLOGICAL: Atezolizumab|PROCEDURE: Biopsy|PROCEDURE: Biospecimen Collection|PROCEDURE: Computed Tomography|PROCEDURE: Echocardiography|DRUG: Tiragolumab",
            "DRUG: BET Bromodomain Inhibitor ZEN-3694|PROCEDURE: Biopsy|PROCEDURE: Biospecimen Collection|PROCEDURE: Diagnostic Imaging|DRUG: Talazoparib",
            "DRUG: acetylsalicylic acid|DRUG: placebo|OTHER: laboratory biomarker analysis",
            "DRUG: decitabine|DRUG: vorinostat|OTHER: laboratory biomarker analysis|OTHER: pharmacological study",
            "DRUG: ziv-aflibercept|PROCEDURE: radiation therapy|DRUG: temozolomide|PROCEDURE: pharmacological study|PROCEDURE: laboratory biomarker analysis",
            "DRUG: paclitaxel|DRUG: cisplatin",
            "DRUG: SU5416 and carboplatin",
            "PROCEDURE: laparoscopic surgery|PROCEDURE: radiofrequency ablation|PROCEDURE: thermal ablation therapy",
            "PROCEDURE: Biospecimen Collection|OTHER: Laboratory Biomarker Analysis",
            "DRUG: Cytarabine|DRUG: Daunorubicin|DRUG: Uproleselan",
            "BIOLOGICAL: trastuzumab|DRUG: alvocidib|OTHER: laboratory biomarker analysis|OTHER: pharmacological study",
            "DRUG: triapine|DRUG: doxorubicin hydrochloride|OTHER: laboratory biomarker analysis|OTHER: pharmacological study",
            "BIOLOGICAL: ziv-aflibercept|OTHER: pharmacological study",
            "DRUG: Gefitinib|RADIATION: Radiotherapy|PROCEDURE: Conventional surgery|OTHER: laboratory biomarker analysis",
            "DRUG: R-(-)-gossypol acetic acid|OTHER: pharmacological study|OTHER: laboratory biomarker analysis",
            "DRUG: Fluorouracil|DRUG: Fluorouracil|DRUG: Irinotecan Hydrochloride|OTHER: Laboratory Biomarker Analysis|DRUG: Leucovorin Calcium|DRUG: Veliparib",
            "DRUG: 18F-Fluciclatide",
            "DRUG: KPT-8602|DRUG: Inqovi",
            "PROCEDURE: Biopsy|PROCEDURE: Biospecimen Collection|PROCEDURE: Mammography|OTHER: Questionnaire Administration|DRUG: Tamoxifen",
            "RADIATION: fludeoxyglucose F 18|PROCEDURE: positron emission tomography|PROCEDURE: computed tomography|DRUG: ferumoxtran-10|PROCEDURE: magnetic resonance imaging|PROCEDURE: diagnostic lymphadenectomy|PROCEDURE: lymph node biopsy",
            "DRUG: Bortezomib plus Clofarabine",
            "DEVICE: Codman 3000 constant flow pump catheter|DRUG: Panitumumab|DRUG: FUDR-Dex|DRUG: Oxaliplatin|DRUG: 5FU|DRUG: Irinotecan|PROCEDURE: HAIP installation|DRUG: cetuximab|DEVICE: Medtronic SynchroMed II Pump",
            "BIOLOGICAL: PROSTVAC-V|BIOLOGICAL: PROSTVAC-F|DRUG: Docetaxel",
            "DRUG: selumetinib|BIOLOGICAL: cetuximab|OTHER: laboratory biomarker analysis|OTHER: pharmacological study",
            "OTHER: physiologic testing|OTHER: study of socioeconomic and demographic variables|PROCEDURE: breast imaging study|PROCEDURE: study of high risk factors",
            "DRUG: Cytarabine|DRUG: Idarubicin Hydrochloride|DRUG: Navtemadlin",
            "DRUG: Gemcitabine Hydrochloride|DRUG: Tipifarnib|OTHER: Laboratory Biomarker Analysis",
            "DRUG: gefitinib|OTHER: placebo|OTHER: laboratory biomarker analysis",
            "DRUG: Eribulin Mesylate|OTHER: Pharmacological Study",
            "DRUG: imatinib mesylate|BIOLOGICAL: bevacizumab|OTHER: pharmacological study|OTHER: laboratory biomarker analysis",
            "DRUG: gefitinib|RADIATION: radiation therapy|OTHER: laboratory biomarker analysis",
            "PROCEDURE: Biopsy|PROCEDURE: Biospecimen Collection|DRUG: Cabozantinib S-malate|PROCEDURE: Computed Tomography|PROCEDURE: Echocardiography|BIOLOGICAL: Ipilimumab|PROCEDURE: Magnetic Resonance Imaging|BIOLOGICAL: Nivolumab",
            "DRUG: all-trans-retinoic acid with IFN-alpha2a",
            "DRUG: gemcitabine hydrochloride|DRUG: carboplatin|DRUG: bortezomib|OTHER: laboratory biomarker analysis",
            "DRUG: Erlotinib Hydrochloride|OTHER: Laboratory Biomarker Analysis|DRUG: Onalespib Lactate|OTHER: Pharmacological Study",
            "DRUG: tipifarnib|DRUG: isotretinoin|DRUG: fludarabine phosphate|DRUG: cytarabine|RADIATION: radiation therapy|DRUG: cyclophosphamide|BIOLOGICAL: anti-thymocyte globulin|PROCEDURE: allogeneic bone marrow transplantation|PROCEDURE: double-unit umbilical cord blood transplantation|PROCEDURE: umbilical cord blood transplantation|OTHER: laboratory biomarker analysis",
            "DRUG: Docetaxel - Dose A|DRUG: Anastrozole|DRUG: cyclophosphamide|DRUG: Docetaxel - Dose B|DRUG: Doxorubicin hydrochloride|DRUG: Tamoxifen Citrate|DRUG: Capecitabine - Dose B|DRUG: Capecitabine - Dose A",
            "DRUG: Docetaxel|OTHER: Laboratory Biomarker Analysis|DRUG: Prednisone|BIOLOGICAL: Recombinant Fowlpox-PSA(L155)/TRICOM Vaccine|BIOLOGICAL: Rilimogene Galvacirepvec",
            "PROCEDURE: Biospecimen Collection|BIOLOGICAL: Bleomycin Sulfate|DRUG: Brentuximab Vedotin|PROCEDURE: Computed Tomography|DRUG: Cyclophosphamide|DRUG: Dacarbazine|DRUG: Doxorubicin Hydrochloride|DRUG: Etoposide|DRUG: Etoposide Phosphate|OTHER: Fludeoxyglucose F-18|RADIATION: Involved-site Radiation Therapy|PROCEDURE: Magnetic Resonance Imaging|BIOLOGICAL: Nivolumab|PROCEDURE: Positron Emission Tomography|DRUG: Prednisolone|DRUG: Prednisone|DRUG: Procarbazine Hydrochloride|OTHER: Questionnaire Administration|DRUG: Vinblastine Sulfate|DRUG: Vincristine Sulfate",
            "BIOLOGICAL: Atezolizumab|PROCEDURE: Biospecimen Collection|PROCEDURE: Bone Scan|DRUG: Cabozantinib S-malate|PROCEDURE: Computed Tomography",
            "DRUG: exisulind|PROCEDURE: conventional surgery|PROCEDURE: neoadjuvant therapy",
            "PROCEDURE: Biopsy|PROCEDURE: Biospecimen Collection|PROCEDURE: Diagnostic Imaging|BIOLOGICAL: Novobiocin Sodium",
            "BIOLOGICAL: Aldesleukin|BIOLOGICAL: Dinutuximab|DRUG: Isotretinoin|OTHER: Laboratory Biomarker Analysis|OTHER: Pharmacological Study|OTHER: Quality-of-Life Assessment|BIOLOGICAL: Sargramostim",
            "DRUG: sunitinib malate|OTHER: pharmacological study|OTHER: laboratory biomarker analysis",
            "DRUG: Carboplatin|DRUG: Topotecan|DRUG: Topotecan Hydrochloride|DRUG: Veliparib",
            "BIOLOGICAL: Bevacizumab|DRUG: Carboplatin|PROCEDURE: Computed Tomography|DRUG: Paclitaxel|PROCEDURE: Therapeutic Conventional Surgery",
            "GENETIC: microarray analysis|PROCEDURE: biopsy|PROCEDURE: evaluation of cancer risk factors",
            "DRUG: Carboplatin|DRUG: Erlotinib|DRUG: Erlotinib Hydrochloride|DRUG: Paclitaxel",
            "BIOLOGICAL: human papillomavirus 16 E7 peptide|BIOLOGICAL: synthetic human papillomavirus 16 E6 peptide",
            "BIOLOGICAL: filgrastim|PROCEDURE: peripheral blood stem cell transplantation|RADIATION: yttrium Y 90 monoclonal antibody B3",
            "DRUG: binimetinib|DRUG: Encorafenib",
            "DRUG: Cabozantinib S-malate|BIOLOGICAL: Ipilimumab|BIOLOGICAL: Nivolumab",
            "DRUG: dasatinib|PROCEDURE: laboratory biomarker analysis|PROCEDURE: physiologic testing",
            "DRUG: Cisplatin|RADIATION: Intensity-Modulated Radiation Therapy|OTHER: Laboratory Biomarker Analysis|BIOLOGICAL: Pembrolizumab",
            "DRUG: Berzosertib|PROCEDURE: Biospecimen Collection|OTHER: Quality-of-Life Assessment|OTHER: Questionnaire Administration|RADIATION: Radiation Therapy",
            "DRUG: Azacitidine|DRUG: Gemtuzumab Ozogamicin",
            "DRUG: Topotecan|DRUG: VX-970 (M6620)",
            "BIOLOGICAL: oblimersen sodium|DRUG: dexrazoxane hydrochloride|DRUG: doxorubicin hydrochloride|DRUG: cyclophosphamide|BIOLOGICAL: filgrastim|OTHER: laboratory biomarker analysis|OTHER: pharmacological study",
            "OTHER: placebo|DRUG: gamma-secretase/Notch signalling pathway inhibitor RO4929097|DRUG: bicalutamide",
            "OTHER: Laboratory Biomarker Analysis|OTHER: Placebo Administration|OTHER: Quality-of-Life Assessment|DRUG: Sorafenib Tosylate",
            "PROCEDURE: Biospecimen Collection|BIOLOGICAL: HPV16 RG1 VLP Vaccine|OTHER: Questionnaire Administration|BIOLOGICAL: Recombinant Human Papillomavirus Nonavalent Vaccine|OTHER: Saline",
            "DRUG: Lapatinib",
            "BIOLOGICAL: Quadrivalent Human Papillomavirus (types 6, 11, 16, 18) Recombinant Vaccine|BIOLOGICAL: Recombinant Human Papillomavirus Bivalent Vaccine",
            "OTHER: Laboratory Biomarker Analysis|DRUG: Linsitinib|OTHER: Pharmacological Study|DRUG: Topotecan Hydrochloride",
            "PROCEDURE: Biospecimen Collection|DRUG: Lisinopril|PROCEDURE: Liver Ultrasonographic Elastography|PROCEDURE: Magnetic Resonance Elastography|PROCEDURE: Magnetic Resonance Imaging|PROCEDURE: Proton Density Fat Fraction|OTHER: Questionnaire Administration",
            "OTHER: Screening Questionnaire Administration|PROCEDURE: Sigmoidoscopy",
            "DRUG: fulvestrant|DRUG: tipifarnib",
            "BIOLOGICAL: Bevacizumab|DRUG: Irinotecan Hydrochloride|DRUG: Temozolomide",
            "DRUG: vorinostat|DRUG: bortezomib",
            "DRUG: 7-hydroxystaurosporine|DRUG: irinotecan hydrochloride|OTHER: diagnostic laboratory biomarker analysis",
            "DRUG: Cetuximab|DRUG: BAY 43-9006",
            "DRUG: ZACTIMA (Vandetanib) (ZD6474)",
            "BIOLOGICAL: HPV 16 E7:12-20|BIOLOGICAL: gp100:209-217(210M)|OTHER: laboratory biomarker analysis",
            "DRUG: gemcitabine hydrochloride|DRUG: sorafenib tosylate|OTHER: laboratory biomarker analysis",
            "BIOLOGICAL: SS1(dsFv)-PE38 immunotoxin",
            "OTHER: Cytology Specimen Collection Procedure|OTHER: Pharmacological Study",
            "DRUG: Cabozantinib",
            "BIOLOGICAL: Anti-cluster of differentiation 19 (CD19)-Chimeric Antigen Receptors (CAR) and Anti-cluster of differentiation 20 (CD20)-CAR T cells|DRUG: Cyclophosphamide|DRUG: Fludarabine",
            "DRUG: Cediranib, AZD2171, RECENTIN",
            "OTHER: Laboratory Biomarker Analysis|DRUG: Lenalidomide|BIOLOGICAL: Rituximab",
            "PROCEDURE: Biopsy|PROCEDURE: Biospecimen Collection|PROCEDURE: Bone Marrow Aspiration|PROCEDURE: Bone Marrow Biopsy|DRUG: Ceralasertib|PROCEDURE: Computed Tomography|PROCEDURE: Magnetic Resonance Imaging|DRUG: Olaparib",
            "DRUG: Azacitidine|DRUG: Pinometostat",
            "DRUG: Endoxifen Hydrochloride|OTHER: Laboratory Biomarker Analysis|OTHER: Pharmacological Study|OTHER: Questionnaire Administration",
            "DRUG: erlotinib hydrochloride|OTHER: pharmacological study|OTHER: pharmacogenomic studies|OTHER: laboratory biomarker analysis",
            "PROCEDURE: Biopsy|PROCEDURE: Biospecimen Collection|PROCEDURE: Computed Tomography|PROCEDURE: Magnetic Resonance Imaging|BIOLOGICAL: Panitumumab|DRUG: Sotorasib",
            "BIOLOGICAL: CV301|DRUG: MSB0011359C|DRUG: N-803|DRUG: NHS-IL12",
            "DRUG: topotecan hydrochloride|DRUG: vincristine sulfate|DRUG: cyclophosphamide|BIOLOGICAL: bevacizumab",
            "DRUG: gamma-secretase/Notch signalling pathway inhibitor RO4929097|OTHER: diagnostic laboratory biomarker analysis|OTHER: pharmacogenomic studies|OTHER: pharmacological study",
            "DRUG: docetaxel|OTHER: placebo|DRUG: prednisone|BIOLOGICAL: bevacizumab|OTHER: laboratory biomarker analysis",
            "DRUG: Azacitidine|DRUG: Etoposide|OTHER: Laboratory Biomarker Analysis|DRUG: Mitoxantrone Hydrochloride",
            "BIOLOGICAL: Cixutumumab|DRUG: Cyclophosphamide|BIOLOGICAL: Dactinomycin|DRUG: Doxorubicin Hydrochloride|DRUG: Etoposide|DRUG: Ifosfamide|DRUG: Irinotecan Hydrochloride|OTHER: Laboratory Biomarker Analysis|DRUG: Temozolomide|DRUG: Vincristine Sulfate Liposome",
            "DRUG: perifosine|OTHER: laboratory biomarker analysis",
            "BIOLOGICAL: Montanide (Registered Trademark) ISA-51 VG Adjuvant|BIOLOGICAL: H1299 Cell Lysates|DRUG: N-803|DEVICE: Ventana PD-L1 (SP263 or SP142) assay",
            "PROCEDURE: Biospecimen Collection|BIOLOGICAL: Blinatumomab|PROCEDURE: Bone Marrow Aspiration and Biopsy|BIOLOGICAL: Ipilimumab|BIOLOGICAL: Nivolumab",
            "OTHER: Diagnostic Laboratory Biomarker Analysis|OTHER: Pharmacological Study|DRUG: Sunitinib Malate",
            "DRUG: Vorinostat|RADIATION: Stereotactic Radiosurgery|OTHER: Laboratory Biomarker Analysis|OTHER: Pharmacological Study|PROCEDURE: Therapeutic Conventional Surgery",
            "DRUG: atorvastatin calcium|OTHER: laboratory biomarker analysis",
            "DRUG: AZD6244|DRUG: Erlotinib|DRUG: AZD6244 + Erlotinib",
            "PROCEDURE: Biospecimen Collection|PROCEDURE: Computed Tomography|DRUG: Lutetium Lu 177 Dotatate|PROCEDURE: Magnetic Resonance Imaging|PROCEDURE: Positron Emission Tomography|DRUG: Sunitinib Malate",
            "BEHAVIORAL: ACT Workshop",
            "BIOLOGICAL: Autologous HuCD19 ( Anti-CD19)CAR T cells|DRUG: Cyclophosphamide|DRUG: Fludarabine|DRUG: Rituximab",
            "DRUG: placebo|DIETARY_SUPPLEMENT: defined green tea catechin extract|OTHER: laboratory biomarker analysis",
            "OTHER: Laboratory Biomarker Analysis|DRUG: Naproxen|OTHER: Placebo Administration",
            "DRUG: ixabepilone|OTHER: pharmacological study|DRUG: Anticonvulsant",
            "DRUG: CC-486 (5-azacitidine)|DRUG: Duvelisib|DRUG: Romidepsin|DRUG: Doxorubicin",
            "DRUG: Berzosertib|DRUG: Carboplatin|DRUG: Gemcitabine Hydrochloride|OTHER: Laboratory Biomarker Analysis|OTHER: Pharmacological Study",
            "PROCEDURE: Biospecimen Collection|DRUG: Cabozantinib S-malate|PROCEDURE: Computed Tomography|PROCEDURE: FDG-Positron Emission Tomography|PROCEDURE: Magnetic Resonance Imaging|BIOLOGICAL: Nivolumab|DRUG: Paclitaxel|OTHER: Quality-of-Life Assessment|OTHER: Questionnaire Administration",
            "DRUG: pazopanib hydrochloride|OTHER: pharmacological study",
            "BIOLOGICAL: Ad5CMV-p53 gene|OTHER: laboratory biomarker analysis",
            "BIOLOGICAL: Bevacizumab|DRUG: Sorafenib Tosylate|OTHER: Pharmacological Study|OTHER: Laboratory Biomarker Analysis",
            "BIOLOGICAL: filgrastim|DRUG: amifostine trihydrate|DRUG: cyclophosphamide|DRUG: doxorubicin hydrochloride|DRUG: etoposide|DRUG: ifosfamide|DRUG: topotecan hydrochloride|DRUG: vincristine sulfate|PROCEDURE: conventional surgery|RADIATION: low-LET cobalt-60 gamma ray therapy|RADIATION: low-LET electron therapy|RADIATION: low-LET photon therapy",
            "DRUG: Akt Inhibitor MK2206|DRUG: Fluorouracil|DRUG: Oxaliplatin|DRUG: Selumetinib",
            "BIOLOGICAL: Ipilimumab|OTHER: Quality-of-Life Assessment|BIOLOGICAL: Recombinant Interferon Alfa-2b",
            "DRUG: 18F-fluciclovine injection|PROCEDURE: 18F-FDG PET/CT",
            "DRUG: LMB-100|DRUG: Tofacitinib|DEVICE: Mesothelin Expression",
            "DRUG: Atezolizumab|PROCEDURE: Biopsy|PROCEDURE: Biospecimen Collection|PROCEDURE: Bone Marrow Biopsy|PROCEDURE: Computed Tomography|DRUG: Gemcitabine|PROCEDURE: Magnetic Resonance Imaging|DRUG: Oxaliplatin|PROCEDURE: Positron Emission Tomography|BIOLOGICAL: Rituximab",
            "PROCEDURE: Biospecimen Collection|DRUG: Carboplatin|DRUG: Cisplatin|OTHER: Clinical Observation|PROCEDURE: Computed Tomography|DRUG: Crizotinib|OTHER: Cytology Specimen Collection Procedure|PROCEDURE: Echocardiography|DRUG: Erlotinib|DRUG: Gemcitabine Hydrochloride|BIOLOGICAL: Nivolumab|DRUG: Paclitaxel|BIOLOGICAL: Pembrolizumab|DRUG: Pemetrexed|DRUG: Pemetrexed Disodium|OTHER: Placebo Administration|PROCEDURE: Positron Emission Tomography",
            "BIOLOGICAL: Alemtuzumab (Campath)|DRUG: EPOCH",
            "DRUG: FOLFOX regimen|DRUG: gamma-secretase/Notch signalling pathway inhibitor RO4929097|BIOLOGICAL: bevacizumab|DRUG: oxaliplatin|DRUG: leucovorin calcium|DRUG: fluorouracil",
            "DRUG: vorinostat|PROCEDURE: conventional surgery",
            "PROCEDURE: Biopsy|DRUG: Calcipotriene|DRUG: Fluorouracil",
            "DRUG: acetylsalicylic acid|DRUG: esomeprazole magnesium|OTHER: placebo",
            "DRUG: Belinostat|PROCEDURE: Biopsy|PROCEDURE: Biospecimen Collection|PROCEDURE: Computed Tomography|DRUG: Decitabine and Cedazuridine|DRUG: Guadecitabine|PROCEDURE: Magnetic Resonance Imaging",
            "BIOLOGICAL: wild-type reovirus|DRUG: cyclophosphamide|OTHER: laboratory biomarker analysis|OTHER: pharmacological study",
            "DRUG: KRN5500|OTHER: pharmacological study",
            "BIOLOGICAL: Navitoclax|DRUG: Vistusertib",
            "DRUG: Vandetanib|DRUG: Metformin|DRUG: Vandetanib/Metformin",
            "DRUG: aerosolized aztreonam|DRUG: aerosolized vancomycin|DRUG: pembrolizumab",
            "DRUG: Dasatinib|DIETARY_SUPPLEMENT: Icosapent Ethyl",
            "DRUG: Pomalidomide|DRUG: Nivolumab",
            "BIOLOGICAL: tyrosinase peptide|BIOLOGICAL: MART-1:27-35 peptide vaccine|BIOLOGICAL: gp100 antigen|BIOLOGICAL: incomplete Freund's adjuvant|BIOLOGICAL: sargramostim|OTHER: laboratory biomarker analysis",
            "BIOLOGICAL: Aldesleukin|OTHER: Diagnostic Laboratory Biomarker Analysis|BIOLOGICAL: Dinutuximab|DRUG: Isotretinoin|BIOLOGICAL: Sargramostim",
            "DRUG: dendritic cell-gp100-MART-1 antigen vaccine|DRUG: sargramostim",
            "DRUG: 7-hydroxystaurosporine|DRUG: fludarabine phosphate",
            "DRUG: FLAC chemotherapy with GM-CSF",
            "DRUG: celecoxib",
            "BIOLOGICAL: Bevacizumab|DRUG: Everolimus|DRUG: Octreotide Acetate",
            "DRUG: Rituximab (R)|BIOLOGICAL: EPOCH|DRUG: Bortezomib (B)|DRUG: Bortezomib|DRUG: Bortezomib or observation",
            "BIOLOGICAL: aldesleukin|BIOLOGICAL: incomplete Freund's adjuvant|BIOLOGICAL: recombinant tyrosinase-related protein-2",
            "BIOLOGICAL: Cixutumumab|OTHER: Laboratory Biomarker Analysis|DRUG: Temsirolimus",
            "DRUG: irinotecan (CPT-11)",
            "DRUG: cytarabine|DRUG: triapine|OTHER: laboratory biomarker analysis",
            "DRUG: 2-methoxyestradiol",
            "DRUG: Fostamatinib disodium",
            "DRUG: Alisertib|OTHER: Laboratory Biomarker Analysis|OTHER: Pharmacological Study",
            "DRUG: Erlotinib Hydrochloride|DRUG: Pemetrexed Disodium",
            "DRUG: alendronate sodium|DRUG: ketoconazole",
            "DRUG: Asparaginase|DRUG: Bortezomib|DRUG: Cytarabine|DRUG: Daunorubicin Hydrochloride|DRUG: Etoposide|OTHER: Laboratory Biomarker Analysis|DRUG: Mitoxantrone Hydrochloride|OTHER: Pharmacological Study|OTHER: Quality-of-Life Assessment|OTHER: Questionnaire Administration|DRUG: Sorafenib Tosylate",
            "DRUG: Ibrutinib|BIOLOGICAL: Obinutuzumab|OTHER: Observation|DRUG: Venetoclax",
            "DRUG: EF-1 Peptide|DRUG: EF-2 Peptide|DRUG: PXFK Peptide|DRUG: E7 Peptide|DRUG: IL-2|DRUG: IL-4|DRUG: GM-CSF|DRUG: CD40 Ligand",
            "DRUG: Belinostat (PDX101)",
            "GENETIC: 2G-1 TCR Retroviral Vector-Transduced lyn|DRUG: Aldesleukin|DRUG: Cyclophosphamide|DRUG: Fludarabine|DRUG: (PG13-A(F/K-F-SGSG-T2a-B (opt) (2G-1 TCR) retroviral vector-transduced lymphocyte",
            "BIOLOGICAL: Ad5CMV-p53 gene|DRUG: chemotherapy",
            "RADIATION: fludeoxyglucose F 18|OTHER: 18F-fluoromisonidazole|PROCEDURE: positron emission tomography|PROCEDURE: computed tomography|OTHER: laboratory biomarker analysis",
            "DRUG: Paclitaxel|DRUG: Carboplatin|DRUG: Vorinostat|OTHER: Placebo|OTHER: Laboratory Biomarker Analysis",
            "DRUG: fludarabine phosphate|DRUG: triapine|PROCEDURE: laboratory biomarker analysis",
            "DRUG: preoperative dose intense chemotherapy (FLAC/G-CSF)",
            "OTHER: Laboratory Biomarker Analysis|DRUG: Palbociclib|OTHER: Pharmacological Study",
            "PROCEDURE: Bone Marrow Aspiration and Biopsy|PROCEDURE: Computed Tomography|PROCEDURE: Echocardiography|DRUG: Lenalidomide|PROCEDURE: Lumbar Puncture|PROCEDURE: Magnetic Resonance Imaging|DRUG: Methotrexate|BIOLOGICAL: Nivolumab|PROCEDURE: Positron Emission Tomography|BIOLOGICAL: Rituximab|PROCEDURE: Ultrasound Imaging",
            "DRUG: Bevacizumab",
            "DRUG: bendamustine hydrochloride|DRUG: obatoclax mesylate|BIOLOGICAL: rituximab",
            "BIOLOGICAL: bevacizumab|DRUG: fluorouracil|DRUG: leucovorin calcium",
            "BIOLOGICAL: rituximab|RADIATION: indium In 111 ibritumomab tiuxetan|RADIATION: yttrium Y 90 ibritumomab tiuxetan",
            "BIOLOGICAL: oblimersen sodium|DRUG: gemcitabine hydrochloride|OTHER: pharmacological study|OTHER: laboratory biomarker analysis",
            "DRUG: Adavosertib|RADIATION: Radiation Therapy|DRUG: Temozolomide",
            "DRUG: Pomalidomide|DRUG: Rituximab|DRUG: Prednisone|DRUG: Etoposide|DRUG: Doxorubicin|DRUG: Vincristine|DRUG: Cyclophosphamide",
            "DRUG: Alisertib|OTHER: Laboratory Biomarker Analysis|DRUG: Romidepsin",
            "BIOLOGICAL: recombinant interferon alfa|DRUG: thalidomide|OTHER: laboratory biomarker analysis",
            "OTHER: Laboratory Biomarker Analysis|BIOLOGICAL: Nivolumab|OTHER: Pharmacogenomic Study",
            "RADIATION: radiation therapy|DRUG: carboxyamidotriazole|OTHER: pharmacological study",
            "DRUG: Carboplatin|PROCEDURE: Computed Tomography|DRUG: Paclitaxel|BIOLOGICAL: Pembrolizumab|OTHER: Placebo Administration|OTHER: Quality-of-Life Assessment|OTHER: Questionnaire Administration",
            "DRUG: AMP-224|RADIATION: Stereotactic Body Radiation Therapy(SBRT)|DRUG: Cyclophosphamide",
            "DRUG: Tandutinib",
            "DRUG: Ibrutinib|OTHER: Laboratory Biomarker Analysis|DRUG: Lenalidomide|OTHER: Pharmacological Study|BIOLOGICAL: Rituximab",
            "DRUG: Tariquidar|DRUG: Tc-94m Sestamibi",
            "PROCEDURE: Biospecimen Collection|PROCEDURE: Bone Marrow Aspiration|PROCEDURE: Bone Marrow Biopsy|DRUG: Calaspargase Pegol|PROCEDURE: Computed Tomography|DRUG: Cyclophosphamide|DRUG: Cytarabine|DRUG: Daunorubicin|DRUG: Dexamethasone|DRUG: Doxorubicin|PROCEDURE: Echocardiography|PROCEDURE: Lumbar Puncture|DRUG: Mercaptopurine|DRUG: Methotrexate|PROCEDURE: Multigated Acquisition Scan|BIOLOGICAL: Navitoclax|DRUG: Nelarabine|DRUG: Pegaspargase|PROCEDURE: Positron Emission Tomography|DRUG: Thioguanine|DRUG: Venetoclax|DRUG: Vincristine|PROCEDURE: X-Ray Imaging",
            "BIOLOGICAL: mRNA-1273",
            "DRUG: Cytarabine|DRUG: Daunorubicin Hydrochloride|DRUG: Etoposide|DRUG: Idarubicin Hydrochloride|OTHER: Laboratory Biomarker Analysis|OTHER: Pharmacological Study|DRUG: Pomalidomide",
            "DRUG: cisplatin|DRUG: ixabepilone",
            "DRUG: triapine|DRUG: gemcitabine hydrochloride|OTHER: laboratory biomarker analysis",
            "DRUG: Busulfan|DRUG: Fludarabine|DRUG: Cyclophosphamide|DRUG: Mycophenolate Mofetil|DRUG: Sirolimus",
            "DRUG: Steroids|DRUG: ZD6474",
            "DRUG: Docosahexaenoic Acid|OTHER: Placebo",
            "BIOLOGICAL: Anti-MAGE-A3-DP4 T Cell Receptor (TCR) Peripheral Blood Lymphocytes (PBL)|DRUG: Cyclophosphamide|DRUG: Fludarabine|DRUG: Aldesleukin",
            "BIOLOGICAL: Blinatumomab|BIOLOGICAL: Inotuzumab Ozogamicin",
            "DRUG: ispinesib",
            "PROCEDURE: Biopsy|PROCEDURE: Biospecimen Collection|PROCEDURE: Computed Tomography|PROCEDURE: Echocardiography|OTHER: Electronic Health Record Review|DRUG: Enfortumab Vedotin|OTHER: Immunohistochemistry Staining Method|PROCEDURE: Magnetic Resonance Imaging|PROCEDURE: Multigated Acquisition Scan|BIOLOGICAL: Sacituzumab Govitecan|BIOLOGICAL: Trastuzumab Deruxtecan",
            "DEVICE: Cellvizio (Registered trademark)Real-Time In Vivo Cellular Imaging Platform with Confocal Miniprobes|DEVICE: Olympus GIF 190 endoscope",
            "PROCEDURE: Computed Tomography|OTHER: Iodine I 124|RADIATION: Iodine I-131|OTHER: Laboratory Biomarker Analysis|OTHER: Pharmacodynamic Study|PROCEDURE: Positron Emission Tomography|DRUG: Trametinib",
            "BIOLOGICAL: ziv-aflibercept|OTHER: pharmacological study|OTHER: laboratory biomarker analysis",
            "BIOLOGICAL: Electroporation-Mediated Plasmid DNA Vaccine Therapy|BIOLOGICAL: HCV DNA Vaccine INO-8000|OTHER: Laboratory Biomarker Analysis|OTHER: Quality-of-Life Assessment|BIOLOGICAL: Rocakinogene Sifuplasmid",
            "BIOLOGICAL: Bevacizumab|DRUG: Fluorouracil|DRUG: Irinotecan Hydrochloride|DRUG: Leucovorin Calcium|DRUG: Sorafenib Tosylate",
            "DRUG: Entinostat|OTHER: Laboratory Biomarker Analysis|DRUG: Lapatinib Ditosylate|BIOLOGICAL: Trastuzumab",
            "BIOLOGICAL: Anti-cluster of differentiation 19 (CD19)-Chimeric Antigen Receptor (CAR) T cells|DRUG: Cyclophosphamide|DRUG: Fludarabine",
            "DRUG: Anti-CD19 CAR PBL",
            "DRUG: Binimetinib|PROCEDURE: Biopsy|PROCEDURE: Biospecimen Collection|PROCEDURE: Bone Scan|PROCEDURE: Computed Tomography|PROCEDURE: Echocardiography|DRUG: Fluorouracil|DRUG: Leucovorin Calcium|PROCEDURE: Magnetic Resonance Imaging|PROCEDURE: Multigated Acquisition Scan|DRUG: Oxaliplatin",
            "BIOLOGICAL: Durvalumab|RADIATION: Radiation Therapy|BIOLOGICAL: Tremelimumab",
            "BIOLOGICAL: GTI-2040|DRUG: oxaliplatin|DRUG: capecitabine|OTHER: pharmacological study|OTHER: laboratory biomarker analysis",
            "OTHER: placebo|OTHER: quality-of-life assessment|PROCEDURE: questionnaire administration|PROCEDURE: laboratory biomarker analysis|DRUG: defined green tea catechin extract",
            "DRUG: lapatinib ditosylate|PROCEDURE: Adjuvant therapy|PROCEDURE: Conventional surgery|PROCEDURE: Neoadjuvant therapy",
            "BIOLOGICAL: Bevacizumab|OTHER: Laboratory Biomarker Analysis|OTHER: Pharmacological Study|DRUG: Sapanisertib",
            "DRUG: Berzosertib|PROCEDURE: Biopsy|PROCEDURE: Biospecimen Collection|PROCEDURE: Computed Tomography|DRUG: Topotecan Hydrochloride",
            "DRUG: gemcitabine hydrochloride|DRUG: cisplatin|BIOLOGICAL: bevacizumab|OTHER: placebo|OTHER: laboratory biomarker analysis",
            "DRUG: romidepsin|BIOLOGICAL: rituximab|DRUG: fludarabine phosphate|OTHER: laboratory biomarker analysis",
            "BIOLOGICAL: Peptide loaded dendritic cell vaccine",
            "DRUG: CC-8490",
            "BIOLOGICAL: rilotumumab|DRUG: cisplatin|DRUG: pemetrexed disodium|OTHER: laboratory biomarker analysis",
            "DRUG: capecitabine|DRUG: gefitinib|OTHER: pharmacological study|OTHER: laboratory biomarker analysis",
            "BIOLOGICAL: Aldesleukin|BIOLOGICAL: Bevacizumab|OTHER: Laboratory Biomarker Analysis",
            "BIOLOGICAL: Bevacizumab|BIOLOGICAL: Ipilimumab",
            "DRUG: semaxanib|OTHER: laboratory biomarker analysis",
            "DRUG: Pembrolizumab|DRUG: Enfortumab vedotin",
            "DRUG: vismodegib|PROCEDURE: therapeutic conventional surgery|OTHER: laboratory biomarker analysis|OTHER: pharmacological study",
            "BIOLOGICAL: recombinant interleukin-12|BIOLOGICAL: recombinant interferon alfa|OTHER: laboratory biomarker analysis",
            "BIOLOGICAL: Bevacizumab|OTHER: Laboratory Biomarker Analysis|OTHER: Pharmacological Study|OTHER: Placebo Administration|BIOLOGICAL: Trebananib",
            "DRUG: AZD6244",
            "DRUG: Aspirin|OTHER: Laboratory Biomarker Analysis|OTHER: Placebo Administration|OTHER: Placebo Administration|DRUG: Zileuton",
            "BIOLOGICAL: bevacizumab|BIOLOGICAL: filgrastim|BIOLOGICAL: pegfilgrastim|DRUG: bortezomib|DRUG: cyclophosphamide|DRUG: doxorubicin hydrochloride|DRUG: etoposide|DRUG: ganciclovir|DRUG: valganciclovir|DRUG: zidovudine",
            "PROCEDURE: Biopsy|PROCEDURE: Magnetic Resonance Imaging|RADIATION: Radiation Therapy|DRUG: Selinexor",
            "DRUG: Trastuzumab|DRUG: GRN 1005",
            "BIOLOGICAL: Bevacizumab|OTHER: Laboratory Biomarker Analysis|OTHER: Pharmacological Study|DRUG: Sorafenib Tosylate|DRUG: Temsirolimus",
            "BIOLOGICAL: incomplete Freund's adjuvant|BIOLOGICAL: von Hippel-Lindau peptide vaccine",
            "DRUG: Capecitabine|DRUG: Fluorouracil|OTHER: Laboratory Biomarker Analysis|DRUG: Leucovorin Calcium|DRUG: Trametinib",
            "OTHER: Laboratory Biomarker Analysis|DRUG: Lenalidomide|DRUG: Temsirolimus",
            "BIOLOGICAL: Dinutuximab|OTHER: Laboratory Biomarker Analysis|OTHER: Pharmacological Study|BIOLOGICAL: Sargramostim",
            "RADIATION: F-18 16 alpha-fluoroestradiol|RADIATION: fludeoxyglucose F 18|PROCEDURE: positron emission tomography|PROCEDURE: positron emission tomography|PROCEDURE: computed tomography|OTHER: laboratory biomarker analysis",
            "BEHAVIORAL: Intervention Arm|BEHAVIORAL: Control",
            "DRUG: obatoclax mesylate|DRUG: fludarabine phosphate|BIOLOGICAL: rituximab|OTHER: laboratory biomarker analysis",
            "PROCEDURE: Biospecimen Collection|PROCEDURE: Computed Tomography|DRUG: Dabrafenib Mesylate|PROCEDURE: Echocardiography|PROCEDURE: Multigated Acquisition Scan|PROCEDURE: Positron Emission Tomography|DRUG: Trametinib Dimethyl Sulfoxide",
            "DRUG: alvocidib|OTHER: pharmacological study",
            "DRUG: WT1 Peptide-Pulsed Dendritic Cells|DRUG: Donor Lymphocytes|DRUG: IL-4|DRUG: KLH|DRUG: WT1 Peptides|DRUG: Endotoxin|DRUG: Diphenhydramine|DRUG: Acetaminophen",
            "BIOLOGICAL: E7 TCR cells|DRUG: Aldesleukin|DRUG: Fludarabine|DRUG: Cyclophosphamide",
            "DRUG: GTI-2040|PROCEDURE: pharmacological study|PROCEDURE: laboratory biomarker analysis",
            "DRUG: nivolumab|DRUG: tadalafil|DRUG: oral vancomycin",
            "BIOLOGICAL: Trastuzumab Emtansine",
            "BIOLOGICAL: CD22-CAR",
            "BIOLOGICAL: rituximab|DRUG: prednisone|DRUG: cyclophosphamide|DRUG: doxorubicin|DRUG: vincristine|RADIATION: indium In 111 ibritumomab tiuxetan|RADIATION: radiation therapy|PROCEDURE: positron emission tomography",
            "DRUG: oxaliplatin|DRUG: topotecan",
            "DRUG: Id-KLH Vaccine|DRUG: GM-CSF",
            "DRUG: paclitaxel|DRUG: carboplatin|DRUG: temsirolimus",
            "DRUG: Azacitidine|OTHER: Laboratory Biomarker Analysis|DRUG: Oxaliplatin|OTHER: Pharmacological Study",
            "DRUG: vorinostat|DRUG: tacrolimus|DRUG: cyclosporine|DRUG: methotrexate|OTHER: laboratory biomarker analysis|OTHER: pharmacological study",
            "DRUG: Ibrutinib|OTHER: Laboratory Biomarker Analysis|DRUG: Palbociclib|OTHER: Pharmacological Study",
            "PROCEDURE: Biopsy|PROCEDURE: Biospecimen Collection|BIOLOGICAL: Blinatumomab|PROCEDURE: Bone Marrow Aspiration and Biopsy|PROCEDURE: Computed Tomography|DRUG: Dasatinib|PROCEDURE: Echocardiography|PROCEDURE: Lumbar Puncture|PROCEDURE: Magnetic Resonance Imaging|DRUG: Mercaptopurine|DRUG: Methotrexate|DRUG: Methotrexate Sodium|DRUG: Prednisone|DRUG: Vincristine|DRUG: Vincristine Sulfate|PROCEDURE: X-Ray Imaging",
            "PROCEDURE: Biospecimen Collection|PROCEDURE: Bone Marrow Aspiration and Biopsy|PROCEDURE: Bone Scan|PROCEDURE: Computed Tomography|DRUG: Erdafitinib|OTHER: Laboratory Biomarker Analysis|PROCEDURE: Magnetic Resonance Imaging|OTHER: Pharmacological Study|PROCEDURE: Positron Emission Tomography|PROCEDURE: Radionuclide Imaging|PROCEDURE: X-Ray Imaging",
            "DRUG: gefitinib|OTHER: pharmacological study|OTHER: laboratory biomarker analysis",
            "DRUG: etoposide|DRUG: mitoxantrone hydrochloride|DRUG: valspodar",
            "BIOLOGICAL: rituximab|DRUG: cyclophosphamide|BIOLOGICAL: filgrastim|RADIATION: yttrium Y 90 ibritumomab tiuxetan|PROCEDURE: peripheral blood stem cell transplantation",
            "BIOLOGICAL: recombinant interleukin-12|OTHER: laboratory biomarker analysis",
            "DEVICE: Thinprep|DEVICE: Hybrid capture 2|PROCEDURE: Colposcopy",
            "DRUG: Cisplatin|DRUG: Methoxyamine|DRUG: Pemetrexed Disodium",
            "OTHER: Questionnaire Administration|RADIATION: Radiation Therapy|DRUG: Telaglenastat Hydrochloride|DRUG: Temozolomide",
            "DRUG: Bicalutamide|OTHER: Laboratory Biomarker Analysis|DRUG: Pazopanib Hydrochloride|OTHER: Pharmacological Study",
            "DRUG: interleukin-1",
            "DRUG: tanespimycin|DRUG: irinotecan hydrochloride",
            "DRUG: tipifarnib|OTHER: placebo",
            "PROCEDURE: Biopsy|PROCEDURE: Biospecimen Collection|PROCEDURE: Computed Tomography|PROCEDURE: Magnetic Resonance Imaging|DRUG: UAE Inhibitor TAK-243",
            "DRUG: paclitaxel concurrent with radiation therapy",
            "BIOLOGICAL: recombinant interferon alfa-2b|DRUG: amifostine/azacitidine",
            "BIOLOGICAL: recombinant vaccinia-MUC1 vaccine|BIOLOGICAL: recombinant vaccinia-TRICOM vaccine|OTHER: laboratory biomarker analysis|PROCEDURE: quality-of-life assessment",
            "OTHER: Laboratory Biomarker Analysis|OTHER: Pharmacological Study|DRUG: Selumetinib|DRUG: Selumetinib Sulfate",
            "DRUG: BAY 43-9006|DRUG: docetaxel|DRUG: cisplatin",
            "DRUG: Bintrafusp Alfa|DRUG: NHS-IL12|DRUG: Entinostat",
            "OTHER: Laboratory Biomarker Analysis|OTHER: Pharmacological Study|DRUG: Temozolomide|DRUG: Veliparib",
            "DRUG: Docetaxel|OTHER: Laboratory Biomarker Analysis|DRUG: Trametinib",
            "DRUG: Lenalidomide|RADIATION: XRT, 54-59.4 Gy",
            "DRUG: dexamethasone|DRUG: temsirolimus|OTHER: laboratory biomarker analysis",
            "BIOLOGICAL: Anti-CD19 and anti-CD20 bicistronic CAR T- cells|DRUG: Cyclophosphamide|DRUG: Fludarabine",
            "BEHAVIORAL: Enhanced Mindfulness Intervention|BEHAVIORAL: Psychoeducation",
            "DRUG: Azacitidine|PROCEDURE: Biopsy|PROCEDURE: Biospecimen Collection|PROCEDURE: Bone Marrow Aspiration|PROCEDURE: Bone Marrow Biopsy|BIOLOGICAL: Pembrolizumab|DRUG: Venetoclax",
            "PROCEDURE: Biopsy|PROCEDURE: Biospecimen Collection|PROCEDURE: Computed Tomography|DRUG: Copanlisib|PROCEDURE: Echocardiography|BIOLOGICAL: Ipilimumab|PROCEDURE: Magnetic Resonance Imaging|BIOLOGICAL: Nivolumab",
            "DRUG: retinoid 9cUAB30|OTHER: placebo|OTHER: pharmacological study|OTHER: laboratory biomarker analysis|OTHER: cancer prevention",
            "OTHER: Laboratory Biomarker Analysis|DRUG: Soy Isoflavones|OTHER: Survey Administration",
            "DRUG: ADT|DRUG: Prednisone|DRUG: M7824|DRUG: Docetaxel|DRUG: M9241",
            "DRUG: AZD 2281|DRUG: Cisplatin|DRUG: Gemcitabine",
            "PROCEDURE: Biopsy|PROCEDURE: Biospecimen Collection|PROCEDURE: Computed Tomography|RADIATION: Hypofractionated Radiation Therapy|PROCEDURE: Magnetic Resonance Imaging|DRUG: Peposertib|OTHER: Placebo Administration",
            "DRUG: Apalutamide|PROCEDURE: Biospecimen Collection|OTHER: Quality-of-Life Assessment",
            "DRUG: oral microencapsulated diindolylmethane",
            "PROCEDURE: Biopsy|PROCEDURE: Biospecimen Collection|PROCEDURE: Computed Tomography|PROCEDURE: Magnetic Resonance Imaging|DRUG: Olaparib|BIOLOGICAL: Pembrolizumab",
            "BIOLOGICAL: National Cancer Institute (NCI)-4650, a messenger ribonucleic acid (mRNA)-based, Personalized Cancer Vaccine",
            "DIETARY_SUPPLEMENT: garlic|DRUG: docetaxel",
            "DRUG: LMB-100|DRUG: SEL-110",
            "BIOLOGICAL: ALVAC-hB7.1|BIOLOGICAL: recombinant interferon gamma|OTHER: laboratory biomarker analysis",
            "OTHER: Laboratory Biomarker Analysis|OTHER: Quality-of-Life Assessment|RADIATION: Radiation Therapy|DRUG: Veliparib",
            "PROCEDURE: Total Thyroidectomy (TT)|PROCEDURE: Prophylactic central neck lymph node dissection (pCND)",
            "DRUG: Pembrolizumab|DRUG: Aldesleukin",
            "OTHER: Pharmacological Study|DRUG: Romidepsin",
            "OTHER: placebo|DRUG: Bowman-Birk inhibitor concentrate",
            "PROCEDURE: Biospecimen Collection|PROCEDURE: Bone Marrow Biopsy|OTHER: Clinical Observation|PROCEDURE: Echocardiography|BIOLOGICAL: Nivolumab",
            "DRUG: paclitaxel",
            "BIOLOGICAL: Atezolizumab|PROCEDURE: Biopsy|PROCEDURE: Biospecimen Collection|DRUG: Cobimetinib|PROCEDURE: Computed Tomography|PROCEDURE: Magnetic Resonance Imaging|DRUG: Varlilumab",
            "DRUG: gamma-secretase/Notch signalling pathway inhibitor RO4929097|OTHER: pharmacological study|PROCEDURE: therapeutic conventional surgery|OTHER: laboratory biomarker analysis",
            "PROCEDURE: Isolated hepatic portal and arterial perfusion|DRUG: Melphalan",
            "DRUG: iodine I 131 monoclonal antibody CC49-deltaCH2",
            "DRUG: paclitaxel|DRUG: carboplatin|DRUG: erlotinib",
            "DRUG: obatoclax mesylate|DRUG: bortezomib|OTHER: laboratory biomarker analysis|OTHER: pharmacological study",
            "BIOLOGICAL: Bevacizumab|DRUG: Imatinib Mesylate|OTHER: Laboratory Biomarker Analysis|OTHER: Pharmacological Study",
            "DRUG: in vitro tumor reactive, chimeric T cell receptor (CAR ) gene-transduced PBL plus IV aldesleukin|DRUG: Cyclophosphamide|DRUG: Fludarabine|DRUG: Mesna",
            "DRUG: Doxorubicin Hydrochloride|OTHER: Laboratory Biomarker Analysis|OTHER: Pharmacogenomic Study|DRUG: Sorafenib Tosylate",
            "DRUG: Ferumoxytol|DRUG: Irinotecan Sucrosofate|OTHER: Laboratory Biomarker Analysis|PROCEDURE: Magnetic Resonance Imaging|DRUG: Veliparib",
            "DRUG: tipifarnib|DRUG: temozolomide|RADIATION: radiation therapy",
            "DRUG: Carboplatin|DRUG: Gamma-Secretase Inhibitor RO4929097|OTHER: Laboratory Biomarker Analysis|DRUG: Paclitaxel|OTHER: Pharmacological Study|PROCEDURE: Therapeutic Conventional Surgery",
            "BIOLOGICAL: bevacizumab|OTHER: laboratory biomarker analysis|PROCEDURE: quality-of-life assessment",
            "PROCEDURE: First Allogeneic Bone Marrow Transplant (BMT)|DRUG: Leuprolide|DRUG: 18F FLT|DRUG: Cyclophosphamide|DRUG: Methotrexate|DRUG: Tacrolimus|RADIATION: Total Body Irradiation|DRUG: Busulfan|DRUG: Fludarabine|PROCEDURE: Second Allogeneic Bone Marrow Transplantation",
            "DRUG: topotecan hydrochloride|RADIATION: low-LET electron therapy|RADIATION: low-LET photon therapy",
            "DRUG: erlotinib hydrochloride|PROCEDURE: conventional surgery|OTHER: immunohistochemistry staining method|GENETIC: protein expression analysis|PROCEDURE: biopsy|OTHER: pharmacological study|OTHER: laboratory biomarker analysis",
            "DRUG: oxaliplatin|DRUG: bortezomib|OTHER: laboratory biomarker analysis|OTHER: pharmacological study",
            "DRUG: Atezolizumab|PROCEDURE: Biopsy|PROCEDURE: Biospecimen Collection|PROCEDURE: Computed Tomography",
            "DRUG: arsenic trioxide|OTHER: laboratory biomarker analysis",
            "BIOLOGICAL: Avelumab|RADIATION: External beam radiotherapy",
            "DRUG: M7824|DRUG: M9241|RADIATION: SBRT",
            "OTHER: Computed Tomography|OTHER: Fluorothymidine F-18|OTHER: Laboratory Biomarker Analysis|OTHER: Pharmacological Study|OTHER: Positron Emission Tomography|DRUG: Sunitinib Malate",
            "DRUG: ADR-529|DRUG: Topotecan|DRUG: G-CSF",
            "OTHER: Laboratory Biomarker Analysis|DRUG: Paclitaxel|BIOLOGICAL: Pelareorep",
            "BIOLOGICAL: tyrosinase peptide|BIOLOGICAL: gp100 antigen|BIOLOGICAL: MART-1 antigen|BIOLOGICAL: incomplete Freund's adjuvant|DRUG: Montanide ISA 51 VG|BIOLOGICAL: sargramostim|OTHER: laboratory biomarker analysis",
            "BIOLOGICAL: aldesleukin|BIOLOGICAL: recombinant fowlpox-tyrosinase vaccine|BIOLOGICAL: vaccinia-tyrosinase vaccine",
            "BIOLOGICAL: Anti-GD2-CAR engineered T cells|DRUG: AP1903|DRUG: Cyclophosphamide",
            "DRUG: cediranib maleate|OTHER: laboratory biomarker analysis|OTHER: pharmacogenomic studies",
            "DRUG: veliparib|DRUG: temozolomide|OTHER: pharmacological study|OTHER: laboratory biomarker analysis",
            "DRUG: Epacadostat|BIOLOGICAL: Pembrolizumab",
            "DRUG: Akt Inhibitor MK2206|OTHER: Laboratory Biomarker Analysis|DRUG: Lapatinib Ditosylate|OTHER: Pharmacogenomic Study|OTHER: Pharmacological Study",
            "DRUG: Sargramostim (GM-CSF, Leukine)|DRUG: Flutamide (Eulexin)|BIOLOGICAL: PROSTVAC-F/ TRICOM|BIOLOGICAL: PROSTVAC-V/TRICOM",
            "BIOLOGICAL: trastuzumab|DRUG: paclitaxel|BIOLOGICAL: recombinant interleukin-12",
            "DRUG: Crizotinib",
            "DRUG: Lurbinectedin|DRUG: Avelumab",
            "BEHAVIORAL: Self-affirmation induction",
            "BIOLOGICAL: cetuximab|DRUG: gemcitabine hydrochloride|BIOLOGICAL: bevacizumab|DRUG: erlotinib hydrochloride",
            "PROCEDURE: Biospecimen Collection|DIETARY_SUPPLEMENT: Broccoli Sprout/Broccoli Seed Extract Supplement|DRUG: Placebo Administration|OTHER: Questionnaire Administration|OTHER: Training",
            "BIOLOGICAL: wild-type reovirus",
            "RADIATION: Fludeoxyglucose F-18|OTHER: Laboratory Biomarker Analysis|OTHER: Pharmacological Study|PROCEDURE: Positron Emission Tomography|BIOLOGICAL: Ziv-Aflibercept",
            "DRUG: Bintrafusp alfa|DRUG: N-803|BIOLOGICAL: BN-Brachyury",
            "BIOLOGICAL: Aldesleukin|BIOLOGICAL: gp100 Antigen|DRUG: Montanide ISA 51 VG|OTHER: Quality-of-Life Assessment|OTHER: Questionnaire Administration|OTHER: Laboratory Biomarker Analysis",
            "BIOLOGICAL: cixutumumab|DRUG: carboplatin|DRUG: paclitaxel|BIOLOGICAL: cetuximab",
            "OTHER: Laboratory Biomarker Analysis|BIOLOGICAL: Recombinant Human Papillomavirus Nonavalent Vaccine",
            "DRUG: Fluciclatide",
            "OTHER: Diagnostic Laboratory Biomarker Analysis|DRUG: Gemcitabine Hydrochloride|OTHER: Pharmacological Study|DRUG: Veliparib",
            "DRUG: Exemestane|OTHER: Laboratory Biomarker Analysis|OTHER: Pharmacological Study|OTHER: Placebo Administration|OTHER: Quality-of-Life Assessment|OTHER: Questionnaire Administration|PROCEDURE: Therapeutic Conventional Surgery",
            "DRUG: TdCyd",
            "DRUG: cilengitide|PROCEDURE: therapeutic conventional surgery|OTHER: pharmacological study|OTHER: laboratory biomarker analysis",
            "DRUG: alvocidib|DRUG: cytarabine|DRUG: mitoxantrone hydrochloride",
            "DRUG: doxorubicin|DRUG: bortezomib",
            "DRUG: Lenalidomide|DRUG: Cytarabine|DRUG: Idarubicin|OTHER: Pharmacological Study|OTHER: Laboratory Biomarker Analysis",
            "BIOLOGICAL: autologous anti-MART-1 F5 T-cell receptor gene-engineered peripheral blood lymphocytes|BIOLOGICAL: ALVAC MART-1 Vaccine|BIOLOGICAL: aldesleukin|DRUG: cyclophosphamide|DRUG: fludarabine phosphate",
            "DRUG: Sulindac|DRUG: Placebo|OTHER: Validate assays and shipping methods",
            "DRUG: Akt Inhibitor MK2206|PROCEDURE: Therapeutic Conventional Surgery|OTHER: Pharmacological Study|OTHER: Laboratory Biomarker Analysis",
            "DRUG: Erlotinib Hydrochloride|DRUG: Sorafenib Tosylate",
            "DRUG: Mitomycin C|DRUG: Cisplatin|PROCEDURE: Heated Intraperitonial Chemotherapy|DRUG: Doxorubicin|DRUG: Oxaliplatin|DRUG: 5-Fluorouracil|DRUG: Sodium Thiosulfate",
            "DRUG: doxorubicin, vincristine, and etoposide with mitotane",
            "DRUG: Erlotinib Hydrochloride|OTHER: Laboratory Biomarker Analysis|OTHER: Pharmacological Study|OTHER: Quality-of-Life Assessment",
            "DRUG: temozolomide|DRUG: thalidomide",
            "BIOLOGICAL: PROSTVAC -V|BIOLOGICAL: PROSTVAC-F",
            "DRUG: Cytarabine|DRUG: Fludarabine|DRUG: Leucovorin|DRUG: Triple Intrathecal Chemotherapy|DRUG: Uproleselan",
            "DRUG: tipifarnib|DRUG: capecitabine",
            "DRUG: Fludarabine|BIOLOGICAL: Anti-mesothelin chimeric T cell receptor (CAR) transduced peripheral blood lymphocytes (PBL)|DRUG: Cyclophosphamide|DRUG: Aldesleukin",
            "OTHER: Laboratory Biomarker Analysis|DRUG: Megestrol Acetate|DRUG: Tamoxifen Citrate|DRUG: Temsirolimus",
            "BIOLOGICAL: Bleomycin Sulfate|DRUG: Brentuximab Vedotin|DRUG: Cyclophosphamide|DRUG: Doxorubicin Hydrochloride|DRUG: Etoposide|OTHER: Laboratory Biomarker Analysis|DRUG: Methylprednisolone|OTHER: Pharmacological Study|DRUG: Prednisone|OTHER: Quality-of-Life Assessment|OTHER: Questionnaire Administration|DRUG: Vincristine Sulfate",
            "DRUG: Akt Inhibitor GSK2141795|OTHER: Laboratory Biomarker Analysis|DRUG: Trametinib",
            "DRUG: R-(-)-gossypol acetic acid",
            "DRUG: BET Bromodomain Inhibitor ZEN-3694|PROCEDURE: Biopsy|PROCEDURE: Chest Radiography|DRUG: Cisplatin|PROCEDURE: Computed Tomography|DRUG: Etoposide|PROCEDURE: FDG-Positron Emission Tomography|PROCEDURE: Magnetic Resonance Imaging|PROCEDURE: Positron Emission Tomography",
            "DRUG: rV-PSA|DRUG: rF-PSA|DRUG: rV-B7.1",
            "DRUG: aza-TdC",
            "DRUG: bortezomib|DRUG: vorinostat|OTHER: laboratory biomarker analysis|OTHER: pharmacological study",
            "DRUG: Pazopanib|DRUG: Pazopanib (GW786034)(GW786034)",
            "DRUG: Cytarabine|DRUG: Etoposide Phosphate|DRUG: Mitoxantrone Hydrochloride|DRUG: Peposertib",
            "DRUG: bortezomib|DRUG: gemcitabine hydrochloride|OTHER: laboratory biomarker analysis",
            "BIOLOGICAL: Pembrolizumab|BIOLOGICAL: Talimogene Laherparepvec",
            "DRUG: thalidomide|DRUG: doxorubicin hydrochloride|OTHER: laboratory biomarker analysis",
            "DRUG: 1-methyl-d-tryptophan|DRUG: docetaxel|OTHER: diagnostic laboratory biomarker analysis|OTHER: pharmacological study",
            "DRUG: perifosine|OTHER: laboratory biomarker analysis|OTHER: pharmacological study",
            "DRUG: rebimastat",
            "DRUG: celecoxib|DRUG: placebo",
            "BIOLOGICAL: Falimarev|BIOLOGICAL: Inalimarev|OTHER: Laboratory Biomarker Analysis|BIOLOGICAL: Sargramostim",
            "BIOLOGICAL: aflibercept",
            "PROCEDURE: Biospecimen Collection|PROCEDURE: Chest Radiography|PROCEDURE: Computed Tomography|DRUG: Darolutamide|DRUG: Exemestane|DRUG: Leuprolide Acetate|PROCEDURE: Magnetic Resonance Imaging|PROCEDURE: Positron Emission Tomography",
            "DRUG: Depsipeptide, FR901228, FK228",
            "DRUG: Azacitidine|OTHER: Diagnostic Laboratory Biomarker Analysis|OTHER: Pharmacological Study",
            "DRUG: gemcitabine hydrochloride|BIOLOGICAL: bevacizumab|OTHER: laboratory biomarker analysis",
            "DRUG: SS1 (dsFv) PE38|DRUG: Paclitaxel|DRUG: Carboplatin|DRUG: Bevacizumab",
            "DRUG: vorinostat|DRUG: gemtuzumab ozogamicin|DRUG: azacitidine",
            "DRUG: tretinoin|DRUG: daunorubicin hydrochloride|DRUG: cytarabine|DRUG: mercaptopurine|DRUG: methotrexate|DRUG: arsenic trioxide",
            "DRUG: Nilotinib + Paclitaxel",
            "DRUG: Gamma-Secretase Inhibitor RO4929097|DRUG: Cediranib Maleate|OTHER: Pharmacological Study|OTHER: Laboratory Biomarker Analysis",
            "DRUG: dinaciclib|OTHER: pharmacological study|OTHER: laboratory biomarker analysis",
            "DRUG: B-Lymphocyte Stimulator (BLyS)",
            "DRUG: imatinib mesylate|DRUG: cytarabine",
            "DRUG: cediranib maleate|DRUG: docetaxel|DRUG: prednisone|OTHER: laboratory biomarker analysis",
            "DRUG: Obinutuzumab|DRUG: Venetoclax|DRUG: Magrolimab",
            "DRUG: Cyclophosphamide|DRUG: Fludarabine|DRUG: Aldesleukin|BIOLOGICAL: Anti-hCD70 CAR transduced PBL",
            "DRUG: pre-surgical chemotherapy",
            "DRUG: decitabine and cedazuridine|DRUG: BMS-986253",
            "DRUG: Decitabine (DAC)|DRUG: Tetrahydrouridine (THU)|DRUG: Pembrolizumab",
            "DRUG: 18F-NaF|DRUG: 18F-DCFPyL|DRUG: 18F-FDG",
            "BIOLOGICAL: Tocilizumab",
            "PROCEDURE: Biospecimen Collection|PROCEDURE: Bone Scan|PROCEDURE: Computed Tomography|DRUG: Docetaxel|DRUG: Eribulin Mesylate|DRUG: Gemcitabine Hydrochloride|PROCEDURE: Magnetic Resonance Imaging|DRUG: Paclitaxel|BIOLOGICAL: Sacituzumab Govitecan",
            "DRUG: AZD7451",
            "DRUG: decitabine|DRUG: doxorubicin hydrochloride|DRUG: cyclophosphamide|BIOLOGICAL: filgrastim|BIOLOGICAL: pegfilgrastim|OTHER: laboratory biomarker analysis|OTHER: pharmacological study",
            "DRUG: eribulin mesylate|OTHER: pharmacological study|OTHER: laboratory biomarker analysis",
            "DRUG: Paclitaxel|DRUG: Oxaliplatin",
            "DRUG: LMP400|DRUG: LMP776",
            "BEHAVIORAL: collaboration",
            "DRUG: cisplatin|DRUG: etoposide|DRUG: erlotinib hydrochloride|RADIATION: radiation therapy|DRUG: docetaxel|DRUG: paclitaxel|DRUG: carboplatin|OTHER: laboratory biomarker analysis",
            "DRUG: Carboplatin|OTHER: Laboratory Biomarker Analysis|DRUG: Paclitaxel|BIOLOGICAL: Wild-type Reovirus",
            "OTHER: Laboratory Biomarker Analysis|DRUG: Lenalidomide|OTHER: Pharmacological Study|BIOLOGICAL: Pneumococcal Polyvalent Vaccine",
            "DRUG: Avelumab|PROCEDURE: Biospecimen Collection|PROCEDURE: Bone Scan|DRUG: Cabozantinib S-malate|PROCEDURE: Computed Tomography|PROCEDURE: Magnetic Resonance Imaging|OTHER: Quality-of-Life Assessment|OTHER: Questionnaire Administration",
            "DRUG: cytarabine|DRUG: daunorubicin hydrochloride|DRUG: etoposide|DRUG: valspodar|BIOLOGICAL: filgrastim|DRUG: busulfan|PROCEDURE: autologous hematopoietic stem cell transplantation|PROCEDURE: peripheral blood stem cell transplantation|BIOLOGICAL: aldesleukin|OTHER: clinical observation|OTHER: pharmacological study",
            "DRUG: Cilengitide|OTHER: Laboratory Biomarker Analysis|DRUG: Paclitaxel|OTHER: Pharmacological Study",
            "DRUG: gamma-secretase/Notch signalling pathway inhibitor RO4929097|OTHER: diagnostic laboratory biomarker analysis|OTHER: pharmacological study|DRUG: dexamethasone",
            "BIOLOGICAL: Filgrastim|BIOLOGICAL: Rituximab|DRUG: EPOCH",
            "DRUG: osimertinib|OTHER: Local Ablative Therapy (LAT)",
            "BIOLOGICAL: Rituximab|DRUG: Etoposide|BIOLOGICAL: Siplizumab|DRUG: Prednisone|DRUG: Vincristine|DRUG: Cyclophosphamide|DRUG: Doxorubicin",
            "BIOLOGICAL: Ipilimumab|OTHER: Laboratory Biomarker Analysis|BIOLOGICAL: Nivolumab|OTHER: Pharmacological Study",
            "DRUG: Cyclophosphamide|BIOLOGICAL: Dactinomycin|DRUG: Irinotecan Hydrochloride|OTHER: Laboratory Biomarker Analysis|OTHER: Questionnaire Administration|RADIATION: Radiation Therapy|DRUG: Temsirolimus|DRUG: Vincristine Sulfate|DRUG: Vinorelbine",
            "DRUG: Glembatumumab Vedotin|BIOLOGICAL: Ipilimumab|OTHER: Laboratory Biomarker Analysis|BIOLOGICAL: Nivolumab|OTHER: Pharmacological Study",
            "DRUG: IMC-A12",
            "DRUG: RO4929097|DRUG: Dexamethasone",
            "DRUG: Zidovudine|DRUG: Tocilizumab|DRUG: Valganciclovir (VGC)",
            "DRUG: leucovorin calcium|DRUG: fluorouracil|DRUG: irinotecan hydrochloride|OTHER: laboratory biomarker analysis",
            "BIOLOGICAL: aldesleukin|BIOLOGICAL: gp100 antigen|BIOLOGICAL: incomplete Freund's adjuvant|BIOLOGICAL: tyrosinase peptide",
            "OTHER: Diagnostic Laboratory Biomarker Analysis|DRUG: Erlotinib Hydrochloride|DRUG: Gemcitabine Hydrochloride|DRUG: Vismodegib",
            "OTHER: Laboratory Biomarker Analysis|DRUG: Tipifarnib",
            "PROCEDURE: Biospecimen Collection|PROCEDURE: Computed Tomography with Contrast|PROCEDURE: Magnetic Resonance Imaging|DRUG: Olaparib|OTHER: Quality-of-Life Assessment|DRUG: Temozolomide",
            "DRUG: bortezomib|DRUG: tipifarnib|OTHER: laboratory biomarker analysis",
            "DRUG: saracatinib|OTHER: laboratory biomarker analysis",
            "OTHER: Laboratory Biomarker Analysis|DRUG: Vemurafenib",
            "DRUG: 68-Gallium DOTATATE",
            "BIOLOGICAL: Anetumab Ravtansine|PROCEDURE: Biopsy|PROCEDURE: Biospecimen Collection|DRUG: Gemcitabine Hydrochloride|BIOLOGICAL: Ipilimumab|BIOLOGICAL: Nivolumab",
            "DRUG: Bexarotene|OTHER: Questionnaire Administration",
            "PROCEDURE: Biopsy|PROCEDURE: Biospecimen Collection|PROCEDURE: Computed Tomography|PROCEDURE: Echocardiography|DRUG: Olaparib|BIOLOGICAL: Trastuzumab Deruxtecan",
            "DRUG: cisplatin|DRUG: irinotecan hydrochloride|BIOLOGICAL: bevacizumab|OTHER: laboratory biomarker analysis",
            "DRUG: Azacitidine|OTHER: Laboratory Biomarker Analysis|OTHER: Pharmacological Study|DRUG: Vorinostat",
            "BIOLOGICAL: Cetuximab|DRUG: Gamma-Secretase Inhibitor RO4929097|OTHER: Laboratory Biomarker Analysis|OTHER: Pharmacological Study",
            "DRUG: Cisplatin|RADIATION: Intensity-Modulated Radiation Therapy|OTHER: Laboratory Biomarker Analysis|DRUG: Onalespib|OTHER: Pharmacological Study",
            "BIOLOGICAL: LMB-9 immunotoxin",
            "PROCEDURE: magnetic resonance imaging|RADIATION: fluorine F 18 sodium fluoride|PROCEDURE: positron emission tomography|PROCEDURE: computed tomography|RADIATION: technetium Tc 99m methylene diphosphonate|OTHER: laboratory biomarker analysis",
            "BIOLOGICAL: LMB-2",
            "DRUG: vincristine sulfate|DRUG: irinotecan hydrochloride|DRUG: cyclophosphamide|DRUG: doxorubicin hydrochloride|DRUG: ifosfamide|DRUG: etoposide|DRUG: tirapazamine|BIOLOGICAL: filgrastim|BIOLOGICAL: sargramostim|OTHER: pharmacological study|OTHER: pharmacogenomic studies|OTHER: laboratory biomarker analysis",
            "DRUG: rhIL-15|DRUG: rhIL-15|BIOLOGICAL: Avelumab",
            "PROCEDURE: Biopsy|PROCEDURE: Biospecimen Collection|PROCEDURE: Computed Tomography|DRUG: Ipatasertib|BIOLOGICAL: Pembrolizumab",
            "BIOLOGICAL: recombinant fowlpox-CEA(6D)/TRICOM vaccine|BIOLOGICAL: sargramostim|BIOLOGICAL: recombinant fowlpox GM-CSF vaccine adjuvant",
            "DRUG: Thalidomide|DRUG: leuprolide acetate|DRUG: goserelin|OTHER: Placebo",
            "BIOLOGICAL: recombinant fowlpox-CEA(6D)/TRICOM vaccine|BIOLOGICAL: recombinant vaccinia-CEA(6D)-TRICOM vaccine|BIOLOGICAL: sargramostim|OTHER: laboratory biomarker analysis",
            "DRUG: Dinaciclib|DRUG: Veliparib",
            "DRUG: eribulin mesylate|DRUG: cisplatin|OTHER: laboratory biomarker analysis|OTHER: pharmacological study",
            "DRUG: Ibrutinib|OTHER: Laboratory Biomarker Analysis|OTHER: Pharmacological Study",
            "BIOLOGICAL: Atezolizumab|PROCEDURE: Biospecimen Collection|PROCEDURE: Biospecimen Collection|PROCEDURE: Computed Tomography|PROCEDURE: Cystoscopy|DRUG: Erdafitinib|PROCEDURE: Magnetic Resonance Imaging",
            "DRUG: sulindac|OTHER: laboratory biomarker analysis",
            "DRUG: Axitinib|BIOLOGICAL: Nivolumab",
            "BIOLOGICAL: oblimersen sodium|DRUG: cytarabine|DRUG: daunorubicin hydrochloride|OTHER: laboratory biomarker analysis",
            "RADIATION: Brachytherapy",
            "DRUG: ATL-RIC|DRUG: mRIC|PROCEDURE: allo HCT|DRUG: RIC|DRUG: GVHD prophylaxis|DRUG: IOC",
            "DRUG: ADCT-701",
            "DRUG: Bortezomib|DRUG: Cyclophosphamide|DRUG: Cytarabine|DRUG: Daunorubicin|DRUG: Daunorubicin Hydrochloride|DRUG: Dexamethasone|DRUG: Doxorubicin|DRUG: Doxorubicin Hydrochloride|DRUG: Etoposide|DRUG: Hydrocortisone Sodium Succinate|DRUG: Ifosfamide|DRUG: Leucovorin Calcium|DRUG: Mercaptopurine|DRUG: Methotrexate|DRUG: Pegaspargase|RADIATION: Radiation Therapy|DRUG: Thioguanine|DRUG: Vincristine|DRUG: Vincristine Sulfate",
            "BIOLOGICAL: Rituximab|DRUG: Fludarabine phosphate|OTHER: Leukemic or stroma cells",
            "BIOLOGICAL: ziv-aflibercept|DRUG: topotecan hydrochloride",
            "PROCEDURE: Biospecimen Collection|PROCEDURE: Computed Tomography|PROCEDURE: Echocardiography|PROCEDURE: Magnetic Resonance Elastography|PROCEDURE: Multigated Acquisition Scan|BIOLOGICAL: Necitumumab|DRUG: Osimertinib",
            "DRUG: Aldesleukin|DRUG: Fludarabine|DRUG: Cyclophosphamide|BIOLOGICAL: 4-1BB Selected Tumor Infiltrating Lymphocytes (TIL)",
            "DRUG: carboxyamidotriazole|OTHER: placebo",
            "DRUG: gamma-secretase/Notch signalling pathway inhibitor RO4929097|OTHER: laboratory biomarker analysis|OTHER: pharmacological study|PROCEDURE: neoadjuvant therapy|PROCEDURE: therapeutic conventional surgery",
            "BIOLOGICAL: gp100 human melanoma peptide",
            "DRUG: alvocidib|OTHER: pharmacological study|RADIATION: fludeoxyglucose F 18|OTHER: fluorine F 18 fluorothymidine|PROCEDURE: positron emission tomography",
            "BIOLOGICAL: Pembrolizumab|RADIATION: Stereotactic Body Radiation Therapy",
            "DRUG: Alpelisib|PROCEDURE: Biopsy|PROCEDURE: Biospecimen Collection|PROCEDURE: Bone Scan|PROCEDURE: Computed Tomography|PROCEDURE: Magnetic Resonance Imaging|DRUG: Olaparib|PROCEDURE: Positron Emission Tomography",
            "DRUG: Abemaciclib|PROCEDURE: Biopsy|PROCEDURE: Biospecimen Collection|DRUG: Olaparib",
            "DRUG: carboplatin|DRUG: lobradimil",
            "DRUG: Dexamethasone|DRUG: Carfilzomib|BIOLOGICAL: Daratumumab",
            "PROCEDURE: Biopsy|PROCEDURE: Biospecimen Collection|PROCEDURE: Computed Tomography|PROCEDURE: Magnetic Resonance Imaging|DRUG: Palbociclib",
            "BIOLOGICAL: Bevacizumab|DRUG: Cisplatin|RADIATION: External Beam Radiation Therapy|RADIATION: Internal Radiation Therapy",
            "DRUG: Berzosertib|DRUG: Cisplatin|OTHER: Laboratory Biomarker Analysis|RADIATION: Radiation Therapy",
            "PROCEDURE: Allogeneic Hematopoietic Stem Cell Transplantation|PROCEDURE: Biospecimen Collection|BIOLOGICAL: Blinatumomab|PROCEDURE: Bone Marrow Aspiration|PROCEDURE: Bone Marrow Biopsy|DRUG: Cyclophosphamide|DRUG: Cytarabine|DRUG: Daunorubicin|DRUG: Daunorubicin Hydrochloride|DRUG: Dexamethasone|DRUG: Etoposide|PROCEDURE: Lumbar Puncture|DRUG: Mercaptopurine|DRUG: Methotrexate|DRUG: Pegaspargase|DRUG: Prednisone|BIOLOGICAL: Rituximab|DRUG: Vincristine|DRUG: Vincristine Sulfate|PROCEDURE: X-Ray Imaging",
            "DRUG: bryostatin 1|DRUG: vincristine sulfate|OTHER: laboratory biomarker analysis",
            "DRUG: Antiretroviral Therapy|PROCEDURE: Biopsy|PROCEDURE: Biospecimen Collection|PROCEDURE: Computed Tomography|BIOLOGICAL: Pembrolizumab|PROCEDURE: Positron Emission Tomography",
            "DRUG: Navtemadlin|RADIATION: Radiation Therapy",
            "BIOLOGICAL: GTI-2040|DRUG: docetaxel|OTHER: laboratory biomarker analysis|OTHER: pharmacological study",
            "DRUG: Etoposide|DRUG: Interferon-alpha|DRUG: Rituximab|DRUG: Zidovudine|DRUG: Liposomal Doxorubicin|DRUG: Bortezomib|DRUG: Valganciclovir|DRUG: Doxorubicin|DRUG: Vincristine|DRUG: Cyclophosphamide|DRUG: Filgrastim (G-CSF)|DRUG: Prednisone|DRUG: Sirolimus|OTHER: Observation Only",
            "DRUG: N-803|DRUG: Pembrolizumab|BIOLOGICAL: PD-L1 t-haNK",
            "DRUG: dasatinib|OTHER: diagnostic laboratory biomarker analysis|OTHER: pharmacological study|DRUG: cyclosporine",
            "BIOLOGICAL: Diphtheria Toxoid/Tetanus Toxoid/Acellular Pertussis Vaccine Adsorbed|OTHER: Questionnaire Administration|BIOLOGICAL: Recombinant Human Papillomavirus Bivalent Vaccine|BIOLOGICAL: Recombinant Human Papillomavirus Nonavalent Vaccine",
            "DRUG: NHS-IL12|DRUG: M7824",
            "PROCEDURE: Biospecimen Collection|PROCEDURE: Computed Tomography|PROCEDURE: Magnetic Resonance Imaging|DRUG: Olaparib|DRUG: Placebo Administration",
            "DRUG: LMP744",
            "BIOLOGICAL: GI-6301 (Yeast Brachyury Vaccine)",
            "OTHER: Laboratory Biomarker Analysis|OTHER: Pharmacogenomic Study|DRUG: Sunitinib|DRUG: Sunitinib Malate",
            "BIOLOGICAL: recombinant interferon alfa|DRUG: chemotherapy|DRUG: paclitaxel|DRUG: topotecan hydrochloride|RADIATION: lutetium Lu 177 monoclonal antibody CC49|RADIATION: yttrium Y 90 monoclonal antibody CC49",
            "BIOLOGICAL: Rituximab|DRUG: Etoposide|BIOLOGICAL: Copanlisib|DRUG: Cyclophosphamide|DRUG: Doxorubicin|DRUG: Vincristine|DRUG: Prednisone",
            "DRUG: bortezomib|OTHER: pharmacological study",
            "DRUG: Atezolizumab|PROCEDURE: Biopsy|PROCEDURE: Biospecimen Collection|PROCEDURE: Computed Tomography|PROCEDURE: Magnetic Resonance Imaging|DRUG: Talazoparib",
            "DRUG: floxuridine|DRUG: dexamethasone|DRUG: oxaliplatin|DRUG: capecitabine",
            "DRUG: oxaliplatin|DRUG: irinotecan hydrochloride|DRUG: capecitabine",
            "DRUG: Genistein",
            "OTHER: Laboratory Biomarker Analysis|OTHER: Pharmacological Study|PROCEDURE: Therapeutic Conventional Surgery|DRUG: Trametinib|RADIATION: Whole-Brain Radiotherapy",
            "DRUG: carboplatin|DRUG: paclitaxel|DRUG: bortezomib",
            "DRUG: Cediranib|DRUG: Olaparib",
            "OTHER: Laboratory Biomarker Analysis|BIOLOGICAL: MUC1 Peptide-Poly-ICLC Vaccine",
            "DRUG: saracatinib|OTHER: pharmacogenomic studies|OTHER: pharmacological study|PROCEDURE: positron emission tomography|RADIATION: fludeoxyglucose F 18|OTHER: laboratory biomarker analysis",
            "DRUG: UCN-01 (7-hydroxystaurosporine)",
            "OTHER: Laboratory Biomarker Analysis|DRUG: Vismodegib",
            "DRUG: cisplatin|DRUG: irinotecan hydrochloride|DRUG: amifostine trihydrate|OTHER: pharmacological study",
            "PROCEDURE: Allogeneic Hematopoietic Stem Cell Transplantation|BIOLOGICAL: Anti-Thymocyte Globulin|DRUG: Azacitidine|DRUG: Busulfan|DRUG: Fludarabine Phosphate|OTHER: Laboratory Biomarker Analysis|DRUG: Methotrexate|OTHER: Pharmacological Study|DRUG: Tacrolimus",
            "DRUG: sunitinib malate|BIOLOGICAL: bevacizumab|OTHER: pharmacological study|OTHER: laboratory biomarker analysis",
            "DRUG: tanespimycin|DRUG: paclitaxel|OTHER: laboratory biomarker analysis|OTHER: pharmacological study",
            "DRUG: Copanlisib Hydrochloride|BIOLOGICAL: Nivolumab",
            "DRUG: AZ2281 + Carboplatin",
            "DRUG: Berzosertib|DRUG: Sacituzumab Govitecan",
            "DRUG: Aldesleukin|DRUG: Fludarabine|DRUG: Fludarabine|DRUG: Cyclophosphamide|DRUG: Cyclophosphamide|DRUG: Cyclophosphamide|BIOLOGICAL: Young TIL|DRUG: Pembrolizumab",
            "DRUG: Zotiraciclib",
            "DRUG: Melphalan|DRUG: Sirolimus|RADIATION: Total Body Irradiation (TBI)|DRUG: Cyclophosphamide|DRUG: Mycophenolate Mofeti|DRUG: Fludarabine|PROCEDURE: Allogeneic HSCT|DRUG: Mesna|DRUG: Filgrastim",
            "BIOLOGICAL: PR1 leukemia peptide vaccine|DRUG: Montanide ISA 51 VG|BIOLOGICAL: sargramostim|OTHER: laboratory biomarker analysis",
            "DRUG: Marizomib",
            "RADIATION: Samarium Sm 153 lexidronam pentasodium|BIOLOGICAL: Sargramostim|BIOLOGICAL: Recombinant vaccinia-TRICOM vaccine|BIOLOGICAL: Recombinant fowlpox-TRICOM vaccine",
            "DRUG: Hydroxyurea",
            "PROCEDURE: Biospecimen Collection|PROCEDURE: Bone Marrow Aspiration|PROCEDURE: Bone Marrow Biopsy|PROCEDURE: Computed Tomography|DRUG: Cyclophosphamide|DRUG: Doxorubicin Hydrochloride|PROCEDURE: Echocardiography|DRUG: Etoposide Phosphate|BIOLOGICAL: Filgrastim|PROCEDURE: Lumbar Puncture|BIOLOGICAL: Nivolumab|BIOLOGICAL: Pegfilgrastim|PROCEDURE: Positron Emission Tomography|DRUG: Prednisolone|DRUG: Prednisone|RADIATION: Radiation Therapy|BIOLOGICAL: Rituximab|BIOLOGICAL: Rituximab and Hyaluronidase Human|DRUG: Vincristine Sulfate",
            "DRUG: Pentostatin|DRUG: Rituximab|DRUG: Bendamustine|DRUG: Acetaminophen|DRUG: Diphenhydramine|DRUG: Epinephrine|DRUG: Antihistamines|DRUG: Corticosteroids|DRUG: Bronchodilators|OTHER: Intravenous (IV) Saline",
            "RADIATION: radiation therapy|DRUG: tipifarnib",
            "PROCEDURE: Biopsy|PROCEDURE: Biospecimen Collection|PROCEDURE: Computed Tomography|BIOLOGICAL: Ipilimumab|PROCEDURE: Kidney Biopsy|PROCEDURE: Magnetic Resonance Imaging|BIOLOGICAL: Nivolumab|DRUG: Prednisone|DRUG: Sirolimus",
            "DRUG: Aldesleukin|DRUG: Fludarabine|DRUG: Cyclophosphamide|BIOLOGICAL: Anti-Thyroglobulin mTCR PBL",
            "BEHAVIORAL: Acceptance and Commitment Therapy (ACT)",
            "BIOLOGICAL: recombinant fowlpox GM-CSF vaccine adjuvant|BIOLOGICAL: recombinant fowlpox-CEA(6D)/TRICOM vaccine|BIOLOGICAL: recombinant vaccinia-CEA(6D)-TRICOM vaccine|DRUG: carboplatin|DRUG: paclitaxel|RADIATION: radiation therapy",
            "PROCEDURE: Biopsy|PROCEDURE: Biospecimen Collection|PROCEDURE: Computed Tomography|BIOLOGICAL: Pembrolizumab|DRUG: Tazemetostat Hydrobromide|DRUG: Topotecan Hydrochloride",
            "BIOLOGICAL: recombinant fowlpox-prostate specific antigen vaccine|BIOLOGICAL: recombinant vaccinia prostate-specific antigen vaccine|OTHER: laboratory biomarker analysis",
            "DRUG: FLAC with GM-CSF",
            "OTHER: Laboratory Biomarker Analysis|OTHER: Pharmacological Study|DRUG: Vismodegib",
            "DRUG: Copanlisib|BIOLOGICAL: Pertuzumab|BIOLOGICAL: Trastuzumab",
            "DRUG: placebo|DRUG: genistein|OTHER: laboratory biomarker analysis",
            "DRUG: sorafenib tosylate|DRUG: temsirolimus|OTHER: laboratory biomarker analysis",
            "DRUG: Atezolizumab|PROCEDURE: Biopsy|PROCEDURE: Biospecimen Collection|PROCEDURE: Bone Marrow Aspiration|PROCEDURE: Bone Marrow Biopsy|PROCEDURE: Bone Scan|PROCEDURE: Computed Tomography|PROCEDURE: Magnetic Resonance Imaging|DRUG: Olaparib|PROCEDURE: Positron Emission Tomography|OTHER: Questionnaire Administration|PROCEDURE: X-Ray Imaging",
            "DRUG: cytarabine|DRUG: mitoxantrone hydrochloride|DRUG: alvocidib|OTHER: pharmacological study|OTHER: laboratory procedure",
            "DRUG: semaxanib|DRUG: thalidomide",
            "BIOLOGICAL: aldesleukin|BIOLOGICAL: p53 peptide vaccine|PROCEDURE: in vitro-treated peripheral blood stem cell transplantation",
            "DRUG: cisplatin|DRUG: dacarbazine|PROCEDURE: conventional surgery",
            "DRUG: Eovist",
            "BIOLOGICAL: Bevacizumab|DRUG: Carboplatin|DRUG: Carboplatin|DRUG: Cisplatin|OTHER: Laboratory Biomarker Analysis|DRUG: Paclitaxel|DRUG: Paclitaxel|OTHER: Quality-of-Life Assessment",
            "DRUG: belinostat|DRUG: carboplatin",
            "BIOLOGICAL: ETBX-071; adenoviral PSA vaccine|BIOLOGICAL: ETBX-061; adenoviral MUC1 vaccine|BIOLOGICAL: ETBX-051; adenoviral brachyury vaccine",
            "DRUG: Berzosertib|PROCEDURE: Biospecimen Collection|DRUG: Carboplatin|PROCEDURE: Computed Tomography|DRUG: Gemcitabine Hydrochloride|PROCEDURE: Magnetic Resonance Imaging|BIOLOGICAL: Pembrolizumab",
            "BIOLOGICAL: ETBX-051; adenoviral brachyury vaccine|BIOLOGICAL: ETBX-061; adenoviral Mucin-1 (MUC1) vaccine|BIOLOGICAL: ETBX-011; adenoviral Carcinoembryonic antigen (CEA) vaccine",
            "BIOLOGICAL: Cetuximab|OTHER: Laboratory Biomarker Analysis|DRUG: Lenalidomide",
            "DRUG: Radium-223|DRUG: 18F Sodium Fluoride",
            "PROCEDURE: Conventional Surgery|OTHER: Laboratory Biomarker Analysis|DRUG: Sorafenib Tosylate|DRUG: Temsirolimus",
            "DRUG: Azacitidine|PROCEDURE: Bone Marrow Aspiration and Biopsy|DRUG: Cytarabine|PROCEDURE: Echocardiography|DRUG: Liposome-encapsulated Daunorubicin-Cytarabine|PROCEDURE: Multigated Acquisition Scan|DRUG: Venetoclax",
            "BIOLOGICAL: IMC-A12|DRUG: mitotane",
            "BIOLOGICAL: cetuximab|BIOLOGICAL: bevacizumab|DRUG: oxaliplatin|DRUG: leucovorin calcium|DRUG: fluorouracil",
            "PROCEDURE: Biospecimen Collection|PROCEDURE: Computed Tomography|DRUG: Everolimus|OTHER: Fludeoxyglucose F-18|DRUG: Lutetium Lu 177 Dotatate|PROCEDURE: Positron Emission Tomography|PROCEDURE: Single Photon Emission Computed Tomography",
            "DRUG: Sutent (sunitinib)",
            "DRUG: Bevacizumab|DRUG: Erlotinib",
            "DRUG: UAE Inhibitor TAK-243",
            "DRUG: chemotherapy|DRUG: hydroxyurea|DRUG: pentoxifylline|RADIATION: radiation therapy",
            "DRUG: XR9576 (Tariquidar)",
            "BIOLOGICAL: Atezolizumab|PROCEDURE: Biopsy|PROCEDURE: Biospecimen Collection|PROCEDURE: Computed Tomography|PROCEDURE: Magnetic Resonance Imaging|DRUG: Selinexor",
            "DRUG: TRC 105|DRUG: Sorafenib",
            "PROCEDURE: Biospecimen Collection|PROCEDURE: Bone Marrow Aspiration|PROCEDURE: Bone Marrow Biopsy|PROCEDURE: Bone Scan|DRUG: Carboplatin|DRUG: Cisplatin|PROCEDURE: Computed Tomography|DRUG: Cyclophosphamide|DRUG: Dexrazoxane|BIOLOGICAL: Dinutuximab|DRUG: Doxorubicin|DRUG: Etoposide|PROCEDURE: FDG-Positron Emission Tomography and Computed Tomography Scan|PROCEDURE: Hematopoietic Cell Transplantation|DRUG: Irinotecan|DRUG: Isotretinoin|PROCEDURE: Leukapheresis|PROCEDURE: Magnetic Resonance Imaging|DRUG: Melphalan|RADIATION: Radiation Therapy|OTHER: Survey Administration|DRUG: Temozolomide|DRUG: Thiotepa|DRUG: Topotecan|PROCEDURE: Tumor Resection|DRUG: Vincristine",
            "DRUG: aminolevulinic acid hydrochloride|DRUG: photodynamic therapy|OTHER: laboratory biomarker analysis",
            "DRUG: Cabozantinib S-malate|OTHER: Laboratory Biomarker Analysis|DRUG: Sunitinib Malate",
            "DRUG: Erlotinib|DRUG: Lenvatinib|DRUG: Axitinib",
            "DRUG: R-(-)-gossypol acetic acid|DRUG: cisplatin|DRUG: etoposide",
            "RADIATION: Radiation Therapy|DRUG: Carboplatin|DRUG: Cisplatin|DRUG: Crizotinib|DRUG: Erlotinib|DRUG: Etoposide|DRUG: Paclitaxel",
            "BIOLOGICAL: Adenoviral Transduced Autologous Human Epidermal Growth Factor Receptor (AdHER)2/neu Dendritic Cell (DC) Vaccine",
            "DRUG: Cladribine|DRUG: Rituximab",
            "BIOLOGICAL: Rituximab|BIOLOGICAL: Filgrastim|DRUG: EPOCH",
            "DRUG: Fluorine-19-Fluoroded Xyglucose|DRUG: Topotecan",
            "BIOLOGICAL: PANVAC-V|BIOLOGICAL: PANVAC-F|DRUG: Sargramostim (GM-CSF, Leukine)",
            "DRUG: PU-H71",
            "DRUG: Avelumab|DRUG: Peposertib|OTHER: Quality-of-Life Assessment|OTHER: Questionnaire Administration|RADIATION: Radium Ra 223 Dichloride",
            "BIOLOGICAL: Atezolizumab|PROCEDURE: Biospecimen Collection|PROCEDURE: Magnetic Resonance Imaging|PROCEDURE: Surgical Procedure|BIOLOGICAL: Tiragolumab",
            "OTHER: Laboratory Biomarker Analysis|OTHER: Pharmacological Study|DRUG: Veliparib",
            "PROCEDURE: Biospecimen Collection|PROCEDURE: Computed Tomography|RADIATION: Gallium Ga 68-DOTATATE|DRUG: Lutetium Lu 177 Dotatate|PROCEDURE: Positron Emission Tomography",
            "DRUG: Azacitidine 30mg/m2|DRUG: Entinostat|DRUG: Azacitidine 40mg/m2",
            "DRUG: cytarabine|DRUG: idarubicin|DRUG: tipifarnib",
            "OTHER: diagnostic laboratory biomarker analysis|DRUG: everolimus|DRUG: imatinib mesylate",
            "BIOLOGICAL: Bevacizumab|DRUG: Cyclophosphamide|OTHER: Laboratory Biomarker Analysis",
            "DRUG: oxaliplatin|DRUG: leucovorin calcium|DRUG: capecitabine|BIOLOGICAL: bevacizumab|DRUG: fluorouracil|OTHER: laboratory biomarker analysis",
            "OTHER: Laboratory Biomarker Analysis|DRUG: Osimertinib|OTHER: Pharmacological Study|DRUG: Sapanisertib",
            "PROCEDURE: Biopsy|PROCEDURE: Biospecimen Collection|PROCEDURE: Computed Tomography|DRUG: Erdafitinib|PROCEDURE: Magnetic Resonance Imaging",
            "PROCEDURE: Biospecimen Collection|PROCEDURE: Conventional Magnetic Resonance Imaging|PROCEDURE: Diffusion Tensor Imaging|PROCEDURE: Diffusion Weighted Imaging|PROCEDURE: Dynamic Contrast-enhanced MR Perfusion|PROCEDURE: Dynamic Susceptibility Contrast-Perfusion-Weighted Imaging|PROCEDURE: Magnetic Resonance Spectroscopic Imaging|BIOLOGICAL: Pembrolizumab",
            "DRUG: Methotrexate|DRUG: Rituximab|DRUG: Leucovorin",
            "RADIATION: 3-Dimensional Conformal Radiation Therapy|DRUG: Erlotinib Hydrochloride|RADIATION: Stereotactic Radiosurgery|DRUG: Temozolomide",
            "DRUG: Cediranib|DRUG: Cediranib Maleate|PROCEDURE: Computed Tomography|PROCEDURE: Magnetic Resonance Imaging|DRUG: Olaparib|DRUG: Paclitaxel|DRUG: Pegylated Liposomal Doxorubicin Hydrochloride|OTHER: Questionnaire Administration|DRUG: Topotecan|DRUG: Topotecan Hydrochloride",
            "BIOLOGICAL: Adenoviral Tumor-specific Neoantigen Priming Vaccine GAd-209-FSP|PROCEDURE: Biospecimen Collection|PROCEDURE: Endoscopic Biopsy|BIOLOGICAL: MVA Tumor-specific Neoantigen Boosting Vaccine MVA-209-FSP|OTHER: Questionnaire Administration",
            "DRUG: Atezolizumab|PROCEDURE: Biopsy of Bladder|DRUG: Cisplatin|PROCEDURE: Computed Tomography|PROCEDURE: Cystoscopy|DRUG: Fluorouracil|DRUG: Gemcitabine|PROCEDURE: Magnetic Resonance Imaging|DRUG: Mitomycin|OTHER: Quality-of-Life Assessment|RADIATION: Radiation Therapy|OTHER: Survey Administration|PROCEDURE: Transurethral Resection of Bladder Tumor",
            "DRUG: Aldesleukin|DRUG: Cyclophosphamide|DRUG: Fludarabine|BIOLOGICAL: Young TIL|RADIATION: Total Body Irradiation (TBI)",
            "BIOLOGICAL: Cixutumumab|OTHER: Laboratory Biomarker Analysis|DRUG: Sorafenib Tosylate",
            "DRUG: Savolitinib",
            "PROCEDURE: Biopsy|PROCEDURE: Biospecimen Collection|PROCEDURE: Computed Tomography|DRUG: Talazoparib|DRUG: Temozolomide",
            "BIOLOGICAL: HspE7|PROCEDURE: therapeutic conventional surgery|OTHER: laboratory biomarker analysis",
            "DRUG: tanespimycin|OTHER: pharmacological study",
            "DRUG: Ziv-Aflibercept|DRUG: Ganetespib",
            "DRUG: Eribulin Mesylate|DRUG: Gemcitabine Hydrochloride",
            "DRUG: liposomal doxorubicin|DRUG: bortezomib|DRUG: dexamethasone|DRUG: cyclophosphamide",
            "DRUG: Talactoferrin|PROCEDURE: Apheresis",
            "DRUG: letrozole|DRUG: gamma-secretase/Notch signalling pathway inhibitor RO4929097|PROCEDURE: therapeutic conventional surgery|PROCEDURE: breast biopsy|OTHER: diagnostic laboratory biomarker analysis|OTHER: pharmacological study",
            "BIOLOGICAL: Ipilimumab|OTHER: Laboratory Biomarker Analysis|BIOLOGICAL: Recombinant Interferon Alfa-2b",
            "PROCEDURE: Biopsy|PROCEDURE: Biospecimen Collection|PROCEDURE: Computed Tomography|PROCEDURE: Echocardiography|BIOLOGICAL: Ipilimumab|PROCEDURE: Magnetic Resonance Imaging|BIOLOGICAL: Nivolumab|PROCEDURE: Positron Emission Tomography|OTHER: Quality-of-Life Assessment|RADIATION: Stereotactic Body Radiation Therapy",
            "DRUG: Alisertib|DRUG: Bortezomib|OTHER: Laboratory Biomarker Analysis|BIOLOGICAL: Rituximab",
            "PROCEDURE: Biospecimen Collection|OTHER: cfDNA or ctDNA Measurement|PROCEDURE: Computed Tomography|PROCEDURE: Magnetic Resonance Imaging|BIOLOGICAL: Nivolumab|OTHER: Quality-of-Life Assessment|OTHER: Questionnaire Administration|BIOLOGICAL: Relatlimab",
            "DRUG: LMB-2|DRUG: Fludarabine|DRUG: Cyclophosphamide",
            "DRUG: Cisplatin|DRUG: Etoposide|DRUG: Etoposide Phosphate|DRUG: Molibresib|DRUG: Molibresib Besylate",
            "PROCEDURE: therapeutic conventional surgery|DRUG: sorafenib tosylate|OTHER: laboratory biomarker analysis",
            "BIOLOGICAL: Campath|BIOLOGICAL: Rituximab|DRUG: EPOCH",
            "DRUG: Lenalidomide|OTHER: Pharmacological Study",
            "BIOLOGICAL: Ipilimumab|OTHER: Laboratory Biomarker Analysis|BIOLOGICAL: Rituximab",
            "DRUG: vorinostat|PROCEDURE: therapeutic conventional surgery|DRUG: bortezomib",
            "BIOLOGICAL: Cixutumumab|OTHER: Laboratory Biomarker Analysis|OTHER: Pharmacological Study|DRUG: Selumetinib",
            "DRUG: Ibrutinib|DRUG: Lenalidomide",
            "DRUG: hydroxyurea|DRUG: fluorouracil|BIOLOGICAL: bevacizumab|RADIATION: radiation therapy|BIOLOGICAL: filgrastim|OTHER: laboratory biomarker analysis",
            "BIOLOGICAL: aldesleukin|BIOLOGICAL: gp100:209-217(210M) peptide vaccine|OTHER: laboratory biomarker analysis",
            "BIOLOGICAL: alemtuzumab|BIOLOGICAL: rituximab|DRUG: fludarabine phosphate",
            "PROCEDURE: Computed Tomography|BIOLOGICAL: Ipilimumab|PROCEDURE: Magnetic Resonance Imaging|BIOLOGICAL: Nivolumab|RADIATION: Radiation Therapy|PROCEDURE: Sigmoidoscopy|PROCEDURE: Total Mesorectal Excision",
            "BIOLOGICAL: Y-90 Humanized Anti-Tac|DRUG: Calcium-DTPA",
            "BIOLOGICAL: Anti-NY ESO-1 T cell receptor (TCR) cluster of differentiation 62L (CD62L)+ cells|DRUG: Aldesleukin|DRUG: Cyclophosphamide|DRUG: Fludarabine",
            "DRUG: gp100 antigen|DRUG: interleukin-2|DRUG: MART-1 antigen|DRUG: Montanide ISA-51",
            "BIOLOGICAL: Bevacizumab|DRUG: Carboplatin|DRUG: Cisplatin|DRUG: Docetaxel|DRUG: Fluorouracil|OTHER: Laboratory Biomarker Analysis",
            "DRUG: carboplatin|DRUG: paclitaxel|DRUG: thalidomide|RADIATION: radiation therapy",
            "BIOLOGICAL: Recombinant human IL-7-hyFc (NT-I7)|BIOLOGICAL: Vaccine sequence 1|BIOLOGICAL: Vaccine sequence 2",
            "BEHAVIORAL: QuitTXT Study|BEHAVIORAL: Low Contact",
            "DRUG: Ruxolitinib|DRUG: Ruxolitinib|DRUG: Ruxolitinib|DRUG: Ruxolitinib",
            "DRUG: bortezomib|DRUG: decitabine|OTHER: pharmacological study|OTHER: laboratory biomarker analysis",
            "PROCEDURE: Biopsy|PROCEDURE: Biospecimen Collection|DRUG: Cisplatin|PROCEDURE: Computed Tomography|BIOLOGICAL: Durvalumab|DRUG: Gemcitabine|PROCEDURE: Magnetic Resonance Imaging|PROCEDURE: Resection",
            "DRUG: (18)Fluciclatide",
            "PROCEDURE: Biospecimen Collection|PROCEDURE: Computed Tomography|PROCEDURE: Magnetic Resonance Imaging|BIOLOGICAL: Nivolumab|DRUG: Paclitaxel|OTHER: Questionnaire Administration|BIOLOGICAL: Ramucirumab",
            "DRUG: alvocidib|DRUG: gemcitabine hydrochloride|DRUG: irinotecan hydrochloride",
            "DRUG: Atezolizumab|PROCEDURE: Biospecimen Collection|PROCEDURE: Computed Tomography|DRUG: Fluorouracil|DRUG: Leucovorin Calcium|PROCEDURE: Magnetic Resonance Imaging|DRUG: Oxaliplatin|OTHER: Quality-of-Life Assessment",
            "PROCEDURE: Biospecimen Collection|PROCEDURE: Bone Marrow Aspiration and Biopsy|PROCEDURE: Bone Scan|PROCEDURE: Computed Tomography|DRUG: Ensartinib|OTHER: Laboratory Biomarker Analysis|PROCEDURE: Magnetic Resonance Imaging|OTHER: Pharmacological Study|PROCEDURE: Positron Emission Tomography|PROCEDURE: Radionuclide Imaging|PROCEDURE: X-Ray Imaging",
            "DRUG: Atezolizumab|PROCEDURE: Biopsy|PROCEDURE: Biospecimen Collection|PROCEDURE: Computed Tomography|BIOLOGICAL: Glycosylated Recombinant Human Interleukin-7|OTHER: Laboratory Biomarker Analysis|PROCEDURE: Magnetic Resonance Imaging|PROCEDURE: Positron Emission Tomography and Computed Tomography Scan",
            "DRUG: Cisplatin|OTHER: Laboratory Biomarker Analysis|DRUG: Paclitaxel|DRUG: Veliparib",
            "DRUG: triapine|OTHER: pharmacological study|PROCEDURE: laboratory biomarker analysis",
            "DRUG: Entinostat|BIOLOGICAL: Pembrolizumab",
            "PROCEDURE: Biospecimen Collection|DRUG: Carboplatin|DRUG: Cediranib Maleate|PROCEDURE: Computed Tomography|PROCEDURE: Echocardiography|DRUG: Gemcitabine|DRUG: Gemcitabine Hydrochloride|OTHER: Laboratory Biomarker Analysis|PROCEDURE: Magnetic Resonance Imaging|PROCEDURE: Multigated Acquisition Scan|DRUG: Olaparib|DRUG: Paclitaxel|DRUG: Pegylated Liposomal Doxorubicin Hydrochloride|OTHER: Pharmacological Study|OTHER: Quality-of-Life Assessment",
            "BIOLOGICAL: Bevacizumab|OTHER: Laboratory Biomarker Analysis|DRUG: Letrozole|OTHER: Questionnaire Administration|DRUG: Tamoxifen Citrate",
            "DRUG: Capecitabine|DRUG: Docetaxel|OTHER: Laboratory Biomarker Analysis|OTHER: Pharmacological Study|DRUG: Tipifarnib",
            "BIOLOGICAL: Bevacizumab|DRUG: Carboplatin|DRUG: Paclitaxel|OTHER: Placebo|BIOLOGICAL: Trastuzumab",
            "DRUG: bortezomib|DRUG: irinotecan hydrochloride|OTHER: laboratory biomarker analysis",
            "BIOLOGICAL: Rituximab|DRUG: Conditioning chemotherapy|DRUG: TMS|DRUG: FLAG|DRUG: EPOCH-F|PROCEDURE: Hematopoietic stem cell transplant|DRUG: Palifermin",
            "DRUG: Mycophenolate Mofetil|PROCEDURE: Allogeneic HSCT|DRUG: Fludarabine|DRUG: Sirolimus|DRUG: Filgrastim|DRUG: Cyclophosphamide|DRUG: Mesna|PROCEDURE: Total Body Irradiation (TBI)",
            "BIOLOGICAL: gp100:209-217(210M) Peptide Vaccine|BIOLOGICAL: HPV 16 E7:12-20 Peptide Vaccine|OTHER: Laboratory Biomarker Analysis",
            "DRUG: raloxifene|PROCEDURE: evaluation of cancer risk factors",
            "BIOLOGICAL: Atezolizumab|PROCEDURE: Biopsy|PROCEDURE: Biospecimen Collection|PROCEDURE: Computed Tomography|BIOLOGICAL: Durvalumab|PROCEDURE: Echocardiography|DRUG: Iadademstat|PROCEDURE: Magnetic Resonance Imaging|PROCEDURE: Multigated Acquisition Scan",
            "BIOLOGICAL: bevacizumab|DRUG: fluorouracil|RADIATION: external beam radiation therapy|PROCEDURE: therapeutic conventional surgery|OTHER: laboratory biomarker analysis",
            "DRUG: Cyclophosphamide|DRUG: Doxorubicin Hydrochloride|DRUG: Oral Azacitidine|DRUG: Prednisone|OTHER: Questionnaire Administration|BIOLOGICAL: Rituximab|DRUG: Vincristine Sulfate",
            "DRUG: cyclosporine|DRUG: irinotecan hydrochloride|DRUG: phenobarbital",
            "DRUG: doxorubicin|DRUG: ifosfamide|DRUG: mesna",
            "DRUG: Cyclophosphamide|DRUG: Fludarabine Phosphate|OTHER: Laboratory Biomarker Analysis|DRUG: Lenalidomide|BIOLOGICAL: Rituximab",
            "DRUG: Avelumab|PROCEDURE: Biopsy|PROCEDURE: Biospecimen Collection|PROCEDURE: Computed Tomography|PROCEDURE: Magnetic Resonance Imaging|PROCEDURE: Positron Emission Tomography|DRUG: Tuvusertib",
            "PROCEDURE: Biopsy|PROCEDURE: Biospecimen Collection|PROCEDURE: Computed Tomography|PROCEDURE: Magnetic Resonance Elastography|BIOLOGICAL: Pembrolizumab|BIOLOGICAL: Ziv-Aflibercept",
            "BIOLOGICAL: Atezolizumab|PROCEDURE: Biospecimen Collection|PROCEDURE: Conventional Surgery|RADIATION: Fractionated Stereotactic Radiation Therapy|PROCEDURE: Magnetic Resonance Imaging|BIOLOGICAL: Tocilizumab",
            "DRUG: Bevacizumab|DRUG: BAY 43-9006",
            "DRUG: 7-hydroxystaurosporine|DRUG: prednisone",
            "DRUG: AFP464|OTHER: laboratory biomarker analysis|OTHER: pharmacological study",
            "PROCEDURE: Biospecimen Collection|DRUG: Cediranib Maleate|PROCEDURE: Computed Tomography|PROCEDURE: Computed Tomography with Contrast|BIOLOGICAL: Durvalumab|PROCEDURE: Echocardiography|PROCEDURE: Magnetic Resonance Imaging|PROCEDURE: Multigated Acquisition Scan|DRUG: Olaparib|DRUG: Paclitaxel|DRUG: Pegylated Liposomal Doxorubicin Hydrochloride|DRUG: Topotecan Hydrochloride",
            "DRUG: vorinostat|DRUG: gemcitabine hydrochloride",
            "DRUG: Capecitabine|DRUG: Imatinib mesylate",
            "OTHER: Questionnaire Administration|DRUG: Trametinib",
            "DRUG: Glycosylated Recombinant Human Interleukin-7|BIOLOGICAL: Diphtheria/Tetanus Vaccine|BIOLOGICAL: Polio Vaccine|BIOLOGICAL: Pneumococcal Vaccine|BIOLOGICAL: Hepatitis A Vaccine|BIOLOGICAL: Hepatitis B Vaccine",
            "DRUG: Trametinib",
            "PROCEDURE: Biospecimen Collection|PROCEDURE: Computed Tomography with Contrast|PROCEDURE: Magnetic Resonance Imaging|DRUG: Osimertinib",
            "OTHER: No Treatment",
            "BIOLOGICAL: Anti-Tumor Necrosis Factor (TNF) Receptor Superfamily Member 8 (CD30) Chimeric Antigen Receptor (CAR) T cells|DRUG: Cyclophosphamide|DRUG: Fludarabine",
            "DRUG: Aspirin|OTHER: Laboratory Biomarker Analysis|OTHER: Placebo",
            "DRUG: Azacitidine|PROCEDURE: Biospecimen Collection|PROCEDURE: Bone Marrow Aspiration|DRUG: Cytarabine|DRUG: Daunorubicin Hydrochloride|DRUG: Liposome-encapsulated Daunorubicin-Cytarabine|DRUG: Venetoclax",
            "DRUG: Bicalutamide|BIOLOGICAL: Cixutumumab|DRUG: Goserelin Acetate|OTHER: Laboratory Biomarker Analysis|DRUG: Leuprolide Acetate|OTHER: Pharmacological Study",
            "DRUG: cyclophosphamide|DRUG: fludarabine phosphate|BIOLOGICAL: therapeutic autologous lymphocytes|PROCEDURE: in vitro-treated peripheral blood stem cell transplantation|BIOLOGICAL: gp100 antigen|BIOLOGICAL: MART-1 antigen|BIOLOGICAL: incomplete Freund's adjuvant|BIOLOGICAL: filgrastim|BIOLOGICAL: aldesleukin",
            "OTHER: Genetic Education and Counseling|OTHER: Genetic Education and Counseling",
            "PROCEDURE: Reduced-intensity hematopoietic stem cell|DRUG: Fludarabine(Fludara, Berlex Laboratories)|DRUG: Cyclophosphamide(CTX, Cytoxan)|PROCEDURE: Total Body Irradiation (TBI)|DRUG: Busulfan (Busulfex)|PROCEDURE: Donor peripheral blood stem cell mobiliation and collection|PROCEDURE: Bone Marrow Harvest Procedure",
            "RADIATION: 3-Dimensional Conformal Radiation Therapy|DRUG: Gamma-Secretase Inhibitor RO4929097|RADIATION: Intensity-Modulated Radiation Therapy|OTHER: Laboratory Biomarker Analysis|OTHER: Pharmacological Study|DRUG: Temozolomide|PROCEDURE: Therapeutic Conventional Surgery",
            "PROCEDURE: Allogeneic HSCT|DRUG: Busulfan Test dose|DRUG: Fludarabine (Fludara, Berlex Laboratories)|DRUG: Busulfan (Busulfex)|DRUG: Cyclophosphamide (CTX, Cytoxan)|PROCEDURE: Total Body Irradiation (TBI)|DRUG: Mycophenolate mofetil (MMF)|DRUG: Tacrolimus|BIOLOGICAL: Equine Anti-Thymocyte Globulin",
            "BIOLOGICAL: recombinant interferon alfa|DRUG: thalidomide",
            "DRUG: paclitaxel|DRUG: cisplatin|PROCEDURE: chest radiotherapy",
            "DRUG: ispinesib|OTHER: pharmacological study|OTHER: laboratory biomarker analysis",
            "DRUG: Nelfinavir|DRUG: Nelfinavir Mesylate",
            "RADIATION: 3-Dimensional Conformal Radiation Therapy|BIOLOGICAL: Blinatumomab|DRUG: Cyclophosphamide|DRUG: Cytarabine|DRUG: Dexamethasone|DRUG: Etoposide|DRUG: Hydrocortisone Sodium Succinate|DRUG: Leucovorin Calcium|DRUG: Mercaptopurine|DRUG: Methotrexate|BIOLOGICAL: Nivolumab|DRUG: Pegaspargase|DRUG: Thioguanine|DRUG: Vincristine Sulfate",
            "DRUG: Pioglitazone",
            "DRUG: gemcitabine|DRUG: fluorodeoxyuridine|DRUG: leucovorin",
            "DRUG: PI3K-beta Inhibitor GSK2636771",
            "PROCEDURE: Biospecimen Collection|PROCEDURE: Bone Marrow Aspiration|PROCEDURE: Bone Marrow Biopsy|DRUG: Cytarabine|DRUG: Daunorubicin|PROCEDURE: Multigated Acquisition Scan|DRUG: Revumenib|PROCEDURE: Transthoracic Echocardiography",
            "DRUG: Yttrium-90 radiolabeled anti-Tac antibody",
            "DRUG: Cytarabine|DRUG: Decitabine|OTHER: Laboratory Biomarker Analysis|OTHER: Pharmacological Study|DRUG: Vorinostat",
            "DRUG: Detox-B adjuvant|DRUG: ras peptide cancer vaccine",
            "DRUG: Akt Inhibitor MK2206|DRUG: Bendamustine Hydrochloride|OTHER: Laboratory Biomarker Analysis|BIOLOGICAL: Rituximab",
            "DRUG: vorinostat|DRUG: trastuzumab",
            "BIOLOGICAL: recombinant interleukin-12|DRUG: paclitaxel|DRUG: pegylated liposomal doxorubicin hydrochloride",
            "DRUG: cisplatin|DRUG: fluorouracil|DRUG: ONYX-015",
            "OTHER: Laboratory Biomarker Analysis|DRUG: Thalidomide",
            "DRUG: irinotecan hydrochloride|DRUG: oxaliplatin|DRUG: leucovorin calcium|DRUG: fluorouracil|PROCEDURE: quality-of-life assessment",
            "DRUG: orantinib|OTHER: laboratory biomarker analysis|OTHER: pharmacological study",
            "DRUG: LMB-100|DRUG: Nab-Paclitaxel|DEVICE: Mesothelin Expression|DRUG: LMB-100",
            "BIOLOGICAL: PG13-CEA_TCR (Anti-CEA TCR PBL)|DRUG: Aldesleukin",
            "BIOLOGICAL: Melanoma Reactive TIL|DRUG: Cyclophosphamide|BIOLOGICAL: IL-2|DRUG: Fludarabine|RADIATION: 1200 total body irradiation (TBI)",
            "DRUG: pazopanib hydrochloride|OTHER: pharmacological study|PROCEDURE: computed tomography",
            "DRUG: fluorouracil|DRUG: oxaliplatin|RADIATION: radiation therapy|DRUG: leucovorin calcium|PROCEDURE: therapeutic conventional surgery",
            "DEVICE: Elidah Device",
            "DRUG: sorafenib tosylate|DRUG: anastrozole",
            "DRUG: EF5|OTHER: Laboratory Biomarker Analysis|PROCEDURE: Therapeutic Conventional Surgery|OTHER: Tissue Oxygen Measurement",
            "DRUG: fenretinide|OTHER: laboratory biomarker analysis",
            "DRUG: AFP464|OTHER: pharmacological study|OTHER: laboratory biomarker analysis",
            "DRUG: dinaciclib|OTHER: laboratory biomarker analysis",
            "BEHAVIORAL: Participant interview",
            "DRUG: Akt Inhibitor MK2206|DRUG: Everolimus|OTHER: Laboratory Biomarker Analysis",
            "DRUG: halofuginone hydrobromide|OTHER: placebo|OTHER: laboratory biomarker analysis|OTHER: pharmacological study",
            "BIOLOGICAL: rituximab|BIOLOGICAL: bevacizumab|DRUG: cyclophosphamide|DRUG: doxorubicin hydrochloride|DRUG: vincristine sulfate|DRUG: prednisone|OTHER: laboratory biomarker analysis",
            "BIOLOGICAL: trastuzumab|DRUG: tipifarnib",
            "DRUG: Cisplatin|DRUG: Elimusertib|DRUG: Gemcitabine Hydrochloride",
            "BIOLOGICAL: Brachyury-TRICOM|DRUG: Entinostat|BIOLOGICAL: M7824|BIOLOGICAL: Ado-trastuzumab emtansine",
            "BIOLOGICAL: PEG-interferon alfa-2b|BIOLOGICAL: bevacizumab|OTHER: laboratory biomarker analysis",
            "DRUG: CDK Inhibitor AT7519|OTHER: Laboratory Biomarker Analysis|DRUG: Onalespib|OTHER: Pharmacological Study",
            "PROCEDURE: Bone Marrow Transplantation|DRUG: Sorafenib|DRUG: Sorafenib Tosylate",
            "DRUG: oxaliplatin|OTHER: pharmacological study",
            "BIOLOGICAL: T-cell receptor alternate reading frame protein (TARP) peptide vaccine|BIOLOGICAL: T-cell receptor alternate reading frame protein (TARP) dendritic cell vaccine",
            "RADIATION: 3-dimensional conformal radiation therapy|DRUG: bortezomib|DRUG: paclitaxel|DRUG: carboplatin",
            "DRUG: Enzastaurin (LY317615) monohydronchloride",
            "DRUG: Bevacizumab|DRUG: Dasatinib",
            "OTHER: Laboratory Biomarker Analysis|DRUG: Lapatinib Ditosylate|DRUG: Paclitaxel|BIOLOGICAL: Trastuzumab",
            "DRUG: IFN-alpha with retinoic acid",
            "DRUG: lapatinib ditosylate|DRUG: paclitaxel|BIOLOGICAL: trastuzumab|PROCEDURE: therapeutic conventional surgery|OTHER: pharmacological study|OTHER: laboratory biomarker analysis",
            "DRUG: Fluorouracil|OTHER: Pharmacological Study|DRUG: Suramin",
            "PROCEDURE: Biopsy|PROCEDURE: Computed Tomography|DRUG: Copanlisib Hydrochloride|PROCEDURE: Magnetic Resonance Imaging",
            "BIOLOGICAL: rh IL-15 (10 DAYS)|BIOLOGICAL: rh IL-15 (5 DAYS)",
            "DRUG: alvespimycin hydrochloride|OTHER: laboratory biomarker analysis",
            "OTHER: placebo|DRUG: inositol",
            "BIOLOGICAL: bevacizumab|DRUG: lenalidomide|DRUG: dexamethasone",
            "BIOLOGICAL: NY-ESO-1 peptide vaccine|BIOLOGICAL: aldesleukin",
            "DRUG: autologous tumor cell vaccine|DRUG: keyhole limpet hemocyanin|DRUG: melphalan|DRUG: sargramostim",
            "PROCEDURE: Biopsy|PROCEDURE: Biospecimen Collection|PROCEDURE: Echocardiography|BIOLOGICAL: Pertuzumab|PROCEDURE: Radiologic Examination|BIOLOGICAL: Trastuzumab",
            "BIOLOGICAL: PRGN-2009 (Phase I)|BIOLOGICAL: PRGN-2009 (Phase II)|BIOLOGICAL: M7824|DIAGNOSTIC_TEST: MRI|DIAGNOSTIC_TEST: Bone scan|DIAGNOSTIC_TEST: CT scan|DIAGNOSTIC_TEST: Brain CT|DIAGNOSTIC_TEST: Brain MRI|PROCEDURE: Biopsy (Phase I)|PROCEDURE: Biopsy (Phase II)",
            "BIOLOGICAL: Ipilimumab|OTHER: Laboratory Biomarker Analysis|BIOLOGICAL: Nivolumab|OTHER: Quality-of-Life Assessment",
            "DRUG: Endoxifen Hydrochloride|OTHER: Placebo Administration|OTHER: Questionnaire Administration",
            "DRUG: lapatinib ditosylate|OTHER: laboratory biomarker analysis|PROCEDURE: quality-of-life assessment|OTHER: questionnaire administration",
            "DRUG: AZD2171",
            "BIOLOGICAL: aldesleukin|BIOLOGICAL: recombinant interleukin-12|OTHER: laboratory biomarker analysis",
            "DRUG: Nexavar (BAY 43-9006) (Sorafenib)|DRUG: Toxicity, Pharmacokinetics|DRUG: Pharmacodynamics|DRUG: Radiographic Evaluation|DRUG: QOL assessment, Neuropsychological|DRUG: Bony Toxicity",
            "OTHER: Laboratory Biomarker Analysis|OTHER: Pharmacological Study|OTHER: Placebo|DRUG: Pomegranate-Extract Pill",
            "PROCEDURE: Fiducial marker placement",
            "DRUG: Satraplatin|DRUG: prednisone",
            "OTHER: 18F-fluoromisonidazole|RADIATION: fluorodeoxyglucose F 18|PROCEDURE: positron emission tomography|OTHER: tissue oxygen measurement",
            "DRUG: goserelin|DRUG: Enzalutamide|DRUG: Abiraterone|DRUG: 18F-DCFPyL|DRUG: Prednisone|PROCEDURE: Radical Prostatectomy",
            "DRUG: bortezomib|DRUG: paclitaxel|DRUG: carboplatin|OTHER: laboratory biomarker analysis",
            "RADIATION: 3-dimensional conformal radiation therapy|DRUG: paclitaxel|BIOLOGICAL: bevacizumab|DRUG: carboplatin|OTHER: laboratory biomarker analysis",
            "DRUG: Isotretinoin|OTHER: Laboratory Biomarker Analysis|OTHER: Pharmacological Study|DRUG: Vorinostat",
            "DRUG: Akt Inhibitor MK2206|DRUG: Hydroxychloroquine",
            "DRUG: gemcitabine hydrochloride|DRUG: veliparib|OTHER: diagnostic laboratory biomarker analysis|OTHER: pharmacological study|DRUG: cisplatin",
            "DRUG: recombinant fowlpox-CEA(6D)/TRICOM vaccine|DRUG: recombinant vaccinia-CEA(6D)-TRICOM vaccine|DRUG: docetaxel|DRUG: sargramostim",
            "DRUG: topotecan",
            "DRUG: perifosine",
            "DRUG: pazopanib hydrochloride|PROCEDURE: pharmacological study|PROCEDURE: laboratory biomarker analysis",
            "DRUG: Binimetinib|PROCEDURE: Biopsy|PROCEDURE: Biospecimen Collection|PROCEDURE: Bone Scan|PROCEDURE: Computed Tomography|PROCEDURE: Echocardiography|DRUG: Fulvestrant|PROCEDURE: Magnetic Resonance Imaging|PROCEDURE: Multigated Acquisition Scan",
            "DRUG: Carboplatin|DRUG: Cisplatin|DRUG: Etoposide|OTHER: Laboratory Biomarker Analysis|OTHER: Placebo Administration|DRUG: Sunitinib Malate",
            "DRUG: 18-NaF PET|OTHER: DCE-MRI|DRUG: 18-FDG PET/CT",
            "DRUG: erlotinib hydrochloride|DRUG: temozolomide|OTHER: pharmacological study|OTHER: laboratory biomarker analysis",
            "RADIATION: radiation therapy|DRUG: thalidomide|PROCEDURE: quality-of-life assessment",
            "DRUG: Cyclophosphamide|DRUG: Doxorubicin Hydrochloride|OTHER: Laboratory Biomarker Analysis|OTHER: Pharmacological Study|DRUG: Veliparib",
            "DRUG: M9241|RADIATION: Stereotactic Body Radiation Therapy (SBRT)",
            "DRUG: Zolpidem",
            "PROCEDURE: Biopsy|PROCEDURE: Biospecimen Collection|DRUG: Cisplatin|PROCEDURE: Computed Tomography|DRUG: Ipatasertib|PROCEDURE: Magnetic Resonance Imaging|PROCEDURE: Positron Emission Tomography|RADIATION: Radiation Therapy",
            "DRUG: aminocamptothecin",
            "DRUG: Belinostat|PROCEDURE: Biopsy|PROCEDURE: Biospecimen Collection|PROCEDURE: Computed Tomography|OTHER: Pharmacokinetic Study|PROCEDURE: Positron Emission Tomography and Computed Tomography Scan|DRUG: Tazemetostat",
            "PROCEDURE: Surgery|PROCEDURE: Continuous hyperthermic peritoneal perfusion (CHPP) with Cisplatin|DRUG: Postoperative dwell with paclitaxel and 5-FU",
            "DRUG: topotecan hydrochloride",
            "RADIATION: Intensity-Modulated Radiation Therapy|DRUG: Paclitaxel|DRUG: Pazopanib Hydrochloride|OTHER: Placebo Administration",
            "DRUG: Bintrafusp alfa / M7824",
            "DRUG: FdCyd + THU",
            "DRUG: Pentostatin|DRUG: Sirolimus|DRUG: Cyclophosphamide|PROCEDURE: Allogeneic Hematopoietic Stem Cell Transplant (HSCT)|PROCEDURE: Th2 rapa cells|PROCEDURE: Donor Lymphocyte Harvest|PROCEDURE: Induction Therapy|PROCEDURE: GVHD prophylaxis|PROCEDURE: Donor Hematopoietic Stem Cell Harvest",
            "BIOLOGICAL: oblimersen sodium|BIOLOGICAL: rituximab|DRUG: cyclophosphamide|DRUG: doxorubicin hydrochloride|DRUG: vincristine sulfate|DRUG: prednisone|OTHER: laboratory biomarker analysis",
            "PROCEDURE: Biopsy|PROCEDURE: Biospecimen Collection|PROCEDURE: Computed Tomography|PROCEDURE: Magnetic Resonance Imaging|PROCEDURE: Positron Emission Tomography|DRUG: Rogaratinib",
            "DRUG: Alvocidib Hydrochloride|DRUG: Fluorouracil|DRUG: Leucovorin Calcium|DRUG: Oxaliplatin",
            "PROCEDURE: Biopsy|PROCEDURE: Biospecimen Collection|PROCEDURE: Computed Tomography|DRUG: Copanlisib Hydrochloride|PROCEDURE: Echocardiography|BIOLOGICAL: Ipilimumab|BIOLOGICAL: Nivolumab|PROCEDURE: X-Ray Imaging",
            "DRUG: Asparaginase|DRUG: Cyclophosphamide|DRUG: Cytarabine|DRUG: Daunorubicin Hydrochloride|DRUG: Dexamethasone|DRUG: Doxorubicin Hydrochloride|OTHER: Laboratory Biomarker Analysis|DRUG: Leucovorin Calcium|DRUG: Mercaptopurine|DRUG: Methotrexate|DRUG: Nelarabine|DRUG: Pegaspargase|DRUG: Prednisone|RADIATION: Radiation Therapy|DRUG: Thioguanine|DRUG: Vincristine Sulfate",
            "DRUG: tanespimycin|DRUG: bortezomib|OTHER: laboratory biomarker analysis",
            "BIOLOGICAL: cetuximab|BIOLOGICAL: bevacizumab|DRUG: irinotecan hydrochloride|OTHER: laboratory biomarker analysis",
            "PROCEDURE: Tumor tissue biopsy|PROCEDURE: Surgery",
            "BIOLOGICAL: Denileukin diftitox (Ontak)",
            "DRUG: R(+)XK469|OTHER: pharmacological study|OTHER: laboratory biomarker analysis",
            "DRUG: Sapanisertib|DRUG: Telaglenastat Hydrochloride",
            "DRUG: Post-Transplant Cyclophosphamide (PTCY)|DRUG: Cyclophosphamide (CY)|DRUG: Fludarabine|RADIATION: Total Body Irradiation (TBI)|DRUG: Busulfan|DRUG: Sirolimus|DRUG: Mycophenolate mofetil (MMF)|DRUG: Busulfan test dose|PROCEDURE: Allogeneic HSCT",
            "DRUG: methotrexate|DRUG: leucovorin|DRUG: 5-fluorouracil|DRUG: cyclophosphamide|PROCEDURE: peripheral blood progenitor cell|DRUG: paclitaxel|DRUG: doxorubicin",
            "DRUG: Akt Inhibitor MK2206|OTHER: Laboratory Biomarker Analysis|DRUG: Paclitaxel|OTHER: Pharmacological Study",
            "DRUG: PSC 833|DRUG: paclitaxel",
            "DRUG: Abemaciclib|PROCEDURE: Biopsy|PROCEDURE: Biospecimen Collection|DRUG: Copanlisib Hydrochloride|PROCEDURE: Diagnostic Imaging|PROCEDURE: Echocardiography|DRUG: Fulvestrant|PROCEDURE: Multigated Acquisition Scan",
            "PROCEDURE: Biopsy|PROCEDURE: Biospecimen Collection|PROCEDURE: Computed Tomography|DRUG: Elimusertib|DRUG: Irinotecan Hydrochloride|PROCEDURE: Magnetic Resonance Imaging|DRUG: Topotecan Hydrochloride",
            "DRUG: tipifarnib|RADIATION: radiation therapy",
            "DRUG: incyclinide|DRUG: incyclinide|OTHER: laboratory biomarker analysis",
            "DRUG: motexafin gadolinium|RADIATION: radiation therapy",
            "PROCEDURE: Biopsy|PROCEDURE: Biospecimen Collection|PROCEDURE: Chest Radiography|DRUG: Cisplatin|PROCEDURE: Computed Tomography|PROCEDURE: Echocardiography|OTHER: Electronic Health Record Review|OTHER: Fluciclovine F18|DRUG: Gemcitabine|PROCEDURE: Magnetic Resonance Imaging|PROCEDURE: Multigated Acquisition Scan|BIOLOGICAL: Nivolumab|PROCEDURE: Positron Emission Tomography|OTHER: Quality-of-Life Assessment|OTHER: Questionnaire Administration|RADIATION: Radiation Therapy|PROCEDURE: X-Ray Imaging",
            "DRUG: imatinib mesylate|OTHER: placebo|OTHER: laboratory biomarker analysis",
            "DRUG: Bortezomib|DRUG: Dexamethasone|OTHER: Laboratory Biomarker Analysis|DRUG: Lenalidomide",
            "PROCEDURE: Biopsy|PROCEDURE: Biospecimen Collection|DRUG: Carboplatin|PROCEDURE: Computed Tomography|PROCEDURE: Magnetic Resonance Imaging|DRUG: Veliparib",
            "DRUG: Sasanlimab|DRUG: Palbocicilib",
            "BIOLOGICAL: aldesleukin|BIOLOGICAL: incomplete Freund's adjuvant|BIOLOGICAL: sargramostim|BIOLOGICAL: tyrosinase peptide|BIOLOGICAL: tyrosinase-related protein-1",
            "DRUG: COL-3",
            "DRUG: becatecarin|DRUG: oxaliplatin|OTHER: pharmacological study",
            "DRUG: SJG-136|OTHER: laboratory biomarker analysis",
            "PROCEDURE: M|RADIATION: X",
            "BIOLOGICAL: Bevacizumab|RADIATION: Fludeoxyglucose F-18|DRUG: Irinotecan Hydrochloride",
            "DRUG: fluorouracil|DRUG: gemcitabine hydrochloride|DRUG: paclitaxel|RADIATION: radiation therapy",
            "PROCEDURE: Biospecimen Collection|PROCEDURE: Bone Marrow Biopsy|PROCEDURE: Computed Tomography|BIOLOGICAL: Ipilimumab|BIOLOGICAL: Nivolumab|PROCEDURE: Positron Emission Tomography",
            "DRUG: Akt Inhibitor MK2206|DRUG: Bicalutamide|OTHER: Clinical Observation|OTHER: Laboratory Biomarker Analysis",
            "DRUG: Ceralasertib|BIOLOGICAL: Trastuzumab Deruxtecan",
            "DRUG: Carboplatin|DRUG: Cediranib|DRUG: Cediranib Maleate|DRUG: Cisplatin|DRUG: Etoposide|DRUG: Olaparib",
            "DRUG: BET Bromodomain Inhibitor ZEN-3694|DRUG: Binimetinib|PROCEDURE: Biopsy|PROCEDURE: Biospecimen Collection|PROCEDURE: Computed Tomography|PROCEDURE: Magnetic Resonance Imaging",
            "DRUG: alvocidib|DRUG: cytarabine|DRUG: mitoxantrone hydrochloride|OTHER: pharmacological study",
            "DRUG: Carboplatin|DRUG: Cisplatin|DRUG: Etoposide|BIOLOGICAL: Nivolumab",
            "DRUG: erlotinib hydrochloride|DRUG: docetaxel|RADIATION: radiation therapy|PROCEDURE: therapeutic conventional surgery|OTHER: laboratory biomarker analysis|OTHER: pharmacological study",
            "DRUG: Copanlisib|DRUG: Fulvestrant",
            "DRUG: Zidovudine|DRUG: Liposomal Doxorubicin|DRUG: Valganiclovir|DRUG: Rituximab|OTHER: Standard Therapies|OTHER: Cohort 1",
            "OTHER: Diagnostic Laboratory Biomarker Analysis|DRUG: Lenalidomide",
            "DRUG: Afatinib|PROCEDURE: Biopsy|PROCEDURE: Biospecimen Collection|PROCEDURE: Computed Tomography|PROCEDURE: Echocardiography|PROCEDURE: Magnetic Resonance Imaging|PROCEDURE: Radionuclide Imaging",
            "DRUG: Atezolizumab|BIOLOGICAL: Bevacizumab|PROCEDURE: Biospecimen Collection|PROCEDURE: Computed Tomography|DRUG: Fluorouracil|DRUG: Leucovorin|PROCEDURE: Magnetic Resonance Imaging|DRUG: Oxaliplatin|PROCEDURE: Positron Emission Tomography|OTHER: Quality-of-Life Assessment|OTHER: Questionnaire Administration",
            "DRUG: Capecitabine|BIOLOGICAL: Cixutumumab|DRUG: Lapatinib Ditosylate|OTHER: Quality-of-Life Assessment",
            "DRUG: ifosfamide|DRUG: etoposide|BIOLOGICAL: rituximab|DRUG: carboplatin|BIOLOGICAL: filgrastim|DRUG: methotrexate|DRUG: cytarabine|OTHER: laboratory biomarker analysis",
            "PROCEDURE: Biopsy|PROCEDURE: Biospecimen Collection|PROCEDURE: Computed Tomography|PROCEDURE: Echocardiography|PROCEDURE: Magnetic Resonance Imaging|PROCEDURE: Multigated Acquisition Scan|BIOLOGICAL: Trastuzumab Deruxtecan",
            "DRUG: Nivolumab|DRUG: Entinostat|BIOLOGICAL: Montanide(R) ISA-51 VG Adjuvant|BIOLOGICAL: H1299 Cell Lysates",
            "DRUG: 7-hydroxystaurosporine|DRUG: fluorouracil|DRUG: leucovorin calcium",
            "PROCEDURE: Autologous Hematopoietic Stem Cell Transplantation|DRUG: Bendamustine|DRUG: Brentuximab Vedotin|DRUG: Carboplatin|PROCEDURE: Computed Tomography|DRUG: Etoposide|DRUG: Gemcitabine|DRUG: Ifosfamide|DRUG: Pegylated Liposomal Doxorubicin Hydrochloride|BIOLOGICAL: Pembrolizumab|PROCEDURE: Positron Emission Tomography|RADIATION: Radiation Therapy|OTHER: Transplant Conditioning|DRUG: Vinorelbine",
            "DRUG: Natural Killer (NK) Lymphocytes|BIOLOGICAL: IL-2|DRUG: Cyclophosphamide|DRUG: Fludarabine",
            "DRUG: Celecoxib (SC-58635)",
            "PROCEDURE: Biopsy|PROCEDURE: Biospecimen Collection|PROCEDURE: Computed Tomography|DRUG: Copanlisib Hydrochloride|BIOLOGICAL: Durvalumab|PROCEDURE: Echocardiography|PROCEDURE: Magnetic Resonance Imaging|DRUG: Olaparib|PROCEDURE: X-Ray Imaging",
            "DRUG: IL-2 (interleukin-2)|DRUG: OKT3|DRUG: Cyclophosphamide|DRUG: Fludarabine|DRUG: Mesna",
            "DRUG: Myeloma Immunoglobulin Idiotype Vaccine-KLH|DRUG: GM-CSF",
            "DRUG: carboxyamidotriazole|DRUG: chemotherapy",
            "DRUG: Budesonide|OTHER: Placebo",
            "BIOLOGICAL: Allogeneic stem cell transplant",
            "DRUG: PF-02341066/PF-00299804|DRUG: PF-02341066/PF-00299804",
            "PROCEDURE: Auto stem cell transplant|DRUG: BEAM|RADIATION: 111In-daclizumab|RADIATION: 90Y-daclizumab",
            "DRUG: Gamma-secretase/Notch signalling pathway inhibitor RO4929097|RADIATION: Whole-brain radiation therapy (WBRT)|RADIATION: Stereotactic radiosurgery (SRS)|PROCEDURE: Cognitive assessment|OTHER: Laboratory biomarker analysis",
            "BIOLOGICAL: Bevacizumab|DRUG: Cyclophosphamide|DRUG: Doxorubicin Hydrochloride|OTHER: Laboratory Biomarker Analysis|DRUG: Paclitaxel|OTHER: Placebo Administration|OTHER: Quality-of-Life Assessment",
            "DRUG: ISIS 183750|DRUG: Irinotecan",
            "DRUG: temsirolimus|OTHER: laboratory biomarker analysis|OTHER: pharmacological study",
            "BIOLOGICAL: Durvalumab|BIOLOGICAL: Tremelimumab|RADIATION: Sterostatic body radiation therapy (SBRT)",
            "PROCEDURE: Biopsy|PROCEDURE: Biospecimen Collection|PROCEDURE: Colonoscopy|PROCEDURE: Computed Tomography|PROCEDURE: Digital Rectal Examination|PROCEDURE: High Resolution Anoscopy|PROCEDURE: Magnetic Resonance Imaging|BIOLOGICAL: Nivolumab|OTHER: Patient Observation|PROCEDURE: Proctoscopy|PROCEDURE: Sigmoidoscopy|PROCEDURE: X-Ray Imaging",
            "BIOLOGICAL: Anetumab Ravtansine|BIOLOGICAL: Bevacizumab|DRUG: Paclitaxel",
            "PROCEDURE: high dose melphalan and autologous bone marrow transplantation",
            "DRUG: Vorinostat (SAHA)|DRUG: Velcade (PS-341, Bortezomib)",
            "DRUG: topotecan hydrochloride|OTHER: laboratory biomarker analysis",
            "DRUG: Cytarabine|DRUG: Dasatinib|DRUG: Daunorubicin Hydrochloride|OTHER: Laboratory Biomarker Analysis",
            "DRUG: PEN-866|DRUG: Vincristine|DRUG: Temozolomide",
            "DRUG: cediranib maleate|DRUG: oxaliplatin|DRUG: leucovorin calcium|DRUG: fluorouracil",
            "DRUG: carmustine|PROCEDURE: conventional surgery",
            "DRUG: Cyclophosphamide|DRUG: Doxorubicin|DRUG: Doxorubicin Hydrochloride|DRUG: Etoposide|DRUG: Etoposide Phosphate|RADIATION: External Beam Radiation Therapy|BIOLOGICAL: Ganitumab|DRUG: Ifosfamide|RADIATION: Stereotactic Radiosurgery|PROCEDURE: Therapeutic Surgical Procedure|DRUG: Vincristine|DRUG: Vincristine Sulfate",
            "PROCEDURE: Biopsy|PROCEDURE: Biospecimen Collection|PROCEDURE: Bone Marrow Aspiration and Biopsy|PROCEDURE: Computed Tomography|PROCEDURE: Echocardiography|PROCEDURE: Multigated Acquisition Scan|DRUG: Olaparib|DRUG: Selumetinib Sulfate",
            "DRUG: Bortezomib|DRUG: Dexamethasone|DRUG: Dinaciclib|OTHER: Laboratory Biomarker Analysis",
            "RADIATION: Intensity-Modulated Radiation Therapy|OTHER: Laboratory Biomarker Analysis|OTHER: Pharmacological Study|DRUG: Ropidoxuridine",
            "DRUG: SX-682|DRUG: M7824|BIOLOGICAL: MVA-BN-CV301|BIOLOGICAL: recombinant fowlpox viral (FPV)-CV301",
            "DRUG: Carboplatin|DRUG: Cisplatin|BIOLOGICAL: Durvalumab|DRUG: Etoposide|DRUG: Paclitaxel|DRUG: Pemetrexed Disodium",
            "DRUG: 5-fluorouracil",
            "PROCEDURE: Biospecimen Collection|PROCEDURE: Bone Marrow Aspiration and Biopsy|DRUG: Liposome-encapsulated Daunorubicin-Cytarabine|DRUG: Pomalidomide",
            "DRUG: EF5|OTHER: diagnostic laboratory biomarker analysis|OTHER: pharmacological study",
            "DRUG: Iloprost|OTHER: Placebo Administration|OTHER: Quality-of-Life Assessment|OTHER: Questionnaire Administration",
            "PROCEDURE: conventional surgery|RADIATION: brachytherapy|RADIATION: radiation therapy",
            "BIOLOGICAL: trastuzumab|BIOLOGICAL: aldesleukin|OTHER: laboratory biomarker analysis|OTHER: pharmacological study",
            "DRUG: suramin|DRUG: paclitaxel|OTHER: pharmacological study",
            "BIOLOGICAL: bevacizumab|DRUG: docetaxel|OTHER: laboratory biomarker analysis",
            "DRUG: Entinostat|DRUG: Molibresib",
            "DRUG: Atezolizumab|RADIATION: Brachytherapy|DRUG: Cisplatin|RADIATION: Radiation Therapy",
            "DRUG: ixabepilone|DRUG: carboplatin|OTHER: laboratory biomarker analysis|OTHER: pharmacological study",
            "BIOLOGICAL: BL22 immunotoxin",
            "DRUG: Capecitabine|DRUG: Fluorouracil|RADIATION: Intensity-Modulated Radiation Therapy|DRUG: Mitomycin|BIOLOGICAL: Nivolumab",
            "DRUG: 18F-Fluoromisonidazole|DRUG: Carboplatin|PROCEDURE: Computed Tomography|PROCEDURE: Computed Tomography|RADIATION: External Beam Radiation Therapy|DRUG: Fludeoxyglucose F-18|RADIATION: Image-Guided Adaptive Radiation Therapy|OTHER: Laboratory Biomarker Analysis|DRUG: Paclitaxel|PROCEDURE: Positron Emission Tomography|PROCEDURE: Positron Emission Tomography",
            "BIOLOGICAL: Atezolizumab|PROCEDURE: Biopsy|PROCEDURE: Biospecimen Collection|DRUG: Carboplatin|DRUG: Cisplatin|PROCEDURE: Computed Tomography|DRUG: Etoposide|RADIATION: External Beam Radiation Therapy|PROCEDURE: Magnetic Resonance Imaging|DRUG: Paclitaxel|DRUG: Pemetrexed|PROCEDURE: Positron Emission Tomography|PROCEDURE: Therapeutic Conventional Surgery",
            "PROCEDURE: Biospecimen Collection|PROCEDURE: Bone Marrow Aspiration|PROCEDURE: Bone Marrow Biopsy|PROCEDURE: Computed Tomography|BIOLOGICAL: Dinutuximab|PROCEDURE: Magnetic Resonance Imaging|BIOLOGICAL: Magrolimab|PROCEDURE: Resection",
            "DRUG: asparaginase|DRUG: daunorubicin hydrochloride|DRUG: fludarabine phosphate|DRUG: therapeutic hydrocortisone|PROCEDURE: allogeneic bone marrow transplantation|RADIATION: 3-dimensional conformal radiation therapy|BIOLOGICAL: filgrastim|DRUG: cytarabine|DRUG: idarubicin|DRUG: dexamethasone|DRUG: thioguanine|DRUG: etoposide|DRUG: methotrexate|DRUG: cyclophosphamide|BIOLOGICAL: aldesleukin|DRUG: busulfan",
            "DRUG: IMC-A12|DRUG: Temsirolimus",
            "DRUG: Dabrafenib Mesylate|OTHER: Quality-of-Life Assessment|OTHER: Questionnaire Administration|DRUG: Trametinib Dimethyl Sulfoxide",
            "DRUG: Rituximab",
            "DRUG: vorinostat|DRUG: cytarabine|DRUG: etoposide|OTHER: pharmacological study|OTHER: laboratory biomarker analysis",
            "DRUG: Zanolimumab|DRUG: Aldesleukin",
            "DRUG: Akt inhibitor MK2206|DRUG: lapatinib ditosylate|OTHER: pharmacological study|OTHER: laboratory biomarker analysis",
            "DRUG: veliparib|DRUG: capecitabine|DRUG: oxaliplatin|OTHER: pharmacological study|OTHER: laboratory biomarker analysis",
            "DRUG: triapine|DRUG: cisplatin",
            "PROCEDURE: Biopsy|PROCEDURE: Biospecimen Collection|DRUG: Cisplatin|PROCEDURE: Computed Tomography|DRUG: Gemcitabine|DRUG: Gemcitabine Hydrochloride|PROCEDURE: Magnetic Resonance Imaging|DRUG: Veliparib",
            "OTHER: Laboratory Biomarker Analysis|OTHER: Placebo|OTHER: Quality-of-Life Assessment|DRUG: Sorafenib Tosylate|DRUG: Sunitinib Malate",
            "BIOLOGICAL: Alemtuzumab|PROCEDURE: Allogeneic Hematopoietic Stem Cell Transplantation|PROCEDURE: Autologous Hematopoietic Stem Cell Transplantation|DRUG: Cyclophosphamide|DRUG: Cytarabine|DRUG: Dasatinib|DRUG: Daunorubicin Hydrochloride|DRUG: Dexamethasone|DRUG: Etoposide Phosphate|BIOLOGICAL: Filgrastim|DRUG: Fludarabine Phosphate|PROCEDURE: In Vitro-Treated Peripheral Blood Stem Cell Transplantation|OTHER: Laboratory Biomarker Analysis|DRUG: Leucovorin Calcium|DRUG: Melphalan|DRUG: Mercaptopurine|DRUG: Methotrexate|BIOLOGICAL: Pegfilgrastim|OTHER: Pharmacological Study|DRUG: Tacrolimus|DRUG: Vincristine Sulfate",
            "PROCEDURE: Biopsy",
            "DRUG: allopurinol|DRUG: cyclophosphamide|DRUG: daunorubicin hydrochloride|DRUG: vincristine sulfate|DRUG: dexamethasone|DRUG: asparaginase|BIOLOGICAL: filgrastim|DRUG: imatinib mesylate|DRUG: methotrexate|DRUG: cytarabine|DRUG: trimethoprim-sulfamethoxazole|DRUG: mercaptopurine|DRUG: leucovorin calcium|BIOLOGICAL: alemtuzumab|DRUG: acyclovir|OTHER: laboratory biomarker analysis|OTHER: pharmacological study",
            "PROCEDURE: Biopsy|PROCEDURE: Biospecimen Collection|DRUG: Lomustine|PROCEDURE: Magnetic Resonance Imaging|BIOLOGICAL: Nivolumab|BIOLOGICAL: Relatlimab|PROCEDURE: Surgical Procedure",
            "BIOLOGICAL: Vascular Biogenics (VB)-111|DRUG: Nivolumab",
            "PROCEDURE: Biospecimen Collection|PROCEDURE: Computed Tomography|DRUG: Ipatasertib|PROCEDURE: Magnetic Resonance Imaging|DRUG: Megestrol Acetate",
            "DRUG: Trabectedin (ecteinascidin-743, ET-743, YONDELIS [R])",
            "DRUG: docetaxel|BIOLOGICAL: cetuximab|DRUG: bortezomib",
            "BIOLOGICAL: Bevacizumab|DRUG: Docetaxel|BIOLOGICAL: Filgrastim|DRUG: Gemcitabine Hydrochloride|BIOLOGICAL: Pegfilgrastim|OTHER: Placebo",
            "DRUG: pamidronate disodium|DRUG: arsenic trioxide|OTHER: laboratory biomarker analysis|OTHER: pharmacological study",
            "DRUG: 17-N-allylamino-17-demethoxygeldanamycin/bortezomib|DRUG: sorafenib tosylate",
            "BIOLOGICAL: HspE7",
            "DRUG: benzoylphenylurea|OTHER: pharmacological study",
            "OTHER: Laboratory Biomarker Analysis|OTHER: Pharmacological Study|DRUG: Sapanisertib|PROCEDURE: Therapeutic Conventional Surgery",
            "PROCEDURE: Autologous Hematopoietic Stem Cell Transplantation|DRUG: Carboplatin|DRUG: Cisplatin|DRUG: Cyclophosphamide|DRUG: Dexrazoxane|BIOLOGICAL: Dinutuximab|DRUG: Doxorubicin|DRUG: Etoposide|RADIATION: External Beam Radiation Therapy|DRUG: Isotretinoin|DRUG: Melphalan|BIOLOGICAL: Sargramostim|DRUG: Thiotepa|DRUG: Topotecan|DRUG: Vincristine",
            "DRUG: MLN9708|DRUG: Dexamethasone",
            "DRUG: Floxuridine|OTHER: Laboratory Biomarker Analysis|OTHER: Pharmacological Study|DRUG: Veliparib",
            "DRUG: gefitinib|RADIATION: radiation therapy|DRUG: cisplatin|OTHER: laboratory biomarker analysis",
            "DRUG: PT-112",
            "DRUG: Curcumin|OTHER: Laboratory Biomarker Analysis|OTHER: Placebo Administration|OTHER: Quality-of-Life Assessment",
            "PROCEDURE: Biospecimen Collection|PROCEDURE: Bone Marrow Aspiration|PROCEDURE: Bone Marrow Biopsy|PROCEDURE: Computed Tomography|DRUG: Cytarabine|DRUG: Daunorubicin Hydrochloride|PROCEDURE: Echocardiography|PROCEDURE: Hematopoietic Cell Transplantation|DRUG: Idarubicin Hydrochloride|PROCEDURE: Multigated Acquisition Scan|BIOLOGICAL: Pembrolizumab|PROCEDURE: Punch Biopsy",
            "RADIATION: 3-Dimensional Conformal Radiation Therapy|PROCEDURE: Biospecimen Collection|DRUG: Capecitabine|DRUG: Chemotherapy|PROCEDURE: Computed Tomography|DRUG: Erlotinib Hydrochloride|DRUG: Fluorouracil|DRUG: Gemcitabine Hydrochloride|RADIATION: Intensity-Modulated Radiation Therapy|PROCEDURE: Magnetic Resonance Imaging|OTHER: Quality-of-Life Assessment|PROCEDURE: X-Ray Imaging",
            "BIOLOGICAL: ziv-aflibercept|OTHER: laboratory biomarker analysis|OTHER: pharmacological study",
            "DRUG: gemcitabine hydrochloride|DRUG: cisplatin|DRUG: gefitinib|OTHER: laboratory biomarker analysis",
            "PROCEDURE: Biopsy|PROCEDURE: Biospecimen Collection|PROCEDURE: Resection|DRUG: Triapine",
            "OTHER: 18F-Fluoromisonidazole|DRUG: Cediranib Maleate|OTHER: Laboratory Biomarker Analysis|DRUG: Olaparib|PROCEDURE: Positron Emission Tomography",
            "DRUG: Berzosertib|PROCEDURE: Computed Tomography Assisted Biopsy|PROCEDURE: Endoscopic Biopsy|DRUG: Irinotecan|PROCEDURE: Magnetic Resonance Imaging",
            "OTHER: placebo|PROCEDURE: therapeutic conventional surgery|OTHER: laboratory biomarker analysis|DRUG: lycopene",
            "BIOLOGICAL: alemtuzumab|DRUG: methotrexate|DRUG: mercaptopurine",
            "DRUG: Azacitidine|PROCEDURE: Biospecimen Collection|PROCEDURE: Bone Marrow Aspiration|PROCEDURE: Bone Marrow Biopsy|DRUG: Gilteritinib|DRUG: Venetoclax",
            "BIOLOGICAL: aldesleukin|BIOLOGICAL: filgrastim|DRUG: cyclophosphamide|DRUG: etoposide|RADIATION: radiation therapy|PROCEDURE: peripheral blood stem cell transplantation|PROCEDURE: bone marrow ablation with stem cell support",
            "DRUG: Clofarabine|DRUG: Cyclophosphamide|DRUG: Cytarabine|DRUG: Dasatinib|DRUG: Daunorubicin Hydrochloride|DRUG: Dexamethasone|DRUG: Doxorubicin Hydrochloride|DRUG: Etoposide|DRUG: Hydrocortisone Sodium Succinate|OTHER: Laboratory Biomarker Analysis|DRUG: Leucovorin Calcium|DRUG: Mercaptopurine|DRUG: Methotrexate|DRUG: Pegaspargase|DRUG: Prednisone|RADIATION: Radiation Therapy|DRUG: Thioguanine|DRUG: Vincristine Sulfate",
            "DRUG: Afatinib Dimaleate",
            "DRUG: gemcitabine hydrochloride|DRUG: alvocidib|OTHER: pharmacological study",
            "DRUG: alvocidib|DRUG: gemcitabine hydrochloride",
            "BIOLOGICAL: oblimersen sodium|DRUG: cytarabine|DRUG: daunorubicin hydrochloride|OTHER: laboratory biomarker analysis|OTHER: pharmacological study",
            "DRUG: 2'-F-ara-deoxyuridine|OTHER: positron emission tomography|OTHER: laboratory biomarker analysis|OTHER: pharmacological study|OTHER: pharmacogenomic studies",
            "DRUG: IL-2 (Aldesleukin)|DRUG: Cyclophosphamide|BIOLOGICAL: KK-LC-1 TCR|DRUG: Fludarabine",
            "DRUG: Olaparib|DRUG: Onalespib",
            "DRUG: Brentuximab Vedotin|DRUG: Dacarbazine|DRUG: Doxorubicin Hydrochloride|OTHER: Pharmacological Study|DRUG: Vinblastine",
            "DRUG: interleukin-12",
            "DRUG: Monoclonal Antibody 3A1|DRUG: Monoclonal Antibody 95-5-49|DRUG: Monoclonal Antibody 95-6-22|DEVICE: Baxter Isolex 3001 Stem Cell Selection System|DEVICE: Ceprate SC",
            "DRUG: Cisplatin|PROCEDURE: CT|DRUG: Docetaxel|DRUG: FDG|DRUG: FLT|PROCEDURE: PET/CT|PROCEDURE: Surgery",
            "PROCEDURE: Biospecimen Collection|DRUG: Cabozantinib S-malate|PROCEDURE: Computed Tomography|DRUG: Docetaxel|PROCEDURE: Echocardiography|DRUG: Gemcitabine Hydrochloride|DRUG: Nab-paclitaxel|BIOLOGICAL: Nivolumab|DRUG: Paclitaxel|BIOLOGICAL: Ramucirumab",
            "DRUG: topotecan|DRUG: pazopanib",
            "PROCEDURE: Biospecimen Collection|PROCEDURE: Bone Marrow Aspiration|DRUG: Olaparib",
            "OTHER: Laboratory Biomarker Analysis|OTHER: Placebo Administration|BIOLOGICAL: Rilimogene Galvacirepvec"
           ]
          ]
         },
         "header": {
          "align": "left",
          "fill": {
           "color": "paleturquoise"
          },
          "values": [
           "Phase",
           "Total"
          ]
         },
         "type": "table"
        }
       ],
       "layout": {
        "template": {
         "data": {
          "bar": [
           {
            "error_x": {
             "color": "#2a3f5f"
            },
            "error_y": {
             "color": "#2a3f5f"
            },
            "marker": {
             "line": {
              "color": "#E5ECF6",
              "width": 0.5
             },
             "pattern": {
              "fillmode": "overlay",
              "size": 10,
              "solidity": 0.2
             }
            },
            "type": "bar"
           }
          ],
          "barpolar": [
           {
            "marker": {
             "line": {
              "color": "#E5ECF6",
              "width": 0.5
             },
             "pattern": {
              "fillmode": "overlay",
              "size": 10,
              "solidity": 0.2
             }
            },
            "type": "barpolar"
           }
          ],
          "carpet": [
           {
            "aaxis": {
             "endlinecolor": "#2a3f5f",
             "gridcolor": "white",
             "linecolor": "white",
             "minorgridcolor": "white",
             "startlinecolor": "#2a3f5f"
            },
            "baxis": {
             "endlinecolor": "#2a3f5f",
             "gridcolor": "white",
             "linecolor": "white",
             "minorgridcolor": "white",
             "startlinecolor": "#2a3f5f"
            },
            "type": "carpet"
           }
          ],
          "choropleth": [
           {
            "colorbar": {
             "outlinewidth": 0,
             "ticks": ""
            },
            "type": "choropleth"
           }
          ],
          "contour": [
           {
            "colorbar": {
             "outlinewidth": 0,
             "ticks": ""
            },
            "colorscale": [
             [
              0,
              "#0d0887"
             ],
             [
              0.1111111111111111,
              "#46039f"
             ],
             [
              0.2222222222222222,
              "#7201a8"
             ],
             [
              0.3333333333333333,
              "#9c179e"
             ],
             [
              0.4444444444444444,
              "#bd3786"
             ],
             [
              0.5555555555555556,
              "#d8576b"
             ],
             [
              0.6666666666666666,
              "#ed7953"
             ],
             [
              0.7777777777777778,
              "#fb9f3a"
             ],
             [
              0.8888888888888888,
              "#fdca26"
             ],
             [
              1,
              "#f0f921"
             ]
            ],
            "type": "contour"
           }
          ],
          "contourcarpet": [
           {
            "colorbar": {
             "outlinewidth": 0,
             "ticks": ""
            },
            "type": "contourcarpet"
           }
          ],
          "heatmap": [
           {
            "colorbar": {
             "outlinewidth": 0,
             "ticks": ""
            },
            "colorscale": [
             [
              0,
              "#0d0887"
             ],
             [
              0.1111111111111111,
              "#46039f"
             ],
             [
              0.2222222222222222,
              "#7201a8"
             ],
             [
              0.3333333333333333,
              "#9c179e"
             ],
             [
              0.4444444444444444,
              "#bd3786"
             ],
             [
              0.5555555555555556,
              "#d8576b"
             ],
             [
              0.6666666666666666,
              "#ed7953"
             ],
             [
              0.7777777777777778,
              "#fb9f3a"
             ],
             [
              0.8888888888888888,
              "#fdca26"
             ],
             [
              1,
              "#f0f921"
             ]
            ],
            "type": "heatmap"
           }
          ],
          "heatmapgl": [
           {
            "colorbar": {
             "outlinewidth": 0,
             "ticks": ""
            },
            "colorscale": [
             [
              0,
              "#0d0887"
             ],
             [
              0.1111111111111111,
              "#46039f"
             ],
             [
              0.2222222222222222,
              "#7201a8"
             ],
             [
              0.3333333333333333,
              "#9c179e"
             ],
             [
              0.4444444444444444,
              "#bd3786"
             ],
             [
              0.5555555555555556,
              "#d8576b"
             ],
             [
              0.6666666666666666,
              "#ed7953"
             ],
             [
              0.7777777777777778,
              "#fb9f3a"
             ],
             [
              0.8888888888888888,
              "#fdca26"
             ],
             [
              1,
              "#f0f921"
             ]
            ],
            "type": "heatmapgl"
           }
          ],
          "histogram": [
           {
            "marker": {
             "pattern": {
              "fillmode": "overlay",
              "size": 10,
              "solidity": 0.2
             }
            },
            "type": "histogram"
           }
          ],
          "histogram2d": [
           {
            "colorbar": {
             "outlinewidth": 0,
             "ticks": ""
            },
            "colorscale": [
             [
              0,
              "#0d0887"
             ],
             [
              0.1111111111111111,
              "#46039f"
             ],
             [
              0.2222222222222222,
              "#7201a8"
             ],
             [
              0.3333333333333333,
              "#9c179e"
             ],
             [
              0.4444444444444444,
              "#bd3786"
             ],
             [
              0.5555555555555556,
              "#d8576b"
             ],
             [
              0.6666666666666666,
              "#ed7953"
             ],
             [
              0.7777777777777778,
              "#fb9f3a"
             ],
             [
              0.8888888888888888,
              "#fdca26"
             ],
             [
              1,
              "#f0f921"
             ]
            ],
            "type": "histogram2d"
           }
          ],
          "histogram2dcontour": [
           {
            "colorbar": {
             "outlinewidth": 0,
             "ticks": ""
            },
            "colorscale": [
             [
              0,
              "#0d0887"
             ],
             [
              0.1111111111111111,
              "#46039f"
             ],
             [
              0.2222222222222222,
              "#7201a8"
             ],
             [
              0.3333333333333333,
              "#9c179e"
             ],
             [
              0.4444444444444444,
              "#bd3786"
             ],
             [
              0.5555555555555556,
              "#d8576b"
             ],
             [
              0.6666666666666666,
              "#ed7953"
             ],
             [
              0.7777777777777778,
              "#fb9f3a"
             ],
             [
              0.8888888888888888,
              "#fdca26"
             ],
             [
              1,
              "#f0f921"
             ]
            ],
            "type": "histogram2dcontour"
           }
          ],
          "mesh3d": [
           {
            "colorbar": {
             "outlinewidth": 0,
             "ticks": ""
            },
            "type": "mesh3d"
           }
          ],
          "parcoords": [
           {
            "line": {
             "colorbar": {
              "outlinewidth": 0,
              "ticks": ""
             }
            },
            "type": "parcoords"
           }
          ],
          "pie": [
           {
            "automargin": true,
            "type": "pie"
           }
          ],
          "scatter": [
           {
            "fillpattern": {
             "fillmode": "overlay",
             "size": 10,
             "solidity": 0.2
            },
            "type": "scatter"
           }
          ],
          "scatter3d": [
           {
            "line": {
             "colorbar": {
              "outlinewidth": 0,
              "ticks": ""
             }
            },
            "marker": {
             "colorbar": {
              "outlinewidth": 0,
              "ticks": ""
             }
            },
            "type": "scatter3d"
           }
          ],
          "scattercarpet": [
           {
            "marker": {
             "colorbar": {
              "outlinewidth": 0,
              "ticks": ""
             }
            },
            "type": "scattercarpet"
           }
          ],
          "scattergeo": [
           {
            "marker": {
             "colorbar": {
              "outlinewidth": 0,
              "ticks": ""
             }
            },
            "type": "scattergeo"
           }
          ],
          "scattergl": [
           {
            "marker": {
             "colorbar": {
              "outlinewidth": 0,
              "ticks": ""
             }
            },
            "type": "scattergl"
           }
          ],
          "scattermapbox": [
           {
            "marker": {
             "colorbar": {
              "outlinewidth": 0,
              "ticks": ""
             }
            },
            "type": "scattermapbox"
           }
          ],
          "scatterpolar": [
           {
            "marker": {
             "colorbar": {
              "outlinewidth": 0,
              "ticks": ""
             }
            },
            "type": "scatterpolar"
           }
          ],
          "scatterpolargl": [
           {
            "marker": {
             "colorbar": {
              "outlinewidth": 0,
              "ticks": ""
             }
            },
            "type": "scatterpolargl"
           }
          ],
          "scatterternary": [
           {
            "marker": {
             "colorbar": {
              "outlinewidth": 0,
              "ticks": ""
             }
            },
            "type": "scatterternary"
           }
          ],
          "surface": [
           {
            "colorbar": {
             "outlinewidth": 0,
             "ticks": ""
            },
            "colorscale": [
             [
              0,
              "#0d0887"
             ],
             [
              0.1111111111111111,
              "#46039f"
             ],
             [
              0.2222222222222222,
              "#7201a8"
             ],
             [
              0.3333333333333333,
              "#9c179e"
             ],
             [
              0.4444444444444444,
              "#bd3786"
             ],
             [
              0.5555555555555556,
              "#d8576b"
             ],
             [
              0.6666666666666666,
              "#ed7953"
             ],
             [
              0.7777777777777778,
              "#fb9f3a"
             ],
             [
              0.8888888888888888,
              "#fdca26"
             ],
             [
              1,
              "#f0f921"
             ]
            ],
            "type": "surface"
           }
          ],
          "table": [
           {
            "cells": {
             "fill": {
              "color": "#EBF0F8"
             },
             "line": {
              "color": "white"
             }
            },
            "header": {
             "fill": {
              "color": "#C8D4E3"
             },
             "line": {
              "color": "white"
             }
            },
            "type": "table"
           }
          ]
         },
         "layout": {
          "annotationdefaults": {
           "arrowcolor": "#2a3f5f",
           "arrowhead": 0,
           "arrowwidth": 1
          },
          "autotypenumbers": "strict",
          "coloraxis": {
           "colorbar": {
            "outlinewidth": 0,
            "ticks": ""
           }
          },
          "colorscale": {
           "diverging": [
            [
             0,
             "#8e0152"
            ],
            [
             0.1,
             "#c51b7d"
            ],
            [
             0.2,
             "#de77ae"
            ],
            [
             0.3,
             "#f1b6da"
            ],
            [
             0.4,
             "#fde0ef"
            ],
            [
             0.5,
             "#f7f7f7"
            ],
            [
             0.6,
             "#e6f5d0"
            ],
            [
             0.7,
             "#b8e186"
            ],
            [
             0.8,
             "#7fbc41"
            ],
            [
             0.9,
             "#4d9221"
            ],
            [
             1,
             "#276419"
            ]
           ],
           "sequential": [
            [
             0,
             "#0d0887"
            ],
            [
             0.1111111111111111,
             "#46039f"
            ],
            [
             0.2222222222222222,
             "#7201a8"
            ],
            [
             0.3333333333333333,
             "#9c179e"
            ],
            [
             0.4444444444444444,
             "#bd3786"
            ],
            [
             0.5555555555555556,
             "#d8576b"
            ],
            [
             0.6666666666666666,
             "#ed7953"
            ],
            [
             0.7777777777777778,
             "#fb9f3a"
            ],
            [
             0.8888888888888888,
             "#fdca26"
            ],
            [
             1,
             "#f0f921"
            ]
           ],
           "sequentialminus": [
            [
             0,
             "#0d0887"
            ],
            [
             0.1111111111111111,
             "#46039f"
            ],
            [
             0.2222222222222222,
             "#7201a8"
            ],
            [
             0.3333333333333333,
             "#9c179e"
            ],
            [
             0.4444444444444444,
             "#bd3786"
            ],
            [
             0.5555555555555556,
             "#d8576b"
            ],
            [
             0.6666666666666666,
             "#ed7953"
            ],
            [
             0.7777777777777778,
             "#fb9f3a"
            ],
            [
             0.8888888888888888,
             "#fdca26"
            ],
            [
             1,
             "#f0f921"
            ]
           ]
          },
          "colorway": [
           "#636efa",
           "#EF553B",
           "#00cc96",
           "#ab63fa",
           "#FFA15A",
           "#19d3f3",
           "#FF6692",
           "#B6E880",
           "#FF97FF",
           "#FECB52"
          ],
          "font": {
           "color": "#2a3f5f"
          },
          "geo": {
           "bgcolor": "white",
           "lakecolor": "white",
           "landcolor": "#E5ECF6",
           "showlakes": true,
           "showland": true,
           "subunitcolor": "white"
          },
          "hoverlabel": {
           "align": "left"
          },
          "hovermode": "closest",
          "mapbox": {
           "style": "light"
          },
          "paper_bgcolor": "white",
          "plot_bgcolor": "#E5ECF6",
          "polar": {
           "angularaxis": {
            "gridcolor": "white",
            "linecolor": "white",
            "ticks": ""
           },
           "bgcolor": "#E5ECF6",
           "radialaxis": {
            "gridcolor": "white",
            "linecolor": "white",
            "ticks": ""
           }
          },
          "scene": {
           "xaxis": {
            "backgroundcolor": "#E5ECF6",
            "gridcolor": "white",
            "gridwidth": 2,
            "linecolor": "white",
            "showbackground": true,
            "ticks": "",
            "zerolinecolor": "white"
           },
           "yaxis": {
            "backgroundcolor": "#E5ECF6",
            "gridcolor": "white",
            "gridwidth": 2,
            "linecolor": "white",
            "showbackground": true,
            "ticks": "",
            "zerolinecolor": "white"
           },
           "zaxis": {
            "backgroundcolor": "#E5ECF6",
            "gridcolor": "white",
            "gridwidth": 2,
            "linecolor": "white",
            "showbackground": true,
            "ticks": "",
            "zerolinecolor": "white"
           }
          },
          "shapedefaults": {
           "line": {
            "color": "#2a3f5f"
           }
          },
          "ternary": {
           "aaxis": {
            "gridcolor": "white",
            "linecolor": "white",
            "ticks": ""
           },
           "baxis": {
            "gridcolor": "white",
            "linecolor": "white",
            "ticks": ""
           },
           "bgcolor": "#E5ECF6",
           "caxis": {
            "gridcolor": "white",
            "linecolor": "white",
            "ticks": ""
           }
          },
          "title": {
           "x": 0.05
          },
          "xaxis": {
           "automargin": true,
           "gridcolor": "white",
           "linecolor": "white",
           "ticks": "",
           "title": {
            "standoff": 15
           },
           "zerolinecolor": "white",
           "zerolinewidth": 2
          },
          "yaxis": {
           "automargin": true,
           "gridcolor": "white",
           "linecolor": "white",
           "ticks": "",
           "title": {
            "standoff": 15
           },
           "zerolinecolor": "white",
           "zerolinewidth": 2
          }
         }
        },
        "title": {
         "text": "Clinical Trials Drug distribution with NCI as Sponsor"
        }
       }
      }
     },
     "metadata": {},
     "output_type": "display_data"
    }
   ],
   "source": [
    "conn = mysql.connector.connect(**DATABASE_URL)\n",
    "cursor = conn.cursor()\n",
    "\n",
    "# SQL query to fetch data\n",
    "query = \"\"\"\n",
    "SELECT count(*) as Total, `Interventions` \n",
    "FROM clinical_trials_test\n",
    "WHERE Sponsor = 'National Cancer Institute (NCI)'\n",
    "group by `Interventions`\n",
    "order by total desc;\n",
    "        \"\"\"\n",
    "cursor.execute(query)\n",
    "rows = cursor.fetchall()\n",
    "\n",
    "cursor.close()\n",
    "conn.close()\n",
    "\n",
    "# Convert the result into a pandas DataFrame\n",
    "df = pd.DataFrame(rows, columns=['Phase', 'Total'])\n",
    "\n",
    "# Display the DataFrame as a table using Plotly\n",
    "fig = go.Figure(data=[go.Table(\n",
    "    header=dict(values=list(df.columns),\n",
    "                fill_color='paleturquoise',\n",
    "                align='left'),\n",
    "    cells=dict(values=[df['Phase'], df['Total']],\n",
    "                fill_color='lavender',\n",
    "                align='left'))\n",
    "])\n",
    "fig.update_layout(title='Clinical Trials Drug distribution with NCI as Sponsor')\n",
    "fig.write_image(f\"{path}/Clinical Trials Drug distribution with NCI as Sponsor.png\")\n",
    "fig.show()      "
   ]
  },
  {
   "cell_type": "code",
   "execution_count": null,
   "metadata": {},
   "outputs": [],
   "source": [
    "#dynamic table maker\n",
    "\n",
    "conn = mysql.connector.connect(DATABASE_URL)\n",
    "cursor = conn.cursor()\n",
    "\n",
    "title = ''\n",
    "\n",
    "# SQL query to fetch data\n",
    "query = \"\"\"\n",
    "SELECT count(*) as Total, `Interventions` \n",
    "FROM clinical_trials_test\n",
    "WHERE Sponsor = 'National Cancer Institute (NCI)'\n",
    "GROUP BY `Interventions`\n",
    "ORDER BY Total DESC;\n",
    "\"\"\"\n",
    "cursor.execute(query)\n",
    "rows = cursor.fetchall()\n",
    "\n",
    "cursor.close()\n",
    "conn.close()\n",
    "\n",
    "# Convert the result into a pandas DataFrame\n",
    "df = pd.DataFrame(rows, columns=[desc[0] for desc in cursor.description])\n",
    "\n",
    "# Dynamically create the table header and cells\n",
    "header_values = list(df.columns)\n",
    "cell_values = [df[column] for column in df.columns]\n",
    "\n",
    "# Display the DataFrame as a table using Plotly\n",
    "fig = go.Figure(data=[go.Table(\n",
    "    header=dict(values=header_values,\n",
    "                fill_color='paleturquoise',\n",
    "                align='left'),\n",
    "    cells=dict(values=cell_values,\n",
    "                fill_color='lavender',\n",
    "                align='left'))\n",
    "])\n",
    "fig.update_layout(title=f'{title}')\n",
    "fig.write_image(f\"{path}/{title}.png\")\n",
    "fig.show()"
   ]
  },
  {
   "cell_type": "code",
   "execution_count": 23,
   "metadata": {},
   "outputs": [
    {
     "data": {
      "application/vnd.plotly.v1+json": {
       "config": {
        "plotlyServerURL": "https://plot.ly"
       },
       "data": [
        {
         "labels": [
          "Glioblastoma",
          "High grade glioma",
          "Low grade glioma",
          "Anaplastic astrocytoma"
         ],
         "type": "pie",
         "values": [
          1199,
          58,
          21,
          13
         ]
        }
       ],
       "layout": {
        "template": {
         "data": {
          "bar": [
           {
            "error_x": {
             "color": "#2a3f5f"
            },
            "error_y": {
             "color": "#2a3f5f"
            },
            "marker": {
             "line": {
              "color": "#E5ECF6",
              "width": 0.5
             },
             "pattern": {
              "fillmode": "overlay",
              "size": 10,
              "solidity": 0.2
             }
            },
            "type": "bar"
           }
          ],
          "barpolar": [
           {
            "marker": {
             "line": {
              "color": "#E5ECF6",
              "width": 0.5
             },
             "pattern": {
              "fillmode": "overlay",
              "size": 10,
              "solidity": 0.2
             }
            },
            "type": "barpolar"
           }
          ],
          "carpet": [
           {
            "aaxis": {
             "endlinecolor": "#2a3f5f",
             "gridcolor": "white",
             "linecolor": "white",
             "minorgridcolor": "white",
             "startlinecolor": "#2a3f5f"
            },
            "baxis": {
             "endlinecolor": "#2a3f5f",
             "gridcolor": "white",
             "linecolor": "white",
             "minorgridcolor": "white",
             "startlinecolor": "#2a3f5f"
            },
            "type": "carpet"
           }
          ],
          "choropleth": [
           {
            "colorbar": {
             "outlinewidth": 0,
             "ticks": ""
            },
            "type": "choropleth"
           }
          ],
          "contour": [
           {
            "colorbar": {
             "outlinewidth": 0,
             "ticks": ""
            },
            "colorscale": [
             [
              0,
              "#0d0887"
             ],
             [
              0.1111111111111111,
              "#46039f"
             ],
             [
              0.2222222222222222,
              "#7201a8"
             ],
             [
              0.3333333333333333,
              "#9c179e"
             ],
             [
              0.4444444444444444,
              "#bd3786"
             ],
             [
              0.5555555555555556,
              "#d8576b"
             ],
             [
              0.6666666666666666,
              "#ed7953"
             ],
             [
              0.7777777777777778,
              "#fb9f3a"
             ],
             [
              0.8888888888888888,
              "#fdca26"
             ],
             [
              1,
              "#f0f921"
             ]
            ],
            "type": "contour"
           }
          ],
          "contourcarpet": [
           {
            "colorbar": {
             "outlinewidth": 0,
             "ticks": ""
            },
            "type": "contourcarpet"
           }
          ],
          "heatmap": [
           {
            "colorbar": {
             "outlinewidth": 0,
             "ticks": ""
            },
            "colorscale": [
             [
              0,
              "#0d0887"
             ],
             [
              0.1111111111111111,
              "#46039f"
             ],
             [
              0.2222222222222222,
              "#7201a8"
             ],
             [
              0.3333333333333333,
              "#9c179e"
             ],
             [
              0.4444444444444444,
              "#bd3786"
             ],
             [
              0.5555555555555556,
              "#d8576b"
             ],
             [
              0.6666666666666666,
              "#ed7953"
             ],
             [
              0.7777777777777778,
              "#fb9f3a"
             ],
             [
              0.8888888888888888,
              "#fdca26"
             ],
             [
              1,
              "#f0f921"
             ]
            ],
            "type": "heatmap"
           }
          ],
          "heatmapgl": [
           {
            "colorbar": {
             "outlinewidth": 0,
             "ticks": ""
            },
            "colorscale": [
             [
              0,
              "#0d0887"
             ],
             [
              0.1111111111111111,
              "#46039f"
             ],
             [
              0.2222222222222222,
              "#7201a8"
             ],
             [
              0.3333333333333333,
              "#9c179e"
             ],
             [
              0.4444444444444444,
              "#bd3786"
             ],
             [
              0.5555555555555556,
              "#d8576b"
             ],
             [
              0.6666666666666666,
              "#ed7953"
             ],
             [
              0.7777777777777778,
              "#fb9f3a"
             ],
             [
              0.8888888888888888,
              "#fdca26"
             ],
             [
              1,
              "#f0f921"
             ]
            ],
            "type": "heatmapgl"
           }
          ],
          "histogram": [
           {
            "marker": {
             "pattern": {
              "fillmode": "overlay",
              "size": 10,
              "solidity": 0.2
             }
            },
            "type": "histogram"
           }
          ],
          "histogram2d": [
           {
            "colorbar": {
             "outlinewidth": 0,
             "ticks": ""
            },
            "colorscale": [
             [
              0,
              "#0d0887"
             ],
             [
              0.1111111111111111,
              "#46039f"
             ],
             [
              0.2222222222222222,
              "#7201a8"
             ],
             [
              0.3333333333333333,
              "#9c179e"
             ],
             [
              0.4444444444444444,
              "#bd3786"
             ],
             [
              0.5555555555555556,
              "#d8576b"
             ],
             [
              0.6666666666666666,
              "#ed7953"
             ],
             [
              0.7777777777777778,
              "#fb9f3a"
             ],
             [
              0.8888888888888888,
              "#fdca26"
             ],
             [
              1,
              "#f0f921"
             ]
            ],
            "type": "histogram2d"
           }
          ],
          "histogram2dcontour": [
           {
            "colorbar": {
             "outlinewidth": 0,
             "ticks": ""
            },
            "colorscale": [
             [
              0,
              "#0d0887"
             ],
             [
              0.1111111111111111,
              "#46039f"
             ],
             [
              0.2222222222222222,
              "#7201a8"
             ],
             [
              0.3333333333333333,
              "#9c179e"
             ],
             [
              0.4444444444444444,
              "#bd3786"
             ],
             [
              0.5555555555555556,
              "#d8576b"
             ],
             [
              0.6666666666666666,
              "#ed7953"
             ],
             [
              0.7777777777777778,
              "#fb9f3a"
             ],
             [
              0.8888888888888888,
              "#fdca26"
             ],
             [
              1,
              "#f0f921"
             ]
            ],
            "type": "histogram2dcontour"
           }
          ],
          "mesh3d": [
           {
            "colorbar": {
             "outlinewidth": 0,
             "ticks": ""
            },
            "type": "mesh3d"
           }
          ],
          "parcoords": [
           {
            "line": {
             "colorbar": {
              "outlinewidth": 0,
              "ticks": ""
             }
            },
            "type": "parcoords"
           }
          ],
          "pie": [
           {
            "automargin": true,
            "type": "pie"
           }
          ],
          "scatter": [
           {
            "fillpattern": {
             "fillmode": "overlay",
             "size": 10,
             "solidity": 0.2
            },
            "type": "scatter"
           }
          ],
          "scatter3d": [
           {
            "line": {
             "colorbar": {
              "outlinewidth": 0,
              "ticks": ""
             }
            },
            "marker": {
             "colorbar": {
              "outlinewidth": 0,
              "ticks": ""
             }
            },
            "type": "scatter3d"
           }
          ],
          "scattercarpet": [
           {
            "marker": {
             "colorbar": {
              "outlinewidth": 0,
              "ticks": ""
             }
            },
            "type": "scattercarpet"
           }
          ],
          "scattergeo": [
           {
            "marker": {
             "colorbar": {
              "outlinewidth": 0,
              "ticks": ""
             }
            },
            "type": "scattergeo"
           }
          ],
          "scattergl": [
           {
            "marker": {
             "colorbar": {
              "outlinewidth": 0,
              "ticks": ""
             }
            },
            "type": "scattergl"
           }
          ],
          "scattermapbox": [
           {
            "marker": {
             "colorbar": {
              "outlinewidth": 0,
              "ticks": ""
             }
            },
            "type": "scattermapbox"
           }
          ],
          "scatterpolar": [
           {
            "marker": {
             "colorbar": {
              "outlinewidth": 0,
              "ticks": ""
             }
            },
            "type": "scatterpolar"
           }
          ],
          "scatterpolargl": [
           {
            "marker": {
             "colorbar": {
              "outlinewidth": 0,
              "ticks": ""
             }
            },
            "type": "scatterpolargl"
           }
          ],
          "scatterternary": [
           {
            "marker": {
             "colorbar": {
              "outlinewidth": 0,
              "ticks": ""
             }
            },
            "type": "scatterternary"
           }
          ],
          "surface": [
           {
            "colorbar": {
             "outlinewidth": 0,
             "ticks": ""
            },
            "colorscale": [
             [
              0,
              "#0d0887"
             ],
             [
              0.1111111111111111,
              "#46039f"
             ],
             [
              0.2222222222222222,
              "#7201a8"
             ],
             [
              0.3333333333333333,
              "#9c179e"
             ],
             [
              0.4444444444444444,
              "#bd3786"
             ],
             [
              0.5555555555555556,
              "#d8576b"
             ],
             [
              0.6666666666666666,
              "#ed7953"
             ],
             [
              0.7777777777777778,
              "#fb9f3a"
             ],
             [
              0.8888888888888888,
              "#fdca26"
             ],
             [
              1,
              "#f0f921"
             ]
            ],
            "type": "surface"
           }
          ],
          "table": [
           {
            "cells": {
             "fill": {
              "color": "#EBF0F8"
             },
             "line": {
              "color": "white"
             }
            },
            "header": {
             "fill": {
              "color": "#C8D4E3"
             },
             "line": {
              "color": "white"
             }
            },
            "type": "table"
           }
          ]
         },
         "layout": {
          "annotationdefaults": {
           "arrowcolor": "#2a3f5f",
           "arrowhead": 0,
           "arrowwidth": 1
          },
          "autotypenumbers": "strict",
          "coloraxis": {
           "colorbar": {
            "outlinewidth": 0,
            "ticks": ""
           }
          },
          "colorscale": {
           "diverging": [
            [
             0,
             "#8e0152"
            ],
            [
             0.1,
             "#c51b7d"
            ],
            [
             0.2,
             "#de77ae"
            ],
            [
             0.3,
             "#f1b6da"
            ],
            [
             0.4,
             "#fde0ef"
            ],
            [
             0.5,
             "#f7f7f7"
            ],
            [
             0.6,
             "#e6f5d0"
            ],
            [
             0.7,
             "#b8e186"
            ],
            [
             0.8,
             "#7fbc41"
            ],
            [
             0.9,
             "#4d9221"
            ],
            [
             1,
             "#276419"
            ]
           ],
           "sequential": [
            [
             0,
             "#0d0887"
            ],
            [
             0.1111111111111111,
             "#46039f"
            ],
            [
             0.2222222222222222,
             "#7201a8"
            ],
            [
             0.3333333333333333,
             "#9c179e"
            ],
            [
             0.4444444444444444,
             "#bd3786"
            ],
            [
             0.5555555555555556,
             "#d8576b"
            ],
            [
             0.6666666666666666,
             "#ed7953"
            ],
            [
             0.7777777777777778,
             "#fb9f3a"
            ],
            [
             0.8888888888888888,
             "#fdca26"
            ],
            [
             1,
             "#f0f921"
            ]
           ],
           "sequentialminus": [
            [
             0,
             "#0d0887"
            ],
            [
             0.1111111111111111,
             "#46039f"
            ],
            [
             0.2222222222222222,
             "#7201a8"
            ],
            [
             0.3333333333333333,
             "#9c179e"
            ],
            [
             0.4444444444444444,
             "#bd3786"
            ],
            [
             0.5555555555555556,
             "#d8576b"
            ],
            [
             0.6666666666666666,
             "#ed7953"
            ],
            [
             0.7777777777777778,
             "#fb9f3a"
            ],
            [
             0.8888888888888888,
             "#fdca26"
            ],
            [
             1,
             "#f0f921"
            ]
           ]
          },
          "colorway": [
           "#636efa",
           "#EF553B",
           "#00cc96",
           "#ab63fa",
           "#FFA15A",
           "#19d3f3",
           "#FF6692",
           "#B6E880",
           "#FF97FF",
           "#FECB52"
          ],
          "font": {
           "color": "#2a3f5f"
          },
          "geo": {
           "bgcolor": "white",
           "lakecolor": "white",
           "landcolor": "#E5ECF6",
           "showlakes": true,
           "showland": true,
           "subunitcolor": "white"
          },
          "hoverlabel": {
           "align": "left"
          },
          "hovermode": "closest",
          "mapbox": {
           "style": "light"
          },
          "paper_bgcolor": "white",
          "plot_bgcolor": "#E5ECF6",
          "polar": {
           "angularaxis": {
            "gridcolor": "white",
            "linecolor": "white",
            "ticks": ""
           },
           "bgcolor": "#E5ECF6",
           "radialaxis": {
            "gridcolor": "white",
            "linecolor": "white",
            "ticks": ""
           }
          },
          "scene": {
           "xaxis": {
            "backgroundcolor": "#E5ECF6",
            "gridcolor": "white",
            "gridwidth": 2,
            "linecolor": "white",
            "showbackground": true,
            "ticks": "",
            "zerolinecolor": "white"
           },
           "yaxis": {
            "backgroundcolor": "#E5ECF6",
            "gridcolor": "white",
            "gridwidth": 2,
            "linecolor": "white",
            "showbackground": true,
            "ticks": "",
            "zerolinecolor": "white"
           },
           "zaxis": {
            "backgroundcolor": "#E5ECF6",
            "gridcolor": "white",
            "gridwidth": 2,
            "linecolor": "white",
            "showbackground": true,
            "ticks": "",
            "zerolinecolor": "white"
           }
          },
          "shapedefaults": {
           "line": {
            "color": "#2a3f5f"
           }
          },
          "ternary": {
           "aaxis": {
            "gridcolor": "white",
            "linecolor": "white",
            "ticks": ""
           },
           "baxis": {
            "gridcolor": "white",
            "linecolor": "white",
            "ticks": ""
           },
           "bgcolor": "#E5ECF6",
           "caxis": {
            "gridcolor": "white",
            "linecolor": "white",
            "ticks": ""
           }
          },
          "title": {
           "x": 0.05
          },
          "xaxis": {
           "automargin": true,
           "gridcolor": "white",
           "linecolor": "white",
           "ticks": "",
           "title": {
            "standoff": 15
           },
           "zerolinecolor": "white",
           "zerolinewidth": 2
          },
          "yaxis": {
           "automargin": true,
           "gridcolor": "white",
           "linecolor": "white",
           "ticks": "",
           "title": {
            "standoff": 15
           },
           "zerolinecolor": "white",
           "zerolinewidth": 2
          }
         }
        },
        "title": {
         "text": "Condition Breakdown of 1300 Studies"
        }
       }
      }
     },
     "metadata": {},
     "output_type": "display_data"
    }
   ],
   "source": [
    "conn = mysql.connector.connect(**DATABASE_URL)\n",
    "\n",
    "title = f'Condition Breakdown of 1300 Studies'\n",
    "path = r'C:\\Users\\Andre\\OneDrive\\azj\\selendis\\charts'\n",
    "cursor = conn.cursor()\n",
    "# SQL query to fetch data\n",
    "query =\"\"\"\n",
    "SELECT\n",
    "    CASE \n",
    "        WHEN LOWER(Conditions) LIKE '%glioblastoma%' THEN 'Glioblastoma'\n",
    "        WHEN LOWER(Conditions) LIKE '%high grade glioma%' THEN 'High grade glioma'\n",
    "        WHEN LOWER(Conditions) LIKE '%low grade glioma%' THEN 'Low grade glioma'\n",
    "        WHEN LOWER(Conditions) LIKE '%glioblastoma multiforme%' THEN 'Glioblastoma multiforme'\n",
    "        WHEN LOWER(Conditions) LIKE '%anaplastic astrocytoma%' THEN 'Anaplastic astrocytoma'\n",
    "    END AS ConditionName,\n",
    "    COUNT(*) AS Count\n",
    "FROM\n",
    "    clinical_trials_test\n",
    "WHERE\n",
    "    LOWER(Conditions) LIKE '%glioblastoma%'\n",
    "    OR LOWER(Conditions) LIKE '%high grade glioma%'\n",
    "    OR LOWER(Conditions) LIKE '%low grade glioma%'\n",
    "    OR LOWER(Conditions) LIKE '%glioblastoma multiforme%'\n",
    "    OR LOWER(Conditions) LIKE '%anaplastic astrocytoma%'\n",
    "GROUP BY\n",
    "    ConditionName;\n",
    "\n",
    "        \"\"\"\n",
    "cursor.execute(query)\n",
    "rows = cursor.fetchall()\n",
    "cursor.close()\n",
    "conn.close()\n",
    "# Data processing for visualization\n",
    "phases = [row[0] for row in rows]\n",
    "counts = [row[1] for row in rows]\n",
    "# Creating a pie chart using Plotly\n",
    "fig = go.Figure(data=[go.Pie(labels=phases, values=counts)])\n",
    "fig.update_layout(title=title)\n",
    "fig.write_image(f\"{path}/condition breakdown.png\")\n",
    "fig.show()\n"
   ]
  },
  {
   "cell_type": "code",
   "execution_count": 24,
   "metadata": {},
   "outputs": [
    {
     "name": "stdout",
     "output_type": "stream",
     "text": [
      "Data exported to Excel successfully.\n"
     ]
    }
   ],
   "source": [
    "import pandas as pd\n",
    "import mysql.connector\n",
    "import arcturis as a\n",
    "\n",
    "# MySQL Database Configuration\n",
    "DATABASE_URL = {\n",
    "    'user': a.localu,\n",
    "    'password': a.localp,\n",
    "    'host': a.locale,\n",
    "    'database': a.dbe\n",
    "}\n",
    "\n",
    "path = r'C:\\Users\\Andre\\OneDrive\\azj\\selendis\\charts'\n",
    "\n",
    "try:\n",
    "    # Connect to the database\n",
    "    conn = mysql.connector.connect(\n",
    "        user=DATABASE_URL['user'],\n",
    "        password=DATABASE_URL['password'],\n",
    "        host=DATABASE_URL['host'],\n",
    "        database=DATABASE_URL['database']\n",
    "    )\n",
    "\n",
    "    # Execute the SQL query and fetch the results\n",
    "    query = \"\"\"\n",
    "SELECT count(*) as Total, `Interventions` \n",
    "FROM clinical_trials_test\n",
    "WHERE Sponsor = 'National Cancer Institute (NCI)'\n",
    "group by `Interventions`\n",
    "order by total desc;\n",
    "    \"\"\"\n",
    "    df = pd.read_sql(query, conn)\n",
    "\n",
    "    # Close the database connection\n",
    "    conn.close()\n",
    "\n",
    "    # Export the DataFrame to Excel\n",
    "    excel_file = f\"{path}/NCI SPONSORED STUDIES BY DRUG TYPE.xlsx\"\n",
    "    df.to_excel(excel_file, index=False)\n",
    "\n",
    "    print(\"Data exported to Excel successfully.\")\n",
    "\n",
    "except Exception as e:\n",
    "    print(\"An error occurred:\", e)\n",
    "\n"
   ]
  }
 ],
 "metadata": {
  "kernelspec": {
   "display_name": "Python 3",
   "language": "python",
   "name": "python3"
  },
  "language_info": {
   "codemirror_mode": {
    "name": "ipython",
    "version": 3
   },
   "file_extension": ".py",
   "mimetype": "text/x-python",
   "name": "python",
   "nbconvert_exporter": "python",
   "pygments_lexer": "ipython3",
   "version": "3.11.2"
  }
 },
 "nbformat": 4,
 "nbformat_minor": 2
}
